{
  "nbformat": 4,
  "nbformat_minor": 0,
  "metadata": {
    "kernelspec": {
      "display_name": "Python 3",
      "language": "python",
      "name": "python3"
    },
    "language_info": {
      "codemirror_mode": {
        "name": "ipython",
        "version": 3
      },
      "file_extension": ".py",
      "mimetype": "text/x-python",
      "name": "python",
      "nbconvert_exporter": "python",
      "pygments_lexer": "ipython3",
      "version": "3.6.8"
    },
    "colab": {
      "name": "Untitled.ipynb",
      "provenance": [],
      "collapsed_sections": [],
      "toc_visible": true,
      "include_colab_link": true
    }
  },
  "cells": [
    {
      "cell_type": "markdown",
      "metadata": {
        "id": "view-in-github",
        "colab_type": "text"
      },
      "source": [
        "<a href=\"https://colab.research.google.com/github/ThuanPhong0126/CS114.K21/blob/master/Project/Untitled.ipynb\" target=\"_parent\"><img src=\"https://colab.research.google.com/assets/colab-badge.svg\" alt=\"Open In Colab\"/></a>"
      ]
    },
    {
      "cell_type": "markdown",
      "metadata": {
        "id": "EcBgtp4uCxjv",
        "colab_type": "text"
      },
      "source": [
        "### Kết nối google drive"
      ]
    },
    {
      "cell_type": "code",
      "metadata": {
        "id": "h7Q5nKHLZTyQ",
        "colab_type": "code",
        "colab": {
          "base_uri": "https://localhost:8080/",
          "height": 34
        },
        "outputId": "9e1a0769-d5cb-4d27-ea3d-ec0c913d20c0"
      },
      "source": [
        "from google.colab import drive\n",
        "drive.mount('/content/drive')"
      ],
      "execution_count": null,
      "outputs": [
        {
          "output_type": "stream",
          "text": [
            "Drive already mounted at /content/drive; to attempt to forcibly remount, call drive.mount(\"/content/drive\", force_remount=True).\n"
          ],
          "name": "stdout"
        }
      ]
    },
    {
      "cell_type": "markdown",
      "metadata": {
        "id": "xybpx2pkLSGx",
        "colab_type": "text"
      },
      "source": [
        "### Load Data"
      ]
    },
    {
      "cell_type": "markdown",
      "metadata": {
        "id": "mcktGljADCSv",
        "colab_type": "text"
      },
      "source": [
        "Import các thư viện cần thiết"
      ]
    },
    {
      "cell_type": "code",
      "metadata": {
        "id": "Zi5oe9h7Y3sL",
        "colab_type": "code",
        "colab": {
          "base_uri": "https://localhost:8080/",
          "height": 51
        },
        "outputId": "dc9e416b-ee67-404a-bac9-5b175852deb0"
      },
      "source": [
        "import pandas as pd\n",
        "import seaborn as sns\n",
        "from sklearn.model_selection import train_test_split\n",
        "from sklearn.feature_extraction.text import TfidfVectorizer, CountVectorizer\n",
        "import joblib\n",
        "from sklearn.metrics import classification_report, confusion_matrix, accuracy_score\n",
        "from sklearn.tree import DecisionTreeClassifier\n",
        "from sklearn.ensemble import RandomForestClassifier\n",
        "from sklearn.svm import SVC\n",
        "from sklearn.naive_bayes import BernoulliNB\n",
        "from sklearn.linear_model import LogisticRegression\n",
        "import matplotlib.pyplot as plt"
      ],
      "execution_count": null,
      "outputs": [
        {
          "output_type": "stream",
          "text": [
            "/usr/local/lib/python3.6/dist-packages/statsmodels/tools/_testing.py:19: FutureWarning: pandas.util.testing is deprecated. Use the functions in the public API at pandas.testing instead.\n",
            "  import pandas.util.testing as tm\n"
          ],
          "name": "stderr"
        }
      ]
    },
    {
      "cell_type": "markdown",
      "metadata": {
        "id": "QozCCChvDGHv",
        "colab_type": "text"
      },
      "source": [
        "Load dữ liệu được lưu trên github"
      ]
    },
    {
      "cell_type": "code",
      "metadata": {
        "id": "_dFPeWBiKpVG",
        "colab_type": "code",
        "colab": {
          "base_uri": "https://localhost:8080/",
          "height": 415
        },
        "outputId": "2f630ec2-38ba-41fc-9120-50423dea12dc"
      },
      "source": [
        "df=pd.read_excel('https://github.com/ThuanPhong0126/CS114.K21/blob/master/Project/final_data.xlsx?raw=true')\n",
        "df"
      ],
      "execution_count": null,
      "outputs": [
        {
          "output_type": "execute_result",
          "data": {
            "text/html": [
              "<div>\n",
              "<style scoped>\n",
              "    .dataframe tbody tr th:only-of-type {\n",
              "        vertical-align: middle;\n",
              "    }\n",
              "\n",
              "    .dataframe tbody tr th {\n",
              "        vertical-align: top;\n",
              "    }\n",
              "\n",
              "    .dataframe thead th {\n",
              "        text-align: right;\n",
              "    }\n",
              "</style>\n",
              "<table border=\"1\" class=\"dataframe\">\n",
              "  <thead>\n",
              "    <tr style=\"text-align: right;\">\n",
              "      <th></th>\n",
              "      <th>Unnamed: 0</th>\n",
              "      <th>text</th>\n",
              "      <th>label</th>\n",
              "    </tr>\n",
              "  </thead>\n",
              "  <tbody>\n",
              "    <tr>\n",
              "      <th>0</th>\n",
              "      <td>0</td>\n",
              "      <td>Không có chào đón như trong giới thiệu</td>\n",
              "      <td>0</td>\n",
              "    </tr>\n",
              "    <tr>\n",
              "      <th>1</th>\n",
              "      <td>1</td>\n",
              "      <td>Lựa chọn tốt cho du lịch nhóm ,gia đình</td>\n",
              "      <td>1</td>\n",
              "    </tr>\n",
              "    <tr>\n",
              "      <th>2</th>\n",
              "      <td>2</td>\n",
              "      <td>phòng yên tĩnh dù sát mặt đường lớn , sạch sẽ.</td>\n",
              "      <td>1</td>\n",
              "    </tr>\n",
              "    <tr>\n",
              "      <th>3</th>\n",
              "      <td>3</td>\n",
              "      <td>phòng sạch đẹp</td>\n",
              "      <td>1</td>\n",
              "    </tr>\n",
              "    <tr>\n",
              "      <th>4</th>\n",
              "      <td>4</td>\n",
              "      <td>Khách sạn sạch sẽ, gần biển, gần siêu thị Lott...</td>\n",
              "      <td>1</td>\n",
              "    </tr>\n",
              "    <tr>\n",
              "      <th>...</th>\n",
              "      <td>...</td>\n",
              "      <td>...</td>\n",
              "      <td>...</td>\n",
              "    </tr>\n",
              "    <tr>\n",
              "      <th>4119</th>\n",
              "      <td>145</td>\n",
              "      <td>Thôi thì treo biển không nhận khách đi oto cho...</td>\n",
              "      <td>0</td>\n",
              "    </tr>\n",
              "    <tr>\n",
              "      <th>4120</th>\n",
              "      <td>146</td>\n",
              "      <td>12 giờ đêm về thì khách sạn tối hin</td>\n",
              "      <td>0</td>\n",
              "    </tr>\n",
              "    <tr>\n",
              "      <th>4121</th>\n",
              "      <td>147</td>\n",
              "      <td>Nói 3 sao thì hơi quá.</td>\n",
              "      <td>0</td>\n",
              "    </tr>\n",
              "    <tr>\n",
              "      <th>4122</th>\n",
              "      <td>148</td>\n",
              "      <td>Thua khách sạn mình ở Nha Trang, Vẫn 3 sao.</td>\n",
              "      <td>0</td>\n",
              "    </tr>\n",
              "    <tr>\n",
              "      <th>4123</th>\n",
              "      <td>149</td>\n",
              "      <td>Vẫn nằm ở trục đường chính một chiều đông ngẹt...</td>\n",
              "      <td>0</td>\n",
              "    </tr>\n",
              "  </tbody>\n",
              "</table>\n",
              "<p>4124 rows × 3 columns</p>\n",
              "</div>"
            ],
            "text/plain": [
              "      Unnamed: 0                                               text  label\n",
              "0              0             Không có chào đón như trong giới thiệu      0\n",
              "1              1           Lựa chọn tốt cho du lịch nhóm ,gia đình       1\n",
              "2              2     phòng yên tĩnh dù sát mặt đường lớn , sạch sẽ.      1\n",
              "3              3                                     phòng sạch đẹp      1\n",
              "4              4  Khách sạn sạch sẽ, gần biển, gần siêu thị Lott...      1\n",
              "...          ...                                                ...    ...\n",
              "4119         145  Thôi thì treo biển không nhận khách đi oto cho...      0\n",
              "4120         146               12 giờ đêm về thì khách sạn tối hin       0\n",
              "4121         147                            Nói 3 sao thì hơi quá.       0\n",
              "4122         148        Thua khách sạn mình ở Nha Trang, Vẫn 3 sao.      0\n",
              "4123         149  Vẫn nằm ở trục đường chính một chiều đông ngẹt...      0\n",
              "\n",
              "[4124 rows x 3 columns]"
            ]
          },
          "metadata": {
            "tags": []
          },
          "execution_count": 417
        }
      ]
    },
    {
      "cell_type": "markdown",
      "metadata": {
        "id": "auYiRd3jDKTA",
        "colab_type": "text"
      },
      "source": [
        "Dữ liệu gồm có 3 cột là Unnamed: 0, text và label. Trong đó text chứ bình luận, label chứa nhãn tương ứng và cột Unnamed: 0 không có tác dụng nên xóa cột Unnamed: 0"
      ]
    },
    {
      "cell_type": "code",
      "metadata": {
        "id": "GPm-n8ppY3sj",
        "colab_type": "code",
        "colab": {
          "base_uri": "https://localhost:8080/",
          "height": 421
        },
        "outputId": "966fb923-dace-4c03-f4d8-45427949d7bb"
      },
      "source": [
        "del df['Unnamed: 0']\n",
        "df"
      ],
      "execution_count": null,
      "outputs": [
        {
          "output_type": "execute_result",
          "data": {
            "text/html": [
              "<div>\n",
              "<style scoped>\n",
              "    .dataframe tbody tr th:only-of-type {\n",
              "        vertical-align: middle;\n",
              "    }\n",
              "\n",
              "    .dataframe tbody tr th {\n",
              "        vertical-align: top;\n",
              "    }\n",
              "\n",
              "    .dataframe thead th {\n",
              "        text-align: right;\n",
              "    }\n",
              "</style>\n",
              "<table border=\"1\" class=\"dataframe\">\n",
              "  <thead>\n",
              "    <tr style=\"text-align: right;\">\n",
              "      <th></th>\n",
              "      <th>text</th>\n",
              "      <th>label</th>\n",
              "    </tr>\n",
              "  </thead>\n",
              "  <tbody>\n",
              "    <tr>\n",
              "      <th>0</th>\n",
              "      <td>Không có chào đón như trong giới thiệu</td>\n",
              "      <td>0</td>\n",
              "    </tr>\n",
              "    <tr>\n",
              "      <th>1</th>\n",
              "      <td>Lựa chọn tốt cho du lịch nhóm ,gia đình</td>\n",
              "      <td>1</td>\n",
              "    </tr>\n",
              "    <tr>\n",
              "      <th>2</th>\n",
              "      <td>phòng yên tĩnh dù sát mặt đường lớn , sạch sẽ.</td>\n",
              "      <td>1</td>\n",
              "    </tr>\n",
              "    <tr>\n",
              "      <th>3</th>\n",
              "      <td>phòng sạch đẹp</td>\n",
              "      <td>1</td>\n",
              "    </tr>\n",
              "    <tr>\n",
              "      <th>4</th>\n",
              "      <td>Khách sạn sạch sẽ, gần biển, gần siêu thị Lott...</td>\n",
              "      <td>1</td>\n",
              "    </tr>\n",
              "    <tr>\n",
              "      <th>...</th>\n",
              "      <td>...</td>\n",
              "      <td>...</td>\n",
              "    </tr>\n",
              "    <tr>\n",
              "      <th>4119</th>\n",
              "      <td>Thôi thì treo biển không nhận khách đi oto cho...</td>\n",
              "      <td>0</td>\n",
              "    </tr>\n",
              "    <tr>\n",
              "      <th>4120</th>\n",
              "      <td>12 giờ đêm về thì khách sạn tối hin</td>\n",
              "      <td>0</td>\n",
              "    </tr>\n",
              "    <tr>\n",
              "      <th>4121</th>\n",
              "      <td>Nói 3 sao thì hơi quá.</td>\n",
              "      <td>0</td>\n",
              "    </tr>\n",
              "    <tr>\n",
              "      <th>4122</th>\n",
              "      <td>Thua khách sạn mình ở Nha Trang, Vẫn 3 sao.</td>\n",
              "      <td>0</td>\n",
              "    </tr>\n",
              "    <tr>\n",
              "      <th>4123</th>\n",
              "      <td>Vẫn nằm ở trục đường chính một chiều đông ngẹt...</td>\n",
              "      <td>0</td>\n",
              "    </tr>\n",
              "  </tbody>\n",
              "</table>\n",
              "<p>4124 rows × 2 columns</p>\n",
              "</div>"
            ],
            "text/plain": [
              "                                                   text  label\n",
              "0                Không có chào đón như trong giới thiệu      0\n",
              "1              Lựa chọn tốt cho du lịch nhóm ,gia đình       1\n",
              "2        phòng yên tĩnh dù sát mặt đường lớn , sạch sẽ.      1\n",
              "3                                        phòng sạch đẹp      1\n",
              "4     Khách sạn sạch sẽ, gần biển, gần siêu thị Lott...      1\n",
              "...                                                 ...    ...\n",
              "4119  Thôi thì treo biển không nhận khách đi oto cho...      0\n",
              "4120               12 giờ đêm về thì khách sạn tối hin       0\n",
              "4121                            Nói 3 sao thì hơi quá.       0\n",
              "4122        Thua khách sạn mình ở Nha Trang, Vẫn 3 sao.      0\n",
              "4123  Vẫn nằm ở trục đường chính một chiều đông ngẹt...      0\n",
              "\n",
              "[4124 rows x 2 columns]"
            ]
          },
          "metadata": {
            "tags": []
          },
          "execution_count": 289
        }
      ]
    },
    {
      "cell_type": "markdown",
      "metadata": {
        "id": "aQDUId1ZGRWF",
        "colab_type": "text"
      },
      "source": [
        "Trong bộ data có tất cả 4124 bình luận."
      ]
    },
    {
      "cell_type": "markdown",
      "metadata": {
        "id": "Zg0zB1ooDyCx",
        "colab_type": "text"
      },
      "source": [
        "Biểu đồ thống kê số lượng nhãn tương ứng với mỗi label"
      ]
    },
    {
      "cell_type": "code",
      "metadata": {
        "id": "aY_IiOf_Y3tF",
        "colab_type": "code",
        "colab": {
          "base_uri": "https://localhost:8080/",
          "height": 332
        },
        "outputId": "86b0df6e-7424-4ef7-c672-7671ccd80676"
      },
      "source": [
        "print(df['label'].value_counts())\n",
        "sns.countplot(df['label'])\n",
        "plt.show()"
      ],
      "execution_count": null,
      "outputs": [
        {
          "output_type": "stream",
          "text": [
            "1    2476\n",
            "0    1648\n",
            "Name: label, dtype: int64\n"
          ],
          "name": "stdout"
        },
        {
          "output_type": "display_data",
          "data": {
            "image/png": "[encoded data removed]",
            "text/plain": [
              "<Figure size 432x288 with 1 Axes>"
            ]
          },
          "metadata": {
            "tags": [],
            "needs_background": "light"
          }
        }
      ]
    },
    {
      "cell_type": "markdown",
      "metadata": {
        "id": "BmNRkCjuD7di",
        "colab_type": "text"
      },
      "source": [
        "**Nhận xét:** Trong bộ data có tất cả 4124 câu bình luận trong đó bình luận tích cực (label 1) là 2476 bình luận (chiếm 60,04%) và bình luận tiêu cực (label 0) là 1648 bình luận (chiếm 39,96%)."
      ]
    },
    {
      "cell_type": "markdown",
      "metadata": {
        "id": "WQnnvXoQHWyV",
        "colab_type": "text"
      },
      "source": [
        "* Thư viện pyvi được cài đặt để sử dụng cho việc phân chia từ trong tiếng việt"
      ]
    },
    {
      "cell_type": "code",
      "metadata": {
        "id": "pXBY2mcWY3tT",
        "colab_type": "code",
        "colab": {
          "base_uri": "https://localhost:8080/",
          "height": 194
        },
        "outputId": "165eb692-360b-4fe7-a91b-359e74612458"
      },
      "source": [
        "!pip install pyvi"
      ],
      "execution_count": null,
      "outputs": [
        {
          "output_type": "stream",
          "text": [
            "Requirement already satisfied: pyvi in /usr/local/lib/python3.6/dist-packages (0.1)\n",
            "Requirement already satisfied: scikit-learn in /usr/local/lib/python3.6/dist-packages (from pyvi) (0.22.2.post1)\n",
            "Requirement already satisfied: sklearn-crfsuite in /usr/local/lib/python3.6/dist-packages (from pyvi) (0.3.6)\n",
            "Requirement already satisfied: numpy>=1.11.0 in /usr/local/lib/python3.6/dist-packages (from scikit-learn->pyvi) (1.18.5)\n",
            "Requirement already satisfied: scipy>=0.17.0 in /usr/local/lib/python3.6/dist-packages (from scikit-learn->pyvi) (1.4.1)\n",
            "Requirement already satisfied: joblib>=0.11 in /usr/local/lib/python3.6/dist-packages (from scikit-learn->pyvi) (0.16.0)\n",
            "Requirement already satisfied: six in /usr/local/lib/python3.6/dist-packages (from sklearn-crfsuite->pyvi) (1.15.0)\n",
            "Requirement already satisfied: tqdm>=2.0 in /usr/local/lib/python3.6/dist-packages (from sklearn-crfsuite->pyvi) (4.41.1)\n",
            "Requirement already satisfied: python-crfsuite>=0.8.3 in /usr/local/lib/python3.6/dist-packages (from sklearn-crfsuite->pyvi) (0.9.7)\n",
            "Requirement already satisfied: tabulate in /usr/local/lib/python3.6/dist-packages (from sklearn-crfsuite->pyvi) (0.8.7)\n"
          ],
          "name": "stdout"
        }
      ]
    },
    {
      "cell_type": "code",
      "metadata": {
        "id": "RYZCfixGY3ti",
        "colab_type": "code",
        "colab": {}
      },
      "source": [
        "from pyvi import ViTokenizer\n",
        "def Token(t):\n",
        "  return ViTokenizer.tokenize(t)\n",
        "\n",
        "def standardize_data(t):\n",
        "\n",
        "  t = t.lower()\n",
        "  t = t.replace(',', ' ').replace('.', ' ')\\\n",
        "      .replace(\";\", \" \").replace(\"“\", \" \") \\\n",
        "      .replace(\":\", \" \").replace(\"”\", \" \") \\\n",
        "      .replace('\"', \" \").replace(\"'\", \" \") \\\n",
        "      .replace(\"!\", \" \").replace(\"?\", \" \").replace(\"-\", \" \").replace(\"?\", \" \") \n",
        "  t = t.strip()\n",
        "  return t"
      ],
      "execution_count": null,
      "outputs": []
    },
    {
      "cell_type": "markdown",
      "metadata": {
        "id": "qBRBVVgVH7Bs",
        "colab_type": "text"
      },
      "source": [
        "* Hàm Token có nhiệm vụ thực hiện việc phân chia các từ trong tiếng việt.\n",
        "Ví dụ:"
      ]
    },
    {
      "cell_type": "code",
      "metadata": {
        "id": "1FZxjgAxIINp",
        "colab_type": "code",
        "colab": {
          "base_uri": "https://localhost:8080/",
          "height": 34
        },
        "outputId": "5e43a976-5fee-4285-9230-ae8d1ea67d20"
      },
      "source": [
        "print(Token('Khách sạn nằm ở vị trí trung tâm của thành phố'))"
      ],
      "execution_count": null,
      "outputs": [
        {
          "output_type": "stream",
          "text": [
            "Khách_sạn nằm ở vị_trí trung_tâm của thành_phố\n"
          ],
          "name": "stdout"
        }
      ]
    },
    {
      "cell_type": "markdown",
      "metadata": {
        "id": "jOsZ7FLrIVuC",
        "colab_type": "text"
      },
      "source": [
        "* Hàm standardize_data nhận đầu vào là một bình luận và nó có nhiệm vụ chuyển bình luận về chữ thường, xóa các dấu câu đặc biệt (, . ; \" : ' ! ? -) và xóa các khoảng trống ở đâu và cuối bình luận. Ví dụ:"
      ]
    },
    {
      "cell_type": "code",
      "metadata": {
        "id": "CImwN2pLI7Cy",
        "colab_type": "code",
        "colab": {
          "base_uri": "https://localhost:8080/",
          "height": 34
        },
        "outputId": "2869e8ee-3d94-4b6b-ab7d-ba10b0186f71"
      },
      "source": [
        "print(standardize_data('kHÁCH sạn này có vị trí thuận tiện Đi lại!!!   '))"
      ],
      "execution_count": null,
      "outputs": [
        {
          "output_type": "stream",
          "text": [
            "khách sạn này có vị trí thuận tiện đi lại\n"
          ],
          "name": "stdout"
        }
      ]
    },
    {
      "cell_type": "markdown",
      "metadata": {
        "id": "TRuLbNJ8Y3vt",
        "colab_type": "text"
      },
      "source": [
        "### Không phân tích theo nghĩa tiếng việt _ phân theo dấu cách"
      ]
    },
    {
      "cell_type": "markdown",
      "metadata": {
        "id": "MsuH_qW2KF_P",
        "colab_type": "text"
      },
      "source": [
        "Thực hiện hàm standardize_data trên tất cả các bình luận có trong bộ dữ liệu. Và thu được một dataframe mới như bên dưới."
      ]
    },
    {
      "cell_type": "code",
      "metadata": {
        "id": "3OGCPK4rY3vu",
        "colab_type": "code",
        "colab": {
          "base_uri": "https://localhost:8080/",
          "height": 421
        },
        "outputId": "0bca8a16-4eba-4b41-e6f5-917bfee5e888"
      },
      "source": [
        "df['text'] = df['text'].apply(standardize_data)\n",
        "df"
      ],
      "execution_count": null,
      "outputs": [
        {
          "output_type": "execute_result",
          "data": {
            "text/html": [
              "<div>\n",
              "<style scoped>\n",
              "    .dataframe tbody tr th:only-of-type {\n",
              "        vertical-align: middle;\n",
              "    }\n",
              "\n",
              "    .dataframe tbody tr th {\n",
              "        vertical-align: top;\n",
              "    }\n",
              "\n",
              "    .dataframe thead th {\n",
              "        text-align: right;\n",
              "    }\n",
              "</style>\n",
              "<table border=\"1\" class=\"dataframe\">\n",
              "  <thead>\n",
              "    <tr style=\"text-align: right;\">\n",
              "      <th></th>\n",
              "      <th>text</th>\n",
              "      <th>label</th>\n",
              "    </tr>\n",
              "  </thead>\n",
              "  <tbody>\n",
              "    <tr>\n",
              "      <th>0</th>\n",
              "      <td>không có chào đón như trong giới thiệu</td>\n",
              "      <td>0</td>\n",
              "    </tr>\n",
              "    <tr>\n",
              "      <th>1</th>\n",
              "      <td>lựa chọn tốt cho du lịch nhóm  gia đình</td>\n",
              "      <td>1</td>\n",
              "    </tr>\n",
              "    <tr>\n",
              "      <th>2</th>\n",
              "      <td>phòng yên tĩnh dù sát mặt đường lớn   sạch sẽ</td>\n",
              "      <td>1</td>\n",
              "    </tr>\n",
              "    <tr>\n",
              "      <th>3</th>\n",
              "      <td>phòng sạch đẹp</td>\n",
              "      <td>1</td>\n",
              "    </tr>\n",
              "    <tr>\n",
              "      <th>4</th>\n",
              "      <td>khách sạn sạch sẽ  gần biển  gần siêu thị lott...</td>\n",
              "      <td>1</td>\n",
              "    </tr>\n",
              "    <tr>\n",
              "      <th>...</th>\n",
              "      <td>...</td>\n",
              "      <td>...</td>\n",
              "    </tr>\n",
              "    <tr>\n",
              "      <th>4119</th>\n",
              "      <td>thôi thì treo biển không nhận khách đi oto cho...</td>\n",
              "      <td>0</td>\n",
              "    </tr>\n",
              "    <tr>\n",
              "      <th>4120</th>\n",
              "      <td>12 giờ đêm về thì khách sạn tối hin</td>\n",
              "      <td>0</td>\n",
              "    </tr>\n",
              "    <tr>\n",
              "      <th>4121</th>\n",
              "      <td>nói 3 sao thì hơi quá</td>\n",
              "      <td>0</td>\n",
              "    </tr>\n",
              "    <tr>\n",
              "      <th>4122</th>\n",
              "      <td>thua khách sạn mình ở nha trang  vẫn 3 sao</td>\n",
              "      <td>0</td>\n",
              "    </tr>\n",
              "    <tr>\n",
              "      <th>4123</th>\n",
              "      <td>vẫn nằm ở trục đường chính một chiều đông ngẹt...</td>\n",
              "      <td>0</td>\n",
              "    </tr>\n",
              "  </tbody>\n",
              "</table>\n",
              "<p>4124 rows × 2 columns</p>\n",
              "</div>"
            ],
            "text/plain": [
              "                                                   text  label\n",
              "0                không có chào đón như trong giới thiệu      0\n",
              "1               lựa chọn tốt cho du lịch nhóm  gia đình      1\n",
              "2         phòng yên tĩnh dù sát mặt đường lớn   sạch sẽ      1\n",
              "3                                        phòng sạch đẹp      1\n",
              "4     khách sạn sạch sẽ  gần biển  gần siêu thị lott...      1\n",
              "...                                                 ...    ...\n",
              "4119  thôi thì treo biển không nhận khách đi oto cho...      0\n",
              "4120                12 giờ đêm về thì khách sạn tối hin      0\n",
              "4121                              nói 3 sao thì hơi quá      0\n",
              "4122         thua khách sạn mình ở nha trang  vẫn 3 sao      0\n",
              "4123  vẫn nằm ở trục đường chính một chiều đông ngẹt...      0\n",
              "\n",
              "[4124 rows x 2 columns]"
            ]
          },
          "metadata": {
            "tags": []
          },
          "execution_count": 294
        }
      ]
    },
    {
      "cell_type": "code",
      "metadata": {
        "id": "Rn1jtkPVW0kg",
        "colab_type": "code",
        "colab": {}
      },
      "source": [
        "X_tr, X_t, y_train, y_test =train_test_split(df['text'], df['label'], test_size=0.2, random_state=0)"
      ],
      "execution_count": null,
      "outputs": []
    },
    {
      "cell_type": "markdown",
      "metadata": {
        "id": "vVi3nuehW-ks",
        "colab_type": "text"
      },
      "source": [
        "Phân chia dữ liệu với 80% làm tập train và 20% làm tập test"
      ]
    },
    {
      "cell_type": "code",
      "metadata": {
        "id": "pUBgrZEyqiza",
        "colab_type": "code",
        "colab": {
          "base_uri": "https://localhost:8080/",
          "height": 230
        },
        "outputId": "0983759c-6110-428c-a8cf-8d43d3f77cc1"
      },
      "source": [
        "X_t"
      ],
      "execution_count": null,
      "outputs": [
        {
          "output_type": "execute_result",
          "data": {
            "text/plain": [
              "1065     phòng đẹp  buffe sáng ngon  nhân viên thân thiện\n",
              "45      nhân viên phục vụ ăn sáng có thái độ  tôi xuốn...\n",
              "2411            phòng sạch sẽ  giường rất êm và thoải mái\n",
              "1280                                   địa điểm thuận lợi\n",
              "1784    chúng tôi ở sanouva 6 ngày  the complimentary ...\n",
              "                              ...                        \n",
              "2506                            phòng đẹp  rộng và thoáng\n",
              "177                                            phục vụ tệ\n",
              "50      khách sạn sạch sẽ  nhân viên nhiệt tình  gần t...\n",
              "64              vòi sen phòng mình bị hư và chảy rất chậm\n",
              "1507    đặc biệt các bạn nhân viên ở đây thân thiện ch...\n",
              "Name: text, Length: 825, dtype: object"
            ]
          },
          "metadata": {
            "tags": []
          },
          "execution_count": 296
        }
      ]
    },
    {
      "cell_type": "markdown",
      "metadata": {
        "id": "KYUC3_QFqmGr",
        "colab_type": "text"
      },
      "source": [
        "Tập test có 825 bình luận"
      ]
    },
    {
      "cell_type": "code",
      "metadata": {
        "id": "TA6ulycdqp3M",
        "colab_type": "code",
        "colab": {
          "base_uri": "https://localhost:8080/",
          "height": 230
        },
        "outputId": "bb5b556f-f8a6-4300-ab23-1cd5439df0c8"
      },
      "source": [
        "X_tr"
      ],
      "execution_count": null,
      "outputs": [
        {
          "output_type": "execute_result",
          "data": {
            "text/plain": [
              "3462    chỗ chờ không có quạt  nên hơi ngộp và giường ...\n",
              "866     mọi thứ đều ổn  vệ sinh có vẻ chưa tốt lắm  vẫ...\n",
              "2058                                 nhân viên thân thiện\n",
              "3908    những chi tiết nhỏ đó có rơi xuống đất ...\n",
              "3267    mình mướn phòng vào ngày mưa  trần nhà bị dột ...\n",
              "                              ...                        \n",
              "1033    giá hơi cao  nhưng được cái phòng đẹp và vị tr...\n",
              "3264            nhân viên nói chuyện trỗng  thiếu văn hóa\n",
              "1653            đây là lần 2 tôi đặt phòng tại white sand\n",
              "2607    tôi đã từng ở adaline hồi khách sạn mới mở   ấ...\n",
              "2732    mọi thứ đều mini trừ giá cả  giao phòng không ...\n",
              "Name: text, Length: 3299, dtype: object"
            ]
          },
          "metadata": {
            "tags": []
          },
          "execution_count": 297
        }
      ]
    },
    {
      "cell_type": "markdown",
      "metadata": {
        "id": "Zgl4QrDUqwJ6",
        "colab_type": "text"
      },
      "source": [
        "Tập train có 3299 bình luận"
      ]
    },
    {
      "cell_type": "markdown",
      "metadata": {
        "id": "eaXE-D6lKYEb",
        "colab_type": "text"
      },
      "source": [
        "Tiêp theo đến việc chuyển các bình luận về các vector đặc trưng."
      ]
    },
    {
      "cell_type": "markdown",
      "metadata": {
        "id": "0aQGslCEMGny",
        "colab_type": "text"
      },
      "source": [
        "\n",
        "#### TF-IDF"
      ]
    },
    {
      "cell_type": "markdown",
      "metadata": {
        "id": "UNUYncVQOBk8",
        "colab_type": "text"
      },
      "source": [
        "Phương pháp đầu tiên sử dụng là TF-IDF. Phương pháp này sẽ tạo ra một túi từ vựng bằng tất cả các từ có trong bộ dữ liệu. Sau đó chuyển các bình luận về dạng vector đặc trung với mỗi vector có độ dài bằng số lượng từ vựng trong túi từ vựng và tính độ quan trọng của mỗi từ trong túi từ vựng đối với bình luận đang xét. Và phương pháp tính Tf-idf được hỗ trợ bởi thư viện scikit-learn"
      ]
    },
    {
      "cell_type": "code",
      "metadata": {
        "id": "Hm8nyAZeY3v0",
        "colab_type": "code",
        "colab": {}
      },
      "source": [
        "emb=TfidfVectorizer()\n",
        "emb.fit(df['text'])\n",
        "X_train=emb.transform(X_tr)\n",
        "X_test=emb.transform(X_t)"
      ],
      "execution_count": null,
      "outputs": []
    },
    {
      "cell_type": "markdown",
      "metadata": {
        "id": "z4uvvJV8OxU8",
        "colab_type": "text"
      },
      "source": [
        "Emb được lưu lại để sử dụng cho việc sau này như việc dự đoán một câu bất kỳ được nhập vào. Và file này sẽ được upload lên github cho việc sử dụng thuận tiện hơn."
      ]
    },
    {
      "cell_type": "code",
      "metadata": {
        "colab_type": "code",
        "id": "cXC2qd0A1gR6",
        "colab": {
          "base_uri": "https://localhost:8080/",
          "height": 34
        },
        "outputId": "2c2349a6-8898-44b0-a741-bb4bf91a4885"
      },
      "source": [
        "joblib.dump(emb, '/content/drive/My Drive/Colab Notebooks/ML/DoAnCuoiKy/tfidf_cach.pkl')"
      ],
      "execution_count": null,
      "outputs": [
        {
          "output_type": "execute_result",
          "data": {
            "text/plain": [
              "['/content/drive/My Drive/Colab Notebooks/ML/DoAnCuoiKy/tfidf_cach.pkl']"
            ]
          },
          "metadata": {
            "tags": []
          },
          "execution_count": 299
        }
      ]
    },
    {
      "cell_type": "markdown",
      "metadata": {
        "id": "-jSTpO5K2JVN",
        "colab_type": "text"
      },
      "source": [
        "##### Lựa chọn model"
      ]
    },
    {
      "cell_type": "markdown",
      "metadata": {
        "id": "UD9JC8atVkCc",
        "colab_type": "text"
      },
      "source": [
        "Lựa chọn model, sử dụng 5 model: BernoulliNB, Logistic Regression,SVC, Randomforest, Decision Tree cho mỗi phương pháp feature engineering khác nhau. Và từ đó so sánh và chọn ra model tốt nhất."
      ]
    },
    {
      "cell_type": "markdown",
      "metadata": {
        "id": "xL91gRemV9EE",
        "colab_type": "text"
      },
      "source": [
        "**Model đầu tiên: BernoulliNB**"
      ]
    },
    {
      "cell_type": "code",
      "metadata": {
        "id": "aIUrqnJNY3wI",
        "colab_type": "code",
        "colab": {
          "base_uri": "https://localhost:8080/",
          "height": 265
        },
        "outputId": "49f9142a-a962-4eb2-a1a9-8f5542f4e7db"
      },
      "source": [
        "model=BernoulliNB()\n",
        "model.fit(X_train,y_train)\n",
        "predict=model.predict(X_test)\n",
        "print('Accuracy:  ',accuracy_score(y_test,predict))\n",
        "print('Classification report: \\n',classification_report(y_test,predict))\n",
        "print('Confusion matrix: \\n',confusion_matrix(y_test,predict))"
      ],
      "execution_count": null,
      "outputs": [
        {
          "output_type": "stream",
          "text": [
            "Accuracy:   0.8896969696969697\n",
            "Classification report: \n",
            "               precision    recall  f1-score   support\n",
            "\n",
            "           0       0.89      0.84      0.86       347\n",
            "           1       0.89      0.93      0.91       478\n",
            "\n",
            "    accuracy                           0.89       825\n",
            "   macro avg       0.89      0.88      0.89       825\n",
            "weighted avg       0.89      0.89      0.89       825\n",
            "\n",
            "Confusion matrix: \n",
            " [[291  56]\n",
            " [ 35 443]]\n"
          ],
          "name": "stdout"
        }
      ]
    },
    {
      "cell_type": "markdown",
      "metadata": {
        "id": "IgA3RBbCWQNx",
        "colab_type": "text"
      },
      "source": [
        "*Accuracy*: 88,96% là độ chính xác và được tính là số lượng bình luận dự đoán đúng / tổng số bình luận.\n",
        "\n",
        "*Classification report*: trong tập test có 347 bình luận nhãn 0, 478 bình luận nhãn 1. Trong đó f1-score của nhãn 0 và 1 tương ứng là 86% và 91% với \n",
        "\n",
        "f1-score=2 x (recall x precision)/(recall + precision) trong đó: \n",
        "\n",
        "recall nhãn 0 = (số lượng bình luận nhãn 0 được model dự đoán chính xác) / (số lượng bình luận nhãn  trong thực tế)\n",
        "\n",
        "precision nhãn 0 = (số lượng bình luận nhãn 0 được model dự đoán chính xác) / (số lượng bình luận nhãn 0 được model dự đoán)\n",
        "\n",
        "Và f1-score trung bình theo cách tính weighted avg (có nhân với tỷ lệ của số lượng nhãn) là 0.89. (0.89= 0.86.(347/825)+0.91.(478/825))\n",
        "\n",
        "*Confsusion matrix*: Trong 347 bình luận nhãn 0 thì model dự đoán chính xác 291 bình luận và 478 bình luận nhãn 1 thì model dự đoán chính xác 443 bình luận => accuracy = (291+443) / 825 = 0,8896\n",
        "\n",
        "---\n",
        "\n"
      ]
    },
    {
      "cell_type": "markdown",
      "metadata": {
        "id": "lr5JMawlq4f0",
        "colab_type": "text"
      },
      "source": [
        "**Model thứ hai: LogisticRegression**"
      ]
    },
    {
      "cell_type": "code",
      "metadata": {
        "id": "jhKafl3OY3wO",
        "colab_type": "code",
        "colab": {
          "base_uri": "https://localhost:8080/",
          "height": 265
        },
        "outputId": "c17b8f2d-28e5-4707-80aa-bb0230c6a06e"
      },
      "source": [
        "model=LogisticRegression()\n",
        "model.fit(X_train,y_train)\n",
        "predict=model.predict(X_test)\n",
        "print('Accuracy: ',accuracy_score(y_test, predict))\n",
        "print('Classification-report: \\n',classification_report(y_test,predict))\n",
        "print('Confusion_matrix: \\n',confusion_matrix(y_test,predict))"
      ],
      "execution_count": null,
      "outputs": [
        {
          "output_type": "stream",
          "text": [
            "Accuracy:  0.9466666666666667\n",
            "Classification-report: \n",
            "               precision    recall  f1-score   support\n",
            "\n",
            "           0       0.93      0.95      0.94       347\n",
            "           1       0.96      0.95      0.95       478\n",
            "\n",
            "    accuracy                           0.95       825\n",
            "   macro avg       0.94      0.95      0.95       825\n",
            "weighted avg       0.95      0.95      0.95       825\n",
            "\n",
            "Confusion_matrix: \n",
            " [[329  18]\n",
            " [ 26 452]]\n"
          ],
          "name": "stdout"
        }
      ]
    },
    {
      "cell_type": "markdown",
      "metadata": {
        "id": "cmm4AaKQq9oN",
        "colab_type": "text"
      },
      "source": [
        "*Accuracy*: 94.67% là độ chính xác và được tính là số lượng bình luận dự đoán đúng / tổng số bình luận đem dự đoán.\n",
        "\n",
        "*Classification report*: trong tập test có 347 bình luận nhãn 0, 478 bình luận nhãn 1. Trong đó f1-score của nhãn 0 và 1 tương ứng là 94% và 95% với\n",
        "\n",
        "Và f1-score trung bình theo cách tính weighted avg (có nhân với tỷ lệ của số lượng nhãn) là 0.95 với (0.95= 0.94.(347/825)+0.95.(478/825))\n",
        "\n",
        "*Confsusion matrix*: Trong 347 bình luận nhãn 0 thì model dự đoán chính xác 327 bình luận và 478 bình luận nhãn 1 thì model dự đoán chính xác 454 bình luận => accuracy = (327+454) / 825 = 0,9467\n",
        "\n",
        "---"
      ]
    },
    {
      "cell_type": "markdown",
      "metadata": {
        "id": "9VqoVSkRxNMC",
        "colab_type": "text"
      },
      "source": [
        "**Model thứ ba: RandomForest**\n"
      ]
    },
    {
      "cell_type": "code",
      "metadata": {
        "id": "HA2u2jiOY3wU",
        "colab_type": "code",
        "colab": {
          "base_uri": "https://localhost:8080/",
          "height": 265
        },
        "outputId": "0ea58583-65cd-45cc-dd9e-3558e646fb40"
      },
      "source": [
        "model=RandomForestClassifier()\n",
        "model.fit(X_train,y_train)\n",
        "predict=model.predict(X_test)\n",
        "print('Accuracy: ',accuracy_score(y_test, predict))\n",
        "print('Classification-report: \\n',classification_report(y_test,predict))\n",
        "print('Confusion_matrix: \\n',confusion_matrix(y_test,predict))"
      ],
      "execution_count": null,
      "outputs": [
        {
          "output_type": "stream",
          "text": [
            "Accuracy:  0.9321212121212121\n",
            "Classification-report: \n",
            "               precision    recall  f1-score   support\n",
            "\n",
            "           0       0.93      0.91      0.92       347\n",
            "           1       0.94      0.95      0.94       478\n",
            "\n",
            "    accuracy                           0.93       825\n",
            "   macro avg       0.93      0.93      0.93       825\n",
            "weighted avg       0.93      0.93      0.93       825\n",
            "\n",
            "Confusion_matrix: \n",
            " [[316  31]\n",
            " [ 25 453]]\n"
          ],
          "name": "stdout"
        }
      ]
    },
    {
      "cell_type": "markdown",
      "metadata": {
        "id": "anmRNbOyxJgh",
        "colab_type": "text"
      },
      "source": [
        "*Accuracy*: 93,21% là độ chính xác và được tính là số lượng bình luận dự đoán đúng / tổng số bình luận đem dự đoán.\n",
        "\n",
        "*Classification report*: trong tập test có 347 bình luận nhãn 0, 478 bình luận nhãn 1. Trong đó f1-score của nhãn 0 và 1 tương ứng là 92% và 94% với\n",
        "\n",
        "Và f1-score trung bình theo cách tính weighted avg (có nhân với tỷ lệ của số lượng nhãn) là 0.93 với (0.93= 0.92.(347/825)+0.94.(478/825))\n",
        "\n",
        "*Confsusion matrix*: Trong 347 bình luận nhãn 0 thì model dự đoán chính xác 316 bình luận và 478 bình luận nhãn 1 thì model dự đoán chính xác 453 bình luận => accuracy = (316+453) / 825 = 0,9321\n",
        "\n",
        "---"
      ]
    },
    {
      "cell_type": "markdown",
      "metadata": {
        "id": "PgqLZzyR8_yF",
        "colab_type": "text"
      },
      "source": [
        "**Model thứ tư: SVC**\n"
      ]
    },
    {
      "cell_type": "code",
      "metadata": {
        "scrolled": false,
        "id": "QYZKVpQnY3wa",
        "colab_type": "code",
        "colab": {
          "base_uri": "https://localhost:8080/",
          "height": 265
        },
        "outputId": "50e7cbc0-97a8-4fad-fe2c-73cbcec6c614"
      },
      "source": [
        "model=SVC()\n",
        "model.fit(X_train,y_train)\n",
        "predict=model.predict(X_test)\n",
        "print('Accuracy: ',accuracy_score(y_test, predict))\n",
        "print('Classification-report: \\n',classification_report(y_test,predict))\n",
        "print('Confusion matrix: \\n',confusion_matrix(y_test,predict))"
      ],
      "execution_count": null,
      "outputs": [
        {
          "output_type": "stream",
          "text": [
            "Accuracy:  0.9527272727272728\n",
            "Classification-report: \n",
            "               precision    recall  f1-score   support\n",
            "\n",
            "           0       0.93      0.96      0.94       347\n",
            "           1       0.97      0.95      0.96       478\n",
            "\n",
            "    accuracy                           0.95       825\n",
            "   macro avg       0.95      0.95      0.95       825\n",
            "weighted avg       0.95      0.95      0.95       825\n",
            "\n",
            "Confusion matrix: \n",
            " [[332  15]\n",
            " [ 24 454]]\n"
          ],
          "name": "stdout"
        }
      ]
    },
    {
      "cell_type": "markdown",
      "metadata": {
        "id": "afoDhgc39MQ_",
        "colab_type": "text"
      },
      "source": [
        "*Accuracy*: 95,27% là độ chính xác và được tính là số lượng bình luận dự đoán đúng / tổng số bình luận đem dự đoán.\n",
        "\n",
        "*Classification report*: trong tập test có 347 bình luận nhãn 0, 478 bình luận nhãn 1. Trong đó f1-score của nhãn 0 và 1 tương ứng là 94% và 96% với\n",
        "\n",
        "Và f1-score trung bình theo cách tính weighted avg (có nhân với tỷ lệ của số lượng nhãn) là 0.95 với (0.95= 0.94.(347/825)+0.96.(478/825))\n",
        "\n",
        "*Confsusion matrix*: Trong 347 bình luận nhãn 0 thì model dự đoán chính xác 332 bình luận và 478 bình luận nhãn 1 thì model dự đoán chính xác 454 bình luận => accuracy = (332+454) / 825 = 0,9527\n",
        "\n",
        "---"
      ]
    },
    {
      "cell_type": "markdown",
      "metadata": {
        "id": "tK9TpYSVDQ2O",
        "colab_type": "text"
      },
      "source": [
        "**Model thứ năm Decision Tree**"
      ]
    },
    {
      "cell_type": "code",
      "metadata": {
        "id": "eutfr2fBY3wg",
        "colab_type": "code",
        "colab": {
          "base_uri": "https://localhost:8080/",
          "height": 265
        },
        "outputId": "c615a737-7a9c-4307-e84d-3092c35193d2"
      },
      "source": [
        "model=DecisionTreeClassifier().fit(X_train,y_train)\n",
        "predict=model.predict(X_test)\n",
        "print('Accuracy: ',accuracy_score(y_test,predict))\n",
        "print('Clasification report: \\n',classification_report(y_test,predict))\n",
        "print('Confusion matrix: \\n',confusion_matrix(y_test,predict))"
      ],
      "execution_count": null,
      "outputs": [
        {
          "output_type": "stream",
          "text": [
            "Accuracy:  0.8715151515151515\n",
            "Clasification report: \n",
            "               precision    recall  f1-score   support\n",
            "\n",
            "           0       0.85      0.84      0.85       347\n",
            "           1       0.89      0.89      0.89       478\n",
            "\n",
            "    accuracy                           0.87       825\n",
            "   macro avg       0.87      0.87      0.87       825\n",
            "weighted avg       0.87      0.87      0.87       825\n",
            "\n",
            "Confusion matrix: \n",
            " [[293  54]\n",
            " [ 52 426]]\n"
          ],
          "name": "stdout"
        }
      ]
    },
    {
      "cell_type": "markdown",
      "metadata": {
        "id": "q3-mtH2__LhL",
        "colab_type": "text"
      },
      "source": [
        "*Accuracy*: 87,15% là độ chính xác và được tính là số lượng bình luận dự đoán đúng / tổng số bình luận đem dự đoán.\n",
        "\n",
        "*Classification report*: trong tập test có 347 bình luận nhãn 0, 478 bình luận nhãn 1. Trong đó f1-score của nhãn 0 và 1 tương ứng là 85% và 89% với\n",
        "\n",
        "Và f1-score trung bình theo cách tính weighted avg (có nhân với tỷ lệ của số lượng nhãn) là 0.87 với (0.87= 0.85.(347/825)+0.89.(478/825))\n",
        "\n",
        "*Confsusion matrix*: Trong 347 bình luận nhãn 0 thì model dự đoán chính xác 293 bình luận và 478 bình luận nhãn 1 thì model dự đoán chính xác 426 bình luận => accuracy = (293+426) / 825 = 0,8715\n",
        "\n",
        "---"
      ]
    },
    {
      "cell_type": "markdown",
      "metadata": {
        "id": "CEP9ZIscC3L-",
        "colab_type": "text"
      },
      "source": [
        "Trong 5 model thử với trường hợp tách từ theo dấu cách và kỹ thuật TF-IDF thì model SVC thu được độ chính xác cao nhất (95,27%)"
      ]
    },
    {
      "cell_type": "markdown",
      "metadata": {
        "id": "NvqhS8tAMQF4",
        "colab_type": "text"
      },
      "source": [
        " #### CountVectorizer"
      ]
    },
    {
      "cell_type": "markdown",
      "metadata": {
        "id": "84VlpncqGCpX",
        "colab_type": "text"
      },
      "source": [
        "Phương pháp thứ hai dùng để chuyển các bình luận về vector đặc trưng là CountVectorizer. Phương pháp này sẽ tạo ra một túi từ vựng gồm tất cả từ vựng có trong các bình luận. Mỗi bình luận sẽ được chuyển về một vector có độ dài bằng số lượng từ trong túi từ vựng, với v là vector của bình luận và v[i] là số lượng của từ thứ i trong túi từ vựng có trong bình luận."
      ]
    },
    {
      "cell_type": "code",
      "metadata": {
        "id": "_Vd0C4mjMUUm",
        "colab_type": "code",
        "colab": {}
      },
      "source": [
        "emb=CountVectorizer().fit(df['text'])\n",
        "X_train=emb.transform(X_tr)\n",
        "X_test=emb.transform(X_t)"
      ],
      "execution_count": null,
      "outputs": []
    },
    {
      "cell_type": "code",
      "metadata": {
        "id": "YvwjoWgU5UeX",
        "colab_type": "code",
        "colab": {
          "base_uri": "https://localhost:8080/",
          "height": 34
        },
        "outputId": "510bc835-2f84-4c47-9038-e802f675c45a"
      },
      "source": [
        "joblib.dump(emb, '/content/drive/My Drive/Colab Notebooks/ML/DoAnCuoiKy/countvr_cach.pkl')"
      ],
      "execution_count": null,
      "outputs": [
        {
          "output_type": "execute_result",
          "data": {
            "text/plain": [
              "['/content/drive/My Drive/Colab Notebooks/ML/DoAnCuoiKy/countvr_cach.pkl']"
            ]
          },
          "metadata": {
            "tags": []
          },
          "execution_count": 307
        }
      ]
    },
    {
      "cell_type": "markdown",
      "metadata": {
        "id": "BugCxQapHUnX",
        "colab_type": "text"
      },
      "source": [
        "Vẫn sẽ thử với 5 model tương tự như phần TF-IDF\n",
        "\n",
        "Và cả 5 model sau đây đều thử cùng với tập train/ test ở bên trên với tập test có 504 bình luận nhãn 1 và 321 bình luận nhãn 0"
      ]
    },
    {
      "cell_type": "markdown",
      "metadata": {
        "id": "sp4Bgx23Ha6I",
        "colab_type": "text"
      },
      "source": [
        "**Model BernoulliNB**"
      ]
    },
    {
      "cell_type": "code",
      "metadata": {
        "id": "JAN77R9vTiKz",
        "colab_type": "code",
        "colab": {
          "base_uri": "https://localhost:8080/",
          "height": 265
        },
        "outputId": "b0fb24d7-541c-4adc-a595-e3bd97895d47"
      },
      "source": [
        "model=BernoulliNB().fit(X_train,y_train)\n",
        "predict=model.predict(X_test)\n",
        "print('Accuracy: ',accuracy_score(y_test, predict))\n",
        "print('Classification report: \\n',classification_report(y_test,predict))\n",
        "print('Confusion matrix: \\n',confusion_matrix(y_test,predict))"
      ],
      "execution_count": null,
      "outputs": [
        {
          "output_type": "stream",
          "text": [
            "Accuracy:  0.8896969696969697\n",
            "Classification report: \n",
            "               precision    recall  f1-score   support\n",
            "\n",
            "           0       0.89      0.84      0.86       347\n",
            "           1       0.89      0.93      0.91       478\n",
            "\n",
            "    accuracy                           0.89       825\n",
            "   macro avg       0.89      0.88      0.89       825\n",
            "weighted avg       0.89      0.89      0.89       825\n",
            "\n",
            "Confusion matrix: \n",
            " [[291  56]\n",
            " [ 35 443]]\n"
          ],
          "name": "stdout"
        }
      ]
    },
    {
      "cell_type": "markdown",
      "metadata": {
        "id": "e8f6yKwFHr3P",
        "colab_type": "text"
      },
      "source": [
        "*Accuracy*: 88,97% là độ chính xác và được tính là số lượng bình luận dự đoán đúng / tổng số bình luận đem dự đoán.\n",
        "\n",
        "*Classification report*: trong tập test có 347 bình luận nhãn 0, 478 bình luận nhãn 1. Trong đó f1-score của nhãn 0 và 1 tương ứng là 86% và 91%\n",
        "\n",
        "Và f1-score trung bình theo cách tính weighted avg (có nhân với tỷ lệ của số lượng nhãn) là 0.89 với (0.89= 0.86.(347/825)+0.91.(478/825))\n",
        "\n",
        "*Confsusion matrix*: Trong 347 bình luận nhãn 0 thì model dự đoán chính xác 291 bình luận và 478 bình luận nhãn 1 thì model dự đoán chính xác 443 bình luận => accuracy = (291+443) / 825 = 0,8896\n",
        "\n",
        "---"
      ]
    },
    {
      "cell_type": "markdown",
      "metadata": {
        "id": "SRu8hJkKJazN",
        "colab_type": "text"
      },
      "source": [
        "**Model SVC**"
      ]
    },
    {
      "cell_type": "code",
      "metadata": {
        "id": "iMOEzfJ3Tr8y",
        "colab_type": "code",
        "colab": {
          "base_uri": "https://localhost:8080/",
          "height": 265
        },
        "outputId": "5160eb58-b4f4-4a9b-f3e3-0ad7e983b5c1"
      },
      "source": [
        "model=SVC().fit(X_train,y_train)\n",
        "predict=model.predict(X_test)\n",
        "print('Accuracy: ',accuracy_score(y_test, predict))\n",
        "print('Clasification report: \\n',classification_report(y_test,predict))\n",
        "print('Confusion matrix: \\n',confusion_matrix(y_test,predict))"
      ],
      "execution_count": null,
      "outputs": [
        {
          "output_type": "stream",
          "text": [
            "Accuracy:  0.936969696969697\n",
            "Clasification report: \n",
            "               precision    recall  f1-score   support\n",
            "\n",
            "           0       0.91      0.95      0.93       347\n",
            "           1       0.96      0.93      0.94       478\n",
            "\n",
            "    accuracy                           0.94       825\n",
            "   macro avg       0.93      0.94      0.94       825\n",
            "weighted avg       0.94      0.94      0.94       825\n",
            "\n",
            "Confusion matrix: \n",
            " [[329  18]\n",
            " [ 34 444]]\n"
          ],
          "name": "stdout"
        }
      ]
    },
    {
      "cell_type": "markdown",
      "metadata": {
        "id": "F-1wi1UVJna6",
        "colab_type": "text"
      },
      "source": [
        "*Accuracy*: 93,69% là độ chính xác và được tính là số lượng bình luận dự đoán đúng / tổng số bình luận đem dự đoán.\n",
        "\n",
        "*Classification report*: trong tập test có 347 bình luận nhãn 0, 478 bình luận nhãn 1. Trong đó f1-score của nhãn 0 và 1 tương ứng là 93% và 94% với\n",
        "\n",
        "Và f1-score trung bình theo cách tính weighted avg (có nhân với tỷ lệ của số lượng nhãn) là 0.94 với (0.94= 0.93.(347/825)+0.94.(478/825))\n",
        "\n",
        "*Confsusion matrix*: Trong 347 bình luận nhãn 0 thì model dự đoán chính xác 329 bình luận và 478 bình luận nhãn 1 thì model dự đoán chính xác 444 bình luận => accuracy = (329+444) / 825 = 0,9369\n",
        "\n",
        "---"
      ]
    },
    {
      "cell_type": "markdown",
      "metadata": {
        "id": "13_TA3anKD57",
        "colab_type": "text"
      },
      "source": [
        "**Model RandomForest**"
      ]
    },
    {
      "cell_type": "code",
      "metadata": {
        "id": "9e0QX5j4TvsW",
        "colab_type": "code",
        "colab": {
          "base_uri": "https://localhost:8080/",
          "height": 265
        },
        "outputId": "1c408b4d-9495-4ab9-8bfa-b2ee92ba422f"
      },
      "source": [
        "model=RandomForestClassifier().fit(X_train,y_train)\n",
        "predict=model.predict(X_test)\n",
        "print('Accuracy: ',accuracy_score(y_test, predict))\n",
        "print('Classification: \\n',classification_report(y_test,predict))\n",
        "print('Confusion matrix: \\n',confusion_matrix(y_test,predict))"
      ],
      "execution_count": null,
      "outputs": [
        {
          "output_type": "stream",
          "text": [
            "Accuracy:  0.9418181818181818\n",
            "Classification: \n",
            "               precision    recall  f1-score   support\n",
            "\n",
            "           0       0.92      0.94      0.93       347\n",
            "           1       0.96      0.94      0.95       478\n",
            "\n",
            "    accuracy                           0.94       825\n",
            "   macro avg       0.94      0.94      0.94       825\n",
            "weighted avg       0.94      0.94      0.94       825\n",
            "\n",
            "Confusion matrix: \n",
            " [[326  21]\n",
            " [ 27 451]]\n"
          ],
          "name": "stdout"
        }
      ]
    },
    {
      "cell_type": "markdown",
      "metadata": {
        "id": "uKYiI45JKRIF",
        "colab_type": "text"
      },
      "source": [
        "*Accuracy*: 94,18% là độ chính xác và được tính là số lượng bình luận dự đoán đúng / tổng số bình luận đem dự đoán.\n",
        "\n",
        "*Classification report*: trong tập test có 347 bình luận nhãn 0, 478 bình luận nhãn 1. Trong đó f1-score của nhãn 0 và 1 tương ứng là 93% và 95%\n",
        "\n",
        "Và f1-score trung bình theo cách tính weighted avg (có nhân với tỷ lệ của số lượng nhãn) là 0.94 với (0.94= 0.93.(347/825)+0.95.(478/825))\n",
        "\n",
        "*Confsusion matrix*: Trong 347 bình luận nhãn 0 thì model dự đoán chính xác 326 bình luận và 478 bình luận nhãn 1 thì model dự đoán chính xác 451 bình luận => accuracy = (326+451) / 825 = 0,9418\n",
        "\n",
        "---"
      ]
    },
    {
      "cell_type": "markdown",
      "metadata": {
        "id": "yUuBQU-SKxwu",
        "colab_type": "text"
      },
      "source": [
        "**Model Decision Tree**"
      ]
    },
    {
      "cell_type": "code",
      "metadata": {
        "id": "yXaLzsouTzsD",
        "colab_type": "code",
        "colab": {
          "base_uri": "https://localhost:8080/",
          "height": 265
        },
        "outputId": "64a9f770-6520-498b-b227-5ce331452ece"
      },
      "source": [
        "model=DecisionTreeClassifier().fit(X_train,y_train)\n",
        "predict=model.predict(X_test)\n",
        "print('Accuracy: ',accuracy_score(y_test, predict))\n",
        "print('Classification report: \\n',classification_report(y_test,predict))\n",
        "print('Confusion matrix: \\n',confusion_matrix(y_test,predict))"
      ],
      "execution_count": null,
      "outputs": [
        {
          "output_type": "stream",
          "text": [
            "Accuracy:  0.8872727272727273\n",
            "Classification report: \n",
            "               precision    recall  f1-score   support\n",
            "\n",
            "           0       0.87      0.86      0.87       347\n",
            "           1       0.90      0.91      0.90       478\n",
            "\n",
            "    accuracy                           0.89       825\n",
            "   macro avg       0.88      0.88      0.88       825\n",
            "weighted avg       0.89      0.89      0.89       825\n",
            "\n",
            "Confusion matrix: \n",
            " [[298  49]\n",
            " [ 44 434]]\n"
          ],
          "name": "stdout"
        }
      ]
    },
    {
      "cell_type": "markdown",
      "metadata": {
        "id": "vWNc32NSK3yQ",
        "colab_type": "text"
      },
      "source": [
        "*Accuracy*: 88,73% là độ chính xác và được tính là số lượng bình luận dự đoán đúng / tổng số bình luận đem dự đoán.\n",
        "\n",
        "*Classification report*: trong tập test có 347 bình luận nhãn 0, 478 bình luận nhãn 1. Trong đó f1-score của nhãn 0 và 1 tương ứng là 87% và 90% với\n",
        "\n",
        "Và f1-score trung bình theo cách tính weighted avg (có nhân với tỷ lệ của số lượng nhãn) là 0.89 với (0.89= 0.87.(347/825)+0.90.(478/825))\n",
        "\n",
        "*Confsusion matrix*: Trong 347 bình luận nhãn 0 thì model dự đoán chính xác 298 bình luận và 478 bình luận nhãn 1 thì model dự đoán chính xác 434 bình luận => accuracy = (298+434) / 825 = 0.8872\n",
        "\n",
        "---"
      ]
    },
    {
      "cell_type": "markdown",
      "metadata": {
        "id": "sCTKmLMKLrwR",
        "colab_type": "text"
      },
      "source": [
        "**Model Logistic Rrgression**"
      ]
    },
    {
      "cell_type": "code",
      "metadata": {
        "id": "-LvVBW_xT3_Z",
        "colab_type": "code",
        "colab": {
          "base_uri": "https://localhost:8080/",
          "height": 265
        },
        "outputId": "8ee26775-1bfe-43b4-bbca-f908de619c2b"
      },
      "source": [
        "model=LogisticRegression().fit(X_train,y_train)\n",
        "predict=model.predict(X_test)\n",
        "print('Accuracy: ',accuracy_score(y_test, predict))\n",
        "print('Classification report: \\n',classification_report(y_test,predict))\n",
        "print('Confusion matrix: \\n',confusion_matrix(y_test,predict))"
      ],
      "execution_count": null,
      "outputs": [
        {
          "output_type": "stream",
          "text": [
            "Accuracy:  0.9357575757575758\n",
            "Classification report: \n",
            "               precision    recall  f1-score   support\n",
            "\n",
            "           0       0.94      0.91      0.92       347\n",
            "           1       0.93      0.96      0.95       478\n",
            "\n",
            "    accuracy                           0.94       825\n",
            "   macro avg       0.94      0.93      0.93       825\n",
            "weighted avg       0.94      0.94      0.94       825\n",
            "\n",
            "Confusion matrix: \n",
            " [[315  32]\n",
            " [ 21 457]]\n"
          ],
          "name": "stdout"
        }
      ]
    },
    {
      "cell_type": "markdown",
      "metadata": {
        "id": "OLefxKkJM-IC",
        "colab_type": "text"
      },
      "source": [
        "*Accuracy*: 93,57% là độ chính xác và được tính là số lượng bình luận dự đoán đúng / tổng số bình luận đem dự đoán.\n",
        "\n",
        "*Classification report*: trong tập test có 347 bình luận nhãn 0, 478 bình luận nhãn 1. Trong đó f1-score của nhãn 0 và 1 tương ứng là 92% và 95% với\n",
        "\n",
        "Và f1-score trung bình theo cách tính weighted avg (có nhân với tỷ lệ của số lượng nhãn) là 0.94 với (0.94= 0.92.(347/825)+0.95.(478/825))\n",
        "\n",
        "*Confsusion matrix*: Trong 347 bình luận nhãn 0 thì model dự đoán chính xác 315 bình luận và 478 bình luận nhãn 1 thì model dự đoán chính xác 457 bình luận => accuracy = (315+457) / 825 = 0,9357\n",
        "\n",
        "---"
      ]
    },
    {
      "cell_type": "markdown",
      "metadata": {
        "id": "8vnY2fslNmLB",
        "colab_type": "text"
      },
      "source": [
        "Vậy trong 5 model thử với phương pháp tách câu theo dấu cách công với phương pháp  CountVectorizer thì model Random Forest thu được độ chính xác cao nhất với accuracy= 0.9418 và f1 là 0.94"
      ]
    },
    {
      "cell_type": "markdown",
      "metadata": {
        "id": "PRaGqLHgLeRM",
        "colab_type": "text"
      },
      "source": [
        "### Pyvi"
      ]
    },
    {
      "cell_type": "markdown",
      "metadata": {
        "id": "bvxMo-TyN1Mo",
        "colab_type": "text"
      },
      "source": [
        "Tuy nhiên trong Tiếng việt thì các từ không chỉ gồm một tiếng mà có thể gồm nhiều tiếng như từ khách sạn, nhân viên nên có một phương pháp tách từ khác được thử, đó là Pyvi."
      ]
    },
    {
      "cell_type": "markdown",
      "metadata": {
        "id": "6n51LGceOENV",
        "colab_type": "text"
      },
      "source": [
        "Chỉnh sửa các bình luận với hai hàm được cài đặt sẵn đó là standarize và Token (2 hàm đã được miêu tả bên trên)"
      ]
    },
    {
      "cell_type": "code",
      "metadata": {
        "id": "hUWhfCRWY3tp",
        "colab_type": "code",
        "colab": {
          "base_uri": "https://localhost:8080/",
          "height": 421
        },
        "outputId": "665cb131-7140-4bb4-f957-4beb9f237fb3"
      },
      "source": [
        "df['text'] = df['text'].apply(standardize_data)\n",
        "df['text'] = df['text'].apply(Token)\n",
        "df"
      ],
      "execution_count": null,
      "outputs": [
        {
          "output_type": "execute_result",
          "data": {
            "text/html": [
              "<div>\n",
              "<style scoped>\n",
              "    .dataframe tbody tr th:only-of-type {\n",
              "        vertical-align: middle;\n",
              "    }\n",
              "\n",
              "    .dataframe tbody tr th {\n",
              "        vertical-align: top;\n",
              "    }\n",
              "\n",
              "    .dataframe thead th {\n",
              "        text-align: right;\n",
              "    }\n",
              "</style>\n",
              "<table border=\"1\" class=\"dataframe\">\n",
              "  <thead>\n",
              "    <tr style=\"text-align: right;\">\n",
              "      <th></th>\n",
              "      <th>text</th>\n",
              "      <th>label</th>\n",
              "    </tr>\n",
              "  </thead>\n",
              "  <tbody>\n",
              "    <tr>\n",
              "      <th>0</th>\n",
              "      <td>không có chào_đón như trong giới_thiệu</td>\n",
              "      <td>0</td>\n",
              "    </tr>\n",
              "    <tr>\n",
              "      <th>1</th>\n",
              "      <td>lựa_chọn tốt cho du_lịch nhóm gia_đình</td>\n",
              "      <td>1</td>\n",
              "    </tr>\n",
              "    <tr>\n",
              "      <th>2</th>\n",
              "      <td>phòng yên_tĩnh dù sát mặt_đường lớn sạch_sẽ</td>\n",
              "      <td>1</td>\n",
              "    </tr>\n",
              "    <tr>\n",
              "      <th>3</th>\n",
              "      <td>phòng sạch đẹp</td>\n",
              "      <td>1</td>\n",
              "    </tr>\n",
              "    <tr>\n",
              "      <th>4</th>\n",
              "      <td>khách_sạn sạch_sẽ gần biển gần siêu_thị lotte ...</td>\n",
              "      <td>1</td>\n",
              "    </tr>\n",
              "    <tr>\n",
              "      <th>...</th>\n",
              "      <td>...</td>\n",
              "      <td>...</td>\n",
              "    </tr>\n",
              "    <tr>\n",
              "      <th>4119</th>\n",
              "      <td>thôi_thì treo biển không nhận khách đi oto cho...</td>\n",
              "      <td>0</td>\n",
              "    </tr>\n",
              "    <tr>\n",
              "      <th>4120</th>\n",
              "      <td>12 giờ đêm về thì khách_sạn tối hin</td>\n",
              "      <td>0</td>\n",
              "    </tr>\n",
              "    <tr>\n",
              "      <th>4121</th>\n",
              "      <td>nói 3 sao thì hơi quá</td>\n",
              "      <td>0</td>\n",
              "    </tr>\n",
              "    <tr>\n",
              "      <th>4122</th>\n",
              "      <td>thua khách_sạn mình ở nha trang vẫn 3 sao</td>\n",
              "      <td>0</td>\n",
              "    </tr>\n",
              "    <tr>\n",
              "      <th>4123</th>\n",
              "      <td>vẫn nằm ở trục đường chính một chiều đông ngẹt...</td>\n",
              "      <td>0</td>\n",
              "    </tr>\n",
              "  </tbody>\n",
              "</table>\n",
              "<p>4124 rows × 2 columns</p>\n",
              "</div>"
            ],
            "text/plain": [
              "                                                   text  label\n",
              "0                không có chào_đón như trong giới_thiệu      0\n",
              "1                lựa_chọn tốt cho du_lịch nhóm gia_đình      1\n",
              "2           phòng yên_tĩnh dù sát mặt_đường lớn sạch_sẽ      1\n",
              "3                                        phòng sạch đẹp      1\n",
              "4     khách_sạn sạch_sẽ gần biển gần siêu_thị lotte ...      1\n",
              "...                                                 ...    ...\n",
              "4119  thôi_thì treo biển không nhận khách đi oto cho...      0\n",
              "4120                12 giờ đêm về thì khách_sạn tối hin      0\n",
              "4121                              nói 3 sao thì hơi quá      0\n",
              "4122          thua khách_sạn mình ở nha trang vẫn 3 sao      0\n",
              "4123  vẫn nằm ở trục đường chính một chiều đông ngẹt...      0\n",
              "\n",
              "[4124 rows x 2 columns]"
            ]
          },
          "metadata": {
            "tags": []
          },
          "execution_count": 313
        }
      ]
    },
    {
      "cell_type": "markdown",
      "metadata": {
        "id": "EyCW2iLqORge",
        "colab_type": "text"
      },
      "source": [
        "Sau khi chỉnh sẳ qua 2 hàm thì bộ dữ liệu thu được như trên."
      ]
    },
    {
      "cell_type": "markdown",
      "metadata": {
        "id": "taC11Iz2TNQA",
        "colab_type": "text"
      },
      "source": [
        "Vẫn với 2 kỹ thuật và 5 model được sử dụng như trong phương pháp tách từ theo dấu cách. Gồm có 2 kỹ thuật TF-IDF, CountVectorizer và 5 model: BernoulliNB, LogisticRegresson, SVC, DecisionTree, RandomForest."
      ]
    },
    {
      "cell_type": "markdown",
      "metadata": {
        "id": "kuMo_Fh3gws2",
        "colab_type": "text"
      },
      "source": [
        "#### TF-IDF"
      ]
    },
    {
      "cell_type": "code",
      "metadata": {
        "id": "ugYWJ97IUE4T",
        "colab_type": "code",
        "colab": {}
      },
      "source": [
        "X_tr, X_t, y_train, y_test = train_test_split(df['text'], df['label'], test_size=0.2, random_state=0)"
      ],
      "execution_count": null,
      "outputs": []
    },
    {
      "cell_type": "code",
      "metadata": {
        "id": "rm_4DUrIUQUr",
        "colab_type": "code",
        "colab": {
          "base_uri": "https://localhost:8080/",
          "height": 230
        },
        "outputId": "faec6277-c717-46d9-fa93-b943ed4cfb52"
      },
      "source": [
        "X_tr"
      ],
      "execution_count": null,
      "outputs": [
        {
          "output_type": "execute_result",
          "data": {
            "text/plain": [
              "3462    chỗ chờ không có quạt nên hơi ngộp và giường c...\n",
              "866     mọi thứ đều ổn vệ_sinh có vẻ chưa tốt lắm vẫn ...\n",
              "2058                                 nhân_viên thân_thiện\n",
              "3908    những chi_tiết nhỏ đó có rơi xuống đất thì nó ...\n",
              "3267    mình mướn phòng vào ngày mưa trần nhà bị dột k...\n",
              "                              ...                        \n",
              "1033    giá hơi cao nhưng được cái phòng đẹp và vị_trí...\n",
              "3264             nhân_viên nói_chuyện trỗng thiếu văn_hóa\n",
              "1653            đây là lần 2 tôi đặt phòng tại white sand\n",
              "2607    tôi đã từng ở adaline hồi khách_sạn mới mở ấn_...\n",
              "2732    mọi thứ đều mini trừ giá_cả giao phòng không n...\n",
              "Name: text, Length: 3299, dtype: object"
            ]
          },
          "metadata": {
            "tags": []
          },
          "execution_count": 360
        }
      ]
    },
    {
      "cell_type": "code",
      "metadata": {
        "id": "qxXFDLnrUR4t",
        "colab_type": "code",
        "colab": {
          "base_uri": "https://localhost:8080/",
          "height": 230
        },
        "outputId": "5ef55732-3a9e-4f12-c65c-3779b7875d14"
      },
      "source": [
        "X_t"
      ],
      "execution_count": null,
      "outputs": [
        {
          "output_type": "execute_result",
          "data": {
            "text/plain": [
              "1065       phòng đẹp buffe sáng ngon nhân_viên thân_thiện\n",
              "45      nhân_viên phục_vụ ăn sáng có thái_độ tôi xuống...\n",
              "2411             phòng sạch_sẽ giường rất êm và thoải_mái\n",
              "1280                                   địa_điểm thuận_lợi\n",
              "1784    chúng_tôi ở sanouva 6 ngày the complimentary s...\n",
              "                              ...                        \n",
              "2506                             phòng đẹp rộng và thoáng\n",
              "177                                            phục_vụ tệ\n",
              "50      khách_sạn sạch_sẽ nhân_viên nhiệt_tình gần tru...\n",
              "64              vòi_sen phòng mình bị hư và chảy rất chậm\n",
              "1507    đặc_biệt các bạn nhân_viên ở đây thân_thiện ch...\n",
              "Name: text, Length: 825, dtype: object"
            ]
          },
          "metadata": {
            "tags": []
          },
          "execution_count": 361
        }
      ]
    },
    {
      "cell_type": "markdown",
      "metadata": {
        "id": "EkFyOXEQUgIl",
        "colab_type": "text"
      },
      "source": [
        "Nhờ thông số random_state=0 mà tập train/ test được tạo ra sau giống với tập train/ test ban đầu nên việc so sánh các model cũng chính xác hơn."
      ]
    },
    {
      "cell_type": "code",
      "metadata": {
        "id": "yg9joCotY3uP",
        "colab_type": "code",
        "colab": {}
      },
      "source": [
        "emb=TfidfVectorizer().fit(df['text'])"
      ],
      "execution_count": null,
      "outputs": []
    },
    {
      "cell_type": "code",
      "metadata": {
        "id": "r8b291aIY3ud",
        "colab_type": "code",
        "colab": {
          "base_uri": "https://localhost:8080/",
          "height": 34
        },
        "outputId": "8d5fdc44-69d2-44e7-805e-9c148fcdacfd"
      },
      "source": [
        "joblib.dump(emb, '/content/drive/My Drive/Colab Notebooks/ML/DoAnCuoiKy/tfidf_pyvi.pkl')"
      ],
      "execution_count": null,
      "outputs": [
        {
          "output_type": "execute_result",
          "data": {
            "text/plain": [
              "['/content/drive/My Drive/Colab Notebooks/ML/DoAnCuoiKy/tfidf_pyvi.pkl']"
            ]
          },
          "metadata": {
            "tags": []
          },
          "execution_count": 363
        }
      ]
    },
    {
      "cell_type": "markdown",
      "metadata": {
        "id": "YJjZyCRqVKEY",
        "colab_type": "text"
      },
      "source": [
        "emb sau khi được fit với dữ liệu được lưu trữ lại và sử dụng sau."
      ]
    },
    {
      "cell_type": "code",
      "metadata": {
        "id": "SyvgwZ_M6CoT",
        "colab_type": "code",
        "colab": {}
      },
      "source": [
        "X_train=emb.transform(X_tr)\n",
        "X_test=emb.transform(X_t)"
      ],
      "execution_count": null,
      "outputs": []
    },
    {
      "cell_type": "markdown",
      "metadata": {
        "id": "v1P_ADtOVQh3",
        "colab_type": "text"
      },
      "source": [
        "X_tr, X_t sẽ được biến đổi thành tập các vector đặc trưng với mỗi vector đại diện cho một bình luận."
      ]
    },
    {
      "cell_type": "code",
      "metadata": {
        "id": "Ue0dPw9MY3uo",
        "colab_type": "code",
        "colab": {
          "base_uri": "https://localhost:8080/",
          "height": 52
        },
        "outputId": "8754a7cd-5998-4bd5-956a-bd93e3e3f067"
      },
      "source": [
        "X_train"
      ],
      "execution_count": null,
      "outputs": [
        {
          "output_type": "execute_result",
          "data": {
            "text/plain": [
              "<3299x3212 sparse matrix of type '<class 'numpy.float64'>'\n",
              "\twith 34429 stored elements in Compressed Sparse Row format>"
            ]
          },
          "metadata": {
            "tags": []
          },
          "execution_count": 365
        }
      ]
    },
    {
      "cell_type": "markdown",
      "metadata": {
        "id": "HF8SJxRAVkI5",
        "colab_type": "text"
      },
      "source": [
        "Ví dụ: tập train gồm 3299 bình luận sẽ được chuyển về 3299 vector với mỗi vector là 3212 phần tử tương ứng túi từ vựng có 3212 từ vựng."
      ]
    },
    {
      "cell_type": "markdown",
      "metadata": {
        "id": "qPnufbjAWjB8",
        "colab_type": "text"
      },
      "source": [
        "***Thử với 5 model***"
      ]
    },
    {
      "cell_type": "markdown",
      "metadata": {
        "id": "SNx-X8L4WonE",
        "colab_type": "text"
      },
      "source": [
        "**Model BernoulliNB**"
      ]
    },
    {
      "cell_type": "code",
      "metadata": {
        "id": "ym9Bcc6sY3uu",
        "colab_type": "code",
        "colab": {
          "base_uri": "https://localhost:8080/",
          "height": 265
        },
        "outputId": "08618224-f149-4abc-a91d-0b8e93ceee7e"
      },
      "source": [
        "model=BernoulliNB()\n",
        "model.fit(X_train,y_train)\n",
        "predict=model.predict(X_test)\n",
        "print('Accuracy: ',accuracy_score(y_test, predict))\n",
        "print('Classification report: \\n',classification_report(y_test, predict))\n",
        "print('Confusion matrix: \\n',confusion_matrix(y_test, predict))"
      ],
      "execution_count": null,
      "outputs": [
        {
          "output_type": "stream",
          "text": [
            "Accuracy:  0.8884848484848484\n",
            "Classification report: \n",
            "               precision    recall  f1-score   support\n",
            "\n",
            "           0       0.92      0.81      0.86       347\n",
            "           1       0.87      0.95      0.91       478\n",
            "\n",
            "    accuracy                           0.89       825\n",
            "   macro avg       0.89      0.88      0.88       825\n",
            "weighted avg       0.89      0.89      0.89       825\n",
            "\n",
            "Confusion matrix: \n",
            " [[280  67]\n",
            " [ 25 453]]\n"
          ],
          "name": "stdout"
        }
      ]
    },
    {
      "cell_type": "markdown",
      "metadata": {
        "id": "TRvbpg0jYoHb",
        "colab_type": "text"
      },
      "source": [
        "*Accuracy*: 88,85% là độ chính xác và được tính là số lượng bình luận dự đoán đúng / tổng số bình luận đem dự đoán.\n",
        "\n",
        "*Classification report*: trong tập test có 347 bình luận nhãn 0, 478 bình luận nhãn 1. Trong đó f1-score của nhãn 0 và 1 tương ứng là 86% và 91% với\n",
        "\n",
        "Và f1-score trung bình theo cách tính weighted avg (có nhân với tỷ lệ của số lượng nhãn) là 0.89 với (0.89= 0.86.(347/825)+0.91.(478/825))\n",
        "\n",
        "*Confsusion matrix*: Trong 347 bình luận nhãn 0 thì model dự đoán chính xác 280 bình luận và 478 bình luận nhãn 1 thì model dự đoán chính xác 453 bình luận => accuracy = (280+453) / 825 = 0,8885\n",
        "\n",
        "---"
      ]
    },
    {
      "cell_type": "markdown",
      "metadata": {
        "id": "_IfnRDgpZD_0",
        "colab_type": "text"
      },
      "source": [
        "**Model Logistic Regression**"
      ]
    },
    {
      "cell_type": "code",
      "metadata": {
        "id": "a_e0jDtwY3vQ",
        "colab_type": "code",
        "colab": {
          "base_uri": "https://localhost:8080/",
          "height": 265
        },
        "outputId": "7a8325c2-913e-45fa-f929-2dfbadc98bdc"
      },
      "source": [
        "model=LogisticRegression()\n",
        "model.fit(X_train,y_train)\n",
        "predict=model.predict(X_test)\n",
        "print('Accuracy: ',accuracy_score(y_test, predict))\n",
        "print('Classification report: \\n',classification_report(y_test,predict))\n",
        "print('Confusion matrix: \\n',confusion_matrix(y_test,predict))"
      ],
      "execution_count": null,
      "outputs": [
        {
          "output_type": "stream",
          "text": [
            "Accuracy:  0.9466666666666667\n",
            "Classification report: \n",
            "               precision    recall  f1-score   support\n",
            "\n",
            "           0       0.93      0.94      0.94       347\n",
            "           1       0.96      0.95      0.95       478\n",
            "\n",
            "    accuracy                           0.95       825\n",
            "   macro avg       0.94      0.95      0.95       825\n",
            "weighted avg       0.95      0.95      0.95       825\n",
            "\n",
            "Confusion matrix: \n",
            " [[327  20]\n",
            " [ 24 454]]\n"
          ],
          "name": "stdout"
        }
      ]
    },
    {
      "cell_type": "markdown",
      "metadata": {
        "id": "gciy0NjWZSXL",
        "colab_type": "text"
      },
      "source": [
        "*Accuracy*: 94,67% là độ chính xác và được tính là số lượng bình luận dự đoán đúng / tổng số bình luận đem dự đoán.\n",
        "\n",
        "*Classification report*: trong tập test có 347 bình luận nhãn 0, 478 bình luận nhãn 1. Trong đó f1-score của nhãn 0 và 1 tương ứng là 94% và 95% với\n",
        "\n",
        "Và f1-score trung bình theo cách tính weighted avg (có nhân với tỷ lệ của số lượng nhãn) là 0.95 với (0.95= 0.94.(347/825)+0.95.(478/825))\n",
        "\n",
        "*Confsusion matrix*: Trong 347 bình luận nhãn 0 thì model dự đoán chính xác 327 bình luận và 478 bình luận nhãn 1 thì model dự đoán chính xác 454 bình luận => accuracy = (327+454) / 825 = 0,9467\n",
        "\n",
        "---"
      ]
    },
    {
      "cell_type": "markdown",
      "metadata": {
        "id": "cqPTW5J_ZpfV",
        "colab_type": "text"
      },
      "source": [
        "**Model SVC**"
      ]
    },
    {
      "cell_type": "code",
      "metadata": {
        "id": "YwHOlsTeY3vY",
        "colab_type": "code",
        "colab": {
          "base_uri": "https://localhost:8080/",
          "height": 265
        },
        "outputId": "85aa0bd3-8eb9-451e-b609-2982fca56edb"
      },
      "source": [
        "model=SVC().fit(X_train,y_train)\n",
        "predict=model.predict(X_test)\n",
        "print('Accuracy: ',accuracy_score(y_test, predict))\n",
        "print('Classification report: \\n',classification_report(y_test,predict))\n",
        "print('Confusion matrix: \\n',confusion_matrix(y_test,predict))"
      ],
      "execution_count": null,
      "outputs": [
        {
          "output_type": "stream",
          "text": [
            "Accuracy:  0.9551515151515152\n",
            "Classification report: \n",
            "               precision    recall  f1-score   support\n",
            "\n",
            "           0       0.94      0.96      0.95       347\n",
            "           1       0.97      0.95      0.96       478\n",
            "\n",
            "    accuracy                           0.96       825\n",
            "   macro avg       0.95      0.96      0.95       825\n",
            "weighted avg       0.96      0.96      0.96       825\n",
            "\n",
            "Confusion matrix: \n",
            " [[333  14]\n",
            " [ 23 455]]\n"
          ],
          "name": "stdout"
        }
      ]
    },
    {
      "cell_type": "markdown",
      "metadata": {
        "id": "iteb-ysencuw",
        "colab_type": "text"
      },
      "source": [
        "*Accuracy*: 95,51% là độ chính xác và được tính là số lượng bình luận dự đoán đúng / tổng số bình luận đem dự đoán.\n",
        "\n",
        "*Classification report*: trong tập test có 347 bình luận nhãn 0, 478 bình luận nhãn 1. Trong đó f1-score của nhãn 0 và 1 tương ứng là 95% và 96% với\n",
        "\n",
        "Và f1-score trung bình theo cách tính weighted avg (có nhân với tỷ lệ của số lượng nhãn) là 0.96 với (0.96= 0.95.(347/825)+0.96.(478/825))\n",
        "\n",
        "*Confsusion matrix*: Trong 347 bình luận nhãn 0 thì model dự đoán chính xác 333 bình luận và 478 bình luận nhãn 1 thì model dự đoán chính xác 455 bình luận => accuracy = (333+455) / 825 = 0,9551\n",
        "\n",
        "---"
      ]
    },
    {
      "cell_type": "code",
      "metadata": {
        "id": "Ux9o5D_P2KNv",
        "colab_type": "code",
        "colab": {
          "base_uri": "https://localhost:8080/",
          "height": 87
        },
        "outputId": "af8c9b10-e87c-4bf4-c65c-2674747093ab"
      },
      "source": [
        "model"
      ],
      "execution_count": null,
      "outputs": [
        {
          "output_type": "execute_result",
          "data": {
            "text/plain": [
              "SVC(C=1.0, break_ties=False, cache_size=200, class_weight=None, coef0=0.0,\n",
              "    decision_function_shape='ovr', degree=3, gamma='scale', kernel='rbf',\n",
              "    max_iter=-1, probability=False, random_state=None, shrinking=True,\n",
              "    tol=0.001, verbose=False)"
            ]
          },
          "metadata": {
            "tags": []
          },
          "execution_count": 372
        }
      ]
    },
    {
      "cell_type": "code",
      "metadata": {
        "id": "mIgrwBZtpwcG",
        "colab_type": "code",
        "colab": {
          "base_uri": "https://localhost:8080/",
          "height": 34
        },
        "outputId": "541c6c38-57a7-4ffc-e734-4220fe4f3ca4"
      },
      "source": [
        "filename = '/content/drive/My Drive/Colab Notebooks/ML/DoAnCuoiKy/model_SVC.sav'\n",
        "joblib.dump(model, filename)"
      ],
      "execution_count": null,
      "outputs": [
        {
          "output_type": "execute_result",
          "data": {
            "text/plain": [
              "['/content/drive/My Drive/Colab Notebooks/ML/DoAnCuoiKy/model_SVC.sav']"
            ]
          },
          "metadata": {
            "tags": []
          },
          "execution_count": 327
        }
      ]
    },
    {
      "cell_type": "markdown",
      "metadata": {
        "id": "RH-YT6j2p_eu",
        "colab_type": "text"
      },
      "source": [
        "Do sau khi phân tích tất cả thì đây là model có độ chính xác cao nhất nên được lưu lại và sử dụng để predict sau."
      ]
    },
    {
      "cell_type": "markdown",
      "metadata": {
        "id": "fOP9kkFqn9x7",
        "colab_type": "text"
      },
      "source": [
        "**Model Random Forest**"
      ]
    },
    {
      "cell_type": "code",
      "metadata": {
        "scrolled": true,
        "id": "cp00uQE0Y3vf",
        "colab_type": "code",
        "colab": {
          "base_uri": "https://localhost:8080/",
          "height": 265
        },
        "outputId": "c216d0fd-b2ec-40d9-c471-875c7c84a92a"
      },
      "source": [
        "model=RandomForestClassifier().fit(X_train,y_train)\n",
        "predict=model.predict(X_test)\n",
        "print('Accuracy: ',accuracy_score(y_test, predict))\n",
        "print('Classification report: \\n',classification_report(y_test,predict))\n",
        "print('Confusion matrix: \\n',confusion_matrix(y_test,predict))"
      ],
      "execution_count": null,
      "outputs": [
        {
          "output_type": "stream",
          "text": [
            "Accuracy:  0.9466666666666667\n",
            "Classification report: \n",
            "               precision    recall  f1-score   support\n",
            "\n",
            "           0       0.92      0.95      0.94       347\n",
            "           1       0.96      0.94      0.95       478\n",
            "\n",
            "    accuracy                           0.95       825\n",
            "   macro avg       0.94      0.95      0.95       825\n",
            "weighted avg       0.95      0.95      0.95       825\n",
            "\n",
            "Confusion matrix: \n",
            " [[330  17]\n",
            " [ 27 451]]\n"
          ],
          "name": "stdout"
        }
      ]
    },
    {
      "cell_type": "markdown",
      "metadata": {
        "id": "ENEi1H6invKn",
        "colab_type": "text"
      },
      "source": [
        "*Accuracy*: 94,67% là độ chính xác và được tính là số lượng bình luận dự đoán đúng / tổng số bình luận đem dự đoán.\n",
        "\n",
        "*Classification report*: trong tập test có 347 bình luận nhãn 0, 478 bình luận nhãn 1. Trong đó f1-score của nhãn 0 và 1 tương ứng là 94% và 95% với\n",
        "\n",
        "Và f1-score trung bình theo cách tính weighted avg (có nhân với tỷ lệ của số lượng nhãn) là 0.95 với (0.95= 0.94.(347/825)+0.95.(478/825))\n",
        "\n",
        "*Confsusion matrix*: Trong 347 bình luận nhãn 0 thì model dự đoán chính xác 330 bình luận và 478 bình luận nhãn 1 thì model dự đoán chính xác 451 bình luận => accuracy = (330+451) / 825 = 0,9467\n",
        "\n",
        "---"
      ]
    },
    {
      "cell_type": "markdown",
      "metadata": {
        "id": "ORONYR3CoGFv",
        "colab_type": "text"
      },
      "source": [
        "**Model Decision Tree**"
      ]
    },
    {
      "cell_type": "code",
      "metadata": {
        "id": "0C-HMEipY3vm",
        "colab_type": "code",
        "colab": {
          "base_uri": "https://localhost:8080/",
          "height": 265
        },
        "outputId": "7acedfc0-bad7-4e3c-ea00-8ce2752d9a5a"
      },
      "source": [
        "model=DecisionTreeClassifier().fit(X_train,y_train)\n",
        "predict=model.predict(X_test)\n",
        "print('Accuracy: ',accuracy_score(y_test, predict))\n",
        "print('Classification report: \\n',classification_report(y_test,predict))\n",
        "print('Confusion matrix: \\n',confusion_matrix(y_test,predict))"
      ],
      "execution_count": null,
      "outputs": [
        {
          "output_type": "stream",
          "text": [
            "Accuracy:  0.8945454545454545\n",
            "Classification report: \n",
            "               precision    recall  f1-score   support\n",
            "\n",
            "           0       0.89      0.85      0.87       347\n",
            "           1       0.89      0.93      0.91       478\n",
            "\n",
            "    accuracy                           0.89       825\n",
            "   macro avg       0.89      0.89      0.89       825\n",
            "weighted avg       0.89      0.89      0.89       825\n",
            "\n",
            "Confusion matrix: \n",
            " [[295  52]\n",
            " [ 35 443]]\n"
          ],
          "name": "stdout"
        }
      ]
    },
    {
      "cell_type": "markdown",
      "metadata": {
        "id": "3nHRUbw8oKGj",
        "colab_type": "text"
      },
      "source": [
        "*Accuracy*: 89,45% là độ chính xác và được tính là số lượng bình luận dự đoán đúng / tổng số bình luận đem dự đoán.\n",
        "\n",
        "*Classification report*: trong tập test có 347 bình luận nhãn 0, 478 bình luận nhãn 1. Trong đó f1-score của nhãn 0 và 1 tương ứng là 87% và 91% với\n",
        "\n",
        "Và f1-score trung bình theo cách tính weighted avg (có nhân với tỷ lệ của số lượng nhãn) là 0.89 với (0.89= 0.87.(347/825)+0.91.(478/825))\n",
        "\n",
        "*Confsusion matrix*: Trong 347 bình luận nhãn 0 thì model dự đoán chính xác 295 bình luận và 478 bình luận nhãn 1 thì model dự đoán chính xác 443 bình luận => accuracy = (295+443) / 825 = 0,8945\n",
        "\n",
        "---"
      ]
    },
    {
      "cell_type": "markdown",
      "metadata": {
        "id": "YWMIgLDDocVH",
        "colab_type": "text"
      },
      "source": [
        "Trong phương pháp tách từ theo Pyvi và phương pháp TF-IDF thì model SVC thu được độ chính xác cao nhất với accuracy 95,51% và f1 là 96%."
      ]
    },
    {
      "cell_type": "markdown",
      "metadata": {
        "id": "ZVARGUArg3yt",
        "colab_type": "text"
      },
      "source": [
        "#### CountVecterizer"
      ]
    },
    {
      "cell_type": "markdown",
      "metadata": {
        "id": "7yMXMcjpowCw",
        "colab_type": "text"
      },
      "source": [
        "Tiếp tục thực hiện biến đổi các bình luận thành các vector đặc trưng theo phương pháp countvectorizer (được miêu tả bên trên)"
      ]
    },
    {
      "cell_type": "code",
      "metadata": {
        "id": "n63hYbiMh8Kn",
        "colab_type": "code",
        "colab": {}
      },
      "source": [
        "emb=CountVectorizer().fit(df['text'])\n",
        "\n",
        "X_train=emb.transform(X_tr)\n",
        "X_test=emb.transform(X_t)"
      ],
      "execution_count": null,
      "outputs": []
    },
    {
      "cell_type": "code",
      "metadata": {
        "id": "LY5AmX-imztv",
        "colab_type": "code",
        "colab": {
          "base_uri": "https://localhost:8080/",
          "height": 34
        },
        "outputId": "2f4dfad7-9ba5-44ee-cdba-5037e874174d"
      },
      "source": [
        "joblib.dump(emb, '/content/drive/My Drive/Colab Notebooks/ML/DoAnCuoiKy/Count_pyvi.pkl')"
      ],
      "execution_count": null,
      "outputs": [
        {
          "output_type": "execute_result",
          "data": {
            "text/plain": [
              "['/content/drive/My Drive/Colab Notebooks/ML/DoAnCuoiKy/Count_pyvi.pkl']"
            ]
          },
          "metadata": {
            "tags": []
          },
          "execution_count": 330
        }
      ]
    },
    {
      "cell_type": "markdown",
      "metadata": {
        "id": "NznhmxByqden",
        "colab_type": "text"
      },
      "source": [
        "Làm tương tự các phần trên và vẫn với 5 model cũ."
      ]
    },
    {
      "cell_type": "markdown",
      "metadata": {
        "id": "69TNOdUXqkrV",
        "colab_type": "text"
      },
      "source": [
        "**Model BernoulliNB**"
      ]
    },
    {
      "cell_type": "code",
      "metadata": {
        "id": "nbNchHBflvZQ",
        "colab_type": "code",
        "colab": {
          "base_uri": "https://localhost:8080/",
          "height": 265
        },
        "outputId": "57f186e1-065d-4909-850e-7d3cd122e189"
      },
      "source": [
        "model=BernoulliNB().fit(X_train,y_train)\n",
        "predict=model.predict(X_test)\n",
        "print('Accuracy: ',accuracy_score(y_test, predict))\n",
        "print('Classification report: \\n',classification_report(y_test,predict))\n",
        "print('Confusion matrix: \\n',confusion_matrix(y_test,predict))"
      ],
      "execution_count": null,
      "outputs": [
        {
          "output_type": "stream",
          "text": [
            "Accuracy:  0.8884848484848484\n",
            "Classification report: \n",
            "               precision    recall  f1-score   support\n",
            "\n",
            "           0       0.92      0.81      0.86       347\n",
            "           1       0.87      0.95      0.91       478\n",
            "\n",
            "    accuracy                           0.89       825\n",
            "   macro avg       0.89      0.88      0.88       825\n",
            "weighted avg       0.89      0.89      0.89       825\n",
            "\n",
            "Confusion matrix: \n",
            " [[280  67]\n",
            " [ 25 453]]\n"
          ],
          "name": "stdout"
        }
      ]
    },
    {
      "cell_type": "markdown",
      "metadata": {
        "id": "ZcQmKUQBqtKe",
        "colab_type": "text"
      },
      "source": [
        "*Accuracy*: 88,85% là độ chính xác và được tính là số lượng bình luận dự đoán đúng / tổng số bình luận đem dự đoán.\n",
        "\n",
        "*Classification report*: trong tập test có 347 bình luận nhãn 0, 478 bình luận nhãn 1. Trong đó f1-score của nhãn 0 và 1 tương ứng là 86% và 91% với\n",
        "\n",
        "Và f1-score trung bình theo cách tính weighted avg (có nhân với tỷ lệ của số lượng nhãn) là 0.89 với (0.89= 0.86.(347/825)+0.91.(478/825))\n",
        "\n",
        "*Confsusion matrix*: Trong 347 bình luận nhãn 0 thì model dự đoán chính xác 270 bình luận và 478 bình luận nhãn 1 thì model dự đoán chính xác 453 bình luận => accuracy = (270+453) / 825 = 0,8885\n",
        "\n",
        "---"
      ]
    },
    {
      "cell_type": "markdown",
      "metadata": {
        "id": "O9JUJMjsrEpx",
        "colab_type": "text"
      },
      "source": [
        "**Model LogisticRegression**"
      ]
    },
    {
      "cell_type": "code",
      "metadata": {
        "id": "OzNpo7lumMJz",
        "colab_type": "code",
        "colab": {
          "base_uri": "https://localhost:8080/",
          "height": 265
        },
        "outputId": "d369da89-2819-4c74-f8c4-4f0b59a2dc7d"
      },
      "source": [
        "model=LogisticRegression()\n",
        "model.fit(X_train,y_train)\n",
        "predict=model.predict(X_test)\n",
        "print('Accuracy: ',accuracy_score(y_test, predict))\n",
        "print('Classification report: \\n',classification_report(y_test,predict))\n",
        "print('Confusion matrix: \\n',confusion_matrix(y_test,predict))"
      ],
      "execution_count": null,
      "outputs": [
        {
          "output_type": "stream",
          "text": [
            "Accuracy:  0.9454545454545454\n",
            "Classification report: \n",
            "               precision    recall  f1-score   support\n",
            "\n",
            "           0       0.94      0.93      0.93       347\n",
            "           1       0.95      0.96      0.95       478\n",
            "\n",
            "    accuracy                           0.95       825\n",
            "   macro avg       0.94      0.94      0.94       825\n",
            "weighted avg       0.95      0.95      0.95       825\n",
            "\n",
            "Confusion matrix: \n",
            " [[323  24]\n",
            " [ 21 457]]\n"
          ],
          "name": "stdout"
        }
      ]
    },
    {
      "cell_type": "markdown",
      "metadata": {
        "id": "i17nNfacrJGg",
        "colab_type": "text"
      },
      "source": [
        "*Accuracy*: 94,54% là độ chính xác và được tính là số lượng bình luận dự đoán đúng / tổng số bình luận đem dự đoán.\n",
        "\n",
        "*Classification report*: trong tập test có 347 bình luận nhãn 0, 478 bình luận nhãn 1. Trong đó f1-score của nhãn 0 và 1 tương ứng là 93% và 95% với\n",
        "\n",
        "Và f1-score trung bình theo cách tính weighted avg (có nhân với tỷ lệ của số lượng nhãn) là 0.95 với (0.95= 0.93.(347/825)+0.95.(478/825))\n",
        "\n",
        "*Confsusion matrix*: Trong 347 bình luận nhãn 0 thì model dự đoán chính xác 323 bình luận và 478 bình luận nhãn 1 thì model dự đoán chính xác 457 bình luận => accuracy = (323+457) / 825 = 0,9454\n",
        "\n",
        "---"
      ]
    },
    {
      "cell_type": "markdown",
      "metadata": {
        "id": "e7Ut68ofrxje",
        "colab_type": "text"
      },
      "source": [
        "**Model SVC**"
      ]
    },
    {
      "cell_type": "code",
      "metadata": {
        "id": "Erpc1jfCmbYV",
        "colab_type": "code",
        "colab": {
          "base_uri": "https://localhost:8080/",
          "height": 265
        },
        "outputId": "e443d4b6-b001-4f8d-f3e8-a6cc4b4ae011"
      },
      "source": [
        "model=SVC().fit(X_train,y_train)\n",
        "predict=model.predict(X_test)\n",
        "print('Accuracy: ',accuracy_score(y_test, predict))\n",
        "print('Classification report:\\n',classification_report(y_test,predict))\n",
        "print('Confusion matrix: \\n',confusion_matrix(y_test,predict))"
      ],
      "execution_count": null,
      "outputs": [
        {
          "output_type": "stream",
          "text": [
            "Accuracy:  0.9406060606060606\n",
            "Classification report:\n",
            "               precision    recall  f1-score   support\n",
            "\n",
            "           0       0.92      0.95      0.93       347\n",
            "           1       0.96      0.94      0.95       478\n",
            "\n",
            "    accuracy                           0.94       825\n",
            "   macro avg       0.94      0.94      0.94       825\n",
            "weighted avg       0.94      0.94      0.94       825\n",
            "\n",
            "Confusion matrix: \n",
            " [[328  19]\n",
            " [ 30 448]]\n"
          ],
          "name": "stdout"
        }
      ]
    },
    {
      "cell_type": "markdown",
      "metadata": {
        "id": "IVZm9D0Fr2wy",
        "colab_type": "text"
      },
      "source": [
        "*Accuracy*: 94,06% là độ chính xác và được tính là số lượng bình luận dự đoán đúng / tổng số bình luận đem dự đoán.\n",
        "\n",
        "*Classification report*: trong tập test có 347 bình luận nhãn 0, 478 bình luận nhãn 1. Trong đó f1-score của nhãn 0 và 1 tương ứng là 93% và 95% với\n",
        "\n",
        "Và f1-score trung bình theo cách tính weighted avg (có nhân với tỷ lệ của số lượng nhãn) là 0.94 với (0.94= 0.93.(347/825)+0.95.(478/825))\n",
        "\n",
        "*Confsusion matrix*: Trong 347 bình luận nhãn 0 thì model dự đoán chính xác 328 bình luận và 478 bình luận nhãn 1 thì model dự đoán chính xác 448 bình luận => accuracy = (328+448) / 825 = 0,9406\n",
        "\n",
        "---"
      ]
    },
    {
      "cell_type": "markdown",
      "metadata": {
        "id": "yegv-tDysBo4",
        "colab_type": "text"
      },
      "source": [
        "**Model Random Forest**"
      ]
    },
    {
      "cell_type": "code",
      "metadata": {
        "id": "PTCUCj2OmjQM",
        "colab_type": "code",
        "colab": {
          "base_uri": "https://localhost:8080/",
          "height": 265
        },
        "outputId": "c28a1a42-0de4-4437-d291-348caa8eb607"
      },
      "source": [
        "model=RandomForestClassifier().fit(X_train,y_train)\n",
        "predict=model.predict(X_test)\n",
        "print('Accuracy: ',accuracy_score(y_test, predict))\n",
        "print('Classification report: \\n',classification_report(y_test,predict))\n",
        "print('Coonfusion matrix: \\n',confusion_matrix(y_test,predict))"
      ],
      "execution_count": null,
      "outputs": [
        {
          "output_type": "stream",
          "text": [
            "Accuracy:  0.9454545454545454\n",
            "Classification report: \n",
            "               precision    recall  f1-score   support\n",
            "\n",
            "           0       0.93      0.94      0.94       347\n",
            "           1       0.96      0.95      0.95       478\n",
            "\n",
            "    accuracy                           0.95       825\n",
            "   macro avg       0.94      0.94      0.94       825\n",
            "weighted avg       0.95      0.95      0.95       825\n",
            "\n",
            "Coonfusion matrix: \n",
            " [[326  21]\n",
            " [ 24 454]]\n"
          ],
          "name": "stdout"
        }
      ]
    },
    {
      "cell_type": "markdown",
      "metadata": {
        "id": "Bsy-8pJnsGDF",
        "colab_type": "text"
      },
      "source": [
        "*Accuracy*: 94,54% là độ chính xác và được tính là số lượng bình luận dự đoán đúng / tổng số bình luận đem dự đoán.\n",
        "\n",
        "*Classification report*: trong tập test có 347 bình luận nhãn 0, 478 bình luận nhãn 1. Trong đó f1-score của nhãn 0 và 1 tương ứng là 94% và 95% với\n",
        "\n",
        "Và f1-score trung bình theo cách tính weighted avg (có nhân với tỷ lệ của số lượng nhãn) là 0.95 với (0.95= 0.94.(347/825)+0.95.(478/825))\n",
        "\n",
        "*Confsusion matrix*: Trong 347 bình luận nhãn 0 thì model dự đoán chính xác 326 bình luận và 478 bình luận nhãn 1 thì model dự đoán chính xác 454 bình luận => accuracy = (326+454) / 825 = 0,9454\n",
        "\n",
        "---"
      ]
    },
    {
      "cell_type": "markdown",
      "metadata": {
        "id": "Ev_dOJkJsflD",
        "colab_type": "text"
      },
      "source": [
        "**Model Decision Tree**"
      ]
    },
    {
      "cell_type": "code",
      "metadata": {
        "id": "wasyNCu6mrG2",
        "colab_type": "code",
        "colab": {
          "base_uri": "https://localhost:8080/",
          "height": 265
        },
        "outputId": "1b4a9ed9-dc52-4eff-c636-5191331d5b51"
      },
      "source": [
        "model=DecisionTreeClassifier().fit(X_train,y_train)\n",
        "predict=model.predict(X_test)\n",
        "print('Accuracy: ',accuracy_score(y_test, predict))\n",
        "print('classification report:\\n',classification_report(y_test,predict))\n",
        "print('Confusion matrix:\\n',confusion_matrix(y_test,predict))"
      ],
      "execution_count": null,
      "outputs": [
        {
          "output_type": "stream",
          "text": [
            "Accuracy:  0.8981818181818182\n",
            "classification report:\n",
            "               precision    recall  f1-score   support\n",
            "\n",
            "           0       0.88      0.87      0.88       347\n",
            "           1       0.91      0.92      0.91       478\n",
            "\n",
            "    accuracy                           0.90       825\n",
            "   macro avg       0.90      0.89      0.90       825\n",
            "weighted avg       0.90      0.90      0.90       825\n",
            "\n",
            "Confusion matrix:\n",
            " [[303  44]\n",
            " [ 40 438]]\n"
          ],
          "name": "stdout"
        }
      ]
    },
    {
      "cell_type": "markdown",
      "metadata": {
        "id": "Bro1Yct-sjC4",
        "colab_type": "text"
      },
      "source": [
        "*Accuracy*: 89,82% là độ chính xác và được tính là số lượng bình luận dự đoán đúng / tổng số bình luận đem dự đoán.\n",
        "\n",
        "*Classification report*: trong tập test có 347 bình luận nhãn 0, 478 bình luận nhãn 1. Trong đó f1-score của nhãn 0 và 1 tương ứng là 88% và 91% với\n",
        "\n",
        "Và f1-score trung bình theo cách tính weighted avg (có nhân với tỷ lệ của số lượng nhãn) là 0.90 với (0.90= 0.88.(347/825)+0.91.(478/825))\n",
        "\n",
        "*Confsusion matrix*: Trong 347 bình luận nhãn 0 thì model dự đoán chính xác 303 bình luận và 478 bình luận nhãn 1 thì model dự đoán chính xác 438 bình luận => accuracy = (303+438) / 825 = 0,8982\n",
        "\n",
        "---"
      ]
    },
    {
      "cell_type": "markdown",
      "metadata": {
        "id": "zznsi9cZs-5v",
        "colab_type": "text"
      },
      "source": [
        "Trong phương pháp tách từ Pyvi và kỹ thuật rút trích đặc trưng Countvectorizer thì cả model LogisticRegression và RandomForest đều cho kết quả bằng nhau và cao nhất với accuracy là 94,54% và f1 là 95%"
      ]
    },
    {
      "cell_type": "markdown",
      "metadata": {
        "id": "-hqJXqaGt0q4",
        "colab_type": "text"
      },
      "source": [
        "##Tổng kết các trường hợp"
      ]
    },
    {
      "cell_type": "markdown",
      "metadata": {
        "id": "AJm6aeiLt-gp",
        "colab_type": "text"
      },
      "source": [
        "Qua 2 loại tách từ (dấu cách và Pyvi) cùng với 2 phương pháp rút trích đặc trưng (TF-IDF và CountVectorizer) thì model có độ chính xác cao nhất là SVC cùng với phương pháp tách từ theo Pyvi và rút trích đặc trưng bởi TF-IDF với độ chính xác là 95,51% và f1 (weighted avg) là 0,96. Và số lượng nhãn dự đoán đúng của model cũng khá cao với 333/347 bình luận nhãn 0 và 455/478 bình luận nhãn 1. Và đây là model được lựa chọn và được sử dụng cho phần demo.\n",
        "\n",
        " ![alt text](https://github.com/ThuanPhong0126/CS114.K21/raw/master/Project/acc_svc.png)"
      ]
    },
    {
      "cell_type": "markdown",
      "metadata": {
        "id": "ya9AEacUwL_E",
        "colab_type": "text"
      },
      "source": [
        "##Parameter tuning"
      ]
    },
    {
      "cell_type": "markdown",
      "metadata": {
        "id": "nXOeh17Dwdbf",
        "colab_type": "text"
      },
      "source": [
        "Tiến hành chỉnh sửa các tham số giúp cho model trở nên tốt hơn và độ chính xác cao hơn."
      ]
    },
    {
      "cell_type": "code",
      "metadata": {
        "id": "VazHLi410wQo",
        "colab_type": "code",
        "colab": {
          "base_uri": "https://localhost:8080/",
          "height": 421
        },
        "outputId": "f363b7d2-fa4d-4f24-aec4-eef1475b898b"
      },
      "source": [
        "df"
      ],
      "execution_count": null,
      "outputs": [
        {
          "output_type": "execute_result",
          "data": {
            "text/html": [
              "<div>\n",
              "<style scoped>\n",
              "    .dataframe tbody tr th:only-of-type {\n",
              "        vertical-align: middle;\n",
              "    }\n",
              "\n",
              "    .dataframe tbody tr th {\n",
              "        vertical-align: top;\n",
              "    }\n",
              "\n",
              "    .dataframe thead th {\n",
              "        text-align: right;\n",
              "    }\n",
              "</style>\n",
              "<table border=\"1\" class=\"dataframe\">\n",
              "  <thead>\n",
              "    <tr style=\"text-align: right;\">\n",
              "      <th></th>\n",
              "      <th>text</th>\n",
              "      <th>label</th>\n",
              "    </tr>\n",
              "  </thead>\n",
              "  <tbody>\n",
              "    <tr>\n",
              "      <th>0</th>\n",
              "      <td>không có chào_đón như trong giới_thiệu</td>\n",
              "      <td>0</td>\n",
              "    </tr>\n",
              "    <tr>\n",
              "      <th>1</th>\n",
              "      <td>lựa_chọn tốt cho du_lịch nhóm gia_đình</td>\n",
              "      <td>1</td>\n",
              "    </tr>\n",
              "    <tr>\n",
              "      <th>2</th>\n",
              "      <td>phòng yên_tĩnh dù sát mặt_đường lớn sạch_sẽ</td>\n",
              "      <td>1</td>\n",
              "    </tr>\n",
              "    <tr>\n",
              "      <th>3</th>\n",
              "      <td>phòng sạch đẹp</td>\n",
              "      <td>1</td>\n",
              "    </tr>\n",
              "    <tr>\n",
              "      <th>4</th>\n",
              "      <td>khách_sạn sạch_sẽ gần biển gần siêu_thị lotte ...</td>\n",
              "      <td>1</td>\n",
              "    </tr>\n",
              "    <tr>\n",
              "      <th>...</th>\n",
              "      <td>...</td>\n",
              "      <td>...</td>\n",
              "    </tr>\n",
              "    <tr>\n",
              "      <th>4119</th>\n",
              "      <td>thôi_thì treo biển không nhận khách đi oto cho...</td>\n",
              "      <td>0</td>\n",
              "    </tr>\n",
              "    <tr>\n",
              "      <th>4120</th>\n",
              "      <td>12 giờ đêm về thì khách_sạn tối hin</td>\n",
              "      <td>0</td>\n",
              "    </tr>\n",
              "    <tr>\n",
              "      <th>4121</th>\n",
              "      <td>nói 3 sao thì hơi quá</td>\n",
              "      <td>0</td>\n",
              "    </tr>\n",
              "    <tr>\n",
              "      <th>4122</th>\n",
              "      <td>thua khách_sạn mình ở nha trang vẫn 3 sao</td>\n",
              "      <td>0</td>\n",
              "    </tr>\n",
              "    <tr>\n",
              "      <th>4123</th>\n",
              "      <td>vẫn nằm ở trục đường chính một chiều đông ngẹt...</td>\n",
              "      <td>0</td>\n",
              "    </tr>\n",
              "  </tbody>\n",
              "</table>\n",
              "<p>4124 rows × 2 columns</p>\n",
              "</div>"
            ],
            "text/plain": [
              "                                                   text  label\n",
              "0                không có chào_đón như trong giới_thiệu      0\n",
              "1                lựa_chọn tốt cho du_lịch nhóm gia_đình      1\n",
              "2           phòng yên_tĩnh dù sát mặt_đường lớn sạch_sẽ      1\n",
              "3                                        phòng sạch đẹp      1\n",
              "4     khách_sạn sạch_sẽ gần biển gần siêu_thị lotte ...      1\n",
              "...                                                 ...    ...\n",
              "4119  thôi_thì treo biển không nhận khách đi oto cho...      0\n",
              "4120                12 giờ đêm về thì khách_sạn tối hin      0\n",
              "4121                              nói 3 sao thì hơi quá      0\n",
              "4122          thua khách_sạn mình ở nha trang vẫn 3 sao      0\n",
              "4123  vẫn nằm ở trục đường chính một chiều đông ngẹt...      0\n",
              "\n",
              "[4124 rows x 2 columns]"
            ]
          },
          "metadata": {
            "tags": []
          },
          "execution_count": 384
        }
      ]
    },
    {
      "cell_type": "markdown",
      "metadata": {
        "id": "Q1sqy3D77jMC",
        "colab_type": "text"
      },
      "source": [
        "Xem lại df đã được chỉnh sửa với 2 hàm, và được tách từ theo Pyvi"
      ]
    },
    {
      "cell_type": "code",
      "metadata": {
        "id": "k4m1Mpi1xmV_",
        "colab_type": "code",
        "colab": {}
      },
      "source": [
        "X_tr, X_t, y_train, y_test = train_test_split(df['text'], df['label'], test_size=0.2, random_state=0)"
      ],
      "execution_count": null,
      "outputs": []
    },
    {
      "cell_type": "markdown",
      "metadata": {
        "id": "myegBKQ37qeV",
        "colab_type": "text"
      },
      "source": [
        "Phân chia tập train và tập test"
      ]
    },
    {
      "cell_type": "code",
      "metadata": {
        "id": "OGGQcgoEx8Ia",
        "colab_type": "code",
        "colab": {}
      },
      "source": [
        "emb_loaded=joblib.load( '/content/drive/My Drive/Colab Notebooks/ML/DoAnCuoiKy/tfidf_pyvi.pkl')"
      ],
      "execution_count": null,
      "outputs": []
    },
    {
      "cell_type": "markdown",
      "metadata": {
        "id": "Qps9KDvD7ure",
        "colab_type": "text"
      },
      "source": [
        "Load lại emb (công cụ Tfidf) đã được lưu từ trước ra và sử dụng, emb này tương ứng với trường hợp pyvi kết hợp cùng TF-IDF"
      ]
    },
    {
      "cell_type": "code",
      "metadata": {
        "id": "Y4QcVgDNyaFv",
        "colab_type": "code",
        "colab": {}
      },
      "source": [
        "X_train=emb_loaded.transform(X_tr)\n",
        "X_test=emb_loaded.transform(X_t)"
      ],
      "execution_count": null,
      "outputs": []
    },
    {
      "cell_type": "markdown",
      "metadata": {
        "id": "Bmogkaoe77fw",
        "colab_type": "text"
      },
      "source": [
        "Chuyển X_train, X_test từ các bình luận về dạng vector đặc trưng dựa vào emb vừa load."
      ]
    },
    {
      "cell_type": "code",
      "metadata": {
        "id": "1ZED5x-Y4KbY",
        "colab_type": "code",
        "colab": {
          "base_uri": "https://localhost:8080/",
          "height": 52
        },
        "outputId": "c8f79453-58ff-4ff8-a3b4-bc8c686c098d"
      },
      "source": [
        "X_train"
      ],
      "execution_count": null,
      "outputs": [
        {
          "output_type": "execute_result",
          "data": {
            "text/plain": [
              "<3299x3212 sparse matrix of type '<class 'numpy.float64'>'\n",
              "\twith 34429 stored elements in Compressed Sparse Row format>"
            ]
          },
          "metadata": {
            "tags": []
          },
          "execution_count": 387
        }
      ]
    },
    {
      "cell_type": "markdown",
      "metadata": {
        "id": "uGsgjCWj8MT5",
        "colab_type": "text"
      },
      "source": [
        "Công cụ sử dụng để tuning parameter là GridSearchCV"
      ]
    },
    {
      "cell_type": "code",
      "metadata": {
        "id": "XHEmNM-oyvSa",
        "colab_type": "code",
        "colab": {}
      },
      "source": [
        "from sklearn.model_selection import GridSearchCV"
      ],
      "execution_count": null,
      "outputs": []
    },
    {
      "cell_type": "markdown",
      "metadata": {
        "id": "ZbiROQez8RCa",
        "colab_type": "text"
      },
      "source": [
        "Những tham số được lựa chọn tinh chỉnh là C và gamma trong model SVC"
      ]
    },
    {
      "cell_type": "code",
      "metadata": {
        "id": "m4y2WAZcwQDw",
        "colab_type": "code",
        "colab": {
          "base_uri": "https://localhost:8080/",
          "height": 230
        },
        "outputId": "4594ddaf-8737-48ea-9198-e95c69e37123"
      },
      "source": [
        "Cs = [0.001, 0.01, 0.1, 1.0]\n",
        "gammas = ['scale',0.001,0.01,0.1,1.0]\n",
        "param_grid = {'C': Cs, 'gamma' : gammas}\n",
        "grid_search = GridSearchCV(SVC(), param_grid)\n",
        "grid_search.fit(X_train, y_train)"
      ],
      "execution_count": null,
      "outputs": [
        {
          "output_type": "execute_result",
          "data": {
            "text/plain": [
              "GridSearchCV(cv=None, error_score=nan,\n",
              "             estimator=SVC(C=1.0, break_ties=False, cache_size=200,\n",
              "                           class_weight=None, coef0=0.0,\n",
              "                           decision_function_shape='ovr', degree=3,\n",
              "                           gamma='scale', kernel='rbf', max_iter=-1,\n",
              "                           probability=False, random_state=None, shrinking=True,\n",
              "                           tol=0.001, verbose=False),\n",
              "             iid='deprecated', n_jobs=None,\n",
              "             param_grid={'C': [0.001, 0.01, 0.1, 1.0],\n",
              "                         'gamma': ['scale', 0.001, 0.01, 0.1, 1.0]},\n",
              "             pre_dispatch='2*n_jobs', refit=True, return_train_score=False,\n",
              "             scoring=None, verbose=0)"
            ]
          },
          "metadata": {
            "tags": []
          },
          "execution_count": 403
        }
      ]
    },
    {
      "cell_type": "code",
      "metadata": {
        "id": "Bge_TvCly7E2",
        "colab_type": "code",
        "colab": {
          "base_uri": "https://localhost:8080/",
          "height": 87
        },
        "outputId": "b2905cc6-e408-437c-bdb7-a619a4e2554a"
      },
      "source": [
        "grid_search.best_estimator_"
      ],
      "execution_count": null,
      "outputs": [
        {
          "output_type": "execute_result",
          "data": {
            "text/plain": [
              "SVC(C=1.0, break_ties=False, cache_size=200, class_weight=None, coef0=0.0,\n",
              "    decision_function_shape='ovr', degree=3, gamma='scale', kernel='rbf',\n",
              "    max_iter=-1, probability=False, random_state=None, shrinking=True,\n",
              "    tol=0.001, verbose=False)"
            ]
          },
          "metadata": {
            "tags": []
          },
          "execution_count": 404
        }
      ]
    },
    {
      "cell_type": "code",
      "metadata": {
        "id": "BFtYj_gszXwt",
        "colab_type": "code",
        "colab": {}
      },
      "source": [
        "new_model=grid_search.best_estimator_.fit(X_train, y_train)"
      ],
      "execution_count": null,
      "outputs": []
    },
    {
      "cell_type": "code",
      "metadata": {
        "id": "64XmuH6Eze0P",
        "colab_type": "code",
        "colab": {}
      },
      "source": [
        "predict_new=new_model.predict(X_test)"
      ],
      "execution_count": null,
      "outputs": []
    },
    {
      "cell_type": "code",
      "metadata": {
        "id": "aM9SAJi_zi3v",
        "colab_type": "code",
        "colab": {
          "base_uri": "https://localhost:8080/",
          "height": 265
        },
        "outputId": "ccbde020-03ef-4c4e-ac0b-cbb10c3d5e3c"
      },
      "source": [
        "print('Accuracy_score: ',accuracy_score(y_test, predict_new))\n",
        "print('Classification report: \\n',classification_report(y_test, predict_new))\n",
        "print('Confusion matrix: \\n',confusion_matrix(y_test, predict_new))"
      ],
      "execution_count": null,
      "outputs": [
        {
          "output_type": "stream",
          "text": [
            "Accuracy_score:  0.9551515151515152\n",
            "Classification report: \n",
            "               precision    recall  f1-score   support\n",
            "\n",
            "           0       0.94      0.96      0.95       347\n",
            "           1       0.97      0.95      0.96       478\n",
            "\n",
            "    accuracy                           0.96       825\n",
            "   macro avg       0.95      0.96      0.95       825\n",
            "weighted avg       0.96      0.96      0.96       825\n",
            "\n",
            "Confusion matrix: \n",
            " [[333  14]\n",
            " [ 23 455]]\n"
          ],
          "name": "stdout"
        }
      ]
    },
    {
      "cell_type": "markdown",
      "metadata": {
        "id": "4nYBgvrl8amV",
        "colab_type": "text"
      },
      "source": [
        "Sau khi tinh chỉnh và lấy ra trường hợp tốt nhất dự đoán thì độ chính xác so với lúc chưa tinh chỉnh là **KHÔNG** tăng. Nên model chính thức được sử dụng vẫn là model SVC cũ đã được train và lưu trước đó."
      ]
    },
    {
      "cell_type": "markdown",
      "metadata": {
        "id": "s4hVSQLGY3wm",
        "colab_type": "text"
      },
      "source": [
        "## Dự đoán một câu mới được nhập vào\n",
        "Nếu nhập vào comment gồm nhiều câu sẽ được tách thành các câu riêng rồi dự đoán trên mỗi câu"
      ]
    },
    {
      "cell_type": "markdown",
      "metadata": {
        "id": "5dLr_GvZlNQ5",
        "colab_type": "text"
      },
      "source": [
        "*Hướng dẫn sử dụng*: Khi muốn dự đoán một bình luận bất kỳ thì đối với bình luận đầu tiên cần chạy đoạn code A (chạy bằng cách đưa con trỏ vào đoạn code nhấn ctrl+enter) sau đó chạy đoạn code B và nhập comment muốn dự đoán. Trong một phiên làm việc thì từ comment thứ hai trở đi không cần chạy lại đoạn code A, chỉ cần chạy đoạn code B."
      ]
    },
    {
      "cell_type": "markdown",
      "metadata": {
        "id": "RkEHO_-FlFH7",
        "colab_type": "text"
      },
      "source": [
        "**Đoạn code A**"
      ]
    },
    {
      "cell_type": "code",
      "metadata": {
        "id": "Y2yvO7wPanUa",
        "colab_type": "code",
        "colab": {
          "base_uri": "https://localhost:8080/",
          "height": 986
        },
        "outputId": "474f70e2-b439-4652-dffd-006a517703e3"
      },
      "source": [
        "!wget https://github.com/ThuanPhong0126/CS114.K21/blob/master/Project/tfidf_pyvi.pkl?raw=true\n",
        "!wget https://github.com/ThuanPhong0126/CS114.K21/blob/master/Project/model_SVC.sav?raw=true\n",
        "\n",
        "!pip install pyvi\n",
        "import joblib\n",
        "import pandas as pd\n",
        "from pyvi import ViTokenizer\n",
        "\n",
        "def Token(t):\n",
        "  return ViTokenizer.tokenize(t)\n",
        "\n",
        "def standardize_data(t):\n",
        "\n",
        "  t = t.lower()\n",
        "  t = t.replace(',', ' ').replace('.', ' ')\\\n",
        "      .replace(\";\", \" \").replace(\"“\", \" \") \\\n",
        "      .replace(\":\", \" \").replace(\"”\", \" \") \\\n",
        "      .replace('\"', \" \").replace(\"'\", \" \") \\\n",
        "      .replace(\"!\", \" \").replace(\"?\", \" \").replace(\"-\", \" \").replace(\"?\", \" \") \n",
        "  t = t.strip()\n",
        "  return t\n",
        "\n",
        "def du_doan(comment):\n",
        "  emb_loaded=joblib.load('tfidf_pyvi.pkl?raw=true')\n",
        "  model_loaded=joblib.load('model_SVC.sav?raw=true')\n",
        "  comment=comment.strip()\n",
        "  feature=pd.Series(comment.split('.'))\n",
        "  comment=feature\n",
        "  feature = feature.apply(standardize_data)\n",
        "  feature = feature.apply(Token)\n",
        "  feature=emb_loaded.transform(feature)\n",
        "  pred=model_loaded.predict(feature)\n",
        "  return pred, comment"
      ],
      "execution_count": 1,
      "outputs": [
        {
          "output_type": "stream",
          "text": [
            "--2020-08-02 15:02:31--  https://github.com/ThuanPhong0126/CS114.K21/blob/master/Project/tfidf_pyvi.pkl?raw=true\n",
            "Resolving github.com (github.com)... 140.82.112.4\n",
            "Connecting to github.com (github.com)|140.82.112.4|:443... connected.\n",
            "HTTP request sent, awaiting response... 302 Found\n",
            "Location: https://github.com/ThuanPhong0126/CS114.K21/raw/master/Project/tfidf_pyvi.pkl [following]\n",
            "--2020-08-02 15:02:31--  https://github.com/ThuanPhong0126/CS114.K21/raw/master/Project/tfidf_pyvi.pkl\n",
            "Reusing existing connection to github.com:443.\n",
            "HTTP request sent, awaiting response... 302 Found\n",
            "Location: https://raw.githubusercontent.com/ThuanPhong0126/CS114.K21/master/Project/tfidf_pyvi.pkl [following]\n",
            "--2020-08-02 15:02:31--  https://raw.githubusercontent.com/ThuanPhong0126/CS114.K21/master/Project/tfidf_pyvi.pkl\n",
            "Resolving raw.githubusercontent.com (raw.githubusercontent.com)... 151.101.0.133, 151.101.64.133, 151.101.128.133, ...\n",
            "Connecting to raw.githubusercontent.com (raw.githubusercontent.com)|151.101.0.133|:443... connected.\n",
            "HTTP request sent, awaiting response... 200 OK\n",
            "Length: 208054 (203K) [application/octet-stream]\n",
            "Saving to: ‘tfidf_pyvi.pkl?raw=true’\n",
            "\n",
            "\rtfidf_pyvi.pkl?raw=   0%[                    ]       0  --.-KB/s               \rtfidf_pyvi.pkl?raw= 100%[===================>] 203.18K  --.-KB/s    in 0.04s   \n",
            "\n",
            "2020-08-02 15:02:31 (4.46 MB/s) - ‘tfidf_pyvi.pkl?raw=true’ saved [208054/208054]\n",
            "\n",
            "--2020-08-02 15:02:33--  https://github.com/ThuanPhong0126/CS114.K21/blob/master/Project/model_SVC.sav?raw=true\n",
            "Resolving github.com (github.com)... 140.82.112.4\n",
            "Connecting to github.com (github.com)|140.82.112.4|:443... connected.\n",
            "HTTP request sent, awaiting response... 302 Found\n",
            "Location: https://github.com/ThuanPhong0126/CS114.K21/raw/master/Project/model_SVC.sav [following]\n",
            "--2020-08-02 15:02:33--  https://github.com/ThuanPhong0126/CS114.K21/raw/master/Project/model_SVC.sav\n",
            "Reusing existing connection to github.com:443.\n",
            "HTTP request sent, awaiting response... 302 Found\n",
            "Location: https://raw.githubusercontent.com/ThuanPhong0126/CS114.K21/master/Project/model_SVC.sav [following]\n",
            "--2020-08-02 15:02:33--  https://raw.githubusercontent.com/ThuanPhong0126/CS114.K21/master/Project/model_SVC.sav\n",
            "Resolving raw.githubusercontent.com (raw.githubusercontent.com)... 151.101.0.133, 151.101.64.133, 151.101.128.133, ...\n",
            "Connecting to raw.githubusercontent.com (raw.githubusercontent.com)|151.101.0.133|:443... connected.\n",
            "HTTP request sent, awaiting response... 200 OK\n",
            "Length: 322783 (315K) [application/octet-stream]\n",
            "Saving to: ‘model_SVC.sav?raw=true’\n",
            "\n",
            "model_SVC.sav?raw=t 100%[===================>] 315.22K  --.-KB/s    in 0.06s   \n",
            "\n",
            "2020-08-02 15:02:34 (4.96 MB/s) - ‘model_SVC.sav?raw=true’ saved [322783/322783]\n",
            "\n",
            "Collecting pyvi\n",
            "\u001b[?25l  Downloading https://files.pythonhosted.org/packages/10/e1/0e5bc6b5e3327b9385d6e0f1b0a7c0404f28b74eb6db59a778515b30fd9c/pyvi-0.1-py2.py3-none-any.whl (8.5MB)\n",
            "\u001b[K     |████████████████████████████████| 8.5MB 2.5MB/s \n",
            "\u001b[?25hCollecting sklearn-crfsuite\n",
            "  Downloading https://files.pythonhosted.org/packages/25/74/5b7befa513482e6dee1f3dd68171a6c9dfc14c0eaa00f885ffeba54fe9b0/sklearn_crfsuite-0.3.6-py2.py3-none-any.whl\n",
            "Requirement already satisfied: scikit-learn in /usr/local/lib/python3.6/dist-packages (from pyvi) (0.22.2.post1)\n",
            "Requirement already satisfied: tabulate in /usr/local/lib/python3.6/dist-packages (from sklearn-crfsuite->pyvi) (0.8.7)\n",
            "Requirement already satisfied: tqdm>=2.0 in /usr/local/lib/python3.6/dist-packages (from sklearn-crfsuite->pyvi) (4.41.1)\n",
            "Collecting python-crfsuite>=0.8.3\n",
            "\u001b[?25l  Downloading https://files.pythonhosted.org/packages/95/99/869dde6dbf3e0d07a013c8eebfb0a3d30776334e0097f8432b631a9a3a19/python_crfsuite-0.9.7-cp36-cp36m-manylinux1_x86_64.whl (743kB)\n",
            "\u001b[K     |████████████████████████████████| 747kB 43.2MB/s \n",
            "\u001b[?25hRequirement already satisfied: six in /usr/local/lib/python3.6/dist-packages (from sklearn-crfsuite->pyvi) (1.15.0)\n",
            "Requirement already satisfied: numpy>=1.11.0 in /usr/local/lib/python3.6/dist-packages (from scikit-learn->pyvi) (1.18.5)\n",
            "Requirement already satisfied: scipy>=0.17.0 in /usr/local/lib/python3.6/dist-packages (from scikit-learn->pyvi) (1.4.1)\n",
            "Requirement already satisfied: joblib>=0.11 in /usr/local/lib/python3.6/dist-packages (from scikit-learn->pyvi) (0.16.0)\n",
            "Installing collected packages: python-crfsuite, sklearn-crfsuite, pyvi\n",
            "Successfully installed python-crfsuite-0.9.7 pyvi-0.1 sklearn-crfsuite-0.3.6\n"
          ],
          "name": "stdout"
        }
      ]
    },
    {
      "cell_type": "markdown",
      "metadata": {
        "id": "IoZo-UtdlIhy",
        "colab_type": "text"
      },
      "source": [
        "**Đoạn code B**"
      ]
    },
    {
      "cell_type": "code",
      "metadata": {
        "id": "o5hbyePeY3wn",
        "colab_type": "code",
        "colab": {
          "base_uri": "https://localhost:8080/",
          "height": 85
        },
        "outputId": "a1540ac0-73b1-4fbc-c8d0-833fb2e059ca"
      },
      "source": [
        "comment=input()\n",
        "predict, comment1= du_doan(comment)\n",
        "print('-----------------------------------------------------------')\n",
        "for i in range(len(predict)):\n",
        "  if comment1[i]!='' and comment1[i]!=' ':\n",
        "    print(comment1[i])\n",
        "    print('-> Bình luận tích cực' if predict[i] else '-> Bình luận tiêu cực')"
      ],
      "execution_count": 23,
      "outputs": [
        {
          "output_type": "stream",
          "text": [
            "Đúng như tôi đã xem trên mạng, phòng đẹp, nhân viên tốt, thức ăn ngon, cảm ơn khách sạn\n",
            "-----------------------------------------------------------\n",
            "Đúng như tôi đã xem trên mạng, phòng đẹp, nhân viên tốt, thức ăn ngon, cảm ơn khách sạn\n",
            "-> Bình luận tích cực\n"
          ],
          "name": "stdout"
        }
      ]
    },
    {
      "cell_type": "code",
      "metadata": {
        "id": "Zg4Y_iFYY3w0",
        "colab_type": "code",
        "colab": {}
      },
      "source": [
        ""
      ],
      "execution_count": null,
      "outputs": []
    }
  ]
}