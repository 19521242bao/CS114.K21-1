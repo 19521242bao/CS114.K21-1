{
  "nbformat": 4,
  "nbformat_minor": 0,
  "metadata": {
    "kernelspec": {
      "display_name": "Python 3",
      "language": "python",
      "name": "python3"
    },
    "language_info": {
      "codemirror_mode": {
        "name": "ipython",
        "version": 3
      },
      "file_extension": ".py",
      "mimetype": "text/x-python",
      "name": "python",
      "nbconvert_exporter": "python",
      "pygments_lexer": "ipython3",
      "version": "3.6.8"
    },
    "colab": {
      "name": "Untitled.ipynb",
      "provenance": [],
      "collapsed_sections": [],
      "toc_visible": true,
      "include_colab_link": true
    }
  },
  "cells": [
    {
      "cell_type": "markdown",
      "metadata": {
        "id": "view-in-github",
        "colab_type": "text"
      },
      "source": [
        "<a href=\"https://colab.research.google.com/github/ThuanPhong0126/CS114.K21/blob/master/Project/Untitled.ipynb\" target=\"_parent\"><img src=\"https://colab.research.google.com/assets/colab-badge.svg\" alt=\"Open In Colab\"/></a>"
      ]
    },
    {
      "cell_type": "code",
      "metadata": {
        "id": "h7Q5nKHLZTyQ",
        "colab_type": "code",
        "colab": {
          "base_uri": "https://localhost:8080/",
          "height": 125
        },
        "outputId": "2611c718-e8a8-4907-babc-da0f25fdfec5"
      },
      "source": [
        "from google.colab import drive\n",
        "drive.mount('/content/drive')"
      ],
      "execution_count": 1,
      "outputs": [
        {
          "output_type": "stream",
          "text": [
            "Go to this URL in a browser: https://accounts.google.com/o/oauth2/auth?client_id=947318989803-6bn6qk8qdgf4n4g3pfee6491hc0brc4i.apps.googleusercontent.com&redirect_uri=urn%3aietf%3awg%3aoauth%3a2.0%3aoob&response_type=code&scope=email%20https%3a%2f%2fwww.googleapis.com%2fauth%2fdocs.test%20https%3a%2f%2fwww.googleapis.com%2fauth%2fdrive%20https%3a%2f%2fwww.googleapis.com%2fauth%2fdrive.photos.readonly%20https%3a%2f%2fwww.googleapis.com%2fauth%2fpeopleapi.readonly\n",
            "\n",
            "Enter your authorization code:\n",
            "··········\n",
            "Mounted at /content/drive\n"
          ],
          "name": "stdout"
        }
      ]
    },
    {
      "cell_type": "markdown",
      "metadata": {
        "id": "xybpx2pkLSGx",
        "colab_type": "text"
      },
      "source": [
        "### Load Data"
      ]
    },
    {
      "cell_type": "code",
      "metadata": {
        "id": "Zi5oe9h7Y3sL",
        "colab_type": "code",
        "colab": {}
      },
      "source": [
        "import pandas as pd\n",
        "import seaborn as sns\n",
        "from sklearn.model_selection import train_test_split\n",
        "from sklearn.feature_extraction.text import TfidfVectorizer, CountVectorizer\n",
        "import joblib\n",
        "from sklearn.metrics import classification_report, confusion_matrix, accuracy_score"
      ],
      "execution_count": 78,
      "outputs": []
    },
    {
      "cell_type": "code",
      "metadata": {
        "id": "_dFPeWBiKpVG",
        "colab_type": "code",
        "colab": {
          "base_uri": "https://localhost:8080/",
          "height": 421
        },
        "outputId": "f59d8672-8714-4e9c-b50b-3233151b8402"
      },
      "source": [
        "df=pd.read_excel('https://github.com/ThuanPhong0126/CS114.K21/blob/master/final_data.xlsx?raw=true')\n",
        "df"
      ],
      "execution_count": 79,
      "outputs": [
        {
          "output_type": "execute_result",
          "data": {
            "text/html": [
              "<div>\n",
              "<style scoped>\n",
              "    .dataframe tbody tr th:only-of-type {\n",
              "        vertical-align: middle;\n",
              "    }\n",
              "\n",
              "    .dataframe tbody tr th {\n",
              "        vertical-align: top;\n",
              "    }\n",
              "\n",
              "    .dataframe thead th {\n",
              "        text-align: right;\n",
              "    }\n",
              "</style>\n",
              "<table border=\"1\" class=\"dataframe\">\n",
              "  <thead>\n",
              "    <tr style=\"text-align: right;\">\n",
              "      <th></th>\n",
              "      <th>Unnamed: 0</th>\n",
              "      <th>text</th>\n",
              "      <th>label</th>\n",
              "    </tr>\n",
              "  </thead>\n",
              "  <tbody>\n",
              "    <tr>\n",
              "      <th>0</th>\n",
              "      <td>0</td>\n",
              "      <td>Không có chào đón như trong giới thiệu</td>\n",
              "      <td>0</td>\n",
              "    </tr>\n",
              "    <tr>\n",
              "      <th>1</th>\n",
              "      <td>1</td>\n",
              "      <td>Lựa chọn tốt cho du lịch nhóm ,gia đình</td>\n",
              "      <td>1</td>\n",
              "    </tr>\n",
              "    <tr>\n",
              "      <th>2</th>\n",
              "      <td>2</td>\n",
              "      <td>phòng yên tĩnh dù sát mặt đường lớn , sạch sẽ.</td>\n",
              "      <td>1</td>\n",
              "    </tr>\n",
              "    <tr>\n",
              "      <th>3</th>\n",
              "      <td>3</td>\n",
              "      <td>phòng sạch đẹp</td>\n",
              "      <td>1</td>\n",
              "    </tr>\n",
              "    <tr>\n",
              "      <th>4</th>\n",
              "      <td>4</td>\n",
              "      <td>Khách sạn sạch sẽ, gần biển, gần siêu thị Lott...</td>\n",
              "      <td>1</td>\n",
              "    </tr>\n",
              "    <tr>\n",
              "      <th>...</th>\n",
              "      <td>...</td>\n",
              "      <td>...</td>\n",
              "      <td>...</td>\n",
              "    </tr>\n",
              "    <tr>\n",
              "      <th>4119</th>\n",
              "      <td>145</td>\n",
              "      <td>Thôi thì treo biển không nhận khách đi oto cho...</td>\n",
              "      <td>0</td>\n",
              "    </tr>\n",
              "    <tr>\n",
              "      <th>4120</th>\n",
              "      <td>146</td>\n",
              "      <td>12 giờ đêm về thì khách sạn tối hin</td>\n",
              "      <td>0</td>\n",
              "    </tr>\n",
              "    <tr>\n",
              "      <th>4121</th>\n",
              "      <td>147</td>\n",
              "      <td>Nói 3 sao thì hơi quá.</td>\n",
              "      <td>0</td>\n",
              "    </tr>\n",
              "    <tr>\n",
              "      <th>4122</th>\n",
              "      <td>148</td>\n",
              "      <td>Thua khách sạn mình ở Nha Trang, Vẫn 3 sao.</td>\n",
              "      <td>0</td>\n",
              "    </tr>\n",
              "    <tr>\n",
              "      <th>4123</th>\n",
              "      <td>149</td>\n",
              "      <td>Vẫn nằm ở trục đường chính một chiều đông ngẹt...</td>\n",
              "      <td>0</td>\n",
              "    </tr>\n",
              "  </tbody>\n",
              "</table>\n",
              "<p>4124 rows × 3 columns</p>\n",
              "</div>"
            ],
            "text/plain": [
              "      Unnamed: 0                                               text  label\n",
              "0              0             Không có chào đón như trong giới thiệu      0\n",
              "1              1           Lựa chọn tốt cho du lịch nhóm ,gia đình       1\n",
              "2              2     phòng yên tĩnh dù sát mặt đường lớn , sạch sẽ.      1\n",
              "3              3                                     phòng sạch đẹp      1\n",
              "4              4  Khách sạn sạch sẽ, gần biển, gần siêu thị Lott...      1\n",
              "...          ...                                                ...    ...\n",
              "4119         145  Thôi thì treo biển không nhận khách đi oto cho...      0\n",
              "4120         146               12 giờ đêm về thì khách sạn tối hin       0\n",
              "4121         147                            Nói 3 sao thì hơi quá.       0\n",
              "4122         148        Thua khách sạn mình ở Nha Trang, Vẫn 3 sao.      0\n",
              "4123         149  Vẫn nằm ở trục đường chính một chiều đông ngẹt...      0\n",
              "\n",
              "[4124 rows x 3 columns]"
            ]
          },
          "metadata": {
            "tags": []
          },
          "execution_count": 79
        }
      ]
    },
    {
      "cell_type": "code",
      "metadata": {
        "id": "GPm-n8ppY3sj",
        "colab_type": "code",
        "colab": {
          "base_uri": "https://localhost:8080/",
          "height": 421
        },
        "outputId": "03ea1b4b-4013-41e5-da93-efff0f84e2ac"
      },
      "source": [
        "del df['Unnamed: 0']\n",
        "df"
      ],
      "execution_count": 80,
      "outputs": [
        {
          "output_type": "execute_result",
          "data": {
            "text/html": [
              "<div>\n",
              "<style scoped>\n",
              "    .dataframe tbody tr th:only-of-type {\n",
              "        vertical-align: middle;\n",
              "    }\n",
              "\n",
              "    .dataframe tbody tr th {\n",
              "        vertical-align: top;\n",
              "    }\n",
              "\n",
              "    .dataframe thead th {\n",
              "        text-align: right;\n",
              "    }\n",
              "</style>\n",
              "<table border=\"1\" class=\"dataframe\">\n",
              "  <thead>\n",
              "    <tr style=\"text-align: right;\">\n",
              "      <th></th>\n",
              "      <th>text</th>\n",
              "      <th>label</th>\n",
              "    </tr>\n",
              "  </thead>\n",
              "  <tbody>\n",
              "    <tr>\n",
              "      <th>0</th>\n",
              "      <td>Không có chào đón như trong giới thiệu</td>\n",
              "      <td>0</td>\n",
              "    </tr>\n",
              "    <tr>\n",
              "      <th>1</th>\n",
              "      <td>Lựa chọn tốt cho du lịch nhóm ,gia đình</td>\n",
              "      <td>1</td>\n",
              "    </tr>\n",
              "    <tr>\n",
              "      <th>2</th>\n",
              "      <td>phòng yên tĩnh dù sát mặt đường lớn , sạch sẽ.</td>\n",
              "      <td>1</td>\n",
              "    </tr>\n",
              "    <tr>\n",
              "      <th>3</th>\n",
              "      <td>phòng sạch đẹp</td>\n",
              "      <td>1</td>\n",
              "    </tr>\n",
              "    <tr>\n",
              "      <th>4</th>\n",
              "      <td>Khách sạn sạch sẽ, gần biển, gần siêu thị Lott...</td>\n",
              "      <td>1</td>\n",
              "    </tr>\n",
              "    <tr>\n",
              "      <th>...</th>\n",
              "      <td>...</td>\n",
              "      <td>...</td>\n",
              "    </tr>\n",
              "    <tr>\n",
              "      <th>4119</th>\n",
              "      <td>Thôi thì treo biển không nhận khách đi oto cho...</td>\n",
              "      <td>0</td>\n",
              "    </tr>\n",
              "    <tr>\n",
              "      <th>4120</th>\n",
              "      <td>12 giờ đêm về thì khách sạn tối hin</td>\n",
              "      <td>0</td>\n",
              "    </tr>\n",
              "    <tr>\n",
              "      <th>4121</th>\n",
              "      <td>Nói 3 sao thì hơi quá.</td>\n",
              "      <td>0</td>\n",
              "    </tr>\n",
              "    <tr>\n",
              "      <th>4122</th>\n",
              "      <td>Thua khách sạn mình ở Nha Trang, Vẫn 3 sao.</td>\n",
              "      <td>0</td>\n",
              "    </tr>\n",
              "    <tr>\n",
              "      <th>4123</th>\n",
              "      <td>Vẫn nằm ở trục đường chính một chiều đông ngẹt...</td>\n",
              "      <td>0</td>\n",
              "    </tr>\n",
              "  </tbody>\n",
              "</table>\n",
              "<p>4124 rows × 2 columns</p>\n",
              "</div>"
            ],
            "text/plain": [
              "                                                   text  label\n",
              "0                Không có chào đón như trong giới thiệu      0\n",
              "1              Lựa chọn tốt cho du lịch nhóm ,gia đình       1\n",
              "2        phòng yên tĩnh dù sát mặt đường lớn , sạch sẽ.      1\n",
              "3                                        phòng sạch đẹp      1\n",
              "4     Khách sạn sạch sẽ, gần biển, gần siêu thị Lott...      1\n",
              "...                                                 ...    ...\n",
              "4119  Thôi thì treo biển không nhận khách đi oto cho...      0\n",
              "4120               12 giờ đêm về thì khách sạn tối hin       0\n",
              "4121                            Nói 3 sao thì hơi quá.       0\n",
              "4122        Thua khách sạn mình ở Nha Trang, Vẫn 3 sao.      0\n",
              "4123  Vẫn nằm ở trục đường chính một chiều đông ngẹt...      0\n",
              "\n",
              "[4124 rows x 2 columns]"
            ]
          },
          "metadata": {
            "tags": []
          },
          "execution_count": 80
        }
      ]
    },
    {
      "cell_type": "code",
      "metadata": {
        "id": "UTdY9593Y3ss",
        "colab_type": "code",
        "colab": {}
      },
      "source": [
        "X=df['text']\n",
        "y=df['label']"
      ],
      "execution_count": 81,
      "outputs": []
    },
    {
      "cell_type": "code",
      "metadata": {
        "id": "26dFYUetY3s0",
        "colab_type": "code",
        "colab": {
          "base_uri": "https://localhost:8080/",
          "height": 230
        },
        "outputId": "9dcc76f6-6a4d-45f2-911d-57438c728abd"
      },
      "source": [
        "X"
      ],
      "execution_count": 82,
      "outputs": [
        {
          "output_type": "execute_result",
          "data": {
            "text/plain": [
              "0                  Không có chào đón như trong giới thiệu\n",
              "1                Lựa chọn tốt cho du lịch nhóm ,gia đình \n",
              "2          phòng yên tĩnh dù sát mặt đường lớn , sạch sẽ.\n",
              "3                                          phòng sạch đẹp\n",
              "4       Khách sạn sạch sẽ, gần biển, gần siêu thị Lott...\n",
              "                              ...                        \n",
              "4119    Thôi thì treo biển không nhận khách đi oto cho...\n",
              "4120                 12 giờ đêm về thì khách sạn tối hin \n",
              "4121                              Nói 3 sao thì hơi quá. \n",
              "4122          Thua khách sạn mình ở Nha Trang, Vẫn 3 sao.\n",
              "4123    Vẫn nằm ở trục đường chính một chiều đông ngẹt...\n",
              "Name: text, Length: 4124, dtype: object"
            ]
          },
          "metadata": {
            "tags": []
          },
          "execution_count": 82
        }
      ]
    },
    {
      "cell_type": "code",
      "metadata": {
        "id": "dlCmIhgZY3s9",
        "colab_type": "code",
        "colab": {
          "base_uri": "https://localhost:8080/",
          "height": 230
        },
        "outputId": "35a716ed-c01c-4905-946c-2a7be79a39e0"
      },
      "source": [
        "y"
      ],
      "execution_count": 83,
      "outputs": [
        {
          "output_type": "execute_result",
          "data": {
            "text/plain": [
              "0       0\n",
              "1       1\n",
              "2       1\n",
              "3       1\n",
              "4       1\n",
              "       ..\n",
              "4119    0\n",
              "4120    0\n",
              "4121    0\n",
              "4122    0\n",
              "4123    0\n",
              "Name: label, Length: 4124, dtype: int64"
            ]
          },
          "metadata": {
            "tags": []
          },
          "execution_count": 83
        }
      ]
    },
    {
      "cell_type": "code",
      "metadata": {
        "id": "aY_IiOf_Y3tF",
        "colab_type": "code",
        "colab": {
          "base_uri": "https://localhost:8080/",
          "height": 296
        },
        "outputId": "e02088fd-12f3-4376-f442-b529784d2b19"
      },
      "source": [
        "sns.countplot(df['label'])"
      ],
      "execution_count": 84,
      "outputs": [
        {
          "output_type": "execute_result",
          "data": {
            "text/plain": [
              "<matplotlib.axes._subplots.AxesSubplot at 0x7f0f22068d30>"
            ]
          },
          "metadata": {
            "tags": []
          },
          "execution_count": 84
        },
        {
          "output_type": "display_data",
          "data": {
            "image/png": "[encoded data removed]",
            "text/plain": [
              "<Figure size 432x288 with 1 Axes>"
            ]
          },
          "metadata": {
            "tags": [],
            "needs_background": "light"
          }
        }
      ]
    },
    {
      "cell_type": "code",
      "metadata": {
        "id": "pXBY2mcWY3tT",
        "colab_type": "code",
        "colab": {
          "base_uri": "https://localhost:8080/",
          "height": 194
        },
        "outputId": "83be7219-198d-4cd3-95c9-e674e895036f"
      },
      "source": [
        "!pip install pyvi"
      ],
      "execution_count": 85,
      "outputs": [
        {
          "output_type": "stream",
          "text": [
            "Requirement already satisfied: pyvi in /usr/local/lib/python3.6/dist-packages (0.1)\n",
            "Requirement already satisfied: scikit-learn in /usr/local/lib/python3.6/dist-packages (from pyvi) (0.22.2.post1)\n",
            "Requirement already satisfied: sklearn-crfsuite in /usr/local/lib/python3.6/dist-packages (from pyvi) (0.3.6)\n",
            "Requirement already satisfied: joblib>=0.11 in /usr/local/lib/python3.6/dist-packages (from scikit-learn->pyvi) (0.16.0)\n",
            "Requirement already satisfied: numpy>=1.11.0 in /usr/local/lib/python3.6/dist-packages (from scikit-learn->pyvi) (1.18.5)\n",
            "Requirement already satisfied: scipy>=0.17.0 in /usr/local/lib/python3.6/dist-packages (from scikit-learn->pyvi) (1.4.1)\n",
            "Requirement already satisfied: tabulate in /usr/local/lib/python3.6/dist-packages (from sklearn-crfsuite->pyvi) (0.8.7)\n",
            "Requirement already satisfied: tqdm>=2.0 in /usr/local/lib/python3.6/dist-packages (from sklearn-crfsuite->pyvi) (4.41.1)\n",
            "Requirement already satisfied: python-crfsuite>=0.8.3 in /usr/local/lib/python3.6/dist-packages (from sklearn-crfsuite->pyvi) (0.9.7)\n",
            "Requirement already satisfied: six in /usr/local/lib/python3.6/dist-packages (from sklearn-crfsuite->pyvi) (1.15.0)\n"
          ],
          "name": "stdout"
        }
      ]
    },
    {
      "cell_type": "code",
      "metadata": {
        "id": "RYZCfixGY3ti",
        "colab_type": "code",
        "colab": {}
      },
      "source": [
        "from pyvi import ViTokenizer\n",
        "def Token(t):\n",
        "  return ViTokenizer.tokenize(t)\n",
        "\n",
        "def standardize_data(t):\n",
        "  t = str(t)\n",
        "  t = t.lower()\n",
        "  t = t.replace(',', ' ').replace('.', ' ')\\\n",
        "      .replace(\";\", \" \").replace(\"“\", \" \") \\\n",
        "      .replace(\":\", \" \").replace(\"”\", \" \") \\\n",
        "      .replace('\"', \" \").replace(\"'\", \" \") \\\n",
        "      .replace(\"!\", \" \").replace(\"?\", \" \").replace(\"-\", \" \").replace(\"?\", \" \") \n",
        "  t = t.strip()\n",
        "  return t"
      ],
      "execution_count": 86,
      "outputs": []
    },
    {
      "cell_type": "markdown",
      "metadata": {
        "id": "TRuLbNJ8Y3vt",
        "colab_type": "text"
      },
      "source": [
        "### Không phân tích theo nghĩa tiếng việt _ phân theo dấu cách"
      ]
    },
    {
      "cell_type": "code",
      "metadata": {
        "id": "3OGCPK4rY3vu",
        "colab_type": "code",
        "colab": {
          "base_uri": "https://localhost:8080/",
          "height": 421
        },
        "outputId": "b3789c15-bb22-4686-f3b7-0387eca32712"
      },
      "source": [
        "df['text'] = df['text'].apply(standardize_data)\n",
        "df"
      ],
      "execution_count": 87,
      "outputs": [
        {
          "output_type": "execute_result",
          "data": {
            "text/html": [
              "<div>\n",
              "<style scoped>\n",
              "    .dataframe tbody tr th:only-of-type {\n",
              "        vertical-align: middle;\n",
              "    }\n",
              "\n",
              "    .dataframe tbody tr th {\n",
              "        vertical-align: top;\n",
              "    }\n",
              "\n",
              "    .dataframe thead th {\n",
              "        text-align: right;\n",
              "    }\n",
              "</style>\n",
              "<table border=\"1\" class=\"dataframe\">\n",
              "  <thead>\n",
              "    <tr style=\"text-align: right;\">\n",
              "      <th></th>\n",
              "      <th>text</th>\n",
              "      <th>label</th>\n",
              "    </tr>\n",
              "  </thead>\n",
              "  <tbody>\n",
              "    <tr>\n",
              "      <th>0</th>\n",
              "      <td>không có chào đón như trong giới thiệu</td>\n",
              "      <td>0</td>\n",
              "    </tr>\n",
              "    <tr>\n",
              "      <th>1</th>\n",
              "      <td>lựa chọn tốt cho du lịch nhóm  gia đình</td>\n",
              "      <td>1</td>\n",
              "    </tr>\n",
              "    <tr>\n",
              "      <th>2</th>\n",
              "      <td>phòng yên tĩnh dù sát mặt đường lớn   sạch sẽ</td>\n",
              "      <td>1</td>\n",
              "    </tr>\n",
              "    <tr>\n",
              "      <th>3</th>\n",
              "      <td>phòng sạch đẹp</td>\n",
              "      <td>1</td>\n",
              "    </tr>\n",
              "    <tr>\n",
              "      <th>4</th>\n",
              "      <td>khách sạn sạch sẽ  gần biển  gần siêu thị lott...</td>\n",
              "      <td>1</td>\n",
              "    </tr>\n",
              "    <tr>\n",
              "      <th>...</th>\n",
              "      <td>...</td>\n",
              "      <td>...</td>\n",
              "    </tr>\n",
              "    <tr>\n",
              "      <th>4119</th>\n",
              "      <td>thôi thì treo biển không nhận khách đi oto cho...</td>\n",
              "      <td>0</td>\n",
              "    </tr>\n",
              "    <tr>\n",
              "      <th>4120</th>\n",
              "      <td>12 giờ đêm về thì khách sạn tối hin</td>\n",
              "      <td>0</td>\n",
              "    </tr>\n",
              "    <tr>\n",
              "      <th>4121</th>\n",
              "      <td>nói 3 sao thì hơi quá</td>\n",
              "      <td>0</td>\n",
              "    </tr>\n",
              "    <tr>\n",
              "      <th>4122</th>\n",
              "      <td>thua khách sạn mình ở nha trang  vẫn 3 sao</td>\n",
              "      <td>0</td>\n",
              "    </tr>\n",
              "    <tr>\n",
              "      <th>4123</th>\n",
              "      <td>vẫn nằm ở trục đường chính một chiều đông ngẹt...</td>\n",
              "      <td>0</td>\n",
              "    </tr>\n",
              "  </tbody>\n",
              "</table>\n",
              "<p>4124 rows × 2 columns</p>\n",
              "</div>"
            ],
            "text/plain": [
              "                                                   text  label\n",
              "0                không có chào đón như trong giới thiệu      0\n",
              "1               lựa chọn tốt cho du lịch nhóm  gia đình      1\n",
              "2         phòng yên tĩnh dù sát mặt đường lớn   sạch sẽ      1\n",
              "3                                        phòng sạch đẹp      1\n",
              "4     khách sạn sạch sẽ  gần biển  gần siêu thị lott...      1\n",
              "...                                                 ...    ...\n",
              "4119  thôi thì treo biển không nhận khách đi oto cho...      0\n",
              "4120                12 giờ đêm về thì khách sạn tối hin      0\n",
              "4121                              nói 3 sao thì hơi quá      0\n",
              "4122         thua khách sạn mình ở nha trang  vẫn 3 sao      0\n",
              "4123  vẫn nằm ở trục đường chính một chiều đông ngẹt...      0\n",
              "\n",
              "[4124 rows x 2 columns]"
            ]
          },
          "metadata": {
            "tags": []
          },
          "execution_count": 87
        }
      ]
    },
    {
      "cell_type": "markdown",
      "metadata": {
        "id": "0aQGslCEMGny",
        "colab_type": "text"
      },
      "source": [
        "\n",
        "#### TF-IDF"
      ]
    },
    {
      "cell_type": "code",
      "metadata": {
        "id": "Hm8nyAZeY3v0",
        "colab_type": "code",
        "colab": {}
      },
      "source": [
        "X_train,X_test, y_train, y_test=train_test_split(df['text'],df['label'],test_size=0.2)\n",
        "emb=TfidfVectorizer()\n",
        "emb.fit(df['text'])\n",
        "X_train=emb.transform(X_train)\n",
        "X_test=emb.transform(X_test)"
      ],
      "execution_count": 88,
      "outputs": []
    },
    {
      "cell_type": "code",
      "metadata": {
        "colab_type": "code",
        "id": "cXC2qd0A1gR6",
        "colab": {
          "base_uri": "https://localhost:8080/",
          "height": 34
        },
        "outputId": "e571d273-f14f-445b-b0ff-59da9ea59dde"
      },
      "source": [
        "joblib.dump(emb, '/content/drive/My Drive/Colab Notebooks/ML/DoAnCuoiKy/tfidf_cach.pkl')"
      ],
      "execution_count": 89,
      "outputs": [
        {
          "output_type": "execute_result",
          "data": {
            "text/plain": [
              "['/content/drive/My Drive/Colab Notebooks/ML/DoAnCuoiKy/tfidf_cach.pkl']"
            ]
          },
          "metadata": {
            "tags": []
          },
          "execution_count": 89
        }
      ]
    },
    {
      "cell_type": "code",
      "metadata": {
        "id": "co_47ldRY3wB",
        "colab_type": "code",
        "colab": {
          "base_uri": "https://localhost:8080/",
          "height": 52
        },
        "outputId": "65e3693d-dd96-4bc3-ae85-72261b55e681"
      },
      "source": [
        "X_train"
      ],
      "execution_count": 90,
      "outputs": [
        {
          "output_type": "execute_result",
          "data": {
            "text/plain": [
              "<3299x2490 sparse matrix of type '<class 'numpy.float64'>'\n",
              "\twith 43908 stored elements in Compressed Sparse Row format>"
            ]
          },
          "metadata": {
            "tags": []
          },
          "execution_count": 90
        }
      ]
    },
    {
      "cell_type": "code",
      "metadata": {
        "id": "wKaP6ZoU2DuS",
        "colab_type": "code",
        "colab": {
          "base_uri": "https://localhost:8080/",
          "height": 230
        },
        "outputId": "cb7295f6-4474-4a8b-97a9-b50a1dbf1011"
      },
      "source": [
        "y_train"
      ],
      "execution_count": 91,
      "outputs": [
        {
          "output_type": "execute_result",
          "data": {
            "text/plain": [
              "2719    1\n",
              "882     1\n",
              "2220    1\n",
              "3922    0\n",
              "3017    1\n",
              "       ..\n",
              "3210    1\n",
              "756     1\n",
              "240     0\n",
              "455     0\n",
              "1228    1\n",
              "Name: label, Length: 3299, dtype: int64"
            ]
          },
          "metadata": {
            "tags": []
          },
          "execution_count": 91
        }
      ]
    },
    {
      "cell_type": "markdown",
      "metadata": {
        "id": "-jSTpO5K2JVN",
        "colab_type": "text"
      },
      "source": [
        "##### Lựa chọn model"
      ]
    },
    {
      "cell_type": "code",
      "metadata": {
        "id": "aIUrqnJNY3wI",
        "colab_type": "code",
        "colab": {
          "base_uri": "https://localhost:8080/",
          "height": 230
        },
        "outputId": "1b117b05-047c-4594-cadd-3d7e262e1822"
      },
      "source": [
        "from sklearn.naive_bayes import BernoulliNB\n",
        "model=BernoulliNB()\n",
        "model.fit(X_train,y_train)\n",
        "predict=model.predict(X_test)\n",
        "print('Accuracy:  ',accuracy_score(y_test,predict))\n",
        "print(classification_report(y_test,predict))\n",
        "print(confusion_matrix(y_test,predict))"
      ],
      "execution_count": 93,
      "outputs": [
        {
          "output_type": "stream",
          "text": [
            "Accuracy:   0.8812121212121212\n",
            "              precision    recall  f1-score   support\n",
            "\n",
            "           0       0.91      0.80      0.85       350\n",
            "           1       0.86      0.94      0.90       475\n",
            "\n",
            "    accuracy                           0.88       825\n",
            "   macro avg       0.89      0.87      0.88       825\n",
            "weighted avg       0.88      0.88      0.88       825\n",
            "\n",
            "[[280  70]\n",
            " [ 28 447]]\n"
          ],
          "name": "stdout"
        }
      ]
    },
    {
      "cell_type": "code",
      "metadata": {
        "id": "jhKafl3OY3wO",
        "colab_type": "code",
        "colab": {
          "base_uri": "https://localhost:8080/",
          "height": 230
        },
        "outputId": "bc42613f-dde9-4cee-efac-b365aaa1e8ef"
      },
      "source": [
        "from sklearn.linear_model import LogisticRegression\n",
        "model=LogisticRegression()\n",
        "model.fit(X_train,y_train)\n",
        "predict=model.predict(X_test)\n",
        "print('Accuracy: ',accuracy_score(y_test, predict))\n",
        "print(classification_report(y_test,predict))\n",
        "print(confusion_matrix(y_test,predict))"
      ],
      "execution_count": 94,
      "outputs": [
        {
          "output_type": "stream",
          "text": [
            "Accuracy:  0.9309090909090909\n",
            "              precision    recall  f1-score   support\n",
            "\n",
            "           0       0.92      0.92      0.92       350\n",
            "           1       0.94      0.94      0.94       475\n",
            "\n",
            "    accuracy                           0.93       825\n",
            "   macro avg       0.93      0.93      0.93       825\n",
            "weighted avg       0.93      0.93      0.93       825\n",
            "\n",
            "[[321  29]\n",
            " [ 28 447]]\n"
          ],
          "name": "stdout"
        }
      ]
    },
    {
      "cell_type": "code",
      "metadata": {
        "id": "HA2u2jiOY3wU",
        "colab_type": "code",
        "colab": {
          "base_uri": "https://localhost:8080/",
          "height": 230
        },
        "outputId": "56766b43-c7c3-4740-eb2b-f9bb0cefaa41"
      },
      "source": [
        "from sklearn.ensemble import RandomForestClassifier\n",
        "model=RandomForestClassifier()\n",
        "model.fit(X_train,y_train)\n",
        "predict=model.predict(X_test)\n",
        "print('Accuracy: ',accuracy_score(y_test, predict))\n",
        "print(classification_report(y_test,predict))\n",
        "print(confusion_matrix(y_test,predict))"
      ],
      "execution_count": 95,
      "outputs": [
        {
          "output_type": "stream",
          "text": [
            "Accuracy:  0.9248484848484848\n",
            "              precision    recall  f1-score   support\n",
            "\n",
            "           0       0.92      0.90      0.91       350\n",
            "           1       0.93      0.94      0.94       475\n",
            "\n",
            "    accuracy                           0.92       825\n",
            "   macro avg       0.92      0.92      0.92       825\n",
            "weighted avg       0.92      0.92      0.92       825\n",
            "\n",
            "[[316  34]\n",
            " [ 28 447]]\n"
          ],
          "name": "stdout"
        }
      ]
    },
    {
      "cell_type": "code",
      "metadata": {
        "scrolled": false,
        "id": "QYZKVpQnY3wa",
        "colab_type": "code",
        "colab": {
          "base_uri": "https://localhost:8080/",
          "height": 230
        },
        "outputId": "1ee0b338-1392-4078-b74d-16d0e4cc42bd"
      },
      "source": [
        "from sklearn.svm import SVC\n",
        "model=SVC()\n",
        "model.fit(X_train,y_train)\n",
        "predict=model.predict(X_test)\n",
        "print('Accuracy: ',accuracy_score(y_test, predict))\n",
        "print(classification_report(y_test,predict))\n",
        "print(confusion_matrix(y_test,predict))"
      ],
      "execution_count": 96,
      "outputs": [
        {
          "output_type": "stream",
          "text": [
            "Accuracy:  0.9490909090909091\n",
            "              precision    recall  f1-score   support\n",
            "\n",
            "           0       0.93      0.96      0.94       350\n",
            "           1       0.97      0.94      0.96       475\n",
            "\n",
            "    accuracy                           0.95       825\n",
            "   macro avg       0.95      0.95      0.95       825\n",
            "weighted avg       0.95      0.95      0.95       825\n",
            "\n",
            "[[335  15]\n",
            " [ 27 448]]\n"
          ],
          "name": "stdout"
        }
      ]
    },
    {
      "cell_type": "code",
      "metadata": {
        "id": "eutfr2fBY3wg",
        "colab_type": "code",
        "colab": {
          "base_uri": "https://localhost:8080/",
          "height": 230
        },
        "outputId": "836ecd7e-344b-4189-eb03-5282d1017dfb"
      },
      "source": [
        "from sklearn.tree import DecisionTreeClassifier\n",
        "model=DecisionTreeClassifier().fit(X_train,y_train)\n",
        "predict=model.predict(X_test)\n",
        "print('Accuracy: ',accuracy_score(y_test,predict))\n",
        "print(classification_report(y_test,predict))\n",
        "print(confusion_matrix(y_test,predict))"
      ],
      "execution_count": 97,
      "outputs": [
        {
          "output_type": "stream",
          "text": [
            "Accuracy:  0.8848484848484849\n",
            "              precision    recall  f1-score   support\n",
            "\n",
            "           0       0.88      0.85      0.86       350\n",
            "           1       0.89      0.91      0.90       475\n",
            "\n",
            "    accuracy                           0.88       825\n",
            "   macro avg       0.88      0.88      0.88       825\n",
            "weighted avg       0.88      0.88      0.88       825\n",
            "\n",
            "[[297  53]\n",
            " [ 42 433]]\n"
          ],
          "name": "stdout"
        }
      ]
    },
    {
      "cell_type": "markdown",
      "metadata": {
        "id": "NvqhS8tAMQF4",
        "colab_type": "text"
      },
      "source": [
        " #### CountVectorizer"
      ]
    },
    {
      "cell_type": "code",
      "metadata": {
        "id": "JuGqNeFtQsmB",
        "colab_type": "code",
        "colab": {}
      },
      "source": [
        "from sklearn.feature_extraction.text import CountVectorizer\n",
        "from sklearn.naive_bayes import GaussianNB, BernoulliNB\n",
        "from sklearn.tree import DecisionTreeClassifier\n",
        "from sklearn.ensemble import RandomForestClassifier\n",
        "from sklearn.linear_model import LogisticRegression\n",
        "from sklearn.svm import SVC\n",
        "from sklearn.metrics import classification_report, confusion_matrix"
      ],
      "execution_count": 98,
      "outputs": []
    },
    {
      "cell_type": "code",
      "metadata": {
        "id": "_Vd0C4mjMUUm",
        "colab_type": "code",
        "colab": {}
      },
      "source": [
        "X=df['text']\n",
        "y=df['label']\n",
        "emb=CountVectorizer().fit(X)\n",
        "X_train,X_test, y_train, y_test=train_test_split(X , y , test_size=0.2)\n",
        "X_train=emb.transform(X_train)\n",
        "X_test=emb.transform(X_test)"
      ],
      "execution_count": 99,
      "outputs": []
    },
    {
      "cell_type": "code",
      "metadata": {
        "id": "YvwjoWgU5UeX",
        "colab_type": "code",
        "colab": {
          "base_uri": "https://localhost:8080/",
          "height": 34
        },
        "outputId": "f1bca1be-350f-4eb6-9c77-ba505ca7136f"
      },
      "source": [
        "joblib.dump(emb, '/content/drive/My Drive/Colab Notebooks/ML/DoAnCuoiKy/countvr_cach.pkl')"
      ],
      "execution_count": 100,
      "outputs": [
        {
          "output_type": "execute_result",
          "data": {
            "text/plain": [
              "['/content/drive/My Drive/Colab Notebooks/ML/DoAnCuoiKy/countvr_cach.pkl']"
            ]
          },
          "metadata": {
            "tags": []
          },
          "execution_count": 100
        }
      ]
    },
    {
      "cell_type": "code",
      "metadata": {
        "id": "gYbgICwCSO42",
        "colab_type": "code",
        "colab": {
          "base_uri": "https://localhost:8080/",
          "height": 230
        },
        "outputId": "07d90f43-b704-4be3-a35a-8963b484a063"
      },
      "source": [
        "model=GaussianNB().fit(X_train.toarray(),y_train)\n",
        "predict=model.predict(X_test.toarray())\n",
        "print('Accuracy: ',accuracy_score(y_test, predict))\n",
        "print(classification_report(y_test,predict))\n",
        "print(confusion_matrix(y_test,predict))"
      ],
      "execution_count": 101,
      "outputs": [
        {
          "output_type": "stream",
          "text": [
            "Accuracy:  0.7660606060606061\n",
            "              precision    recall  f1-score   support\n",
            "\n",
            "           0       0.83      0.52      0.64       328\n",
            "           1       0.75      0.93      0.83       497\n",
            "\n",
            "    accuracy                           0.77       825\n",
            "   macro avg       0.79      0.72      0.73       825\n",
            "weighted avg       0.78      0.77      0.75       825\n",
            "\n",
            "[[170 158]\n",
            " [ 35 462]]\n"
          ],
          "name": "stdout"
        }
      ]
    },
    {
      "cell_type": "code",
      "metadata": {
        "id": "JAN77R9vTiKz",
        "colab_type": "code",
        "colab": {
          "base_uri": "https://localhost:8080/",
          "height": 230
        },
        "outputId": "6f3d335c-231a-43af-bdc9-b0578a634349"
      },
      "source": [
        "model=BernoulliNB().fit(X_train,y_train)\n",
        "predict=model.predict(X_test)\n",
        "print('Accuracy: ',accuracy_score(y_test, predict))\n",
        "print(classification_report(y_test,predict))\n",
        "print(confusion_matrix(y_test,predict))"
      ],
      "execution_count": 102,
      "outputs": [
        {
          "output_type": "stream",
          "text": [
            "Accuracy:  0.8581818181818182\n",
            "              precision    recall  f1-score   support\n",
            "\n",
            "           0       0.84      0.79      0.82       328\n",
            "           1       0.87      0.90      0.88       497\n",
            "\n",
            "    accuracy                           0.86       825\n",
            "   macro avg       0.86      0.85      0.85       825\n",
            "weighted avg       0.86      0.86      0.86       825\n",
            "\n",
            "[[259  69]\n",
            " [ 48 449]]\n"
          ],
          "name": "stdout"
        }
      ]
    },
    {
      "cell_type": "code",
      "metadata": {
        "id": "iMOEzfJ3Tr8y",
        "colab_type": "code",
        "colab": {
          "base_uri": "https://localhost:8080/",
          "height": 230
        },
        "outputId": "62a12453-295f-4a78-b2f4-13fffab608fe"
      },
      "source": [
        "model=SVC().fit(X_train,y_train)\n",
        "predict=model.predict(X_test)\n",
        "print('Accuracy: ',accuracy_score(y_test, predict))\n",
        "print(classification_report(y_test,predict))\n",
        "print(confusion_matrix(y_test,predict))"
      ],
      "execution_count": 103,
      "outputs": [
        {
          "output_type": "stream",
          "text": [
            "Accuracy:  0.9224242424242424\n",
            "              precision    recall  f1-score   support\n",
            "\n",
            "           0       0.88      0.93      0.90       328\n",
            "           1       0.95      0.92      0.93       497\n",
            "\n",
            "    accuracy                           0.92       825\n",
            "   macro avg       0.92      0.92      0.92       825\n",
            "weighted avg       0.92      0.92      0.92       825\n",
            "\n",
            "[[304  24]\n",
            " [ 40 457]]\n"
          ],
          "name": "stdout"
        }
      ]
    },
    {
      "cell_type": "code",
      "metadata": {
        "id": "9e0QX5j4TvsW",
        "colab_type": "code",
        "colab": {
          "base_uri": "https://localhost:8080/",
          "height": 230
        },
        "outputId": "c6f5f417-2fde-4e2b-8815-9db7098f1c90"
      },
      "source": [
        "model=RandomForestClassifier().fit(X_train,y_train)\n",
        "predict=model.predict(X_test)\n",
        "print('Accuracy: ',accuracy_score(y_test, predict))\n",
        "print(classification_report(y_test,predict))\n",
        "print(confusion_matrix(y_test,predict))"
      ],
      "execution_count": 104,
      "outputs": [
        {
          "output_type": "stream",
          "text": [
            "Accuracy:  0.926060606060606\n",
            "              precision    recall  f1-score   support\n",
            "\n",
            "           0       0.88      0.94      0.91       328\n",
            "           1       0.96      0.92      0.94       497\n",
            "\n",
            "    accuracy                           0.93       825\n",
            "   macro avg       0.92      0.93      0.92       825\n",
            "weighted avg       0.93      0.93      0.93       825\n",
            "\n",
            "[[308  20]\n",
            " [ 41 456]]\n"
          ],
          "name": "stdout"
        }
      ]
    },
    {
      "cell_type": "code",
      "metadata": {
        "id": "yXaLzsouTzsD",
        "colab_type": "code",
        "colab": {
          "base_uri": "https://localhost:8080/",
          "height": 230
        },
        "outputId": "519e6eda-0a01-45a9-b0cf-229e633acac6"
      },
      "source": [
        "model=DecisionTreeClassifier().fit(X_train,y_train)\n",
        "predict=model.predict(X_test)\n",
        "print('Accuracy: ',accuracy_score(y_test, predict))\n",
        "print(classification_report(y_test,predict))\n",
        "print(confusion_matrix(y_test,predict))"
      ],
      "execution_count": 105,
      "outputs": [
        {
          "output_type": "stream",
          "text": [
            "Accuracy:  0.8884848484848484\n",
            "              precision    recall  f1-score   support\n",
            "\n",
            "           0       0.86      0.86      0.86       328\n",
            "           1       0.91      0.91      0.91       497\n",
            "\n",
            "    accuracy                           0.89       825\n",
            "   macro avg       0.88      0.88      0.88       825\n",
            "weighted avg       0.89      0.89      0.89       825\n",
            "\n",
            "[[282  46]\n",
            " [ 46 451]]\n"
          ],
          "name": "stdout"
        }
      ]
    },
    {
      "cell_type": "code",
      "metadata": {
        "id": "-LvVBW_xT3_Z",
        "colab_type": "code",
        "colab": {
          "base_uri": "https://localhost:8080/",
          "height": 230
        },
        "outputId": "5040ee56-949f-4d26-df0d-c61c00eddcd6"
      },
      "source": [
        "model=LogisticRegression().fit(X_train,y_train)\n",
        "predict=model.predict(X_test)\n",
        "print('Accuracy: ',accuracy_score(y_test, predict))\n",
        "print(classification_report(y_test,predict))\n",
        "print(confusion_matrix(y_test,predict))"
      ],
      "execution_count": 106,
      "outputs": [
        {
          "output_type": "stream",
          "text": [
            "Accuracy:  0.9478787878787879\n",
            "              precision    recall  f1-score   support\n",
            "\n",
            "           0       0.94      0.93      0.93       328\n",
            "           1       0.95      0.96      0.96       497\n",
            "\n",
            "    accuracy                           0.95       825\n",
            "   macro avg       0.95      0.94      0.95       825\n",
            "weighted avg       0.95      0.95      0.95       825\n",
            "\n",
            "[[305  23]\n",
            " [ 20 477]]\n"
          ],
          "name": "stdout"
        }
      ]
    },
    {
      "cell_type": "markdown",
      "metadata": {
        "id": "PRaGqLHgLeRM",
        "colab_type": "text"
      },
      "source": [
        "### Pyvi"
      ]
    },
    {
      "cell_type": "code",
      "metadata": {
        "id": "hUWhfCRWY3tp",
        "colab_type": "code",
        "colab": {
          "base_uri": "https://localhost:8080/",
          "height": 421
        },
        "outputId": "7c032dc3-ec7a-4bd1-b14f-d87c2de947ae"
      },
      "source": [
        "df['text'] = df['text'].apply(standardize_data)\n",
        "df['text'] = df['text'].apply(Token)\n",
        "df"
      ],
      "execution_count": 107,
      "outputs": [
        {
          "output_type": "execute_result",
          "data": {
            "text/html": [
              "<div>\n",
              "<style scoped>\n",
              "    .dataframe tbody tr th:only-of-type {\n",
              "        vertical-align: middle;\n",
              "    }\n",
              "\n",
              "    .dataframe tbody tr th {\n",
              "        vertical-align: top;\n",
              "    }\n",
              "\n",
              "    .dataframe thead th {\n",
              "        text-align: right;\n",
              "    }\n",
              "</style>\n",
              "<table border=\"1\" class=\"dataframe\">\n",
              "  <thead>\n",
              "    <tr style=\"text-align: right;\">\n",
              "      <th></th>\n",
              "      <th>text</th>\n",
              "      <th>label</th>\n",
              "    </tr>\n",
              "  </thead>\n",
              "  <tbody>\n",
              "    <tr>\n",
              "      <th>0</th>\n",
              "      <td>không có chào_đón như trong giới_thiệu</td>\n",
              "      <td>0</td>\n",
              "    </tr>\n",
              "    <tr>\n",
              "      <th>1</th>\n",
              "      <td>lựa_chọn tốt cho du_lịch nhóm gia_đình</td>\n",
              "      <td>1</td>\n",
              "    </tr>\n",
              "    <tr>\n",
              "      <th>2</th>\n",
              "      <td>phòng yên_tĩnh dù sát mặt_đường lớn sạch_sẽ</td>\n",
              "      <td>1</td>\n",
              "    </tr>\n",
              "    <tr>\n",
              "      <th>3</th>\n",
              "      <td>phòng sạch đẹp</td>\n",
              "      <td>1</td>\n",
              "    </tr>\n",
              "    <tr>\n",
              "      <th>4</th>\n",
              "      <td>khách_sạn sạch_sẽ gần biển gần siêu_thị lotte ...</td>\n",
              "      <td>1</td>\n",
              "    </tr>\n",
              "    <tr>\n",
              "      <th>...</th>\n",
              "      <td>...</td>\n",
              "      <td>...</td>\n",
              "    </tr>\n",
              "    <tr>\n",
              "      <th>4119</th>\n",
              "      <td>thôi_thì treo biển không nhận khách đi oto cho...</td>\n",
              "      <td>0</td>\n",
              "    </tr>\n",
              "    <tr>\n",
              "      <th>4120</th>\n",
              "      <td>12 giờ đêm về thì khách_sạn tối hin</td>\n",
              "      <td>0</td>\n",
              "    </tr>\n",
              "    <tr>\n",
              "      <th>4121</th>\n",
              "      <td>nói 3 sao thì hơi quá</td>\n",
              "      <td>0</td>\n",
              "    </tr>\n",
              "    <tr>\n",
              "      <th>4122</th>\n",
              "      <td>thua khách_sạn mình ở nha trang vẫn 3 sao</td>\n",
              "      <td>0</td>\n",
              "    </tr>\n",
              "    <tr>\n",
              "      <th>4123</th>\n",
              "      <td>vẫn nằm ở trục đường chính một chiều đông ngẹt...</td>\n",
              "      <td>0</td>\n",
              "    </tr>\n",
              "  </tbody>\n",
              "</table>\n",
              "<p>4124 rows × 2 columns</p>\n",
              "</div>"
            ],
            "text/plain": [
              "                                                   text  label\n",
              "0                không có chào_đón như trong giới_thiệu      0\n",
              "1                lựa_chọn tốt cho du_lịch nhóm gia_đình      1\n",
              "2           phòng yên_tĩnh dù sát mặt_đường lớn sạch_sẽ      1\n",
              "3                                        phòng sạch đẹp      1\n",
              "4     khách_sạn sạch_sẽ gần biển gần siêu_thị lotte ...      1\n",
              "...                                                 ...    ...\n",
              "4119  thôi_thì treo biển không nhận khách đi oto cho...      0\n",
              "4120                12 giờ đêm về thì khách_sạn tối hin      0\n",
              "4121                              nói 3 sao thì hơi quá      0\n",
              "4122          thua khách_sạn mình ở nha trang vẫn 3 sao      0\n",
              "4123  vẫn nằm ở trục đường chính một chiều đông ngẹt...      0\n",
              "\n",
              "[4124 rows x 2 columns]"
            ]
          },
          "metadata": {
            "tags": []
          },
          "execution_count": 107
        }
      ]
    },
    {
      "cell_type": "markdown",
      "metadata": {
        "id": "kuMo_Fh3gws2",
        "colab_type": "text"
      },
      "source": [
        "#### TF-IDF"
      ]
    },
    {
      "cell_type": "code",
      "metadata": {
        "id": "yg9joCotY3uP",
        "colab_type": "code",
        "colab": {}
      },
      "source": [
        "emb=TfidfVectorizer().fit(df['text'])"
      ],
      "execution_count": 108,
      "outputs": []
    },
    {
      "cell_type": "code",
      "metadata": {
        "id": "r8b291aIY3ud",
        "colab_type": "code",
        "colab": {
          "base_uri": "https://localhost:8080/",
          "height": 34
        },
        "outputId": "89bdb147-801f-4956-ad2e-9eb5ae7d3185"
      },
      "source": [
        "joblib.dump(emb, '/content/drive/My Drive/Colab Notebooks/ML/DoAnCuoiKy/tfidf_pyvi.pkl')"
      ],
      "execution_count": 109,
      "outputs": [
        {
          "output_type": "execute_result",
          "data": {
            "text/plain": [
              "['/content/drive/My Drive/Colab Notebooks/ML/DoAnCuoiKy/tfidf_pyvi.pkl']"
            ]
          },
          "metadata": {
            "tags": []
          },
          "execution_count": 109
        }
      ]
    },
    {
      "cell_type": "code",
      "metadata": {
        "id": "OwzzggTK5x99",
        "colab_type": "code",
        "colab": {}
      },
      "source": [
        "X_train, X_test, y_train, y_test = train_test_split(df['text'], df['label'], test_size=0.2)"
      ],
      "execution_count": 110,
      "outputs": []
    },
    {
      "cell_type": "code",
      "metadata": {
        "id": "SyvgwZ_M6CoT",
        "colab_type": "code",
        "colab": {}
      },
      "source": [
        "X_train=emb.transform(X_train)\n",
        "X_test=emb.transform(X_test)"
      ],
      "execution_count": 111,
      "outputs": []
    },
    {
      "cell_type": "code",
      "metadata": {
        "id": "Ue0dPw9MY3uo",
        "colab_type": "code",
        "colab": {
          "base_uri": "https://localhost:8080/",
          "height": 52
        },
        "outputId": "81cf913f-2117-46a2-bac0-8deead6768b0"
      },
      "source": [
        "X_train"
      ],
      "execution_count": 112,
      "outputs": [
        {
          "output_type": "execute_result",
          "data": {
            "text/plain": [
              "<3299x3212 sparse matrix of type '<class 'numpy.float64'>'\n",
              "\twith 34783 stored elements in Compressed Sparse Row format>"
            ]
          },
          "metadata": {
            "tags": []
          },
          "execution_count": 112
        }
      ]
    },
    {
      "cell_type": "code",
      "metadata": {
        "id": "ym9Bcc6sY3uu",
        "colab_type": "code",
        "colab": {
          "base_uri": "https://localhost:8080/",
          "height": 230
        },
        "outputId": "898de55d-967b-410e-9e10-8935dbd6c032"
      },
      "source": [
        "from sklearn.naive_bayes import BernoulliNB\n",
        "model=BernoulliNB()\n",
        "model.fit(X_train,y_train)\n",
        "predict=model1.predict(X_test)\n",
        "print('Accuracy: ',accuracy_score(y_test, predict))\n",
        "print(classification_report(y_test, predict))\n",
        "print(confusion_matrix(y_test, predict))"
      ],
      "execution_count": 113,
      "outputs": [
        {
          "output_type": "stream",
          "text": [
            "Accuracy:  0.9187878787878788\n",
            "              precision    recall  f1-score   support\n",
            "\n",
            "           0       0.95      0.84      0.89       327\n",
            "           1       0.90      0.97      0.94       498\n",
            "\n",
            "    accuracy                           0.92       825\n",
            "   macro avg       0.93      0.90      0.91       825\n",
            "weighted avg       0.92      0.92      0.92       825\n",
            "\n",
            "[[274  53]\n",
            " [ 14 484]]\n"
          ],
          "name": "stdout"
        }
      ]
    },
    {
      "cell_type": "code",
      "metadata": {
        "id": "a_e0jDtwY3vQ",
        "colab_type": "code",
        "colab": {
          "base_uri": "https://localhost:8080/",
          "height": 230
        },
        "outputId": "b654321f-7e86-420a-f2db-b4670416adf9"
      },
      "source": [
        "from sklearn.linear_model import LogisticRegression\n",
        "model=LogisticRegression()\n",
        "model.fit(X_train,y_train)\n",
        "predict=model.predict(X_test)\n",
        "print('Accuracy: ',accuracy_score(y_test, predict))\n",
        "print(classification_report(y_test,predict))\n",
        "print(confusion_matrix(y_test,predict))"
      ],
      "execution_count": 114,
      "outputs": [
        {
          "output_type": "stream",
          "text": [
            "Accuracy:  0.9515151515151515\n",
            "              precision    recall  f1-score   support\n",
            "\n",
            "           0       0.95      0.93      0.94       327\n",
            "           1       0.95      0.97      0.96       498\n",
            "\n",
            "    accuracy                           0.95       825\n",
            "   macro avg       0.95      0.95      0.95       825\n",
            "weighted avg       0.95      0.95      0.95       825\n",
            "\n",
            "[[303  24]\n",
            " [ 16 482]]\n"
          ],
          "name": "stdout"
        }
      ]
    },
    {
      "cell_type": "code",
      "metadata": {
        "id": "YwHOlsTeY3vY",
        "colab_type": "code",
        "colab": {
          "base_uri": "https://localhost:8080/",
          "height": 230
        },
        "outputId": "26f6cc1b-11ac-4b3a-d99e-bc9c2c3a22f1"
      },
      "source": [
        "from sklearn.svm import SVC\n",
        "model=SVC().fit(X_train,y_train)\n",
        "predict=model.predict(X_test)\n",
        "print('Accuracy: ',accuracy_score(y_test, predict))\n",
        "print(classification_report(y_test,predict))\n",
        "print(confusion_matrix(y_test,predict))"
      ],
      "execution_count": 115,
      "outputs": [
        {
          "output_type": "stream",
          "text": [
            "Accuracy:  0.9575757575757575\n",
            "              precision    recall  f1-score   support\n",
            "\n",
            "           0       0.95      0.95      0.95       327\n",
            "           1       0.97      0.96      0.96       498\n",
            "\n",
            "    accuracy                           0.96       825\n",
            "   macro avg       0.96      0.96      0.96       825\n",
            "weighted avg       0.96      0.96      0.96       825\n",
            "\n",
            "[[310  17]\n",
            " [ 18 480]]\n"
          ],
          "name": "stdout"
        }
      ]
    },
    {
      "cell_type": "code",
      "metadata": {
        "scrolled": true,
        "id": "cp00uQE0Y3vf",
        "colab_type": "code",
        "colab": {
          "base_uri": "https://localhost:8080/",
          "height": 230
        },
        "outputId": "30770767-af9b-471a-f439-3d1311455ac9"
      },
      "source": [
        "from sklearn.ensemble import RandomForestClassifier\n",
        "model=RandomForestClassifier().fit(X_train,y_train)\n",
        "predict=model.predict(X_test)\n",
        "print('Accuracy: ',accuracy_score(y_test, predict))\n",
        "print(classification_report(y_test,predict))\n",
        "print(confusion_matrix(y_test,predict))"
      ],
      "execution_count": 116,
      "outputs": [
        {
          "output_type": "stream",
          "text": [
            "Accuracy:  0.9490909090909091\n",
            "              precision    recall  f1-score   support\n",
            "\n",
            "           0       0.94      0.94      0.94       327\n",
            "           1       0.96      0.96      0.96       498\n",
            "\n",
            "    accuracy                           0.95       825\n",
            "   macro avg       0.95      0.95      0.95       825\n",
            "weighted avg       0.95      0.95      0.95       825\n",
            "\n",
            "[[306  21]\n",
            " [ 21 477]]\n"
          ],
          "name": "stdout"
        }
      ]
    },
    {
      "cell_type": "code",
      "metadata": {
        "id": "0C-HMEipY3vm",
        "colab_type": "code",
        "colab": {
          "base_uri": "https://localhost:8080/",
          "height": 230
        },
        "outputId": "76c2326d-a409-43fe-fbef-00f40f1acb1b"
      },
      "source": [
        "from sklearn.tree import DecisionTreeClassifier\n",
        "model=DecisionTreeClassifier().fit(X_train,y_train)\n",
        "predict=model.predict(X_test)\n",
        "print('Accuracy: ',accuracy_score(y_test, predict))\n",
        "print(classification_report(y_test,predict))\n",
        "print(confusion_matrix(y_test,predict))"
      ],
      "execution_count": 117,
      "outputs": [
        {
          "output_type": "stream",
          "text": [
            "Accuracy:  0.9103030303030303\n",
            "              precision    recall  f1-score   support\n",
            "\n",
            "           0       0.89      0.88      0.89       327\n",
            "           1       0.92      0.93      0.93       498\n",
            "\n",
            "    accuracy                           0.91       825\n",
            "   macro avg       0.91      0.90      0.91       825\n",
            "weighted avg       0.91      0.91      0.91       825\n",
            "\n",
            "[[287  40]\n",
            " [ 34 464]]\n"
          ],
          "name": "stdout"
        }
      ]
    },
    {
      "cell_type": "markdown",
      "metadata": {
        "id": "ZVARGUArg3yt",
        "colab_type": "text"
      },
      "source": [
        "#### CountVecterizer"
      ]
    },
    {
      "cell_type": "code",
      "metadata": {
        "id": "bIuyv_G2g8nQ",
        "colab_type": "code",
        "colab": {}
      },
      "source": [
        "from sklearn.feature_extraction.text import CountVectorizer"
      ],
      "execution_count": 118,
      "outputs": []
    },
    {
      "cell_type": "code",
      "metadata": {
        "id": "WwoIOFvbiLDQ",
        "colab_type": "code",
        "colab": {}
      },
      "source": [
        "X_train, X_test, y_train, y_test = train_test_split( df['text'], df['label'], test_size=0.2)"
      ],
      "execution_count": 119,
      "outputs": []
    },
    {
      "cell_type": "code",
      "metadata": {
        "id": "n63hYbiMh8Kn",
        "colab_type": "code",
        "colab": {}
      },
      "source": [
        "emb=CountVectorizer().fit(df['text'])\n",
        "\n",
        "X_train=emb.transform(X_train)\n",
        "X_test=emb.transform(X_test)"
      ],
      "execution_count": 120,
      "outputs": []
    },
    {
      "cell_type": "code",
      "metadata": {
        "id": "LY5AmX-imztv",
        "colab_type": "code",
        "colab": {
          "base_uri": "https://localhost:8080/",
          "height": 34
        },
        "outputId": "8bb966f6-6945-44fe-b2b0-e776b1368926"
      },
      "source": [
        "joblib.dump(emb, '/content/drive/My Drive/Colab Notebooks/ML/DoAnCuoiKy/Count_pyvi.pkl')"
      ],
      "execution_count": 121,
      "outputs": [
        {
          "output_type": "execute_result",
          "data": {
            "text/plain": [
              "['/content/drive/My Drive/Colab Notebooks/ML/DoAnCuoiKy/Count_pyvi.pkl']"
            ]
          },
          "metadata": {
            "tags": []
          },
          "execution_count": 121
        }
      ]
    },
    {
      "cell_type": "code",
      "metadata": {
        "id": "aD1KK7l8krbp",
        "colab_type": "code",
        "colab": {}
      },
      "source": [
        "from sklearn.naive_bayes import GaussianNB, BernoulliNB"
      ],
      "execution_count": 122,
      "outputs": []
    },
    {
      "cell_type": "code",
      "metadata": {
        "id": "nbNchHBflvZQ",
        "colab_type": "code",
        "colab": {
          "base_uri": "https://localhost:8080/",
          "height": 230
        },
        "outputId": "b8bc0b23-350d-46ef-a496-68dadfcf943b"
      },
      "source": [
        "model=BernoulliNB().fit(X_train,y_train)\n",
        "predict=model.predict(X_test)\n",
        "print('Accuracy: ',accuracy_score(y_test, predict))\n",
        "print(classification_report(y_test,predict))\n",
        "print(confusion_matrix(y_test,predict))"
      ],
      "execution_count": 123,
      "outputs": [
        {
          "output_type": "stream",
          "text": [
            "Accuracy:  0.8775757575757576\n",
            "              precision    recall  f1-score   support\n",
            "\n",
            "           0       0.91      0.78      0.84       332\n",
            "           1       0.86      0.95      0.90       493\n",
            "\n",
            "    accuracy                           0.88       825\n",
            "   macro avg       0.88      0.86      0.87       825\n",
            "weighted avg       0.88      0.88      0.88       825\n",
            "\n",
            "[[258  74]\n",
            " [ 27 466]]\n"
          ],
          "name": "stdout"
        }
      ]
    },
    {
      "cell_type": "code",
      "metadata": {
        "id": "OzNpo7lumMJz",
        "colab_type": "code",
        "colab": {
          "base_uri": "https://localhost:8080/",
          "height": 230
        },
        "outputId": "ccbe9aba-7da2-4112-a5ab-d222b70faa3b"
      },
      "source": [
        "from sklearn.linear_model import LogisticRegression\n",
        "model=LogisticRegression()\n",
        "model.fit(X_train,y_train)\n",
        "predict=model.predict(X_test)\n",
        "print('Accuracy: ',accuracy_score(y_test, predict))\n",
        "print(classification_report(y_test,predict))\n",
        "print(confusion_matrix(y_test,predict))"
      ],
      "execution_count": 124,
      "outputs": [
        {
          "output_type": "stream",
          "text": [
            "Accuracy:  0.9454545454545454\n",
            "              precision    recall  f1-score   support\n",
            "\n",
            "           0       0.94      0.92      0.93       332\n",
            "           1       0.95      0.96      0.95       493\n",
            "\n",
            "    accuracy                           0.95       825\n",
            "   macro avg       0.95      0.94      0.94       825\n",
            "weighted avg       0.95      0.95      0.95       825\n",
            "\n",
            "[[305  27]\n",
            " [ 18 475]]\n"
          ],
          "name": "stdout"
        }
      ]
    },
    {
      "cell_type": "code",
      "metadata": {
        "id": "Erpc1jfCmbYV",
        "colab_type": "code",
        "colab": {
          "base_uri": "https://localhost:8080/",
          "height": 230
        },
        "outputId": "28312d18-e2bd-4b7f-a783-23ac8d57938c"
      },
      "source": [
        "from sklearn.svm import SVC\n",
        "model=SVC().fit(X_train,y_train)\n",
        "predict=model.predict(X_test)\n",
        "print('Accuracy: ',accuracy_score(y_test, predict))\n",
        "print(classification_report(y_test,predict))\n",
        "print(confusion_matrix(y_test,predict))"
      ],
      "execution_count": 125,
      "outputs": [
        {
          "output_type": "stream",
          "text": [
            "Accuracy:  0.9309090909090909\n",
            "              precision    recall  f1-score   support\n",
            "\n",
            "           0       0.91      0.92      0.91       332\n",
            "           1       0.94      0.94      0.94       493\n",
            "\n",
            "    accuracy                           0.93       825\n",
            "   macro avg       0.93      0.93      0.93       825\n",
            "weighted avg       0.93      0.93      0.93       825\n",
            "\n",
            "[[304  28]\n",
            " [ 29 464]]\n"
          ],
          "name": "stdout"
        }
      ]
    },
    {
      "cell_type": "code",
      "metadata": {
        "id": "PTCUCj2OmjQM",
        "colab_type": "code",
        "colab": {
          "base_uri": "https://localhost:8080/",
          "height": 230
        },
        "outputId": "8ef15db1-86a3-41ab-c116-17a30fed3054"
      },
      "source": [
        "from sklearn.ensemble import RandomForestClassifier\n",
        "model=RandomForestClassifier().fit(X_train,y_train)\n",
        "predict=model.predict(X_test)\n",
        "print('Accuracy: ',accuracy_score(y_test, predict))\n",
        "print(classification_report(y_test,predict))\n",
        "print(confusion_matrix(y_test,predict))"
      ],
      "execution_count": 126,
      "outputs": [
        {
          "output_type": "stream",
          "text": [
            "Accuracy:  0.9296969696969697\n",
            "              precision    recall  f1-score   support\n",
            "\n",
            "           0       0.91      0.92      0.91       332\n",
            "           1       0.94      0.94      0.94       493\n",
            "\n",
            "    accuracy                           0.93       825\n",
            "   macro avg       0.93      0.93      0.93       825\n",
            "weighted avg       0.93      0.93      0.93       825\n",
            "\n",
            "[[304  28]\n",
            " [ 30 463]]\n"
          ],
          "name": "stdout"
        }
      ]
    },
    {
      "cell_type": "code",
      "metadata": {
        "id": "wasyNCu6mrG2",
        "colab_type": "code",
        "colab": {
          "base_uri": "https://localhost:8080/",
          "height": 230
        },
        "outputId": "0f0d977f-c39b-449e-cbe3-806ebf5157e9"
      },
      "source": [
        "from sklearn.tree import DecisionTreeClassifier\n",
        "model=DecisionTreeClassifier().fit(X_train,y_train)\n",
        "predict=model.predict(X_test)\n",
        "print('Accuracy: ',accuracy_score(y_test, predict))\n",
        "print(classification_report(y_test,predict))\n",
        "print(confusion_matrix(y_test,predict))"
      ],
      "execution_count": 127,
      "outputs": [
        {
          "output_type": "stream",
          "text": [
            "Accuracy:  0.8872727272727273\n",
            "              precision    recall  f1-score   support\n",
            "\n",
            "           0       0.87      0.84      0.86       332\n",
            "           1       0.90      0.92      0.91       493\n",
            "\n",
            "    accuracy                           0.89       825\n",
            "   macro avg       0.88      0.88      0.88       825\n",
            "weighted avg       0.89      0.89      0.89       825\n",
            "\n",
            "[[279  53]\n",
            " [ 40 453]]\n"
          ],
          "name": "stdout"
        }
      ]
    },
    {
      "cell_type": "markdown",
      "metadata": {
        "id": "s4hVSQLGY3wm",
        "colab_type": "text"
      },
      "source": [
        "### Dự đoán một câu mới được nhập vào\n",
        "Nếu nhập vào comment gồm nhiều câu sẽ được tách thành các câu riêng rồi dự đoán trên mỗi câu"
      ]
    },
    {
      "cell_type": "code",
      "metadata": {
        "id": "o5hbyePeY3wn",
        "colab_type": "code",
        "colab": {},
        "outputId": "53831ab4-9839-4128-943f-c9f4e8e6b435"
      },
      "source": [
        "comment=input()\n",
        "feature=pd.Series(comment.split('.'))\n",
        "feature = feature.apply(standardize_data)\n",
        "feature = feature.apply(Token)\n",
        "feature=emb.transform(feature)\n",
        "predict=model.predict(feature)\n",
        "print(predict)"
      ],
      "execution_count": null,
      "outputs": [
        {
          "output_type": "stream",
          "text": [
            "Khách sạn quá tệ nhưng bù lại nằm ở vị trí trung tâm\n",
            "[0]\n"
          ],
          "name": "stdout"
        }
      ]
    },
    {
      "cell_type": "code",
      "metadata": {
        "id": "EG3BzGocY3wu",
        "colab_type": "code",
        "colab": {
          "base_uri": "https://localhost:8080/",
          "height": 34
        },
        "outputId": "7e6e9667-8f75-4cb3-ff71-4a2ecd4139d8"
      },
      "source": [
        "from pyvi import ViTokenizer\n",
        "def Token(t):\n",
        "  return ViTokenizer.tokenize(t)\n",
        "\n",
        "print(Token('Khách sạn nằm tại trung tâm thành phố'))"
      ],
      "execution_count": 76,
      "outputs": [
        {
          "output_type": "stream",
          "text": [
            "Khách_sạn nằm tại trung_tâm thành_phố\n"
          ],
          "name": "stdout"
        }
      ]
    },
    {
      "cell_type": "code",
      "metadata": {
        "id": "Zg4Y_iFYY3w0",
        "colab_type": "code",
        "colab": {}
      },
      "source": [
        ""
      ],
      "execution_count": null,
      "outputs": []
    }
  ]
}