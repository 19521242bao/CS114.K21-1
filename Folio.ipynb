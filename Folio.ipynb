{
  "nbformat": 4,
  "nbformat_minor": 0,
  "metadata": {
    "colab": {
      "name": "Folio.ipynb",
      "provenance": [],
      "machine_shape": "hm",
      "mount_file_id": "13vvhL5GHuN5P8oAtDqTiaX7HIxPzi61q",
      "authorship_tag": "ABX9TyO/HEXqRyzgbwyuHqbyiKcG",
      "include_colab_link": true
    },
    "kernelspec": {
      "name": "python3",
      "display_name": "Python 3"
    }
  },
  "cells": [
    {
      "cell_type": "markdown",
      "metadata": {
        "id": "view-in-github",
        "colab_type": "text"
      },
      "source": [
        "<a href=\"https://colab.research.google.com/github/ThuanPhong0126/CS114.K21/blob/master/Folio.ipynb\" target=\"_parent\"><img src=\"https://colab.research.google.com/assets/colab-badge.svg\" alt=\"Open In Colab\"/></a>"
      ]
    },
    {
      "cell_type": "code",
      "metadata": {
        "id": "BeKNxaz4-0pP",
        "colab_type": "code",
        "colab": {}
      },
      "source": [
        "import os"
      ],
      "execution_count": 0,
      "outputs": []
    },
    {
      "cell_type": "code",
      "metadata": {
        "id": "c3wE5JXs_w9l",
        "colab_type": "code",
        "colab": {}
      },
      "source": [
        "path='drive/My Drive/Colab Notebooks/Folio/Folio Leaf Dataset/Folio Leaf Dataset/Folio'"
      ],
      "execution_count": 0,
      "outputs": []
    },
    {
      "cell_type": "code",
      "metadata": {
        "id": "Fuj6oCNpAlub",
        "colab_type": "code",
        "outputId": "8305f777-a6f7-4c2c-b259-c82b6014bc73",
        "colab": {
          "base_uri": "https://localhost:8080/",
          "height": 561
        }
      },
      "source": [
        "nhan=os.listdir(os.path.expanduser(path))\n",
        "nhan"
      ],
      "execution_count": 0,
      "outputs": [
        {
          "output_type": "execute_result",
          "data": {
            "text/plain": [
              "['papaya',\n",
              " 'vieux garcon',\n",
              " 'thevetia',\n",
              " 'sweet olive',\n",
              " 'star apple',\n",
              " 'pimento',\n",
              " 'rose',\n",
              " 'pomme jacquot',\n",
              " 'sweet potato',\n",
              " 'mulberry leaf',\n",
              " 'eggplant',\n",
              " 'jackfruit',\n",
              " 'ketembilla',\n",
              " 'hibiscus',\n",
              " 'lychee',\n",
              " 'geranium',\n",
              " 'guava',\n",
              " 'fruitcitere',\n",
              " 'ficus',\n",
              " 'duranta gold',\n",
              " 'croton',\n",
              " 'bitter orange',\n",
              " 'betel',\n",
              " 'beaumier du perou',\n",
              " 'coeur demoiselle',\n",
              " 'caricature plant',\n",
              " 'coffee',\n",
              " 'chinese guava',\n",
              " 'chocolate tree',\n",
              " 'chrysanthemum',\n",
              " 'barbados cherry',\n",
              " 'ashanti blood']"
            ]
          },
          "metadata": {
            "tags": []
          },
          "execution_count": 3
        }
      ]
    },
    {
      "cell_type": "code",
      "metadata": {
        "id": "rVw1AVa0AyTN",
        "colab_type": "code",
        "outputId": "fcfb69c0-6c3c-4e89-8c63-5d500220eb41",
        "colab": {
          "base_uri": "https://localhost:8080/",
          "height": 561
        }
      },
      "source": [
        "FJoin=os.path.join\n",
        "file=[FJoin(path,f) for f in os.listdir(path)]\n",
        "file"
      ],
      "execution_count": 0,
      "outputs": [
        {
          "output_type": "execute_result",
          "data": {
            "text/plain": [
              "['drive/My Drive/Colab Notebooks/Folio/Folio Leaf Dataset/Folio Leaf Dataset/Folio/papaya',\n",
              " 'drive/My Drive/Colab Notebooks/Folio/Folio Leaf Dataset/Folio Leaf Dataset/Folio/vieux garcon',\n",
              " 'drive/My Drive/Colab Notebooks/Folio/Folio Leaf Dataset/Folio Leaf Dataset/Folio/thevetia',\n",
              " 'drive/My Drive/Colab Notebooks/Folio/Folio Leaf Dataset/Folio Leaf Dataset/Folio/sweet olive',\n",
              " 'drive/My Drive/Colab Notebooks/Folio/Folio Leaf Dataset/Folio Leaf Dataset/Folio/star apple',\n",
              " 'drive/My Drive/Colab Notebooks/Folio/Folio Leaf Dataset/Folio Leaf Dataset/Folio/pimento',\n",
              " 'drive/My Drive/Colab Notebooks/Folio/Folio Leaf Dataset/Folio Leaf Dataset/Folio/rose',\n",
              " 'drive/My Drive/Colab Notebooks/Folio/Folio Leaf Dataset/Folio Leaf Dataset/Folio/pomme jacquot',\n",
              " 'drive/My Drive/Colab Notebooks/Folio/Folio Leaf Dataset/Folio Leaf Dataset/Folio/sweet potato',\n",
              " 'drive/My Drive/Colab Notebooks/Folio/Folio Leaf Dataset/Folio Leaf Dataset/Folio/mulberry leaf',\n",
              " 'drive/My Drive/Colab Notebooks/Folio/Folio Leaf Dataset/Folio Leaf Dataset/Folio/eggplant',\n",
              " 'drive/My Drive/Colab Notebooks/Folio/Folio Leaf Dataset/Folio Leaf Dataset/Folio/jackfruit',\n",
              " 'drive/My Drive/Colab Notebooks/Folio/Folio Leaf Dataset/Folio Leaf Dataset/Folio/ketembilla',\n",
              " 'drive/My Drive/Colab Notebooks/Folio/Folio Leaf Dataset/Folio Leaf Dataset/Folio/hibiscus',\n",
              " 'drive/My Drive/Colab Notebooks/Folio/Folio Leaf Dataset/Folio Leaf Dataset/Folio/lychee',\n",
              " 'drive/My Drive/Colab Notebooks/Folio/Folio Leaf Dataset/Folio Leaf Dataset/Folio/geranium',\n",
              " 'drive/My Drive/Colab Notebooks/Folio/Folio Leaf Dataset/Folio Leaf Dataset/Folio/guava',\n",
              " 'drive/My Drive/Colab Notebooks/Folio/Folio Leaf Dataset/Folio Leaf Dataset/Folio/fruitcitere',\n",
              " 'drive/My Drive/Colab Notebooks/Folio/Folio Leaf Dataset/Folio Leaf Dataset/Folio/ficus',\n",
              " 'drive/My Drive/Colab Notebooks/Folio/Folio Leaf Dataset/Folio Leaf Dataset/Folio/duranta gold',\n",
              " 'drive/My Drive/Colab Notebooks/Folio/Folio Leaf Dataset/Folio Leaf Dataset/Folio/croton',\n",
              " 'drive/My Drive/Colab Notebooks/Folio/Folio Leaf Dataset/Folio Leaf Dataset/Folio/bitter orange',\n",
              " 'drive/My Drive/Colab Notebooks/Folio/Folio Leaf Dataset/Folio Leaf Dataset/Folio/betel',\n",
              " 'drive/My Drive/Colab Notebooks/Folio/Folio Leaf Dataset/Folio Leaf Dataset/Folio/beaumier du perou',\n",
              " 'drive/My Drive/Colab Notebooks/Folio/Folio Leaf Dataset/Folio Leaf Dataset/Folio/coeur demoiselle',\n",
              " 'drive/My Drive/Colab Notebooks/Folio/Folio Leaf Dataset/Folio Leaf Dataset/Folio/caricature plant',\n",
              " 'drive/My Drive/Colab Notebooks/Folio/Folio Leaf Dataset/Folio Leaf Dataset/Folio/coffee',\n",
              " 'drive/My Drive/Colab Notebooks/Folio/Folio Leaf Dataset/Folio Leaf Dataset/Folio/chinese guava',\n",
              " 'drive/My Drive/Colab Notebooks/Folio/Folio Leaf Dataset/Folio Leaf Dataset/Folio/chocolate tree',\n",
              " 'drive/My Drive/Colab Notebooks/Folio/Folio Leaf Dataset/Folio Leaf Dataset/Folio/chrysanthemum',\n",
              " 'drive/My Drive/Colab Notebooks/Folio/Folio Leaf Dataset/Folio Leaf Dataset/Folio/barbados cherry',\n",
              " 'drive/My Drive/Colab Notebooks/Folio/Folio Leaf Dataset/Folio Leaf Dataset/Folio/ashanti blood']"
            ]
          },
          "metadata": {
            "tags": []
          },
          "execution_count": 4
        }
      ]
    },
    {
      "cell_type": "code",
      "metadata": {
        "id": "DsN3OXaXBqnE",
        "colab_type": "code",
        "colab": {}
      },
      "source": [
        "import cv2"
      ],
      "execution_count": 0,
      "outputs": []
    },
    {
      "cell_type": "code",
      "metadata": {
        "id": "0S_WFOr_I49j",
        "colab_type": "code",
        "colab": {}
      },
      "source": [
        "import matplotlib.pyplot as plt\n",
        "from google.colab.patches import cv2_imshow\n",
        "import numpy as np\n",
        "import glob"
      ],
      "execution_count": 0,
      "outputs": []
    },
    {
      "cell_type": "code",
      "metadata": {
        "id": "UD9DHowbGE_O",
        "colab_type": "code",
        "colab": {}
      },
      "source": [
        "images=[]\n",
        "labels=[]"
      ],
      "execution_count": 0,
      "outputs": []
    },
    {
      "cell_type": "code",
      "metadata": {
        "id": "Ze3RxDmdRkc7",
        "colab_type": "code",
        "colab": {}
      },
      "source": [
        "for dir_path in glob.glob(\"drive/My Drive/Colab Notebooks/Folio/Folio Leaf Dataset/Folio Leaf Dataset/Folio/*\"):\n",
        "    img_label = dir_path.split(\"/\")[-1]\n",
        "    for img_path in glob.glob(os.path.join(dir_path, \"*.jpg\")):\n",
        "        img = cv2.imread(img_path)\n",
        "        img = cv2.resize(img, (800,800))\n",
        "        #img = cv2.cvtColor(img, cv2.COLOR_BGR2RGB)\n",
        "        images.append(img)\n",
        "        labels.append(img_label)"
      ],
      "execution_count": 0,
      "outputs": []
    },
    {
      "cell_type": "code",
      "metadata": {
        "id": "-ISqr_BPcQxn",
        "colab_type": "code",
        "colab": {}
      },
      "source": [
        "image_arrays=[]\n",
        "for img in images:\n",
        "  image=np.array(img,dtype=np.float64)/255\n",
        "  w,h,d=original_shape=tuple(image.shape)\n",
        "  image_array=np.reshape(img,(w*h*d))\n",
        "  image_arrays.append(image_array)"
      ],
      "execution_count": 0,
      "outputs": []
    },
    {
      "cell_type": "code",
      "metadata": {
        "id": "2jS9BZWXL7b7",
        "colab_type": "code",
        "outputId": "db51fd24-33f8-4060-9e14-122ec41f5c3b",
        "colab": {
          "base_uri": "https://localhost:8080/",
          "height": 544
        }
      },
      "source": [
        "label_array=[]\n",
        "for i in labels:\n",
        "  label_array.append(nhan.index(i))\n",
        "label_array=np.array(label_array)\n",
        "label_array"
      ],
      "execution_count": 0,
      "outputs": [
        {
          "output_type": "execute_result",
          "data": {
            "text/plain": [
              "array([ 0,  0,  0,  0,  0,  0,  0,  0,  0,  0,  0,  0,  0,  0,  0,  0,  0,\n",
              "        0,  0,  0,  1,  1,  1,  1,  1,  1,  1,  1,  1,  1,  1,  1,  1,  1,\n",
              "        1,  1,  1,  1,  1,  1,  2,  2,  2,  2,  2,  2,  2,  2,  2,  2,  2,\n",
              "        2,  2,  2,  2,  2,  2,  2,  2,  2,  3,  3,  3,  3,  3,  3,  3,  3,\n",
              "        3,  3,  3,  3,  3,  3,  3,  3,  3,  3,  3,  3,  4,  4,  4,  4,  4,\n",
              "        4,  4,  4,  4,  4,  4,  4,  4,  4,  4,  4,  4,  4,  4,  4,  5,  5,\n",
              "        5,  5,  5,  5,  5,  5,  5,  5,  5,  5,  5,  5,  5,  5,  5,  5,  5,\n",
              "        5,  6,  6,  6,  6,  6,  6,  6,  6,  6,  7,  7,  7,  7,  7,  7,  7,\n",
              "        7,  7,  7,  7,  7,  7,  7,  7,  7,  7,  7,  7,  7,  8,  8,  8,  8,\n",
              "        8,  8,  8,  8,  8,  8,  8,  8,  8,  8,  8,  8,  8,  8,  8,  8,  9,\n",
              "        9,  9,  9,  9,  9,  9,  9,  9,  9,  9,  9,  9,  9,  9,  9,  9,  9,\n",
              "        9, 10, 10, 10, 10, 10, 10, 10, 10, 10, 10, 10, 11, 11, 11, 11, 11,\n",
              "       11, 11, 11, 11, 11, 11, 11, 11, 11, 11, 11, 11, 11, 11, 11, 12, 12,\n",
              "       12, 12, 12, 12, 12, 12, 12, 12, 12, 12, 12, 12, 12, 12, 12, 12, 12,\n",
              "       12, 13, 13, 13, 13, 13, 13, 13, 13, 13, 13, 13, 13, 13, 13, 14, 14,\n",
              "       14, 14, 14, 14, 14, 14, 14, 14, 14, 14, 14, 14, 14, 14, 14, 14, 14,\n",
              "       14, 15, 15, 15, 15, 15, 15, 15, 15, 15, 15, 15, 15, 15, 15, 15, 15,\n",
              "       15, 15, 15, 15, 16, 16, 16, 16, 16, 16, 16, 16, 16, 16, 16, 16, 16,\n",
              "       16, 16, 16, 16, 16, 16, 16, 17, 17, 17, 17, 17, 17, 17, 17, 17, 18,\n",
              "       18, 18, 18, 18, 18, 18, 18, 18, 18, 18, 18, 18, 18, 18, 18, 18, 18,\n",
              "       18, 18, 20, 20, 20, 20, 20, 20, 20, 20, 20, 20, 20, 20, 20, 20, 20,\n",
              "       20, 20, 20, 20, 20, 21, 21, 21, 21, 21, 21, 21, 21, 21, 21, 21, 21,\n",
              "       21, 21, 21, 21, 21, 21, 21, 21, 22, 22, 22, 22, 22, 22, 22, 22, 22,\n",
              "       22, 22, 22, 22, 22, 22, 22, 22, 22, 22, 22, 23, 23, 23, 23, 23, 23,\n",
              "       23, 23, 23, 23, 23, 24, 24, 24, 24, 24, 24, 24, 24, 24, 24, 24, 24,\n",
              "       24, 24, 24, 24, 24, 24, 24, 24, 25, 25, 25, 25, 25, 25, 25, 25, 25,\n",
              "       25, 25, 25, 25, 25, 25, 25, 25, 25, 25, 25, 26, 26, 26, 26, 26, 26,\n",
              "       26, 26, 26, 26, 26, 26, 26, 26, 26, 26, 26, 26, 26, 26, 28, 28, 29,\n",
              "       29, 29, 29, 29, 29, 29, 29, 29, 30, 30, 30, 30, 30, 30, 30, 30, 30,\n",
              "       30, 30, 30, 30, 30, 30, 30, 30, 30, 30, 30, 31, 31, 31, 31, 31, 31,\n",
              "       31, 31, 31, 31, 31, 31, 31, 31, 31, 31, 31, 31, 31, 31])"
            ]
          },
          "metadata": {
            "tags": []
          },
          "execution_count": 26
        }
      ]
    },
    {
      "cell_type": "code",
      "metadata": {
        "id": "vFCWPCNbaQ5J",
        "colab_type": "code",
        "colab": {}
      },
      "source": [
        "labels=np.array(labels)"
      ],
      "execution_count": 0,
      "outputs": []
    },
    {
      "cell_type": "code",
      "metadata": {
        "id": "eGg80K0ALLKJ",
        "colab_type": "code",
        "outputId": "013ae6f9-d2d0-45ba-df83-39af0b29627f",
        "colab": {
          "base_uri": "https://localhost:8080/",
          "height": 34
        }
      },
      "source": [
        "labels.shape"
      ],
      "execution_count": 0,
      "outputs": [
        {
          "output_type": "execute_result",
          "data": {
            "text/plain": [
              "(524,)"
            ]
          },
          "metadata": {
            "tags": []
          },
          "execution_count": 28
        }
      ]
    },
    {
      "cell_type": "code",
      "metadata": {
        "id": "WwnEfCCgLN7Y",
        "colab_type": "code",
        "outputId": "f626f774-75ec-40f1-fe18-97d2bb0c0866",
        "colab": {
          "base_uri": "https://localhost:8080/",
          "height": 34
        }
      },
      "source": [
        "image_arrays=np.array(image_arrays)\n",
        "image_arrays.shape"
      ],
      "execution_count": 0,
      "outputs": [
        {
          "output_type": "execute_result",
          "data": {
            "text/plain": [
              "(524, 1920000)"
            ]
          },
          "metadata": {
            "tags": []
          },
          "execution_count": 29
        }
      ]
    },
    {
      "cell_type": "code",
      "metadata": {
        "id": "-mGEqdo1X5A1",
        "colab_type": "code",
        "colab": {}
      },
      "source": [
        "from sklearn.model_selection import train_test_split"
      ],
      "execution_count": 0,
      "outputs": []
    },
    {
      "cell_type": "code",
      "metadata": {
        "id": "4EfnoVsfX5qW",
        "colab_type": "code",
        "colab": {}
      },
      "source": [
        "X_train,X_test,y_train,y_test=train_test_split(image_arrays,label_array,test_size=0.3,random_state=101)"
      ],
      "execution_count": 0,
      "outputs": []
    },
    {
      "cell_type": "code",
      "metadata": {
        "id": "LjjPj4VKLrPL",
        "colab_type": "code",
        "outputId": "677697fd-8197-402f-fe72-c5eac62735d5",
        "colab": {
          "base_uri": "https://localhost:8080/",
          "height": 136
        }
      },
      "source": [
        "X_train"
      ],
      "execution_count": 0,
      "outputs": [
        {
          "output_type": "execute_result",
          "data": {
            "text/plain": [
              "array([[255, 255, 255, ..., 234, 233, 237],\n",
              "       [255, 255, 255, ..., 255, 255, 255],\n",
              "       [240, 241, 239, ..., 219, 217, 217],\n",
              "       ...,\n",
              "       [241, 239, 239, ..., 195, 197, 197],\n",
              "       [243, 234, 231, ..., 217, 201, 194],\n",
              "       [255, 252, 251, ..., 213, 215, 215]], dtype=uint8)"
            ]
          },
          "metadata": {
            "tags": []
          },
          "execution_count": 32
        }
      ]
    },
    {
      "cell_type": "code",
      "metadata": {
        "id": "5ZbDGRcENVcS",
        "colab_type": "code",
        "outputId": "9f4f1b79-d900-4977-f59c-ecac33cf86e0",
        "colab": {
          "base_uri": "https://localhost:8080/",
          "height": 391
        }
      },
      "source": [
        "y_train"
      ],
      "execution_count": 0,
      "outputs": [
        {
          "output_type": "execute_result",
          "data": {
            "text/plain": [
              "array([11, 24, 14, 16, 20, 16, 11, 24,  8,  9, 11,  7,  8, 15, 26,  0,  0,\n",
              "        9,  8,  9, 22, 26, 16,  0, 30, 13, 13, 21, 24,  4,  3, 24,  8, 30,\n",
              "       20,  9,  5,  4, 14, 18, 20, 17, 16,  6, 16,  0, 12, 12, 26, 30, 21,\n",
              "       21,  0, 12, 26,  2, 26, 17, 20, 14, 29, 20, 15,  9, 15, 12, 26,  2,\n",
              "        8,  3, 20,  7,  5, 22,  4, 22, 30,  3, 11,  8,  6,  8, 23, 29,  9,\n",
              "       17, 26, 24,  3, 26, 14, 18,  7,  1, 23, 18,  5, 14, 29, 14, 22, 26,\n",
              "       14,  8, 11,  1, 20, 11, 21,  6, 16, 16,  5, 22, 31, 13, 13, 20,  7,\n",
              "       22, 25, 13, 25, 18, 13,  9, 21, 30, 31, 24,  4, 18,  8,  9,  5, 13,\n",
              "        9,  5,  1,  1,  1,  0, 25, 31,  5,  8, 25, 23,  0, 31, 30,  1, 25,\n",
              "       31, 21, 17,  3, 10, 12, 11, 24, 31, 24, 31,  1,  2,  0, 24,  4, 18,\n",
              "        2,  4, 14, 24, 10,  7,  2, 12,  3, 30,  1,  8,  9, 28,  6,  4, 10,\n",
              "       26,  4,  7, 20, 23,  4, 14, 16,  7,  3, 10,  3,  3,  7, 16,  3, 21,\n",
              "        6, 29,  8, 15,  4, 16, 12, 31, 16, 21, 23, 21, 24, 31,  9, 15, 14,\n",
              "        2, 25, 31,  7,  9, 23, 20,  3,  4, 26, 11, 16, 31,  1, 25, 11, 20,\n",
              "        4, 22, 14, 12,  1,  1, 25,  8, 15, 23,  7,  2, 18, 12, 11,  8, 23,\n",
              "       13, 20,  3, 21, 25, 26, 14,  6, 24, 10, 13,  0, 16, 18, 18,  0,  1,\n",
              "       30,  5, 30, 22,  4, 30,  2, 29, 22,  9,  7, 11, 12, 25,  2,  9, 30,\n",
              "       15, 21, 20, 30, 23, 15, 28, 25,  0,  1, 24, 30, 10, 21, 30,  8, 20,\n",
              "       26, 11, 13, 15,  7, 21,  5,  0, 16, 22, 29, 18, 23, 29, 18, 12, 16,\n",
              "        5, 25, 25, 30,  0, 17, 15,  4, 26,  8,  3, 14, 13, 26,  5, 22, 20,\n",
              "        5, 12,  3, 22,  6, 15, 13, 18,  2, 24,  2, 31, 24, 21,  7, 31,  2,\n",
              "        2, 29,  0,  5, 17, 22,  3, 18, 31])"
            ]
          },
          "metadata": {
            "tags": []
          },
          "execution_count": 33
        }
      ]
    },
    {
      "cell_type": "code",
      "metadata": {
        "id": "LJ4OD0gIYlTu",
        "colab_type": "code",
        "colab": {}
      },
      "source": [
        "from sklearn.neighbors import KNeighborsClassifier"
      ],
      "execution_count": 0,
      "outputs": []
    },
    {
      "cell_type": "code",
      "metadata": {
        "id": "QuLc5tLdY6r_",
        "colab_type": "code",
        "colab": {}
      },
      "source": [
        "knn=KNeighborsClassifier(n_neighbors=1,p=2)"
      ],
      "execution_count": 0,
      "outputs": []
    },
    {
      "cell_type": "code",
      "metadata": {
        "id": "lnZp0JGSZE22",
        "colab_type": "code",
        "outputId": "199e0daa-8331-4499-bd30-18e0fb8a0860",
        "colab": {
          "base_uri": "https://localhost:8080/",
          "height": 68
        }
      },
      "source": [
        "knn.fit(X_train,y_train)"
      ],
      "execution_count": 0,
      "outputs": [
        {
          "output_type": "execute_result",
          "data": {
            "text/plain": [
              "KNeighborsClassifier(algorithm='auto', leaf_size=30, metric='minkowski',\n",
              "                     metric_params=None, n_jobs=None, n_neighbors=1, p=2,\n",
              "                     weights='uniform')"
            ]
          },
          "metadata": {
            "tags": []
          },
          "execution_count": 36
        }
      ]
    },
    {
      "cell_type": "code",
      "metadata": {
        "id": "bkuOAP98ZMr8",
        "colab_type": "code",
        "colab": {}
      },
      "source": [
        "predic=knn.predict(X_test)"
      ],
      "execution_count": 0,
      "outputs": []
    },
    {
      "cell_type": "code",
      "metadata": {
        "id": "2JvrLZQiibHY",
        "colab_type": "code",
        "colab": {}
      },
      "source": [
        "from sklearn.metrics import confusion_matrix,classification_report"
      ],
      "execution_count": 0,
      "outputs": []
    },
    {
      "cell_type": "code",
      "metadata": {
        "id": "ytFhdRyVihEF",
        "colab_type": "code",
        "outputId": "ff025f66-f003-4ff5-8c2a-78e8ff6a2ad6",
        "colab": {
          "base_uri": "https://localhost:8080/",
          "height": 510
        }
      },
      "source": [
        "print(confusion_matrix(y_test,predic))"
      ],
      "execution_count": 0,
      "outputs": [
        {
          "output_type": "stream",
          "text": [
            "[[5 0 0 0 0 0 0 0 0 0 0 0 0 1 0 0 0 0 0 0 0 0 0 0 0 0 0 0 0]\n",
            " [0 5 0 0 0 0 0 0 0 1 1 0 0 0 0 0 0 0 0 0 0 0 0 0 0 0 0 0 0]\n",
            " [0 0 7 0 0 0 0 0 0 0 0 0 0 0 0 0 0 0 0 0 0 0 0 0 0 0 0 0 0]\n",
            " [0 0 0 4 0 1 0 0 0 0 0 0 0 0 0 0 0 0 0 0 0 0 0 0 0 0 0 0 0]\n",
            " [0 0 0 0 1 1 0 2 0 0 0 0 0 0 0 0 0 0 0 0 0 1 0 0 0 1 0 0 0]\n",
            " [0 0 0 0 0 7 0 0 0 0 0 0 0 0 0 0 0 0 0 0 0 0 0 0 0 0 0 0 0]\n",
            " [0 0 0 0 0 0 1 0 0 0 1 0 0 0 0 0 0 0 0 0 0 0 0 0 0 0 0 0 0]\n",
            " [0 0 0 0 0 0 0 5 0 0 0 0 0 0 0 0 1 0 0 0 0 0 0 0 0 1 0 0 0]\n",
            " [0 0 0 0 0 0 0 0 4 0 0 0 0 0 0 0 0 0 0 0 0 0 0 0 0 0 0 0 0]\n",
            " [0 0 0 0 0 0 0 0 0 3 0 0 0 0 0 0 0 0 0 0 0 0 0 0 0 0 0 0 2]\n",
            " [0 0 0 0 0 0 3 0 0 0 2 0 0 0 0 0 0 0 0 0 0 0 0 0 0 0 0 0 0]\n",
            " [0 0 0 1 0 0 0 0 0 0 0 7 0 0 0 0 0 0 0 0 0 0 0 0 0 0 0 0 0]\n",
            " [0 0 0 0 1 0 0 0 0 0 0 0 6 1 0 0 0 0 0 0 0 0 0 0 0 0 0 0 0]\n",
            " [0 0 0 0 0 0 0 0 0 0 0 0 0 1 0 0 0 0 0 0 0 0 0 1 0 0 0 0 0]\n",
            " [0 0 0 1 0 0 0 0 0 0 0 0 0 0 4 0 1 0 0 1 0 0 0 0 0 0 0 0 0]\n",
            " [0 0 0 0 0 0 0 0 0 0 0 0 0 0 0 9 0 0 0 0 0 0 0 0 0 0 0 0 0]\n",
            " [0 0 0 0 0 0 0 0 0 0 0 0 0 0 0 0 5 0 0 0 0 0 0 0 0 0 0 0 0]\n",
            " [0 0 0 0 0 0 0 0 0 0 0 0 0 0 0 0 0 3 0 0 0 0 0 0 0 0 0 0 0]\n",
            " [0 0 0 0 0 0 0 0 0 0 0 0 0 0 0 0 0 0 7 0 0 0 0 0 0 0 0 0 0]\n",
            " [0 0 0 0 0 0 0 0 0 0 0 0 0 0 0 0 1 0 0 4 0 0 0 0 0 0 0 0 0]\n",
            " [0 0 0 0 0 0 0 0 0 0 0 1 0 0 0 0 0 0 0 0 5 0 0 0 0 0 0 0 0]\n",
            " [0 0 0 0 0 0 0 0 0 0 0 0 0 0 0 0 0 0 0 0 0 7 0 0 0 0 0 0 0]\n",
            " [0 0 0 0 0 0 0 0 0 0 0 0 0 0 0 0 0 0 0 0 0 0 1 0 0 0 0 0 0]\n",
            " [0 0 0 0 0 0 1 0 0 0 0 0 0 0 0 1 0 0 0 0 0 0 0 1 0 0 0 2 0]\n",
            " [0 0 0 0 0 0 0 0 0 0 0 0 0 0 0 0 0 0 0 0 0 0 0 0 7 0 0 0 0]\n",
            " [0 0 0 0 0 2 0 0 0 0 0 0 0 0 0 0 0 0 0 0 0 0 0 0 0 3 0 0 0]\n",
            " [0 0 0 0 0 0 0 0 0 0 0 0 0 0 0 0 0 0 0 0 0 0 0 0 0 0 1 0 0]\n",
            " [0 0 0 2 1 0 0 0 0 0 0 0 0 0 0 0 0 0 0 0 0 0 0 0 0 1 0 1 0]\n",
            " [0 0 0 0 0 0 0 0 0 0 0 0 0 0 0 0 0 0 0 0 0 0 0 0 0 0 0 0 6]]\n"
          ],
          "name": "stdout"
        }
      ]
    },
    {
      "cell_type": "code",
      "metadata": {
        "id": "A7LokYIrilBw",
        "colab_type": "code",
        "outputId": "269bc7da-6d08-416a-f83a-b63eb287770f",
        "colab": {
          "base_uri": "https://localhost:8080/",
          "height": 629
        }
      },
      "source": [
        "print(classification_report(y_test,predic))"
      ],
      "execution_count": 0,
      "outputs": [
        {
          "output_type": "stream",
          "text": [
            "              precision    recall  f1-score   support\n",
            "\n",
            "           0       1.00      0.83      0.91         6\n",
            "           1       1.00      0.71      0.83         7\n",
            "           2       1.00      1.00      1.00         7\n",
            "           3       0.50      0.80      0.62         5\n",
            "           4       0.33      0.17      0.22         6\n",
            "           5       0.64      1.00      0.78         7\n",
            "           6       0.20      0.50      0.29         2\n",
            "           7       0.71      0.71      0.71         7\n",
            "           8       1.00      1.00      1.00         4\n",
            "           9       0.75      0.60      0.67         5\n",
            "          10       0.50      0.40      0.44         5\n",
            "          11       0.88      0.88      0.88         8\n",
            "          12       1.00      0.75      0.86         8\n",
            "          13       0.33      0.50      0.40         2\n",
            "          14       1.00      0.57      0.73         7\n",
            "          15       0.90      1.00      0.95         9\n",
            "          16       0.62      1.00      0.77         5\n",
            "          17       1.00      1.00      1.00         3\n",
            "          18       1.00      1.00      1.00         7\n",
            "          20       0.80      0.80      0.80         5\n",
            "          21       1.00      0.83      0.91         6\n",
            "          22       0.88      1.00      0.93         7\n",
            "          23       1.00      1.00      1.00         1\n",
            "          24       0.50      0.20      0.29         5\n",
            "          25       1.00      1.00      1.00         7\n",
            "          26       0.50      0.60      0.55         5\n",
            "          29       1.00      1.00      1.00         1\n",
            "          30       0.33      0.20      0.25         5\n",
            "          31       0.75      1.00      0.86         6\n",
            "\n",
            "    accuracy                           0.77       158\n",
            "   macro avg       0.76      0.76      0.75       158\n",
            "weighted avg       0.79      0.77      0.77       158\n",
            "\n"
          ],
          "name": "stdout"
        }
      ]
    },
    {
      "cell_type": "code",
      "metadata": {
        "id": "kOdluFbciqnn",
        "colab_type": "code",
        "colab": {}
      },
      "source": [
        ""
      ],
      "execution_count": 0,
      "outputs": []
    }
  ]
}