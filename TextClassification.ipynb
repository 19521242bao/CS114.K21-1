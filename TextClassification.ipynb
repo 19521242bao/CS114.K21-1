{
  "nbformat": 4,
  "nbformat_minor": 0,
  "metadata": {
    "colab": {
      "name": "TextClassification.ipynb",
      "provenance": [],
      "mount_file_id": "1psDUqLZ_Vdji5NSa8QldO6D5pKoIlqLj",
      "authorship_tag": "ABX9TyOxBhyPuoQgJVxcB8j8NWu2",
      "include_colab_link": true
    },
    "kernelspec": {
      "name": "python3",
      "display_name": "Python 3"
    }
  },
  "cells": [
    {
      "cell_type": "markdown",
      "metadata": {
        "id": "view-in-github",
        "colab_type": "text"
      },
      "source": [
        "<a href=\"https://colab.research.google.com/github/ThuanPhong0126/CS114.K21/blob/master/TextClassification.ipynb\" target=\"_parent\"><img src=\"https://colab.research.google.com/assets/colab-badge.svg\" alt=\"Open In Colab\"/></a>"
      ]
    },
    {
      "cell_type": "markdown",
      "metadata": {
        "id": "SVY7b0SikLCy",
        "colab_type": "text"
      },
      "source": [
        "Bài làm lấy dataset từ Kaggle (https://www.kaggle.com/clmentbisaillon/fake-and-real-news-dataset) và bài làm được tham khảo theo bài https://www.kaggle.com/vanshjatana/text-classification"
      ]
    },
    {
      "cell_type": "code",
      "metadata": {
        "id": "_S-bGSN-Krf2",
        "colab_type": "code",
        "colab": {
          "base_uri": "https://localhost:8080/",
          "height": 34
        },
        "outputId": "35ce0c82-27b0-4616-b6c2-8528d4901d4a"
      },
      "source": [
        "cd /content/drive/My Drive/Colab Notebooks/ML/FakeRealNewsDataset"
      ],
      "execution_count": 1,
      "outputs": [
        {
          "output_type": "stream",
          "text": [
            "/content/drive/My Drive/Colab Notebooks/ML/FakeRealNewsDataset\n"
          ],
          "name": "stdout"
        }
      ]
    },
    {
      "cell_type": "code",
      "metadata": {
        "id": "mrPM1i45Lt52",
        "colab_type": "code",
        "colab": {}
      },
      "source": [
        "from google.colab import files\n",
        "files.upload()"
      ],
      "execution_count": 0,
      "outputs": []
    },
    {
      "cell_type": "code",
      "metadata": {
        "id": "NmpfzvE5LyiJ",
        "colab_type": "code",
        "colab": {}
      },
      "source": [
        "!pip install kaggle"
      ],
      "execution_count": 0,
      "outputs": []
    },
    {
      "cell_type": "code",
      "metadata": {
        "id": "Mqo_oNpzL4ke",
        "colab_type": "code",
        "colab": {}
      },
      "source": [
        "!mkdir -p ~/.kaggle\n",
        "!cp kaggle.json ~/.kaggle/\n",
        "!chmod 600 ~/.kaggle/kaggle.json"
      ],
      "execution_count": 0,
      "outputs": []
    },
    {
      "cell_type": "code",
      "metadata": {
        "id": "fV-AqMSHMMJZ",
        "colab_type": "code",
        "colab": {
          "base_uri": "https://localhost:8080/",
          "height": 428
        },
        "outputId": "4f8daea3-3dd5-41b0-9f1b-d6620472985d"
      },
      "source": [
        "!kaggle datasets list -s fake"
      ],
      "execution_count": 5,
      "outputs": [
        {
          "output_type": "stream",
          "text": [
            "Warning: Looks like you're using an outdated API Version, please consider updating (server 1.5.6 / client 1.5.4)\n",
            "ref                                                       title                                       size  lastUpdated          downloadCount  \n",
            "--------------------------------------------------------  -----------------------------------------  -----  -------------------  -------------  \n",
            "shivamb/real-or-fake-fake-jobposting-prediction           [Real or Fake] Fake JobPosting Prediction   16MB  2020-02-29 08:23:34           3877  \n",
            "clmentbisaillon/fake-and-real-news-dataset                Fake and real news dataset                  41MB  2020-03-26 18:51:15           2762  \n",
            "mrisdal/fake-news                                         Getting Real about Fake News                19MB  2016-11-25 22:29:09          16831  \n",
            "jruvika/fake-news-detection                               Fake News detection                          5MB  2017-12-07 20:39:58           3066  \n",
            "antmarakis/fake-news-data                                 Fake News Data                             125MB  2019-07-27 12:11:57            575  \n",
            "ciplab/real-and-fake-face-detection                       Real and Fake Face Detection               431MB  2019-01-14 14:54:52           2647  \n",
            "free4ever1/instagram-fake-spammer-genuine-accounts        Instagram fake spammer genuine accounts      7KB  2019-03-22 15:12:51           1240  \n",
            "hassanamin/textdb3                                        Fake News                                   11MB  2019-03-01 10:09:42            151  \n",
            "mdepak/fakenewsnet                                        FakeNewsNet                                 17MB  2018-11-02 19:08:58           1411  \n",
            "bitandatom/social-network-fake-account-dataset            Social Network Fake Account Dataset        175MB  2019-11-18 00:05:01           2567  \n",
            "eibriel/rdany-conversations                               rDany Chat                                 895KB  2017-03-01 15:33:50           3411  \n",
            "mohamadalhasan/a-fake-news-dataset-around-the-syrian-war  Fake News Dataset                          458KB  2020-02-17 07:52:59            116  \n",
            "HRAnalyticRepository/employee-attrition-data              Employee Attrition                         501KB  2017-04-26 18:39:14           7143  \n",
            "tunguz/1-million-fake-faces                               1 Million Fake Faces - 1                    17GB  2019-11-14 01:59:47            542  \n",
            "sumanthvrao/fakenewsdataset                               Fake-News-Dataset                            3MB  2019-04-19 08:39:12            553  \n",
            "dagnelies/deepfake-faces                                  deepfake_faces                             433MB  2020-02-02 19:44:24            845  \n",
            "humananalog/deepfakes-inference-demo                      Deepfakes Inference Demo                    81MB  2020-01-21 12:51:52           1828  \n",
            "tunguz/1-million-fake-faces-7                             1 Million Fake Faces - 7                     9GB  2019-11-15 21:47:42            124  \n",
            "xhlulu/140k-real-and-fake-faces                           140k Real and Fake Faces                     4GB  2020-02-10 17:11:35             95  \n",
            "corrieaar/disinformation-articles                         Disinformation and Fake News               118MB  2020-03-09 23:28:28             30  \n"
          ],
          "name": "stdout"
        }
      ]
    },
    {
      "cell_type": "code",
      "metadata": {
        "id": "PsDv6ySqMTnE",
        "colab_type": "code",
        "colab": {
          "base_uri": "https://localhost:8080/",
          "height": 88
        },
        "outputId": "2bd419e5-c0e7-404e-982b-94e40864ad85"
      },
      "source": [
        "!kaggle datasets download -d clmentbisaillon/fake-and-real-news-dataset"
      ],
      "execution_count": 6,
      "outputs": [
        {
          "output_type": "stream",
          "text": [
            "Downloading fake-and-real-news-dataset.zip to /content/drive/My Drive/Colab Notebooks/ML/FakeRealNewsDataset\n",
            " 88% 36.0M/41.0M [00:00<00:00, 28.2MB/s]\n",
            "100% 41.0M/41.0M [00:00<00:00, 49.6MB/s]\n"
          ],
          "name": "stdout"
        }
      ]
    },
    {
      "cell_type": "code",
      "metadata": {
        "id": "JQBjMXy5MgrI",
        "colab_type": "code",
        "colab": {
          "base_uri": "https://localhost:8080/",
          "height": 68
        },
        "outputId": "7914908a-5f77-476f-ac26-821601f57695"
      },
      "source": [
        "!unzip fake-and-real-news-dataset.zip"
      ],
      "execution_count": 8,
      "outputs": [
        {
          "output_type": "stream",
          "text": [
            "Archive:  fake-and-real-news-dataset.zip\n",
            "  inflating: Fake.csv                \n",
            "  inflating: True.csv                \n"
          ],
          "name": "stdout"
        }
      ]
    },
    {
      "cell_type": "code",
      "metadata": {
        "id": "sqG8eLCMMtVW",
        "colab_type": "code",
        "colab": {}
      },
      "source": [
        "import numpy as np\n",
        "import pandas as pd"
      ],
      "execution_count": 0,
      "outputs": []
    },
    {
      "cell_type": "code",
      "metadata": {
        "id": "7AxXySJlM7RY",
        "colab_type": "code",
        "colab": {}
      },
      "source": [
        "true=pd.read_csv('True.csv')\n",
        "true['target']='true'\n",
        "fake=pd.read_csv('Fake.csv')\n",
        "fake['target']='fake'"
      ],
      "execution_count": 0,
      "outputs": []
    },
    {
      "cell_type": "code",
      "metadata": {
        "id": "5OxpapinNHml",
        "colab_type": "code",
        "colab": {
          "base_uri": "https://localhost:8080/",
          "height": 374
        },
        "outputId": "32222aa8-0b00-40db-eac9-7249c6c9ffbd"
      },
      "source": [
        "df=pd.concat([fake,true]).reset_index(drop=True)\n",
        "df.head()"
      ],
      "execution_count": 13,
      "outputs": [
        {
          "output_type": "execute_result",
          "data": {
            "text/html": [
              "<div>\n",
              "<style scoped>\n",
              "    .dataframe tbody tr th:only-of-type {\n",
              "        vertical-align: middle;\n",
              "    }\n",
              "\n",
              "    .dataframe tbody tr th {\n",
              "        vertical-align: top;\n",
              "    }\n",
              "\n",
              "    .dataframe thead th {\n",
              "        text-align: right;\n",
              "    }\n",
              "</style>\n",
              "<table border=\"1\" class=\"dataframe\">\n",
              "  <thead>\n",
              "    <tr style=\"text-align: right;\">\n",
              "      <th></th>\n",
              "      <th>title</th>\n",
              "      <th>text</th>\n",
              "      <th>subject</th>\n",
              "      <th>date</th>\n",
              "      <th>target</th>\n",
              "    </tr>\n",
              "  </thead>\n",
              "  <tbody>\n",
              "    <tr>\n",
              "      <th>0</th>\n",
              "      <td>Donald Trump Sends Out Embarrassing New Year’...</td>\n",
              "      <td>Donald Trump just couldn t wish all Americans ...</td>\n",
              "      <td>News</td>\n",
              "      <td>December 31, 2017</td>\n",
              "      <td>fake</td>\n",
              "    </tr>\n",
              "    <tr>\n",
              "      <th>1</th>\n",
              "      <td>Drunk Bragging Trump Staffer Started Russian ...</td>\n",
              "      <td>House Intelligence Committee Chairman Devin Nu...</td>\n",
              "      <td>News</td>\n",
              "      <td>December 31, 2017</td>\n",
              "      <td>fake</td>\n",
              "    </tr>\n",
              "    <tr>\n",
              "      <th>2</th>\n",
              "      <td>Sheriff David Clarke Becomes An Internet Joke...</td>\n",
              "      <td>On Friday, it was revealed that former Milwauk...</td>\n",
              "      <td>News</td>\n",
              "      <td>December 30, 2017</td>\n",
              "      <td>fake</td>\n",
              "    </tr>\n",
              "    <tr>\n",
              "      <th>3</th>\n",
              "      <td>Trump Is So Obsessed He Even Has Obama’s Name...</td>\n",
              "      <td>On Christmas day, Donald Trump announced that ...</td>\n",
              "      <td>News</td>\n",
              "      <td>December 29, 2017</td>\n",
              "      <td>fake</td>\n",
              "    </tr>\n",
              "    <tr>\n",
              "      <th>4</th>\n",
              "      <td>Pope Francis Just Called Out Donald Trump Dur...</td>\n",
              "      <td>Pope Francis used his annual Christmas Day mes...</td>\n",
              "      <td>News</td>\n",
              "      <td>December 25, 2017</td>\n",
              "      <td>fake</td>\n",
              "    </tr>\n",
              "  </tbody>\n",
              "</table>\n",
              "</div>"
            ],
            "text/plain": [
              "                                               title  ... target\n",
              "0   Donald Trump Sends Out Embarrassing New Year’...  ...   fake\n",
              "1   Drunk Bragging Trump Staffer Started Russian ...  ...   fake\n",
              "2   Sheriff David Clarke Becomes An Internet Joke...  ...   fake\n",
              "3   Trump Is So Obsessed He Even Has Obama’s Name...  ...   fake\n",
              "4   Pope Francis Just Called Out Donald Trump Dur...  ...   fake\n",
              "\n",
              "[5 rows x 5 columns]"
            ]
          },
          "metadata": {
            "tags": []
          },
          "execution_count": 13
        }
      ]
    },
    {
      "cell_type": "markdown",
      "metadata": {
        "id": "GP7eKB_RNpfd",
        "colab_type": "text"
      },
      "source": [
        "Logistic Regression Classifier"
      ]
    },
    {
      "cell_type": "code",
      "metadata": {
        "id": "DvFYx7oQNVYj",
        "colab_type": "code",
        "colab": {}
      },
      "source": [
        "from sklearn.model_selection import train_test_split\n",
        "X_train,X_test,y_train,y_test=train_test_split(df['text'],df['target'],test_size=0.2,random_state=101)"
      ],
      "execution_count": 0,
      "outputs": []
    },
    {
      "cell_type": "code",
      "metadata": {
        "id": "lou76CXHOI-9",
        "colab_type": "code",
        "colab": {}
      },
      "source": [
        "from sklearn.pipeline import Pipeline\n",
        "from sklearn.linear_model import LogisticRegression\n",
        "from sklearn.feature_extraction.text import TfidfTransformer,CountVectorizer\n",
        "from sklearn.metrics import accuracy_score"
      ],
      "execution_count": 0,
      "outputs": []
    },
    {
      "cell_type": "code",
      "metadata": {
        "id": "rSGNr8vcOsMT",
        "colab_type": "code",
        "colab": {
          "base_uri": "https://localhost:8080/",
          "height": 34
        },
        "outputId": "d0db2186-4840-42e2-bbde-cb3d8b647e5a"
      },
      "source": [
        "pipe=Pipeline([('vect',CountVectorizer()),\n",
        "               ('tfidf',TfidfTransformer()),\n",
        "               ('model',LogisticRegression())])\n",
        "model =pipe.fit(X_train,y_train)\n",
        "pred=model.predict(X_test)\n",
        "print(accuracy_score(y_test,pred))"
      ],
      "execution_count": 16,
      "outputs": [
        {
          "output_type": "stream",
          "text": [
            "0.9881959910913141\n"
          ],
          "name": "stdout"
        }
      ]
    },
    {
      "cell_type": "markdown",
      "metadata": {
        "id": "8mv6Y77-PZTu",
        "colab_type": "text"
      },
      "source": [
        "Support Vector Classifier"
      ]
    },
    {
      "cell_type": "code",
      "metadata": {
        "id": "Y8_2aQXBPrQG",
        "colab_type": "code",
        "colab": {}
      },
      "source": [
        "from sklearn.svm import LinearSVC"
      ],
      "execution_count": 0,
      "outputs": []
    },
    {
      "cell_type": "code",
      "metadata": {
        "id": "UC7_quUpPJBd",
        "colab_type": "code",
        "colab": {
          "base_uri": "https://localhost:8080/",
          "height": 34
        },
        "outputId": "23ae42d2-c2f6-414c-e682-37c6e0b0431c"
      },
      "source": [
        "pipe=Pipeline([('vect',CountVectorizer()),\n",
        "               ('tfidf',TfidfTransformer()),\n",
        "               ('model',LinearSVC())])\n",
        "model=pipe.fit(X_train,y_train)\n",
        "pred=model.predict(X_test)\n",
        "print(accuracy_score(y_test,pred))"
      ],
      "execution_count": 18,
      "outputs": [
        {
          "output_type": "stream",
          "text": [
            "0.9959910913140312\n"
          ],
          "name": "stdout"
        }
      ]
    },
    {
      "cell_type": "markdown",
      "metadata": {
        "id": "AcWMW9_qSMCv",
        "colab_type": "text"
      },
      "source": [
        "Multinomial Navie Bayes Classifier"
      ]
    },
    {
      "cell_type": "code",
      "metadata": {
        "id": "eS7F-WyAP9TK",
        "colab_type": "code",
        "colab": {}
      },
      "source": [
        "from sklearn.naive_bayes import MultinomialNB"
      ],
      "execution_count": 0,
      "outputs": []
    },
    {
      "cell_type": "code",
      "metadata": {
        "id": "0O9-BC6CSdmq",
        "colab_type": "code",
        "colab": {
          "base_uri": "https://localhost:8080/",
          "height": 34
        },
        "outputId": "9b6d18cb-8167-4ad5-d3d5-6eaf7cc002f4"
      },
      "source": [
        "pipe=Pipeline([('vect',CountVectorizer()),\n",
        "               ('tfidf',TfidfTransformer()),\n",
        "               ('model',MultinomialNB())])\n",
        "model=pipe.fit(X_train,y_train)\n",
        "pred=model.predict(X_test)\n",
        "print(accuracy_score(y_test,pred))"
      ],
      "execution_count": 21,
      "outputs": [
        {
          "output_type": "stream",
          "text": [
            "0.9387527839643652\n"
          ],
          "name": "stdout"
        }
      ]
    },
    {
      "cell_type": "markdown",
      "metadata": {
        "id": "Av2pglt4S-af",
        "colab_type": "text"
      },
      "source": [
        "Bernoulli Naive Bayes Classifier"
      ]
    },
    {
      "cell_type": "code",
      "metadata": {
        "id": "jK6528ceS1WV",
        "colab_type": "code",
        "colab": {}
      },
      "source": [
        "from sklearn.naive_bayes import BernoulliNB"
      ],
      "execution_count": 0,
      "outputs": []
    },
    {
      "cell_type": "code",
      "metadata": {
        "id": "wKkC1_bcTJ5V",
        "colab_type": "code",
        "colab": {
          "base_uri": "https://localhost:8080/",
          "height": 34
        },
        "outputId": "3060e88e-7f87-4152-f0f9-3c2c6333d5d7"
      },
      "source": [
        "pipe=Pipeline([('vect',CountVectorizer()),\n",
        "               ('tfidf',TfidfTransformer()),\n",
        "               ('model',BernoulliNB())])\n",
        "model=pipe.fit(X_train,y_train)\n",
        "pred=model.predict(X_test)\n",
        "print(accuracy_score(y_test,pred))"
      ],
      "execution_count": 23,
      "outputs": [
        {
          "output_type": "stream",
          "text": [
            "0.9444320712694878\n"
          ],
          "name": "stdout"
        }
      ]
    },
    {
      "cell_type": "markdown",
      "metadata": {
        "id": "GGblwQvVTqv2",
        "colab_type": "text"
      },
      "source": [
        "Gradient Boost Classifier"
      ]
    },
    {
      "cell_type": "code",
      "metadata": {
        "id": "ZsGsTlUDTgaS",
        "colab_type": "code",
        "colab": {}
      },
      "source": [
        "from sklearn.ensemble import GradientBoostingClassifier"
      ],
      "execution_count": 0,
      "outputs": []
    },
    {
      "cell_type": "code",
      "metadata": {
        "id": "whdYMI3tT2SZ",
        "colab_type": "code",
        "colab": {
          "base_uri": "https://localhost:8080/",
          "height": 34
        },
        "outputId": "39504300-6dd6-4229-fc51-b88973ae42e1"
      },
      "source": [
        "pipe=Pipeline([('vect',CountVectorizer()),\n",
        "               ('tfidf',TfidfTransformer()),\n",
        "                ('model',GradientBoostingClassifier(loss='deviance',\n",
        "                                                    learning_rate=0.01,\n",
        "                                                    n_estimators=10,\n",
        "                                                    max_depth=5,\n",
        "                                                    random_state=42))])\n",
        "model=pipe.fit(X_train,y_train)\n",
        "pred=model.predict(X_test)\n",
        "print(accuracy_score(y_test,pred))"
      ],
      "execution_count": 26,
      "outputs": [
        {
          "output_type": "stream",
          "text": [
            "0.9944320712694877\n"
          ],
          "name": "stdout"
        }
      ]
    },
    {
      "cell_type": "markdown",
      "metadata": {
        "id": "1fG7-nv9YrdP",
        "colab_type": "text"
      },
      "source": [
        "XGBoost Classifier"
      ]
    },
    {
      "cell_type": "code",
      "metadata": {
        "id": "X4d42ypoUZWe",
        "colab_type": "code",
        "colab": {}
      },
      "source": [
        "from xgboost import XGBClassifier"
      ],
      "execution_count": 0,
      "outputs": []
    },
    {
      "cell_type": "code",
      "metadata": {
        "id": "Bh23DL9dY4vg",
        "colab_type": "code",
        "colab": {
          "base_uri": "https://localhost:8080/",
          "height": 34
        },
        "outputId": "9bed6f43-e7fd-407f-b3f6-9b84e582bcff"
      },
      "source": [
        "pipe=Pipeline([('vect',CountVectorizer()),\n",
        "               ('tfidf',TfidfTransformer()),\n",
        "               ('model',XGBClassifier(loss='deviance',\n",
        "                                      learning_rate=0.01,\n",
        "                                      n_estimators=10,\n",
        "                                      max_depth=5,\n",
        "                                      random_state=42))])\n",
        "model.fit(X_train,y_train)\n",
        "pred=model.predict(X_test)\n",
        "print(accuracy_score(y_test,pred))"
      ],
      "execution_count": 29,
      "outputs": [
        {
          "output_type": "stream",
          "text": [
            "0.9944320712694877\n"
          ],
          "name": "stdout"
        }
      ]
    },
    {
      "cell_type": "markdown",
      "metadata": {
        "id": "p1evyuAeZwEI",
        "colab_type": "text"
      },
      "source": [
        "Stochastic Gradient Descent"
      ]
    },
    {
      "cell_type": "code",
      "metadata": {
        "id": "j8EYcIGMZdRL",
        "colab_type": "code",
        "colab": {}
      },
      "source": [
        "from sklearn.linear_model import SGDClassifier"
      ],
      "execution_count": 0,
      "outputs": []
    },
    {
      "cell_type": "code",
      "metadata": {
        "id": "16Oc0HneaBzb",
        "colab_type": "code",
        "colab": {
          "base_uri": "https://localhost:8080/",
          "height": 34
        },
        "outputId": "3414d42b-6ed7-49a1-eecb-f0729c8b5e10"
      },
      "source": [
        "pipe=Pipeline([('vect',CountVectorizer()),\n",
        "               ('tfidf',TfidfTransformer()),\n",
        "               ('model',SGDClassifier())])\n",
        "model=pipe.fit(X_train,y_train)\n",
        "pred=model.predict(X_test)\n",
        "print(accuracy_score(y_test,pred))"
      ],
      "execution_count": 31,
      "outputs": [
        {
          "output_type": "stream",
          "text": [
            "0.9916481069042317\n"
          ],
          "name": "stdout"
        }
      ]
    },
    {
      "cell_type": "markdown",
      "metadata": {
        "id": "hSvveisbadcN",
        "colab_type": "text"
      },
      "source": [
        "Decision Tree"
      ]
    },
    {
      "cell_type": "code",
      "metadata": {
        "id": "MHg2ZLOQaV-B",
        "colab_type": "code",
        "colab": {}
      },
      "source": [
        "from sklearn.tree import DecisionTreeClassifier"
      ],
      "execution_count": 0,
      "outputs": []
    },
    {
      "cell_type": "code",
      "metadata": {
        "id": "xRrBfCcaaimG",
        "colab_type": "code",
        "colab": {
          "base_uri": "https://localhost:8080/",
          "height": 34
        },
        "outputId": "8ab18aa5-d6c6-4989-fbab-95346d4d86d9"
      },
      "source": [
        "pipe=Pipeline([('vect',CountVectorizer()),\n",
        "               ('tfidf',TfidfTransformer()),\n",
        "               ('model',DecisionTreeClassifier(criterion='entropy',\n",
        "                                               max_depth=10,\n",
        "                                               splitter='best',\n",
        "                                               random_state=42))])\n",
        "model=pipe.fit(X_train,y_train)\n",
        "pred=model.predict(X_test)\n",
        "print(accuracy_score(y_test,pred))"
      ],
      "execution_count": 33,
      "outputs": [
        {
          "output_type": "stream",
          "text": [
            "0.9968819599109131\n"
          ],
          "name": "stdout"
        }
      ]
    },
    {
      "cell_type": "markdown",
      "metadata": {
        "id": "pCk0VpU1bQF2",
        "colab_type": "text"
      },
      "source": [
        "Random Forest Classifier"
      ]
    },
    {
      "cell_type": "code",
      "metadata": {
        "id": "GmkBWMRWa-OY",
        "colab_type": "code",
        "colab": {}
      },
      "source": [
        "from sklearn.ensemble import RandomForestClassifier"
      ],
      "execution_count": 0,
      "outputs": []
    },
    {
      "cell_type": "code",
      "metadata": {
        "id": "VGHzLYTvbZYu",
        "colab_type": "code",
        "colab": {
          "base_uri": "https://localhost:8080/",
          "height": 34
        },
        "outputId": "44e740be-41c2-44d5-fd34-580f5faba5a5"
      },
      "source": [
        "pipe=Pipeline([('vect',CountVectorizer()),\n",
        "               ('tfidf',TfidfTransformer()),\n",
        "               ('model',RandomForestClassifier())])\n",
        "model=pipe.fit(X_train,y_train)\n",
        "pred=model.predict(X_test)\n",
        "print(accuracy_score(y_test,pred))"
      ],
      "execution_count": 35,
      "outputs": [
        {
          "output_type": "stream",
          "text": [
            "0.9903118040089087\n"
          ],
          "name": "stdout"
        }
      ]
    },
    {
      "cell_type": "markdown",
      "metadata": {
        "id": "nX-D0UoGec_s",
        "colab_type": "text"
      },
      "source": [
        "KNN Classifier"
      ]
    },
    {
      "cell_type": "code",
      "metadata": {
        "id": "mVc3vlInbqsl",
        "colab_type": "code",
        "colab": {}
      },
      "source": [
        "from sklearn.neighbors import KNeighborsClassifier"
      ],
      "execution_count": 0,
      "outputs": []
    },
    {
      "cell_type": "code",
      "metadata": {
        "id": "M7SIBi3EeiTd",
        "colab_type": "code",
        "colab": {
          "base_uri": "https://localhost:8080/",
          "height": 34
        },
        "outputId": "9cec2a04-8174-42a9-ffbf-5cdbced93e33"
      },
      "source": [
        "pipe=Pipeline([('vect',CountVectorizer()),\n",
        "               ('tfidf',TfidfTransformer()),\n",
        "               ('model',KNeighborsClassifier(n_neighbors=10,\n",
        "                                             weights='distance',\n",
        "                                             algorithm='brute'))])\n",
        "model=pipe.fit(X_train,y_train)\n",
        "pred=model.predict(X_test)\n",
        "print(accuracy_score(y_test,pred))"
      ],
      "execution_count": 37,
      "outputs": [
        {
          "output_type": "stream",
          "text": [
            "0.6744988864142539\n"
          ],
          "name": "stdout"
        }
      ]
    },
    {
      "cell_type": "markdown",
      "metadata": {
        "id": "WG60qRC-fWsq",
        "colab_type": "text"
      },
      "source": [
        "LSTM"
      ]
    },
    {
      "cell_type": "code",
      "metadata": {
        "id": "BMOzZQ8Bff0S",
        "colab_type": "code",
        "colab": {
          "base_uri": "https://localhost:8080/",
          "height": 34
        },
        "outputId": "24f7163f-29e2-409b-f3cb-d04f0a4adb0f"
      },
      "source": [
        "from sklearn.preprocessing import LabelEncoder\n",
        "from keras.models import Model\n",
        "from keras.layers import LSTM, Activation, Dense, Dropout, Input, Embedding\n",
        "from keras.optimizers import RMSprop\n",
        "from keras.preprocessing.text import Tokenizer\n",
        "from keras.preprocessing import sequence\n",
        "from keras.callbacks import EarlyStopping"
      ],
      "execution_count": 38,
      "outputs": [
        {
          "output_type": "stream",
          "text": [
            "Using TensorFlow backend.\n"
          ],
          "name": "stderr"
        }
      ]
    },
    {
      "cell_type": "code",
      "metadata": {
        "id": "mzD9LyZ4fJPx",
        "colab_type": "code",
        "colab": {}
      },
      "source": [
        "X=df['text']\n",
        "y=df['target']\n",
        "le=LabelEncoder()\n",
        "y=le.fit_transform(y)\n",
        "y=y.reshape(-1,1)"
      ],
      "execution_count": 0,
      "outputs": []
    },
    {
      "cell_type": "code",
      "metadata": {
        "id": "s31Ls9uZfyo7",
        "colab_type": "code",
        "colab": {}
      },
      "source": [
        "X_train,X_test,y_train,y_test=train_test_split(X,y,test_size=0.15)\n",
        "max_word=500\n",
        "max_len=75"
      ],
      "execution_count": 0,
      "outputs": []
    },
    {
      "cell_type": "code",
      "metadata": {
        "id": "9GzZFxcXgGog",
        "colab_type": "code",
        "colab": {}
      },
      "source": [
        "tok=Tokenizer(num_words=max_word)\n",
        "tok.fit_on_texts(X_train)\n",
        "sequences=tok.texts_to_sequences(X_train)\n",
        "sequence_matrix=sequence.pad_sequences(sequences,maxlen=max_len)"
      ],
      "execution_count": 0,
      "outputs": []
    },
    {
      "cell_type": "code",
      "metadata": {
        "id": "qyEcTxedgiYd",
        "colab_type": "code",
        "colab": {}
      },
      "source": [
        "def RNN():\n",
        "  inputs=Input(name='inputs',shape=[max_len])\n",
        "  layer=Embedding(max_word,50,input_length=max_len)(inputs)\n",
        "  layer=LSTM(64)(layer)\n",
        "  layer=Dense(256,name='FC1')(layer)\n",
        "  layer=Activation('relu')(layer)\n",
        "  layer=Dropout(0.5)(layer)\n",
        "  layer=Dense(1,name='out_layer')(layer)\n",
        "  layer=Activation('sigmoid')(layer)\n",
        "  model=Model(inputs=inputs,outputs=layer)\n",
        "  return model"
      ],
      "execution_count": 0,
      "outputs": []
    },
    {
      "cell_type": "code",
      "metadata": {
        "id": "ozB2HO0xhoRk",
        "colab_type": "code",
        "colab": {}
      },
      "source": [
        "model=RNN()"
      ],
      "execution_count": 0,
      "outputs": []
    },
    {
      "cell_type": "code",
      "metadata": {
        "id": "DyjpPzgjhu0r",
        "colab_type": "code",
        "colab": {}
      },
      "source": [
        "from tensorflow.keras.utils import plot_model\n",
        "plot_model(model,to_file='model1.png')\n",
        "model.compile(loss='binary_crossentropy',\n",
        "              optimizer=RMSprop(),\n",
        "              metrics=['accuracy'])"
      ],
      "execution_count": 0,
      "outputs": []
    },
    {
      "cell_type": "code",
      "metadata": {
        "id": "3Oo0xN1JiDlk",
        "colab_type": "code",
        "colab": {
          "base_uri": "https://localhost:8080/",
          "height": 173
        },
        "outputId": "b7717490-a4fa-4d5c-febf-809cf5bee68c"
      },
      "source": [
        "model.fit(sequence_matrix,y_train,batch_size=256,epochs=10,\n",
        "          validation_split=0.2,callbacks=[EarlyStopping(monitor='val_loss',min_delta=0.0001)])"
      ],
      "execution_count": 49,
      "outputs": [
        {
          "output_type": "stream",
          "text": [
            "Train on 30530 samples, validate on 7633 samples\n",
            "Epoch 1/10\n",
            "30530/30530 [==============================] - 31s 1ms/step - loss: 0.0449 - accuracy: 0.9844 - val_loss: 0.1027 - val_accuracy: 0.9696\n",
            "Epoch 2/10\n",
            "30530/30530 [==============================] - 31s 1ms/step - loss: 0.0404 - accuracy: 0.9857 - val_loss: 0.0739 - val_accuracy: 0.9739\n",
            "Epoch 3/10\n",
            "30530/30530 [==============================] - 31s 1ms/step - loss: 0.0389 - accuracy: 0.9865 - val_loss: 0.0809 - val_accuracy: 0.9722\n"
          ],
          "name": "stdout"
        },
        {
          "output_type": "execute_result",
          "data": {
            "text/plain": [
              "<keras.callbacks.callbacks.History at 0x7f836f28ddd8>"
            ]
          },
          "metadata": {
            "tags": []
          },
          "execution_count": 49
        }
      ]
    },
    {
      "cell_type": "code",
      "metadata": {
        "id": "QR28MviDiamN",
        "colab_type": "code",
        "colab": {
          "base_uri": "https://localhost:8080/",
          "height": 51
        },
        "outputId": "1dcf4e19-b8be-4580-acec-133f8d304634"
      },
      "source": [
        "test_sequences = tok.texts_to_sequences(X_test)\n",
        "test_sequences_matrix = sequence.pad_sequences(test_sequences,maxlen=max_len)\n",
        "accr = model.evaluate(test_sequences_matrix,y_test)\n",
        "print('Accuracy: {:0.2f}'.format(accr[1]))"
      ],
      "execution_count": 51,
      "outputs": [
        {
          "output_type": "stream",
          "text": [
            "6735/6735 [==============================] - 2s 333us/step\n",
            "Accuracy: 0.98\n"
          ],
          "name": "stdout"
        }
      ]
    },
    {
      "cell_type": "code",
      "metadata": {
        "id": "1V7Jagx9j4KL",
        "colab_type": "code",
        "colab": {}
      },
      "source": [
        ""
      ],
      "execution_count": 0,
      "outputs": []
    }
  ]
}