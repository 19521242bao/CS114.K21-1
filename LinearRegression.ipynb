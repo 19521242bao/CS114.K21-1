{
  "nbformat": 4,
  "nbformat_minor": 0,
  "metadata": {
    "colab": {
      "name": "ML.ipynb",
      "provenance": [],
      "mount_file_id": "12dY-lEC0X8YpevC_XGNmER4wTeMug9lg",
      "authorship_tag": "ABX9TyP/rZ3o9e0sLM0q1z+6aA2/",
      "include_colab_link": true
    },
    "kernelspec": {
      "name": "python3",
      "display_name": "Python 3"
    }
  },
  "cells": [
    {
      "cell_type": "markdown",
      "metadata": {
        "id": "view-in-github",
        "colab_type": "text"
      },
      "source": [
        "<a href=\"https://colab.research.google.com/github/ThuanPhong0126/CS114.K21/blob/master/ML.ipynb\" target=\"_parent\"><img src=\"https://colab.research.google.com/assets/colab-badge.svg\" alt=\"Open In Colab\"/></a>"
      ]
    },
    {
      "cell_type": "markdown",
      "metadata": {
        "id": "4v3DDQI2liYS",
        "colab_type": "text"
      },
      "source": [
        "### Import thư viện được sử dụng"
      ]
    },
    {
      "cell_type": "code",
      "metadata": {
        "id": "XBX4C5cPjZnc",
        "colab_type": "code",
        "colab": {}
      },
      "source": [
        "import pandas as pd\n",
        "from sklearn.metrics import mean_squared_error\n",
        "import seaborn as sns\n",
        "import matplotlib.pyplot as plt\n",
        "from sklearn.linear_model import LinearRegression\n",
        "from sklearn.model_selection import train_test_split"
      ],
      "execution_count": 0,
      "outputs": []
    },
    {
      "cell_type": "markdown",
      "metadata": {
        "id": "a1CZIZ_2lpBF",
        "colab_type": "text"
      },
      "source": [
        "### Đọc dữ liệu từ file data.txt"
      ]
    },
    {
      "cell_type": "code",
      "metadata": {
        "id": "mh5A4Ph_emIH",
        "colab_type": "code",
        "outputId": "6eb5263b-7517-4e65-ab46-e627731945ff",
        "colab": {
          "base_uri": "https://localhost:8080/",
          "height": 419
        }
      },
      "source": [
        "data=pd.read_csv('https://cs.uit.edu.vn/data.txt',header=None)\n",
        "data.columns=['dulieu','thoigian']\n",
        "data"
      ],
      "execution_count": 0,
      "outputs": [
        {
          "output_type": "execute_result",
          "data": {
            "text/html": [
              "<div>\n",
              "<style scoped>\n",
              "    .dataframe tbody tr th:only-of-type {\n",
              "        vertical-align: middle;\n",
              "    }\n",
              "\n",
              "    .dataframe tbody tr th {\n",
              "        vertical-align: top;\n",
              "    }\n",
              "\n",
              "    .dataframe thead th {\n",
              "        text-align: right;\n",
              "    }\n",
              "</style>\n",
              "<table border=\"1\" class=\"dataframe\">\n",
              "  <thead>\n",
              "    <tr style=\"text-align: right;\">\n",
              "      <th></th>\n",
              "      <th>dulieu</th>\n",
              "      <th>thoigian</th>\n",
              "    </tr>\n",
              "  </thead>\n",
              "  <tbody>\n",
              "    <tr>\n",
              "      <th>0</th>\n",
              "      <td>4032139</td>\n",
              "      <td>1.200580</td>\n",
              "    </tr>\n",
              "    <tr>\n",
              "      <th>1</th>\n",
              "      <td>2055486</td>\n",
              "      <td>0.509774</td>\n",
              "    </tr>\n",
              "    <tr>\n",
              "      <th>2</th>\n",
              "      <td>5626651</td>\n",
              "      <td>1.476080</td>\n",
              "    </tr>\n",
              "    <tr>\n",
              "      <th>3</th>\n",
              "      <td>42065</td>\n",
              "      <td>0.007651</td>\n",
              "    </tr>\n",
              "    <tr>\n",
              "      <th>4</th>\n",
              "      <td>6297788</td>\n",
              "      <td>1.661560</td>\n",
              "    </tr>\n",
              "    <tr>\n",
              "      <th>...</th>\n",
              "      <td>...</td>\n",
              "      <td>...</td>\n",
              "    </tr>\n",
              "    <tr>\n",
              "      <th>5206</th>\n",
              "      <td>6600098</td>\n",
              "      <td>1.804520</td>\n",
              "    </tr>\n",
              "    <tr>\n",
              "      <th>5207</th>\n",
              "      <td>5339132</td>\n",
              "      <td>1.450310</td>\n",
              "    </tr>\n",
              "    <tr>\n",
              "      <th>5208</th>\n",
              "      <td>4794647</td>\n",
              "      <td>1.293070</td>\n",
              "    </tr>\n",
              "    <tr>\n",
              "      <th>5209</th>\n",
              "      <td>4440131</td>\n",
              "      <td>1.196530</td>\n",
              "    </tr>\n",
              "    <tr>\n",
              "      <th>5210</th>\n",
              "      <td>2033708</td>\n",
              "      <td>0.517288</td>\n",
              "    </tr>\n",
              "  </tbody>\n",
              "</table>\n",
              "<p>5211 rows × 2 columns</p>\n",
              "</div>"
            ],
            "text/plain": [
              "       dulieu  thoigian\n",
              "0     4032139  1.200580\n",
              "1     2055486  0.509774\n",
              "2     5626651  1.476080\n",
              "3       42065  0.007651\n",
              "4     6297788  1.661560\n",
              "...       ...       ...\n",
              "5206  6600098  1.804520\n",
              "5207  5339132  1.450310\n",
              "5208  4794647  1.293070\n",
              "5209  4440131  1.196530\n",
              "5210  2033708  0.517288\n",
              "\n",
              "[5211 rows x 2 columns]"
            ]
          },
          "metadata": {
            "tags": []
          },
          "execution_count": 57
        }
      ]
    },
    {
      "cell_type": "markdown",
      "metadata": {
        "id": "_hOU859Hlw92",
        "colab_type": "text"
      },
      "source": [
        "### Phân tích dữ liệu"
      ]
    },
    {
      "cell_type": "code",
      "metadata": {
        "id": "CrbuGQ-sfmJg",
        "colab_type": "code",
        "outputId": "a0cff7b2-d15a-4208-d485-3ce4091a1b99",
        "colab": {
          "base_uri": "https://localhost:8080/",
          "height": 297
        }
      },
      "source": [
        "data.describe()"
      ],
      "execution_count": 0,
      "outputs": [
        {
          "output_type": "execute_result",
          "data": {
            "text/html": [
              "<div>\n",
              "<style scoped>\n",
              "    .dataframe tbody tr th:only-of-type {\n",
              "        vertical-align: middle;\n",
              "    }\n",
              "\n",
              "    .dataframe tbody tr th {\n",
              "        vertical-align: top;\n",
              "    }\n",
              "\n",
              "    .dataframe thead th {\n",
              "        text-align: right;\n",
              "    }\n",
              "</style>\n",
              "<table border=\"1\" class=\"dataframe\">\n",
              "  <thead>\n",
              "    <tr style=\"text-align: right;\">\n",
              "      <th></th>\n",
              "      <th>dulieu</th>\n",
              "      <th>thoigian</th>\n",
              "    </tr>\n",
              "  </thead>\n",
              "  <tbody>\n",
              "    <tr>\n",
              "      <th>count</th>\n",
              "      <td>5.211000e+03</td>\n",
              "      <td>5211.000000</td>\n",
              "    </tr>\n",
              "    <tr>\n",
              "      <th>mean</th>\n",
              "      <td>4.991583e+06</td>\n",
              "      <td>1.363322</td>\n",
              "    </tr>\n",
              "    <tr>\n",
              "      <th>std</th>\n",
              "      <td>2.903517e+06</td>\n",
              "      <td>0.825849</td>\n",
              "    </tr>\n",
              "    <tr>\n",
              "      <th>min</th>\n",
              "      <td>2.390000e+02</td>\n",
              "      <td>0.000028</td>\n",
              "    </tr>\n",
              "    <tr>\n",
              "      <th>25%</th>\n",
              "      <td>2.451362e+06</td>\n",
              "      <td>0.630964</td>\n",
              "    </tr>\n",
              "    <tr>\n",
              "      <th>50%</th>\n",
              "      <td>5.032102e+06</td>\n",
              "      <td>1.355770</td>\n",
              "    </tr>\n",
              "    <tr>\n",
              "      <th>75%</th>\n",
              "      <td>7.523041e+06</td>\n",
              "      <td>2.076820</td>\n",
              "    </tr>\n",
              "    <tr>\n",
              "      <th>max</th>\n",
              "      <td>9.995358e+06</td>\n",
              "      <td>3.315540</td>\n",
              "    </tr>\n",
              "  </tbody>\n",
              "</table>\n",
              "</div>"
            ],
            "text/plain": [
              "             dulieu     thoigian\n",
              "count  5.211000e+03  5211.000000\n",
              "mean   4.991583e+06     1.363322\n",
              "std    2.903517e+06     0.825849\n",
              "min    2.390000e+02     0.000028\n",
              "25%    2.451362e+06     0.630964\n",
              "50%    5.032102e+06     1.355770\n",
              "75%    7.523041e+06     2.076820\n",
              "max    9.995358e+06     3.315540"
            ]
          },
          "metadata": {
            "tags": []
          },
          "execution_count": 58
        }
      ]
    },
    {
      "cell_type": "code",
      "metadata": {
        "id": "av3ct3sWfqyF",
        "colab_type": "code",
        "outputId": "486d021a-cd49-4fb9-b796-4304d394a564",
        "colab": {
          "base_uri": "https://localhost:8080/",
          "height": 170
        }
      },
      "source": [
        "data.info()"
      ],
      "execution_count": 0,
      "outputs": [
        {
          "output_type": "stream",
          "text": [
            "<class 'pandas.core.frame.DataFrame'>\n",
            "RangeIndex: 5211 entries, 0 to 5210\n",
            "Data columns (total 2 columns):\n",
            " #   Column    Non-Null Count  Dtype  \n",
            "---  ------    --------------  -----  \n",
            " 0   dulieu    5211 non-null   int64  \n",
            " 1   thoigian  5211 non-null   float64\n",
            "dtypes: float64(1), int64(1)\n",
            "memory usage: 81.5 KB\n"
          ],
          "name": "stdout"
        }
      ]
    },
    {
      "cell_type": "code",
      "metadata": {
        "id": "bO0IVBkgfE54",
        "colab_type": "code",
        "colab": {}
      },
      "source": [
        "import seaborn as sns\n",
        "import matplotlib.pyplot as plt\n"
      ],
      "execution_count": 0,
      "outputs": []
    },
    {
      "cell_type": "code",
      "metadata": {
        "id": "ZBIIfJucflVb",
        "colab_type": "code",
        "outputId": "34d56a9c-fb77-410a-cf6f-20823caa0568",
        "colab": {
          "base_uri": "https://localhost:8080/",
          "height": 290
        }
      },
      "source": [
        "sns.distplot(data['dulieu'])\n",
        "plt.show()"
      ],
      "execution_count": 0,
      "outputs": [
        {
          "output_type": "display_data",
          "data": {
            "image/png": "[encoded data removed]",
            "text/plain": [
              "<Figure size 432x288 with 1 Axes>"
            ]
          },
          "metadata": {
            "tags": [],
            "needs_background": "light"
          }
        }
      ]
    },
    {
      "cell_type": "code",
      "metadata": {
        "id": "smJgGt9ofxY4",
        "colab_type": "code",
        "outputId": "2e403517-d423-4ac5-b9a0-5752ba02e08e",
        "colab": {
          "base_uri": "https://localhost:8080/",
          "height": 296
        }
      },
      "source": [
        "sns.distplot(data['thoigian'])"
      ],
      "execution_count": 0,
      "outputs": [
        {
          "output_type": "execute_result",
          "data": {
            "text/plain": [
              "<matplotlib.axes._subplots.AxesSubplot at 0x7f883356c588>"
            ]
          },
          "metadata": {
            "tags": []
          },
          "execution_count": 62
        },
        {
          "output_type": "display_data",
          "data": {
            "image/png": "[encoded data removed]",
            "text/plain": [
              "<Figure size 432x288 with 1 Axes>"
            ]
          },
          "metadata": {
            "tags": [],
            "needs_background": "light"
          }
        }
      ]
    },
    {
      "cell_type": "code",
      "metadata": {
        "id": "7rODMxz4f7rD",
        "colab_type": "code",
        "outputId": "dd814a7b-4293-4f19-bb50-b0ba58819922",
        "colab": {
          "base_uri": "https://localhost:8080/",
          "height": 290
        }
      },
      "source": [
        "sns.scatterplot(data['thoigian'],data['dulieu'])\n",
        "plt.show()"
      ],
      "execution_count": 0,
      "outputs": [
        {
          "output_type": "display_data",
          "data": {
            "image/png": "[encoded data removed]",
            "text/plain": [
              "<Figure size 432x288 with 1 Axes>"
            ]
          },
          "metadata": {
            "tags": [],
            "needs_background": "light"
          }
        }
      ]
    },
    {
      "cell_type": "markdown",
      "metadata": {
        "id": "VoYXLUVrl2Ko",
        "colab_type": "text"
      },
      "source": [
        "### Phân chia tập dữ liệu train và test"
      ]
    },
    {
      "cell_type": "code",
      "metadata": {
        "id": "x-6x0_KJgTmM",
        "colab_type": "code",
        "colab": {}
      },
      "source": [
        "from sklearn.model_selection import train_test_split\n",
        "X_train,X_test,y_train,y_test=train_test_split(data['dulieu'],data['thoigian'],test_size=0.2,random_state=42)"
      ],
      "execution_count": 0,
      "outputs": []
    },
    {
      "cell_type": "code",
      "metadata": {
        "id": "FxHH8hUchQbW",
        "colab_type": "code",
        "colab": {}
      },
      "source": [
        "X_train_=X_train.to_frame()\n",
        "X_test_=X_test.to_frame()"
      ],
      "execution_count": 0,
      "outputs": []
    },
    {
      "cell_type": "code",
      "metadata": {
        "id": "jpDvHdKwghNL",
        "colab_type": "code",
        "colab": {}
      },
      "source": [
        "from sklearn.linear_model import LinearRegression"
      ],
      "execution_count": 0,
      "outputs": []
    },
    {
      "cell_type": "markdown",
      "metadata": {
        "id": "aaM5awKemDZW",
        "colab_type": "text"
      },
      "source": [
        "### Chọn model và tiến hành train model"
      ]
    },
    {
      "cell_type": "code",
      "metadata": {
        "id": "YPry2_HYgphW",
        "colab_type": "code",
        "outputId": "27f56e91-202b-4a93-aa0e-39a88e891444",
        "colab": {
          "base_uri": "https://localhost:8080/",
          "height": 34
        }
      },
      "source": [
        "model=LinearRegression()\n",
        "model.fit(X_train_,y_train)"
      ],
      "execution_count": 0,
      "outputs": [
        {
          "output_type": "execute_result",
          "data": {
            "text/plain": [
              "LinearRegression(copy_X=True, fit_intercept=True, n_jobs=None, normalize=False)"
            ]
          },
          "metadata": {
            "tags": []
          },
          "execution_count": 67
        }
      ]
    },
    {
      "cell_type": "markdown",
      "metadata": {
        "id": "tOmmCY58mMXo",
        "colab_type": "text"
      },
      "source": [
        "### Dự đoán thời gian trong tập test"
      ]
    },
    {
      "cell_type": "code",
      "metadata": {
        "id": "YUBXJ6Lpg5N1",
        "colab_type": "code",
        "outputId": "0ca86a78-8014-4565-a1b8-e616580f3f96",
        "colab": {
          "base_uri": "https://localhost:8080/",
          "height": 51
        }
      },
      "source": [
        "predict=model.predict(X_test_)\n",
        "predict"
      ],
      "execution_count": 0,
      "outputs": [
        {
          "output_type": "execute_result",
          "data": {
            "text/plain": [
              "array([1.7579001 , 2.68567229, 0.49773247, ..., 1.26071932, 0.3289635 ,\n",
              "       0.47564581])"
            ]
          },
          "metadata": {
            "tags": []
          },
          "execution_count": 68
        }
      ]
    },
    {
      "cell_type": "markdown",
      "metadata": {
        "id": "sWEwR6GZmR69",
        "colab_type": "text"
      },
      "source": [
        "### Đánh giá model"
      ]
    },
    {
      "cell_type": "code",
      "metadata": {
        "id": "ENJ6-5qFhgyW",
        "colab_type": "code",
        "outputId": "e40b3d2e-c09e-4dc3-8574-1f455879eb85",
        "colab": {
          "base_uri": "https://localhost:8080/",
          "height": 34
        }
      },
      "source": [
        "model.score(X_test_,y_test)"
      ],
      "execution_count": 0,
      "outputs": [
        {
          "output_type": "execute_result",
          "data": {
            "text/plain": [
              "0.9979933927525543"
            ]
          },
          "metadata": {
            "tags": []
          },
          "execution_count": 69
        }
      ]
    },
    {
      "cell_type": "code",
      "metadata": {
        "id": "FjGIkfoqiFio",
        "colab_type": "code",
        "outputId": "d0e7fd13-b2ce-47e2-9322-5d2ad9f1ff58",
        "colab": {
          "base_uri": "https://localhost:8080/",
          "height": 300
        }
      },
      "source": [
        "sns.set_palette('pastel')\n",
        "sns.scatterplot(X_test,y_test,palette='pastel')\n",
        "sns.scatterplot(X_test,predict,palette='pastel')"
      ],
      "execution_count": 0,
      "outputs": [
        {
          "output_type": "execute_result",
          "data": {
            "text/plain": [
              "<matplotlib.axes._subplots.AxesSubplot at 0x7f88338c1e80>"
            ]
          },
          "metadata": {
            "tags": []
          },
          "execution_count": 70
        },
        {
          "output_type": "display_data",
          "data": {
            "image/png": "[encoded data removed]",
            "text/plain": [
              "<Figure size 432x288 with 1 Axes>"
            ]
          },
          "metadata": {
            "tags": [],
            "needs_background": "light"
          }
        }
      ]
    },
    {
      "cell_type": "code",
      "metadata": {
        "id": "quBgkE4FhlAV",
        "colab_type": "code",
        "outputId": "cea86811-f2b1-4a0a-c95d-952b41f3e221",
        "colab": {
          "base_uri": "https://localhost:8080/",
          "height": 280
        }
      },
      "source": [
        "score=abs(y_test-predict)\n",
        "sns.distplot(score,color='g',axlabel='Độ sai lệch')\n",
        "plt.show()"
      ],
      "execution_count": 0,
      "outputs": [
        {
          "output_type": "display_data",
          "data": {
            "image/png": "[encoded data removed]",
            "text/plain": [
              "<Figure size 432x288 with 1 Axes>"
            ]
          },
          "metadata": {
            "tags": [],
            "needs_background": "light"
          }
        }
      ]
    },
    {
      "cell_type": "code",
      "metadata": {
        "id": "LvalF6ywhvYM",
        "colab_type": "code",
        "outputId": "2bfd772b-b60c-4fd7-f6ad-ada1f769713c",
        "colab": {
          "base_uri": "https://localhost:8080/",
          "height": 34
        }
      },
      "source": [
        "cost=sum((y_test-predict)**2)*(1/len(y_test))\n",
        "cost"
      ],
      "execution_count": 0,
      "outputs": [
        {
          "output_type": "execute_result",
          "data": {
            "text/plain": [
              "0.001358616587029425"
            ]
          },
          "metadata": {
            "tags": []
          },
          "execution_count": 72
        }
      ]
    },
    {
      "cell_type": "code",
      "metadata": {
        "id": "nindQtqakTD-",
        "colab_type": "code",
        "colab": {}
      },
      "source": [
        "from sklearn.metrics import mean_squared_error\n",
        "error=mean_squared_error(y_test,predict)"
      ],
      "execution_count": 0,
      "outputs": []
    },
    {
      "cell_type": "code",
      "metadata": {
        "id": "qEHaiYpWkej3",
        "colab_type": "code",
        "outputId": "ff7b23d3-e34d-4ebb-f5fc-b0d31ecb65ed",
        "colab": {
          "base_uri": "https://localhost:8080/",
          "height": 34
        }
      },
      "source": [
        "error"
      ],
      "execution_count": 0,
      "outputs": [
        {
          "output_type": "execute_result",
          "data": {
            "text/plain": [
              "0.001358616587029427"
            ]
          },
          "metadata": {
            "tags": []
          },
          "execution_count": 74
        }
      ]
    },
    {
      "cell_type": "markdown",
      "metadata": {
        "id": "Nj4VXfI1mVxv",
        "colab_type": "text"
      },
      "source": [
        "### Tiến hành dự đoán"
      ]
    },
    {
      "cell_type": "code",
      "metadata": {
        "id": "1oPYt552mc5d",
        "colab_type": "code",
        "colab": {
          "base_uri": "https://localhost:8080/",
          "height": 51
        },
        "outputId": "bedff0a0-812f-4ffc-b8df-efde3b7f3be8"
      },
      "source": [
        "dolon=int(input('Nhập độ lớn dữ liệu:'))\n",
        "predict=model.predict([[dolon]])\n",
        "print('Thòi gian được dự đoán là: ' ,predict[0] if predict[0]>=0 else 0)"
      ],
      "execution_count": 79,
      "outputs": [
        {
          "output_type": "stream",
          "text": [
            "Nhập độ lớn dữ liệu:12\n",
            "Thòi gian được dự đoán là:  0\n"
          ],
          "name": "stdout"
        }
      ]
    },
    {
      "cell_type": "code",
      "metadata": {
        "id": "n2O8TKkUmt4w",
        "colab_type": "code",
        "colab": {}
      },
      "source": [
        ""
      ],
      "execution_count": 0,
      "outputs": []
    }
  ]
}
