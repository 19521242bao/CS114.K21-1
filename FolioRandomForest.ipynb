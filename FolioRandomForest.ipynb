{
  "nbformat": 4,
  "nbformat_minor": 0,
  "metadata": {
    "colab": {
      "name": "FolioRandomForest.ipynb",
      "provenance": [],
      "mount_file_id": "1TMt4vjGPUIWwsfH130PC1kYwzjvmoLZl",
      "authorship_tag": "ABX9TyOrYizxOM7SzjGgILMaR+hl",
      "include_colab_link": true
    },
    "kernelspec": {
      "name": "python3",
      "display_name": "Python 3"
    }
  },
  "cells": [
    {
      "cell_type": "markdown",
      "metadata": {
        "id": "view-in-github",
        "colab_type": "text"
      },
      "source": [
        "<a href=\"https://colab.research.google.com/github/ThuanPhong0126/CS114.K21/blob/master/FolioRandomForest.ipynb\" target=\"_parent\"><img src=\"https://colab.research.google.com/assets/colab-badge.svg\" alt=\"Open In Colab\"/></a>"
      ]
    },
    {
      "cell_type": "code",
      "metadata": {
        "id": "Q0psA3UoZhGz",
        "colab_type": "code",
        "outputId": "adf54c83-2248-4749-871b-1ebdd9d77df3",
        "colab": {
          "base_uri": "https://localhost:8080/",
          "height": 34
        }
      },
      "source": [
        "pwd"
      ],
      "execution_count": 0,
      "outputs": [
        {
          "output_type": "execute_result",
          "data": {
            "text/plain": [
              "'/content'"
            ]
          },
          "metadata": {
            "tags": []
          },
          "execution_count": 1
        }
      ]
    },
    {
      "cell_type": "code",
      "metadata": {
        "id": "Z9nN5HvpZrOU",
        "colab_type": "code",
        "outputId": "74518565-e83f-421b-ab48-d2a770832a1e",
        "colab": {
          "base_uri": "https://localhost:8080/",
          "height": 34
        }
      },
      "source": [
        "cd /content/drive/My Drive/Colab Notebooks/Folio/Folio Leaf Dataset/Folio Leaf Dataset"
      ],
      "execution_count": 0,
      "outputs": [
        {
          "output_type": "stream",
          "text": [
            "/content/drive/My Drive/Colab Notebooks/Folio/Folio Leaf Dataset/Folio Leaf Dataset\n"
          ],
          "name": "stdout"
        }
      ]
    },
    {
      "cell_type": "code",
      "metadata": {
        "id": "x0kmGlgCZyN0",
        "colab_type": "code",
        "outputId": "52c42b3c-fcdf-4519-82bb-fc704393dbde",
        "colab": {
          "base_uri": "https://localhost:8080/",
          "height": 34
        }
      },
      "source": [
        "pwd"
      ],
      "execution_count": 0,
      "outputs": [
        {
          "output_type": "execute_result",
          "data": {
            "text/plain": [
              "'/content/drive/My Drive/Colab Notebooks/Folio/Folio Leaf Dataset/Folio Leaf Dataset'"
            ]
          },
          "metadata": {
            "tags": []
          },
          "execution_count": 3
        }
      ]
    },
    {
      "cell_type": "code",
      "metadata": {
        "id": "z90YRws9frU6",
        "colab_type": "code",
        "outputId": "2eb0d033-6bc5-4780-f654-5229dd83b4a1",
        "colab": {
          "base_uri": "https://localhost:8080/",
          "height": 224
        }
      },
      "source": [
        "!pip install mahotas"
      ],
      "execution_count": 0,
      "outputs": [
        {
          "output_type": "stream",
          "text": [
            "Collecting mahotas\n",
            "\u001b[?25l  Downloading https://files.pythonhosted.org/packages/84/74/bd38163462eb346519f36dc205f0a52a01fb372c7bbcc87392c9b21cfe26/mahotas-1.4.9.tar.gz (1.5MB)\n",
            "\u001b[K     |████████████████████████████████| 1.5MB 2.8MB/s \n",
            "\u001b[?25hRequirement already satisfied: numpy in /usr/local/lib/python3.6/dist-packages (from mahotas) (1.18.2)\n",
            "Building wheels for collected packages: mahotas\n",
            "  Building wheel for mahotas (setup.py) ... \u001b[?25l\u001b[?25hdone\n",
            "  Created wheel for mahotas: filename=mahotas-1.4.9-cp36-cp36m-linux_x86_64.whl size=4265618 sha256=e144799f35778020fad0bfa68304d074c8c990d5e51c4f0f5654dde7282a7b8c\n",
            "  Stored in directory: /root/.cache/pip/wheels/02/e7/50/b67eee3b19c479cc5b41f10230bf9c1556be6eaaf095c6e997\n",
            "Successfully built mahotas\n",
            "Installing collected packages: mahotas\n",
            "Successfully installed mahotas-1.4.9\n"
          ],
          "name": "stdout"
        }
      ]
    },
    {
      "cell_type": "code",
      "metadata": {
        "id": "rVJArXjXZy-n",
        "colab_type": "code",
        "colab": {}
      },
      "source": [
        "import cv2\n",
        "import os\n",
        "import glob\n",
        "import numpy as np\n",
        "import mahotas"
      ],
      "execution_count": 0,
      "outputs": []
    },
    {
      "cell_type": "code",
      "metadata": {
        "id": "5v05MIqxggMB",
        "colab_type": "code",
        "colab": {}
      },
      "source": [
        "bins=8"
      ],
      "execution_count": 0,
      "outputs": []
    },
    {
      "cell_type": "code",
      "metadata": {
        "id": "kN__AMK4Z2Bw",
        "colab_type": "code",
        "colab": {}
      },
      "source": [
        "def fd_histogram(image,mask=None):\n",
        "  image=cv2.cvtColor(image,cv2.COLOR_BGR2HSV)\n",
        "  hist=cv2.calcHist([image],[0,1,2],None,[bins,bins,bins],[0,256,0,256,0,256])\n",
        "  cv2.normalize(hist,hist)\n",
        "  return hist.flatten()"
      ],
      "execution_count": 0,
      "outputs": []
    },
    {
      "cell_type": "code",
      "metadata": {
        "id": "yIacR-rmafZ7",
        "colab_type": "code",
        "colab": {}
      },
      "source": [
        "def fd_hu_moments(image):\n",
        "  image=cv2.cvtColor(image,cv2.COLOR_BGR2GRAY)\n",
        "  feature=cv2.HuMoments(cv2.moments(image)).flatten()\n",
        "  return feature"
      ],
      "execution_count": 0,
      "outputs": []
    },
    {
      "cell_type": "code",
      "metadata": {
        "id": "ZU4bdAx3a3N8",
        "colab_type": "code",
        "colab": {}
      },
      "source": [
        "def fd_haralick(image):\n",
        "    # chuyển về ảnh gray\n",
        "    gray = cv2.cvtColor(image, cv2.COLOR_BGR2GRAY)\n",
        "    haralick = mahotas.features.haralick(gray).mean(axis=0)\n",
        "    return haralick"
      ],
      "execution_count": 0,
      "outputs": []
    },
    {
      "cell_type": "code",
      "metadata": {
        "id": "KwoWMY-9a5lt",
        "colab_type": "code",
        "colab": {}
      },
      "source": [
        "f_labels=os.listdir('Folio')"
      ],
      "execution_count": 0,
      "outputs": []
    },
    {
      "cell_type": "code",
      "metadata": {
        "id": "medwmXgcb2HN",
        "colab_type": "code",
        "colab": {}
      },
      "source": [
        "sl=0\n",
        "labels=[]\n",
        "global_features=[]\n",
        "for dir_path in glob.glob('Folio/*'):\n",
        "  current_label=dir_path.split('/')[-1]\n",
        "  for img in glob.glob(os.path.join(dir_path,'*')):\n",
        "    image=cv2.imread(img)\n",
        "    image=cv2.resize(image,(100,100))\n",
        "    sl=sl+1\n",
        "    fv_hu_moments = fd_hu_moments(image)\n",
        "    fv_haralick   = fd_haralick(image)\n",
        "    fv_histogram  = fd_histogram(image)\n",
        "    global_feature = np.hstack([fv_histogram, fv_hu_moments, fv_haralick])\n",
        "    labels.append(current_label)\n",
        "    global_features.append(global_feature)"
      ],
      "execution_count": 0,
      "outputs": []
    },
    {
      "cell_type": "code",
      "metadata": {
        "id": "Q8OV3-t7dGmW",
        "colab_type": "code",
        "outputId": "776d11e7-471b-403e-b691-388c5a76b902",
        "colab": {
          "base_uri": "https://localhost:8080/",
          "height": 34
        }
      },
      "source": [
        "sl"
      ],
      "execution_count": 0,
      "outputs": [
        {
          "output_type": "execute_result",
          "data": {
            "text/plain": [
              "637"
            ]
          },
          "metadata": {
            "tags": []
          },
          "execution_count": 45
        }
      ]
    },
    {
      "cell_type": "code",
      "metadata": {
        "id": "cIthd4XwjXQa",
        "colab_type": "code",
        "colab": {}
      },
      "source": [
        "from sklearn.model_selection import train_test_split\n",
        "X_train,X_test,y_train,y_test=train_test_split(global_features,labels,test_size=0.3,random_state=101)"
      ],
      "execution_count": 0,
      "outputs": []
    },
    {
      "cell_type": "code",
      "metadata": {
        "id": "ERzrrMadkZQq",
        "colab_type": "code",
        "colab": {}
      },
      "source": [
        "from sklearn.preprocessing import LabelEncoder,MinMaxScaler\n",
        "import h5py"
      ],
      "execution_count": 0,
      "outputs": []
    },
    {
      "cell_type": "code",
      "metadata": {
        "id": "orjbRlbTeN75",
        "colab_type": "code",
        "outputId": "9b7e67a3-a5e0-4c04-8a14-779c3168b53f",
        "colab": {
          "base_uri": "https://localhost:8080/",
          "height": 68
        }
      },
      "source": [
        "# get the overall feature vector size\n",
        "print (\"[STATUS] feature vector size {}\".format(np.array(X_train).shape))\n",
        "\n",
        "# get the overall training label size\n",
        "print (\"[STATUS] training Labels {}\".format(np.array(y_train).shape))\n",
        "\n",
        "# encode the target labels\n",
        "le = LabelEncoder()\n",
        "target = le.fit_transform(y_train)\n",
        "\n",
        "# normalize the feature vector in the range (0-1)\n",
        "scaler = MinMaxScaler(feature_range=(0, 1))\n",
        "rescaled_features = scaler.fit_transform(X_train)\n",
        "\n",
        "# save the feature vector using HDF5\n",
        "h5f_data = h5py.File('data.h5', 'w')\n",
        "h5f_data.create_dataset('dataset_1', data=np.array(rescaled_features))\n",
        "\n",
        "h5f_label = h5py.File('labels.h5', 'w')\n",
        "h5f_label.create_dataset('dataset_1', data=np.array(target))\n",
        "\n",
        "h5f_data.close()\n",
        "h5f_label.close()\n",
        "\n",
        "print(\"[STATUS] end of training..\")"
      ],
      "execution_count": 0,
      "outputs": [
        {
          "output_type": "stream",
          "text": [
            "[STATUS] feature vector size (445, 532)\n",
            "[STATUS] training Labels (445,)\n",
            "[STATUS] end of training..\n"
          ],
          "name": "stdout"
        }
      ]
    },
    {
      "cell_type": "code",
      "metadata": {
        "id": "dZcQpuEakXa3",
        "colab_type": "code",
        "colab": {}
      },
      "source": [
        "num_trees=300"
      ],
      "execution_count": 0,
      "outputs": []
    },
    {
      "cell_type": "code",
      "metadata": {
        "id": "MmMMtuPHk16Y",
        "colab_type": "code",
        "colab": {}
      },
      "source": [
        "h5f_data = h5py.File('data.h5', 'r')\n",
        "h5f_label = h5py.File('labels.h5', 'r')\n",
        "\n",
        "global_features_string = h5f_data['dataset_1']\n",
        "global_labels_string = h5f_label['dataset_1']\n",
        "\n",
        "global_features = np.array(global_features_string)\n",
        "global_labels = np.array(global_labels_string)\n",
        "\n",
        "h5f_data.close()\n",
        "h5f_label.close()"
      ],
      "execution_count": 0,
      "outputs": []
    },
    {
      "cell_type": "code",
      "metadata": {
        "id": "kgfljH_dk9Na",
        "colab_type": "code",
        "colab": {}
      },
      "source": [
        "from sklearn.ensemble import RandomForestClassifier"
      ],
      "execution_count": 0,
      "outputs": []
    },
    {
      "cell_type": "code",
      "metadata": {
        "id": "3NlWmgnqlJbH",
        "colab_type": "code",
        "outputId": "6a05b195-e01f-4bb0-80d8-b4f9c37559b9",
        "colab": {
          "base_uri": "https://localhost:8080/",
          "height": 153
        }
      },
      "source": [
        "clf  = RandomForestClassifier(n_estimators=num_trees)\n",
        "clf.fit(global_features, global_labels)"
      ],
      "execution_count": 0,
      "outputs": [
        {
          "output_type": "execute_result",
          "data": {
            "text/plain": [
              "RandomForestClassifier(bootstrap=True, ccp_alpha=0.0, class_weight=None,\n",
              "                       criterion='gini', max_depth=None, max_features='auto',\n",
              "                       max_leaf_nodes=None, max_samples=None,\n",
              "                       min_impurity_decrease=0.0, min_impurity_split=None,\n",
              "                       min_samples_leaf=1, min_samples_split=2,\n",
              "                       min_weight_fraction_leaf=0.0, n_estimators=300,\n",
              "                       n_jobs=None, oob_score=False, random_state=None,\n",
              "                       verbose=0, warm_start=False)"
            ]
          },
          "metadata": {
            "tags": []
          },
          "execution_count": 62
        }
      ]
    },
    {
      "cell_type": "code",
      "metadata": {
        "id": "FYyEK5d-lNTN",
        "colab_type": "code",
        "colab": {}
      },
      "source": [
        "le=LabelEncoder()"
      ],
      "execution_count": 0,
      "outputs": []
    },
    {
      "cell_type": "code",
      "metadata": {
        "id": "iAhCCcGUlVtd",
        "colab_type": "code",
        "colab": {}
      },
      "source": [
        "y_result=le.fit_transform(y_test)\n",
        "y_pred=clf.predict(X_test)"
      ],
      "execution_count": 0,
      "outputs": []
    },
    {
      "cell_type": "code",
      "metadata": {
        "id": "eXFK9eWflkxN",
        "colab_type": "code",
        "outputId": "de61dd93-faa7-4005-c0ff-5744e7f116ec",
        "colab": {
          "base_uri": "https://localhost:8080/",
          "height": 34
        }
      },
      "source": [
        "print(\"Result: \", (y_pred == y_result).tolist().count(True)/len(y_result))"
      ],
      "execution_count": 0,
      "outputs": [
        {
          "output_type": "stream",
          "text": [
            "Result:  0.4791666666666667\n"
          ],
          "name": "stdout"
        }
      ]
    },
    {
      "cell_type": "code",
      "metadata": {
        "id": "KdYGV0Jflmjb",
        "colab_type": "code",
        "colab": {}
      },
      "source": [
        "from sklearn.metrics import confusion_matrix,classification_report"
      ],
      "execution_count": 0,
      "outputs": []
    },
    {
      "cell_type": "code",
      "metadata": {
        "id": "u5kbdYUMlvJT",
        "colab_type": "code",
        "outputId": "b76d9b85-cf36-47ce-d44c-100b82f0f61f",
        "colab": {
          "base_uri": "https://localhost:8080/",
          "height": 136
        }
      },
      "source": [
        "print(confusion_matrix(y_result,y_pred))"
      ],
      "execution_count": 0,
      "outputs": [
        {
          "output_type": "stream",
          "text": [
            "[[4 0 0 ... 0 0 0]\n",
            " [0 7 0 ... 0 0 0]\n",
            " [0 4 0 ... 0 0 0]\n",
            " ...\n",
            " [0 0 0 ... 7 0 0]\n",
            " [0 0 0 ... 0 5 0]\n",
            " [1 0 0 ... 0 0 2]]\n"
          ],
          "name": "stdout"
        }
      ]
    },
    {
      "cell_type": "code",
      "metadata": {
        "id": "nhQcd9GDmEth",
        "colab_type": "code",
        "outputId": "5197bda5-91fc-4ef8-9cf5-d90b3e3e6ee0",
        "colab": {
          "base_uri": "https://localhost:8080/",
          "height": 734
        }
      },
      "source": [
        "print(classification_report(y_result,y_pred))"
      ],
      "execution_count": 0,
      "outputs": [
        {
          "output_type": "stream",
          "text": [
            "              precision    recall  f1-score   support\n",
            "\n",
            "           0       0.40      1.00      0.57         4\n",
            "           1       0.25      1.00      0.40         7\n",
            "           2       0.00      0.00      0.00         8\n",
            "           3       0.12      0.75      0.20         4\n",
            "           4       0.17      1.00      0.29         6\n",
            "           5       1.00      0.67      0.80         3\n",
            "           6       0.00      0.00      0.00         5\n",
            "           7       0.60      1.00      0.75         3\n",
            "           8       0.50      0.40      0.44         5\n",
            "           9       0.27      0.75      0.40         4\n",
            "          10       0.57      0.80      0.67         5\n",
            "          11       1.00      1.00      1.00         7\n",
            "          12       0.86      0.75      0.80         8\n",
            "          13       0.00      0.00      0.00         7\n",
            "          14       1.00      0.50      0.67         6\n",
            "          15       0.00      0.00      0.00         7\n",
            "          16       0.00      0.00      0.00         7\n",
            "          17       1.00      0.78      0.88         9\n",
            "          18       0.00      0.00      0.00         4\n",
            "          19       0.57      0.57      0.57         7\n",
            "          20       0.80      0.57      0.67         7\n",
            "          21       1.00      0.43      0.60         7\n",
            "          22       0.00      0.00      0.00         5\n",
            "          23       1.00      0.57      0.73         7\n",
            "          24       1.00      0.67      0.80         9\n",
            "          25       0.00      0.00      0.00         6\n",
            "          26       0.00      0.00      0.00         7\n",
            "          27       0.00      0.00      0.00         3\n",
            "          28       0.00      0.00      0.00         5\n",
            "          29       1.00      1.00      1.00         7\n",
            "          30       1.00      1.00      1.00         5\n",
            "          31       1.00      0.25      0.40         8\n",
            "\n",
            "    accuracy                           0.48       192\n",
            "   macro avg       0.47      0.48      0.43       192\n",
            "weighted avg       0.51      0.48      0.44       192\n",
            "\n"
          ],
          "name": "stdout"
        },
        {
          "output_type": "stream",
          "text": [
            "/usr/local/lib/python3.6/dist-packages/sklearn/metrics/_classification.py:1272: UndefinedMetricWarning: Precision and F-score are ill-defined and being set to 0.0 in labels with no predicted samples. Use `zero_division` parameter to control this behavior.\n",
            "  _warn_prf(average, modifier, msg_start, len(result))\n"
          ],
          "name": "stderr"
        }
      ]
    },
    {
      "cell_type": "code",
      "metadata": {
        "id": "uFEJdzEmmJUd",
        "colab_type": "code",
        "colab": {}
      },
      "source": [
        ""
      ],
      "execution_count": 0,
      "outputs": []
    }
  ]
}