{
  "nbformat": 4,
  "nbformat_minor": 0,
  "metadata": {
    "colab": {
      "name": "FolioKNN.ipynb",
      "provenance": [],
      "machine_shape": "hm",
      "mount_file_id": "13vvhL5GHuN5P8oAtDqTiaX7HIxPzi61q",
      "authorship_tag": "ABX9TyPNKj33E93plWIUpQyd+/s+",
      "include_colab_link": true
    },
    "kernelspec": {
      "name": "python3",
      "display_name": "Python 3"
    }
  },
  "cells": [
    {
      "cell_type": "markdown",
      "metadata": {
        "id": "view-in-github",
        "colab_type": "text"
      },
      "source": [
        "<a href=\"https://colab.research.google.com/github/ThuanPhong0126/CS114.K21/blob/master/FolioKNN.ipynb\" target=\"_parent\"><img src=\"https://colab.research.google.com/assets/colab-badge.svg\" alt=\"Open In Colab\"/></a>"
      ]
    },
    {
      "cell_type": "code",
      "metadata": {
        "id": "BeKNxaz4-0pP",
        "colab_type": "code",
        "colab": {}
      },
      "source": [
        "import os"
      ],
      "execution_count": 0,
      "outputs": []
    },
    {
      "cell_type": "code",
      "metadata": {
        "id": "c3wE5JXs_w9l",
        "colab_type": "code",
        "colab": {}
      },
      "source": [
        "path='drive/My Drive/Colab Notebooks/Folio/Folio Leaf Dataset/Folio Leaf Dataset/Folio'"
      ],
      "execution_count": 0,
      "outputs": []
    },
    {
      "cell_type": "code",
      "metadata": {
        "id": "Fuj6oCNpAlub",
        "colab_type": "code",
        "outputId": "c02807b1-7c1d-4a7b-cc8b-1abee7795698",
        "colab": {
          "base_uri": "https://localhost:8080/",
          "height": 561
        }
      },
      "source": [
        "nhan=os.listdir(os.path.expanduser(path))\n",
        "nhan"
      ],
      "execution_count": 0,
      "outputs": [
        {
          "output_type": "execute_result",
          "data": {
            "text/plain": [
              "['papaya',\n",
              " 'vieux garcon',\n",
              " 'thevetia',\n",
              " 'sweet olive',\n",
              " 'star apple',\n",
              " 'pimento',\n",
              " 'rose',\n",
              " 'pomme jacquot',\n",
              " 'sweet potato',\n",
              " 'mulberry leaf',\n",
              " 'eggplant',\n",
              " 'jackfruit',\n",
              " 'ketembilla',\n",
              " 'hibiscus',\n",
              " 'lychee',\n",
              " 'geranium',\n",
              " 'guava',\n",
              " 'fruitcitere',\n",
              " 'ficus',\n",
              " 'duranta gold',\n",
              " 'croton',\n",
              " 'bitter orange',\n",
              " 'betel',\n",
              " 'beaumier du perou',\n",
              " 'coeur demoiselle',\n",
              " 'caricature plant',\n",
              " 'coffee',\n",
              " 'chinese guava',\n",
              " 'chocolate tree',\n",
              " 'chrysanthemum',\n",
              " 'barbados cherry',\n",
              " 'ashanti blood']"
            ]
          },
          "metadata": {
            "tags": []
          },
          "execution_count": 36
        }
      ]
    },
    {
      "cell_type": "code",
      "metadata": {
        "id": "rVw1AVa0AyTN",
        "colab_type": "code",
        "outputId": "ddf56937-c685-4326-c719-8796879f6fd2",
        "colab": {
          "base_uri": "https://localhost:8080/",
          "height": 561
        }
      },
      "source": [
        "FJoin=os.path.join\n",
        "file=[FJoin(path,f) for f in os.listdir(path)]\n",
        "file"
      ],
      "execution_count": 0,
      "outputs": [
        {
          "output_type": "execute_result",
          "data": {
            "text/plain": [
              "['drive/My Drive/Colab Notebooks/Folio/Folio Leaf Dataset/Folio Leaf Dataset/Folio/papaya',\n",
              " 'drive/My Drive/Colab Notebooks/Folio/Folio Leaf Dataset/Folio Leaf Dataset/Folio/vieux garcon',\n",
              " 'drive/My Drive/Colab Notebooks/Folio/Folio Leaf Dataset/Folio Leaf Dataset/Folio/thevetia',\n",
              " 'drive/My Drive/Colab Notebooks/Folio/Folio Leaf Dataset/Folio Leaf Dataset/Folio/sweet olive',\n",
              " 'drive/My Drive/Colab Notebooks/Folio/Folio Leaf Dataset/Folio Leaf Dataset/Folio/star apple',\n",
              " 'drive/My Drive/Colab Notebooks/Folio/Folio Leaf Dataset/Folio Leaf Dataset/Folio/pimento',\n",
              " 'drive/My Drive/Colab Notebooks/Folio/Folio Leaf Dataset/Folio Leaf Dataset/Folio/rose',\n",
              " 'drive/My Drive/Colab Notebooks/Folio/Folio Leaf Dataset/Folio Leaf Dataset/Folio/pomme jacquot',\n",
              " 'drive/My Drive/Colab Notebooks/Folio/Folio Leaf Dataset/Folio Leaf Dataset/Folio/sweet potato',\n",
              " 'drive/My Drive/Colab Notebooks/Folio/Folio Leaf Dataset/Folio Leaf Dataset/Folio/mulberry leaf',\n",
              " 'drive/My Drive/Colab Notebooks/Folio/Folio Leaf Dataset/Folio Leaf Dataset/Folio/eggplant',\n",
              " 'drive/My Drive/Colab Notebooks/Folio/Folio Leaf Dataset/Folio Leaf Dataset/Folio/jackfruit',\n",
              " 'drive/My Drive/Colab Notebooks/Folio/Folio Leaf Dataset/Folio Leaf Dataset/Folio/ketembilla',\n",
              " 'drive/My Drive/Colab Notebooks/Folio/Folio Leaf Dataset/Folio Leaf Dataset/Folio/hibiscus',\n",
              " 'drive/My Drive/Colab Notebooks/Folio/Folio Leaf Dataset/Folio Leaf Dataset/Folio/lychee',\n",
              " 'drive/My Drive/Colab Notebooks/Folio/Folio Leaf Dataset/Folio Leaf Dataset/Folio/geranium',\n",
              " 'drive/My Drive/Colab Notebooks/Folio/Folio Leaf Dataset/Folio Leaf Dataset/Folio/guava',\n",
              " 'drive/My Drive/Colab Notebooks/Folio/Folio Leaf Dataset/Folio Leaf Dataset/Folio/fruitcitere',\n",
              " 'drive/My Drive/Colab Notebooks/Folio/Folio Leaf Dataset/Folio Leaf Dataset/Folio/ficus',\n",
              " 'drive/My Drive/Colab Notebooks/Folio/Folio Leaf Dataset/Folio Leaf Dataset/Folio/duranta gold',\n",
              " 'drive/My Drive/Colab Notebooks/Folio/Folio Leaf Dataset/Folio Leaf Dataset/Folio/croton',\n",
              " 'drive/My Drive/Colab Notebooks/Folio/Folio Leaf Dataset/Folio Leaf Dataset/Folio/bitter orange',\n",
              " 'drive/My Drive/Colab Notebooks/Folio/Folio Leaf Dataset/Folio Leaf Dataset/Folio/betel',\n",
              " 'drive/My Drive/Colab Notebooks/Folio/Folio Leaf Dataset/Folio Leaf Dataset/Folio/beaumier du perou',\n",
              " 'drive/My Drive/Colab Notebooks/Folio/Folio Leaf Dataset/Folio Leaf Dataset/Folio/coeur demoiselle',\n",
              " 'drive/My Drive/Colab Notebooks/Folio/Folio Leaf Dataset/Folio Leaf Dataset/Folio/caricature plant',\n",
              " 'drive/My Drive/Colab Notebooks/Folio/Folio Leaf Dataset/Folio Leaf Dataset/Folio/coffee',\n",
              " 'drive/My Drive/Colab Notebooks/Folio/Folio Leaf Dataset/Folio Leaf Dataset/Folio/chinese guava',\n",
              " 'drive/My Drive/Colab Notebooks/Folio/Folio Leaf Dataset/Folio Leaf Dataset/Folio/chocolate tree',\n",
              " 'drive/My Drive/Colab Notebooks/Folio/Folio Leaf Dataset/Folio Leaf Dataset/Folio/chrysanthemum',\n",
              " 'drive/My Drive/Colab Notebooks/Folio/Folio Leaf Dataset/Folio Leaf Dataset/Folio/barbados cherry',\n",
              " 'drive/My Drive/Colab Notebooks/Folio/Folio Leaf Dataset/Folio Leaf Dataset/Folio/ashanti blood']"
            ]
          },
          "metadata": {
            "tags": []
          },
          "execution_count": 37
        }
      ]
    },
    {
      "cell_type": "code",
      "metadata": {
        "id": "DsN3OXaXBqnE",
        "colab_type": "code",
        "colab": {}
      },
      "source": [
        "import cv2"
      ],
      "execution_count": 0,
      "outputs": []
    },
    {
      "cell_type": "code",
      "metadata": {
        "id": "0S_WFOr_I49j",
        "colab_type": "code",
        "colab": {}
      },
      "source": [
        "import matplotlib.pyplot as plt\n",
        "from google.colab.patches import cv2_imshow\n",
        "import numpy as np\n",
        "import glob"
      ],
      "execution_count": 0,
      "outputs": []
    },
    {
      "cell_type": "code",
      "metadata": {
        "id": "UD9DHowbGE_O",
        "colab_type": "code",
        "colab": {}
      },
      "source": [
        "images=[]\n",
        "labels=[]\n",
        "f=0\n",
        "h=0"
      ],
      "execution_count": 0,
      "outputs": []
    },
    {
      "cell_type": "code",
      "metadata": {
        "id": "Ze3RxDmdRkc7",
        "colab_type": "code",
        "colab": {}
      },
      "source": [
        "for dir_path in glob.glob(\"drive/My Drive/Colab Notebooks/Folio/Folio Leaf Dataset/Folio Leaf Dataset/Folio/*\"):\n",
        "    img_label = dir_path.split(\"/\")[-1]\n",
        "    f+=1\n",
        "    for img_path in glob.glob(os.path.join(dir_path, \"*\")):\n",
        "        img = cv2.imread(img_path)\n",
        "        img = cv2.resize(img, (800,800))\n",
        "        h+=1\n",
        "        #img = cv2.cvtColor(img, cv2.COLOR_BGR2RGB)\n",
        "        images.append(img)\n",
        "        labels.append(img_label)"
      ],
      "execution_count": 0,
      "outputs": []
    },
    {
      "cell_type": "code",
      "metadata": {
        "id": "JGtJvOowlh79",
        "colab_type": "code",
        "outputId": "4d6d78d4-6d92-45d3-fc35-17d15edcdcd2",
        "colab": {
          "base_uri": "https://localhost:8080/",
          "height": 561
        }
      },
      "source": [
        "l=set(labels)\n",
        "l"
      ],
      "execution_count": 0,
      "outputs": [
        {
          "output_type": "execute_result",
          "data": {
            "text/plain": [
              "{'ashanti blood',\n",
              " 'barbados cherry',\n",
              " 'beaumier du perou',\n",
              " 'betel',\n",
              " 'bitter orange',\n",
              " 'caricature plant',\n",
              " 'chinese guava',\n",
              " 'chocolate tree',\n",
              " 'chrysanthemum',\n",
              " 'coeur demoiselle',\n",
              " 'coffee',\n",
              " 'croton',\n",
              " 'duranta gold',\n",
              " 'eggplant',\n",
              " 'ficus',\n",
              " 'fruitcitere',\n",
              " 'geranium',\n",
              " 'guava',\n",
              " 'hibiscus',\n",
              " 'jackfruit',\n",
              " 'ketembilla',\n",
              " 'lychee',\n",
              " 'mulberry leaf',\n",
              " 'papaya',\n",
              " 'pimento',\n",
              " 'pomme jacquot',\n",
              " 'rose',\n",
              " 'star apple',\n",
              " 'sweet olive',\n",
              " 'sweet potato',\n",
              " 'thevetia',\n",
              " 'vieux garcon'}"
            ]
          },
          "metadata": {
            "tags": []
          },
          "execution_count": 42
        }
      ]
    },
    {
      "cell_type": "code",
      "metadata": {
        "id": "cF_fITK3nY80",
        "colab_type": "code",
        "outputId": "3041aaf6-ed04-4f75-9a42-396f8b327975",
        "colab": {
          "base_uri": "https://localhost:8080/",
          "height": 34
        }
      },
      "source": [
        "h"
      ],
      "execution_count": 0,
      "outputs": [
        {
          "output_type": "execute_result",
          "data": {
            "text/plain": [
              "637"
            ]
          },
          "metadata": {
            "tags": []
          },
          "execution_count": 43
        }
      ]
    },
    {
      "cell_type": "code",
      "metadata": {
        "id": "-ISqr_BPcQxn",
        "colab_type": "code",
        "colab": {}
      },
      "source": [
        "image_arrays=[]\n",
        "for img in images:\n",
        "  image=np.array(img,dtype=np.float64)/255\n",
        "  w,h,d=original_shape=tuple(image.shape)\n",
        "  image_array=np.reshape(img,(w*h*d))\n",
        "  image_arrays.append(image_array)"
      ],
      "execution_count": 0,
      "outputs": []
    },
    {
      "cell_type": "code",
      "metadata": {
        "id": "2jS9BZWXL7b7",
        "colab_type": "code",
        "outputId": "4d9084b5-295d-4c4b-c1f8-f2ab973e1b95",
        "colab": {
          "base_uri": "https://localhost:8080/",
          "height": 663
        }
      },
      "source": [
        "label_array=[]\n",
        "for i in labels:\n",
        "  label_array.append(nhan.index(i))\n",
        "label_array=np.array(label_array)\n",
        "label_array"
      ],
      "execution_count": 0,
      "outputs": [
        {
          "output_type": "execute_result",
          "data": {
            "text/plain": [
              "array([ 0,  0,  0,  0,  0,  0,  0,  0,  0,  0,  0,  0,  0,  0,  0,  0,  0,\n",
              "        0,  0,  0,  1,  1,  1,  1,  1,  1,  1,  1,  1,  1,  1,  1,  1,  1,\n",
              "        1,  1,  1,  1,  1,  1,  2,  2,  2,  2,  2,  2,  2,  2,  2,  2,  2,\n",
              "        2,  2,  2,  2,  2,  2,  2,  2,  2,  3,  3,  3,  3,  3,  3,  3,  3,\n",
              "        3,  3,  3,  3,  3,  3,  3,  3,  3,  3,  3,  3,  4,  4,  4,  4,  4,\n",
              "        4,  4,  4,  4,  4,  4,  4,  4,  4,  4,  4,  4,  4,  4,  4,  5,  5,\n",
              "        5,  5,  5,  5,  5,  5,  5,  5,  5,  5,  5,  5,  5,  5,  5,  5,  5,\n",
              "        5,  6,  6,  6,  6,  6,  6,  6,  6,  6,  6,  6,  6,  6,  6,  6,  6,\n",
              "        6,  6,  6,  6,  7,  7,  7,  7,  7,  7,  7,  7,  7,  7,  7,  7,  7,\n",
              "        7,  7,  7,  7,  7,  7,  7,  8,  8,  8,  8,  8,  8,  8,  8,  8,  8,\n",
              "        8,  8,  8,  8,  8,  8,  8,  8,  8,  8,  9,  9,  9,  9,  9,  9,  9,\n",
              "        9,  9,  9,  9,  9,  9,  9,  9,  9,  9,  9,  9, 10, 10, 10, 10, 10,\n",
              "       10, 10, 10, 10, 10, 10, 10, 10, 10, 10, 10, 10, 10, 11, 11, 11, 11,\n",
              "       11, 11, 11, 11, 11, 11, 11, 11, 11, 11, 11, 11, 11, 11, 11, 11, 12,\n",
              "       12, 12, 12, 12, 12, 12, 12, 12, 12, 12, 12, 12, 12, 12, 12, 12, 12,\n",
              "       12, 12, 13, 13, 13, 13, 13, 13, 13, 13, 13, 13, 13, 13, 13, 13, 13,\n",
              "       13, 13, 13, 13, 13, 14, 14, 14, 14, 14, 14, 14, 14, 14, 14, 14, 14,\n",
              "       14, 14, 14, 14, 14, 14, 14, 14, 15, 15, 15, 15, 15, 15, 15, 15, 15,\n",
              "       15, 15, 15, 15, 15, 15, 15, 15, 15, 15, 15, 16, 16, 16, 16, 16, 16,\n",
              "       16, 16, 16, 16, 16, 16, 16, 16, 16, 16, 16, 16, 16, 16, 17, 17, 17,\n",
              "       17, 17, 17, 17, 17, 17, 17, 17, 17, 17, 17, 17, 17, 17, 17, 17, 17,\n",
              "       18, 18, 18, 18, 18, 18, 18, 18, 18, 18, 18, 18, 18, 18, 18, 18, 18,\n",
              "       18, 18, 18, 19, 19, 19, 19, 19, 19, 19, 19, 19, 19, 19, 19, 19, 19,\n",
              "       19, 19, 19, 19, 19, 19, 20, 20, 20, 20, 20, 20, 20, 20, 20, 20, 20,\n",
              "       20, 20, 20, 20, 20, 20, 20, 20, 20, 21, 21, 21, 21, 21, 21, 21, 21,\n",
              "       21, 21, 21, 21, 21, 21, 21, 21, 21, 21, 21, 21, 22, 22, 22, 22, 22,\n",
              "       22, 22, 22, 22, 22, 22, 22, 22, 22, 22, 22, 22, 22, 22, 22, 23, 23,\n",
              "       23, 23, 23, 23, 23, 23, 23, 23, 23, 23, 23, 23, 23, 23, 23, 23, 23,\n",
              "       23, 24, 24, 24, 24, 24, 24, 24, 24, 24, 24, 24, 24, 24, 24, 24, 24,\n",
              "       24, 24, 24, 24, 25, 25, 25, 25, 25, 25, 25, 25, 25, 25, 25, 25, 25,\n",
              "       25, 25, 25, 25, 25, 25, 25, 26, 26, 26, 26, 26, 26, 26, 26, 26, 26,\n",
              "       26, 26, 26, 26, 26, 26, 26, 26, 26, 26, 27, 27, 27, 27, 27, 27, 27,\n",
              "       27, 27, 27, 27, 27, 27, 27, 27, 27, 27, 27, 27, 27, 28, 28, 28, 28,\n",
              "       28, 28, 28, 28, 28, 28, 28, 28, 28, 28, 28, 28, 28, 28, 28, 28, 29,\n",
              "       29, 29, 29, 29, 29, 29, 29, 29, 29, 29, 29, 29, 29, 29, 29, 29, 29,\n",
              "       29, 29, 30, 30, 30, 30, 30, 30, 30, 30, 30, 30, 30, 30, 30, 30, 30,\n",
              "       30, 30, 30, 30, 30, 31, 31, 31, 31, 31, 31, 31, 31, 31, 31, 31, 31,\n",
              "       31, 31, 31, 31, 31, 31, 31, 31])"
            ]
          },
          "metadata": {
            "tags": []
          },
          "execution_count": 45
        }
      ]
    },
    {
      "cell_type": "code",
      "metadata": {
        "id": "vFCWPCNbaQ5J",
        "colab_type": "code",
        "colab": {}
      },
      "source": [
        "labels=np.array(labels)"
      ],
      "execution_count": 0,
      "outputs": []
    },
    {
      "cell_type": "code",
      "metadata": {
        "id": "eGg80K0ALLKJ",
        "colab_type": "code",
        "outputId": "3d76d892-5b11-42b2-a918-7e4c747c3cc3",
        "colab": {
          "base_uri": "https://localhost:8080/",
          "height": 34
        }
      },
      "source": [
        "labels.shape"
      ],
      "execution_count": 0,
      "outputs": [
        {
          "output_type": "execute_result",
          "data": {
            "text/plain": [
              "(637,)"
            ]
          },
          "metadata": {
            "tags": []
          },
          "execution_count": 47
        }
      ]
    },
    {
      "cell_type": "code",
      "metadata": {
        "id": "WwnEfCCgLN7Y",
        "colab_type": "code",
        "outputId": "615ff8e4-0c64-42ef-a825-e53d9a16ae1a",
        "colab": {
          "base_uri": "https://localhost:8080/",
          "height": 34
        }
      },
      "source": [
        "image_arrays=np.array(image_arrays)\n",
        "image_arrays.shape"
      ],
      "execution_count": 0,
      "outputs": [
        {
          "output_type": "execute_result",
          "data": {
            "text/plain": [
              "(637, 1920000)"
            ]
          },
          "metadata": {
            "tags": []
          },
          "execution_count": 48
        }
      ]
    },
    {
      "cell_type": "code",
      "metadata": {
        "id": "-mGEqdo1X5A1",
        "colab_type": "code",
        "colab": {}
      },
      "source": [
        "from sklearn.model_selection import train_test_split"
      ],
      "execution_count": 0,
      "outputs": []
    },
    {
      "cell_type": "code",
      "metadata": {
        "id": "4EfnoVsfX5qW",
        "colab_type": "code",
        "colab": {}
      },
      "source": [
        "X_train,X_test,y_train,y_test=train_test_split(image_arrays,label_array,test_size=0.3,random_state=101)"
      ],
      "execution_count": 0,
      "outputs": []
    },
    {
      "cell_type": "code",
      "metadata": {
        "id": "LjjPj4VKLrPL",
        "colab_type": "code",
        "outputId": "1170a8ea-9620-4b1e-9fd7-21d231a8494d",
        "colab": {
          "base_uri": "https://localhost:8080/",
          "height": 136
        }
      },
      "source": [
        "X_train"
      ],
      "execution_count": 0,
      "outputs": [
        {
          "output_type": "execute_result",
          "data": {
            "text/plain": [
              "array([[237, 232, 233, ..., 175, 176, 174],\n",
              "       [244, 244, 244, ..., 220, 221, 219],\n",
              "       [255, 255, 255, ..., 255, 255, 255],\n",
              "       ...,\n",
              "       [217, 224, 233, ..., 224, 235, 243],\n",
              "       [255, 255, 255, ..., 255, 255, 255],\n",
              "       [236, 234, 234, ..., 191, 186, 187]], dtype=uint8)"
            ]
          },
          "metadata": {
            "tags": []
          },
          "execution_count": 51
        }
      ]
    },
    {
      "cell_type": "code",
      "metadata": {
        "id": "5ZbDGRcENVcS",
        "colab_type": "code",
        "outputId": "d0338bb1-0b55-40c2-9348-56632ac57473",
        "colab": {
          "base_uri": "https://localhost:8080/",
          "height": 476
        }
      },
      "source": [
        "y_train"
      ],
      "execution_count": 0,
      "outputs": [
        {
          "output_type": "execute_result",
          "data": {
            "text/plain": [
              "array([20, 14, 29, 24, 17,  9, 25, 28,  0, 29, 22, 14,  4, 22, 21, 28, 13,\n",
              "       16, 28,  7, 19,  8, 14,  4,  3, 25, 16, 24, 17, 26, 14,  1, 13, 25,\n",
              "       16,  5,  9, 31, 26, 17, 19, 29, 14,  3,  2, 22, 10,  5, 27, 13,  8,\n",
              "       27, 20, 18, 16, 30,  9,  7, 21, 13,  9, 21, 20, 13, 14,  4,  1, 21,\n",
              "        6, 17, 24, 31,  9, 24,  8,  0, 26,  8,  4, 16, 13, 28,  3, 19,  9,\n",
              "       10,  2,  3, 24, 24,  2, 30, 10, 21,  7, 22, 22,  8, 28, 20,  2,  6,\n",
              "        2, 30,  6, 29, 21, 12,  7, 15, 27,  6,  8, 25, 11, 11, 13,  9,  0,\n",
              "       24, 11, 10,  8,  0, 14,  7, 11, 25, 31,  0,  3,  0, 28,  9, 22,  4,\n",
              "       26, 25, 30, 20, 22, 10,  0, 17, 31, 13, 28,  8, 15,  7, 29, 15, 23,\n",
              "       25, 31, 11,  8, 28, 29,  2, 16, 21,  5,  4, 14,  6,  3,  8, 27, 21,\n",
              "       23,  6, 31, 31, 18, 15,  1, 24,  5, 31, 12, 19,  1, 29, 31, 13,  7,\n",
              "       10,  1, 14, 22, 16, 10, 22, 18,  6, 21, 21, 20, 29,  5, 27, 29, 24,\n",
              "       12, 12, 26,  6, 26, 17, 25,  3, 12, 20, 24, 12, 22, 17,  9, 26, 30,\n",
              "       23, 30, 15, 28,  4, 23,  7,  8,  5, 12,  8, 27,  5, 15,  1,  1,  1,\n",
              "        0, 29, 26, 28, 31,  5,  7, 28, 15, 19, 18, 31, 16,  0, 31, 11,  1,\n",
              "        8, 18, 28, 28, 15, 21, 23, 18,  3, 18,  9, 11, 10, 22, 27, 22, 31,\n",
              "        4, 26, 20, 26, 18, 27, 19,  1,  2, 17,  0, 17, 25,  4, 16,  2,  4,\n",
              "       13, 23, 24,  9,  7,  2, 11,  3, 30,  1, 23, 27,  7,  9, 24, 24, 28,\n",
              "        6,  4, 29,  9, 29,  4, 22, 22,  7, 26, 27,  4, 20, 20, 13,  3, 24,\n",
              "        3,  6,  3,  6, 11, 31, 19, 15, 14, 18, 20, 14, 20, 12,  2, 27, 18,\n",
              "        4, 11, 15, 31, 17,  4, 19, 12, 11, 26, 23,  1, 29,  7, 23, 25,  2,\n",
              "       23, 22, 11, 10, 12, 18,  3, 18, 11,  5, 13,  9, 25, 12, 26, 15, 17,\n",
              "        0, 27, 29, 24, 19, 25,  4, 30, 28, 30, 19,  6, 10,  2, 29, 19, 13,\n",
              "       25,  0, 27, 21, 25, 30, 23, 10, 13,  7, 18, 25, 15, 16, 30, 20, 30,\n",
              "       16, 14, 22, 21, 26, 14,  4, 28, 13, 12, 23, 25,  5, 17,  3, 13, 12,\n",
              "       27, 21,  2, 18,  6, 25,  2,  2, 24,  0,  5, 15, 31, 27, 19,  3, 30,\n",
              "       28, 17, 26])"
            ]
          },
          "metadata": {
            "tags": []
          },
          "execution_count": 52
        }
      ]
    },
    {
      "cell_type": "code",
      "metadata": {
        "id": "LJ4OD0gIYlTu",
        "colab_type": "code",
        "colab": {}
      },
      "source": [
        "from sklearn.neighbors import KNeighborsClassifier"
      ],
      "execution_count": 0,
      "outputs": []
    },
    {
      "cell_type": "code",
      "metadata": {
        "id": "QuLc5tLdY6r_",
        "colab_type": "code",
        "colab": {}
      },
      "source": [
        "knn=KNeighborsClassifier(n_neighbors=1,p=2)"
      ],
      "execution_count": 0,
      "outputs": []
    },
    {
      "cell_type": "code",
      "metadata": {
        "id": "lnZp0JGSZE22",
        "colab_type": "code",
        "outputId": "a21e8d6f-1d6e-4c54-9fac-c164a385fc46",
        "colab": {
          "base_uri": "https://localhost:8080/",
          "height": 68
        }
      },
      "source": [
        "knn.fit(X_train,y_train)"
      ],
      "execution_count": 0,
      "outputs": [
        {
          "output_type": "execute_result",
          "data": {
            "text/plain": [
              "KNeighborsClassifier(algorithm='auto', leaf_size=30, metric='minkowski',\n",
              "                     metric_params=None, n_jobs=None, n_neighbors=1, p=2,\n",
              "                     weights='uniform')"
            ]
          },
          "metadata": {
            "tags": []
          },
          "execution_count": 55
        }
      ]
    },
    {
      "cell_type": "code",
      "metadata": {
        "id": "bkuOAP98ZMr8",
        "colab_type": "code",
        "colab": {}
      },
      "source": [
        "predic=knn.predict(X_test)"
      ],
      "execution_count": 0,
      "outputs": []
    },
    {
      "cell_type": "code",
      "metadata": {
        "id": "2JvrLZQiibHY",
        "colab_type": "code",
        "colab": {}
      },
      "source": [
        "from sklearn.metrics import confusion_matrix,classification_report"
      ],
      "execution_count": 0,
      "outputs": []
    },
    {
      "cell_type": "code",
      "metadata": {
        "id": "ytFhdRyVihEF",
        "colab_type": "code",
        "outputId": "eff2090c-250b-4f1e-b705-db6c9328a3f4",
        "colab": {
          "base_uri": "https://localhost:8080/",
          "height": 136
        }
      },
      "source": [
        "print(confusion_matrix(y_test,predic))"
      ],
      "execution_count": 0,
      "outputs": [
        {
          "output_type": "stream",
          "text": [
            "[[5 0 0 ... 0 0 0]\n",
            " [0 5 0 ... 0 0 0]\n",
            " [0 0 5 ... 0 0 0]\n",
            " ...\n",
            " [0 0 0 ... 1 0 0]\n",
            " [0 0 0 ... 0 3 0]\n",
            " [0 0 0 ... 0 0 4]]\n"
          ],
          "name": "stdout"
        }
      ]
    },
    {
      "cell_type": "code",
      "metadata": {
        "id": "A7LokYIrilBw",
        "colab_type": "code",
        "outputId": "8b5dc970-0ccc-419a-b289-89ccb4656f20",
        "colab": {
          "base_uri": "https://localhost:8080/",
          "height": 680
        }
      },
      "source": [
        "print(classification_report(y_test,predic))"
      ],
      "execution_count": 0,
      "outputs": [
        {
          "output_type": "stream",
          "text": [
            "              precision    recall  f1-score   support\n",
            "\n",
            "           0       1.00      0.71      0.83         7\n",
            "           1       0.83      0.62      0.71         8\n",
            "           2       1.00      1.00      1.00         5\n",
            "           3       0.60      0.60      0.60         5\n",
            "           4       0.25      0.33      0.29         3\n",
            "           5       0.64      1.00      0.78         9\n",
            "           6       0.60      0.86      0.71         7\n",
            "           7       0.75      1.00      0.86         6\n",
            "           8       1.00      1.00      1.00         7\n",
            "           9       0.33      0.20      0.25         5\n",
            "          10       0.67      0.29      0.40         7\n",
            "          11       1.00      0.57      0.73         7\n",
            "          12       0.71      0.71      0.71         7\n",
            "          13       0.50      0.75      0.60         4\n",
            "          14       1.00      0.71      0.83         7\n",
            "          15       1.00      1.00      1.00         7\n",
            "          16       0.67      0.89      0.76         9\n",
            "          17       1.00      0.71      0.83         7\n",
            "          18       1.00      1.00      1.00         6\n",
            "          19       1.00      1.00      1.00         8\n",
            "          20       1.00      0.57      0.73         7\n",
            "          21       0.60      0.50      0.55         6\n",
            "          22       1.00      0.50      0.67         4\n",
            "          23       0.88      0.88      0.88         8\n",
            "          24       0.33      0.25      0.29         4\n",
            "          25       1.00      1.00      1.00         3\n",
            "          26       0.25      0.40      0.31         5\n",
            "          27       0.44      0.80      0.57         5\n",
            "          28       0.60      1.00      0.75         3\n",
            "          29       1.00      0.20      0.33         5\n",
            "          30       0.75      0.43      0.55         7\n",
            "          31       0.40      1.00      0.57         4\n",
            "\n",
            "    accuracy                           0.72       192\n",
            "   macro avg       0.74      0.70      0.69       192\n",
            "weighted avg       0.77      0.72      0.71       192\n",
            "\n"
          ],
          "name": "stdout"
        }
      ]
    },
    {
      "cell_type": "code",
      "metadata": {
        "id": "kOdluFbciqnn",
        "colab_type": "code",
        "colab": {}
      },
      "source": [
        ""
      ],
      "execution_count": 0,
      "outputs": []
    }
  ]
}