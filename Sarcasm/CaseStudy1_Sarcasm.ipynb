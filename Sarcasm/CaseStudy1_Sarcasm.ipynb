{
  "nbformat": 4,
  "nbformat_minor": 0,
  "metadata": {
    "colab": {
      "name": "CaseStudy1_Sarcasm.ipynb",
      "provenance": [],
      "collapsed_sections": [],
      "toc_visible": true,
      "mount_file_id": "1VJVPGb7FXuJ7xneZetxuIgmvojlHjYNf",
      "authorship_tag": "ABX9TyPh9KKIdqmN20n5GcKD++9l",
      "include_colab_link": true
    },
    "kernelspec": {
      "name": "python3",
      "display_name": "Python 3"
    }
  },
  "cells": [
    {
      "cell_type": "markdown",
      "metadata": {
        "id": "view-in-github",
        "colab_type": "text"
      },
      "source": [
        "<a href=\"https://colab.research.google.com/github/ThuanPhong0126/CS114.K21/blob/master/Sarcasm/CaseStudy1_Sarcasm.ipynb\" target=\"_parent\"><img src=\"https://colab.research.google.com/assets/colab-badge.svg\" alt=\"Open In Colab\"/></a>"
      ]
    },
    {
      "cell_type": "markdown",
      "metadata": {
        "id": "oDoEKJ8CnKf5",
        "colab_type": "text"
      },
      "source": [
        "Thành viên nhóm:\n",
        "- Nguyễn Duy Nhật - 18520118\n",
        "- Đỗ Nguyễn Thuận Phong - 18520126\n",
        "- Nguyễn Dương Trúc Phương - 18520133"
      ]
    },
    {
      "cell_type": "markdown",
      "metadata": {
        "id": "lpFnpzlP6CHz",
        "colab_type": "text"
      },
      "source": [
        "#Sarcasm Detection"
      ]
    },
    {
      "cell_type": "markdown",
      "metadata": {
        "id": "3aaazxVu6Kf7",
        "colab_type": "text"
      },
      "source": [
        "Nhiệm vụ bài toán là khi đọc qua một tiêu đề hay một câu và nhận biết câu đó có tính mỉa mai hay không.\n",
        "\n",
        "Dataset cho bài toán này được cung cấp tại [kaggle](https://https://www.kaggle.com/rmisra/news-headlines-dataset-for-sarcasm-detection). Dataset này đã được thu thập bằng cách lấy các tiêu đề từ hai trang báo điện tử. Đầu tiên là trang [Huffpost](https://https://www.huffpost.com/) với các tiêu đề sự thật, chính thống và trang [Theonion](https://www.theonion.com/) với các tiêu đề mỉa mai. \n",
        "\n",
        "Ưu điểm cho bộ dataset này là do được thu thập từ các trang báo được viết bởi các nhà báo nên nó đảm bảo về mặt chính tả. Ngoài ra các tin châm biếm được thu thập đảm bảo chất lượng cao vì nó được viết bởi Theonion là trang chuyên viết các bài báo châm biếm."
      ]
    },
    {
      "cell_type": "markdown",
      "metadata": {
        "id": "5hFupPSDiH7_",
        "colab_type": "text"
      },
      "source": [
        "##Thực hiện liên kết colab với kaggle"
      ]
    },
    {
      "cell_type": "code",
      "metadata": {
        "id": "EeSbD2I51n5V",
        "colab_type": "code",
        "colab": {
          "resources": {
            "http://localhost:8080/nbextensions/google.colab/files.js": {
              "data": "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",
              "ok": true,
              "headers": [
                [
                  "content-type",
                  "application/javascript"
                ]
              ],
              "status": 200,
              "status_text": ""
            }
          },
          "base_uri": "https://localhost:8080/",
          "height": 89
        },
        "outputId": "e8e04f2a-8181-4d0d-89ab-3d089315addf"
      },
      "source": [
        "from google.colab import files\n",
        "files.upload()"
      ],
      "execution_count": null,
      "outputs": [
        {
          "output_type": "display_data",
          "data": {
            "text/html": [
              "\n",
              "     <input type=\"file\" id=\"files-40d33453-a65c-4d0b-a42e-4bb2528035ce\" name=\"files[]\" multiple disabled\n",
              "        style=\"border:none\" />\n",
              "     <output id=\"result-40d33453-a65c-4d0b-a42e-4bb2528035ce\">\n",
              "      Upload widget is only available when the cell has been executed in the\n",
              "      current browser session. Please rerun this cell to enable.\n",
              "      </output>\n",
              "      <script src=\"/nbextensions/google.colab/files.js\"></script> "
            ],
            "text/plain": [
              "<IPython.core.display.HTML object>"
            ]
          },
          "metadata": {
            "tags": []
          }
        },
        {
          "output_type": "stream",
          "text": [
            "Saving kaggle.json to kaggle.json\n"
          ],
          "name": "stdout"
        },
        {
          "output_type": "execute_result",
          "data": {
            "text/plain": [
              "{'kaggle.json': b'{\"username\":\"thuanphong\",\"key\":\"7d8ca51adfdf3742029a689674da4d65\"}'}"
            ]
          },
          "metadata": {
            "tags": []
          },
          "execution_count": 1
        }
      ]
    },
    {
      "cell_type": "code",
      "metadata": {
        "id": "Ei8V9pts2Kcm",
        "colab_type": "code",
        "colab": {
          "base_uri": "https://localhost:8080/",
          "height": 204
        },
        "outputId": "74791ff3-dafd-4182-a642-ebc388966a45"
      },
      "source": [
        "!pip install kaggle"
      ],
      "execution_count": null,
      "outputs": [
        {
          "output_type": "stream",
          "text": [
            "Requirement already satisfied: kaggle in /usr/local/lib/python3.6/dist-packages (1.5.6)\n",
            "Requirement already satisfied: six>=1.10 in /usr/local/lib/python3.6/dist-packages (from kaggle) (1.12.0)\n",
            "Requirement already satisfied: python-dateutil in /usr/local/lib/python3.6/dist-packages (from kaggle) (2.8.1)\n",
            "Requirement already satisfied: requests in /usr/local/lib/python3.6/dist-packages (from kaggle) (2.23.0)\n",
            "Requirement already satisfied: certifi in /usr/local/lib/python3.6/dist-packages (from kaggle) (2020.4.5.2)\n",
            "Requirement already satisfied: tqdm in /usr/local/lib/python3.6/dist-packages (from kaggle) (4.41.1)\n",
            "Requirement already satisfied: urllib3<1.25,>=1.21.1 in /usr/local/lib/python3.6/dist-packages (from kaggle) (1.24.3)\n",
            "Requirement already satisfied: python-slugify in /usr/local/lib/python3.6/dist-packages (from kaggle) (4.0.0)\n",
            "Requirement already satisfied: chardet<4,>=3.0.2 in /usr/local/lib/python3.6/dist-packages (from requests->kaggle) (3.0.4)\n",
            "Requirement already satisfied: idna<3,>=2.5 in /usr/local/lib/python3.6/dist-packages (from requests->kaggle) (2.9)\n",
            "Requirement already satisfied: text-unidecode>=1.3 in /usr/local/lib/python3.6/dist-packages (from python-slugify->kaggle) (1.3)\n"
          ],
          "name": "stdout"
        }
      ]
    },
    {
      "cell_type": "code",
      "metadata": {
        "id": "vHf0M_V32W-S",
        "colab_type": "code",
        "colab": {}
      },
      "source": [
        "!mkdir -p ~/.kaggle\n",
        "!cp kaggle.json ~/.kaggle/\n",
        "!chmod 600 ~/.kaggle/kaggle.json"
      ],
      "execution_count": null,
      "outputs": []
    },
    {
      "cell_type": "code",
      "metadata": {
        "id": "Ilk-nf05383R",
        "colab_type": "code",
        "colab": {
          "base_uri": "https://localhost:8080/",
          "height": 394
        },
        "outputId": "022be173-0ad6-49bf-b463-33fe176903ae"
      },
      "source": [
        "!kaggle datasets list -s sarcasm"
      ],
      "execution_count": null,
      "outputs": [
        {
          "output_type": "stream",
          "text": [
            "Warning: Looks like you're using an outdated API Version, please consider updating (server 1.5.6 / client 1.5.4)\n",
            "ref                                                      title                                               size  lastUpdated          downloadCount  \n",
            "-------------------------------------------------------  -------------------------------------------------  -----  -------------------  -------------  \n",
            "danofer/sarcasm                                          Sarcasm on Reddit                                  216MB  2018-05-27 08:19:04           4175  \n",
            "rmisra/news-headlines-dataset-for-sarcasm-detection      News Headlines Dataset For Sarcasm Detection         3MB  2019-07-03 23:52:57           9633  \n",
            "rmisra/news-category-dataset                             News Category Dataset                               25MB  2018-12-02 04:09:45          11507  \n",
            "sherinclaudia/sarcastic-comments-on-reddit               Sarcastic Comments - REDDIT                        106MB  2019-01-30 14:41:53           1930  \n",
            "rmisra/clothing-fit-dataset-for-size-recommendation      Clothing Fit Dataset for Size Recommendation        40MB  2018-08-21 19:00:16           3105  \n",
            "rmisra/imdb-spoiler-dataset                              IMDB Spoiler Dataset                               331MB  2019-05-22 04:44:43            875  \n",
            "negiaditya/sarcasm                                       sarcasm                                              2MB  2020-05-18 20:17:56              0  \n",
            "mikahama/the-best-sarcasm-annotated-dataset-in-spanish   The Best Sarcasm Annotated Dataset in Spanish       26KB  2020-06-21 16:50:44             14  \n",
            "akshit3050/sarcasm                                       sarcasm                                             26MB  2018-08-04 04:44:21            113  \n",
            "harriken/bias-media-cat                                  Bias Media CAT                                      17MB  2017-10-27 22:46:25            340  \n",
            "rmsharks4/sarcasmania-dataset                            Sarcasmania Dataset                                  2MB  2019-05-28 09:07:23             62  \n",
            "shaunthesheep/sarcasmdata                                sarcasm-data                                         2MB  2020-03-17 09:30:12              2  \n",
            "pradeeptrical/sarcasm-dataset                            Sarcasm dataset                                     81KB  2020-01-15 13:54:01             14  \n",
            "kndkarthi/sarcasm-tweets                                 #sarcasm tweets                                      2MB  2019-01-28 06:56:45             99  \n",
            "akshit3050/ucscsarcasm2                                  ucsc-sarcasm2                                        1MB  2019-06-12 13:14:08              8  \n",
            "shaunthesheep/sarcasm-data                               Sarcasm_Data                                         2MB  2020-03-17 09:13:35              1  \n",
            "williamscott701/memotion-dataset-7k                      Memotion Dataset 7k                                695MB  2020-02-27 13:06:01            355  \n",
            "mariajmraidy/datasets-for-sentiment-analysis-of-arabizi  Datasets for sentiment analysis of arabizi tweets  198KB  2020-06-23 16:40:49              2  \n"
          ],
          "name": "stdout"
        }
      ]
    },
    {
      "cell_type": "markdown",
      "metadata": {
        "id": "wb2QgMdriQvO",
        "colab_type": "text"
      },
      "source": [
        "### Tải dataset  'News Headlines Dataset For Sarcasm Detection' về colab\n",
        "\n"
      ]
    },
    {
      "cell_type": "code",
      "metadata": {
        "id": "JjtqMVya4Dl5",
        "colab_type": "code",
        "colab": {
          "base_uri": "https://localhost:8080/",
          "height": 68
        },
        "outputId": "551aae1a-645e-4386-e94a-1fc4c27a14e7"
      },
      "source": [
        "!kaggle datasets download -d rmisra/news-headlines-dataset-for-sarcasm-detection"
      ],
      "execution_count": null,
      "outputs": [
        {
          "output_type": "stream",
          "text": [
            "Downloading news-headlines-dataset-for-sarcasm-detection.zip to /content\n",
            "\r  0% 0.00/3.30M [00:00<?, ?B/s]\n",
            "\r100% 3.30M/3.30M [00:00<00:00, 54.8MB/s]\n"
          ],
          "name": "stdout"
        }
      ]
    },
    {
      "cell_type": "code",
      "metadata": {
        "id": "fiMy9Lpv4I4e",
        "colab_type": "code",
        "colab": {
          "base_uri": "https://localhost:8080/",
          "height": 68
        },
        "outputId": "a5e0698c-9c4e-4963-fc24-fa0fcef02778"
      },
      "source": [
        "!unzip news-headlines-dataset-for-sarcasm-detection.zip "
      ],
      "execution_count": null,
      "outputs": [
        {
          "output_type": "stream",
          "text": [
            "Archive:  news-headlines-dataset-for-sarcasm-detection.zip\n",
            "  inflating: Sarcasm_Headlines_Dataset.json  \n",
            "  inflating: Sarcasm_Headlines_Dataset_v2.json  \n"
          ],
          "name": "stdout"
        }
      ]
    },
    {
      "cell_type": "markdown",
      "metadata": {
        "id": "NB6_ch0-igFu",
        "colab_type": "text"
      },
      "source": [
        "Dataset gồm có hai file là Sarcasm_Headlines_Dataset.json và file Sarcasm_Headlines_Dataset_v2.json\n",
        "\n",
        "Tiến hành đọc cả hai file thông qua thư viện pandas với hàm pd.read_json()\n",
        "\n",
        "Sau khi mở file vừa giải nén ta nhận thấy rằng mỗi đối tượng (một dòng của dataframe) được lưu trên mỗi dòng của file json nên cần gán tham số lines=True hoặc nếu không sẽ bị lỗi.\n",
        "\n",
        "\n"
      ]
    },
    {
      "cell_type": "code",
      "metadata": {
        "id": "2QV0ONwV2pTD",
        "colab_type": "code",
        "colab": {}
      },
      "source": [
        "import pandas as pd\n",
        "f1=pd.read_json('Sarcasm_Headlines_Dataset.json',lines=True)\n",
        "f2=pd.read_json('Sarcasm_Headlines_Dataset_v2.json',lines=True)"
      ],
      "execution_count": null,
      "outputs": []
    },
    {
      "cell_type": "code",
      "metadata": {
        "id": "lAGunI00j-Ov",
        "colab_type": "code",
        "colab": {
          "base_uri": "https://localhost:8080/",
          "height": 521
        },
        "outputId": "3c264093-d212-4f62-f576-b6883846ee71"
      },
      "source": [
        "f1"
      ],
      "execution_count": null,
      "outputs": [
        {
          "output_type": "execute_result",
          "data": {
            "text/html": [
              "<div>\n",
              "<style scoped>\n",
              "    .dataframe tbody tr th:only-of-type {\n",
              "        vertical-align: middle;\n",
              "    }\n",
              "\n",
              "    .dataframe tbody tr th {\n",
              "        vertical-align: top;\n",
              "    }\n",
              "\n",
              "    .dataframe thead th {\n",
              "        text-align: right;\n",
              "    }\n",
              "</style>\n",
              "<table border=\"1\" class=\"dataframe\">\n",
              "  <thead>\n",
              "    <tr style=\"text-align: right;\">\n",
              "      <th></th>\n",
              "      <th>article_link</th>\n",
              "      <th>headline</th>\n",
              "      <th>is_sarcastic</th>\n",
              "    </tr>\n",
              "  </thead>\n",
              "  <tbody>\n",
              "    <tr>\n",
              "      <th>0</th>\n",
              "      <td>https://www.huffingtonpost.com/entry/versace-b...</td>\n",
              "      <td>former versace store clerk sues over secret 'b...</td>\n",
              "      <td>0</td>\n",
              "    </tr>\n",
              "    <tr>\n",
              "      <th>1</th>\n",
              "      <td>https://www.huffingtonpost.com/entry/roseanne-...</td>\n",
              "      <td>the 'roseanne' revival catches up to our thorn...</td>\n",
              "      <td>0</td>\n",
              "    </tr>\n",
              "    <tr>\n",
              "      <th>2</th>\n",
              "      <td>https://local.theonion.com/mom-starting-to-fea...</td>\n",
              "      <td>mom starting to fear son's web series closest ...</td>\n",
              "      <td>1</td>\n",
              "    </tr>\n",
              "    <tr>\n",
              "      <th>3</th>\n",
              "      <td>https://politics.theonion.com/boehner-just-wan...</td>\n",
              "      <td>boehner just wants wife to listen, not come up...</td>\n",
              "      <td>1</td>\n",
              "    </tr>\n",
              "    <tr>\n",
              "      <th>4</th>\n",
              "      <td>https://www.huffingtonpost.com/entry/jk-rowlin...</td>\n",
              "      <td>j.k. rowling wishes snape happy birthday in th...</td>\n",
              "      <td>0</td>\n",
              "    </tr>\n",
              "    <tr>\n",
              "      <th>...</th>\n",
              "      <td>...</td>\n",
              "      <td>...</td>\n",
              "      <td>...</td>\n",
              "    </tr>\n",
              "    <tr>\n",
              "      <th>26704</th>\n",
              "      <td>https://www.huffingtonpost.com/entry/american-...</td>\n",
              "      <td>american politics in moral free-fall</td>\n",
              "      <td>0</td>\n",
              "    </tr>\n",
              "    <tr>\n",
              "      <th>26705</th>\n",
              "      <td>https://www.huffingtonpost.com/entry/americas-...</td>\n",
              "      <td>america's best 20 hikes</td>\n",
              "      <td>0</td>\n",
              "    </tr>\n",
              "    <tr>\n",
              "      <th>26706</th>\n",
              "      <td>https://www.huffingtonpost.com/entry/reparatio...</td>\n",
              "      <td>reparations and obama</td>\n",
              "      <td>0</td>\n",
              "    </tr>\n",
              "    <tr>\n",
              "      <th>26707</th>\n",
              "      <td>https://www.huffingtonpost.com/entry/israeli-b...</td>\n",
              "      <td>israeli ban targeting boycott supporters raise...</td>\n",
              "      <td>0</td>\n",
              "    </tr>\n",
              "    <tr>\n",
              "      <th>26708</th>\n",
              "      <td>https://www.huffingtonpost.com/entry/gourmet-g...</td>\n",
              "      <td>gourmet gifts for the foodie 2014</td>\n",
              "      <td>0</td>\n",
              "    </tr>\n",
              "  </tbody>\n",
              "</table>\n",
              "<p>26709 rows × 3 columns</p>\n",
              "</div>"
            ],
            "text/plain": [
              "                                            article_link  ... is_sarcastic\n",
              "0      https://www.huffingtonpost.com/entry/versace-b...  ...            0\n",
              "1      https://www.huffingtonpost.com/entry/roseanne-...  ...            0\n",
              "2      https://local.theonion.com/mom-starting-to-fea...  ...            1\n",
              "3      https://politics.theonion.com/boehner-just-wan...  ...            1\n",
              "4      https://www.huffingtonpost.com/entry/jk-rowlin...  ...            0\n",
              "...                                                  ...  ...          ...\n",
              "26704  https://www.huffingtonpost.com/entry/american-...  ...            0\n",
              "26705  https://www.huffingtonpost.com/entry/americas-...  ...            0\n",
              "26706  https://www.huffingtonpost.com/entry/reparatio...  ...            0\n",
              "26707  https://www.huffingtonpost.com/entry/israeli-b...  ...            0\n",
              "26708  https://www.huffingtonpost.com/entry/gourmet-g...  ...            0\n",
              "\n",
              "[26709 rows x 3 columns]"
            ]
          },
          "metadata": {
            "tags": []
          },
          "execution_count": 9
        }
      ]
    },
    {
      "cell_type": "code",
      "metadata": {
        "id": "v2A3bqFJkBQy",
        "colab_type": "code",
        "colab": {
          "base_uri": "https://localhost:8080/",
          "height": 589
        },
        "outputId": "674c404b-51d9-4a3e-e88f-f2f8dbc0430c"
      },
      "source": [
        "f2"
      ],
      "execution_count": null,
      "outputs": [
        {
          "output_type": "execute_result",
          "data": {
            "text/html": [
              "<div>\n",
              "<style scoped>\n",
              "    .dataframe tbody tr th:only-of-type {\n",
              "        vertical-align: middle;\n",
              "    }\n",
              "\n",
              "    .dataframe tbody tr th {\n",
              "        vertical-align: top;\n",
              "    }\n",
              "\n",
              "    .dataframe thead th {\n",
              "        text-align: right;\n",
              "    }\n",
              "</style>\n",
              "<table border=\"1\" class=\"dataframe\">\n",
              "  <thead>\n",
              "    <tr style=\"text-align: right;\">\n",
              "      <th></th>\n",
              "      <th>is_sarcastic</th>\n",
              "      <th>headline</th>\n",
              "      <th>article_link</th>\n",
              "    </tr>\n",
              "  </thead>\n",
              "  <tbody>\n",
              "    <tr>\n",
              "      <th>0</th>\n",
              "      <td>1</td>\n",
              "      <td>thirtysomething scientists unveil doomsday clo...</td>\n",
              "      <td>https://www.theonion.com/thirtysomething-scien...</td>\n",
              "    </tr>\n",
              "    <tr>\n",
              "      <th>1</th>\n",
              "      <td>0</td>\n",
              "      <td>dem rep. totally nails why congress is falling...</td>\n",
              "      <td>https://www.huffingtonpost.com/entry/donna-edw...</td>\n",
              "    </tr>\n",
              "    <tr>\n",
              "      <th>2</th>\n",
              "      <td>0</td>\n",
              "      <td>eat your veggies: 9 deliciously different recipes</td>\n",
              "      <td>https://www.huffingtonpost.com/entry/eat-your-...</td>\n",
              "    </tr>\n",
              "    <tr>\n",
              "      <th>3</th>\n",
              "      <td>1</td>\n",
              "      <td>inclement weather prevents liar from getting t...</td>\n",
              "      <td>https://local.theonion.com/inclement-weather-p...</td>\n",
              "    </tr>\n",
              "    <tr>\n",
              "      <th>4</th>\n",
              "      <td>1</td>\n",
              "      <td>mother comes pretty close to using word 'strea...</td>\n",
              "      <td>https://www.theonion.com/mother-comes-pretty-c...</td>\n",
              "    </tr>\n",
              "    <tr>\n",
              "      <th>...</th>\n",
              "      <td>...</td>\n",
              "      <td>...</td>\n",
              "      <td>...</td>\n",
              "    </tr>\n",
              "    <tr>\n",
              "      <th>28614</th>\n",
              "      <td>1</td>\n",
              "      <td>jews to celebrate rosh hashasha or something</td>\n",
              "      <td>https://www.theonion.com/jews-to-celebrate-ros...</td>\n",
              "    </tr>\n",
              "    <tr>\n",
              "      <th>28615</th>\n",
              "      <td>1</td>\n",
              "      <td>internal affairs investigator disappointed con...</td>\n",
              "      <td>https://local.theonion.com/internal-affairs-in...</td>\n",
              "    </tr>\n",
              "    <tr>\n",
              "      <th>28616</th>\n",
              "      <td>0</td>\n",
              "      <td>the most beautiful acceptance speech this week...</td>\n",
              "      <td>https://www.huffingtonpost.com/entry/andrew-ah...</td>\n",
              "    </tr>\n",
              "    <tr>\n",
              "      <th>28617</th>\n",
              "      <td>1</td>\n",
              "      <td>mars probe destroyed by orbiting spielberg-gat...</td>\n",
              "      <td>https://www.theonion.com/mars-probe-destroyed-...</td>\n",
              "    </tr>\n",
              "    <tr>\n",
              "      <th>28618</th>\n",
              "      <td>1</td>\n",
              "      <td>dad clarifies this not a food stop</td>\n",
              "      <td>https://www.theonion.com/dad-clarifies-this-no...</td>\n",
              "    </tr>\n",
              "  </tbody>\n",
              "</table>\n",
              "<p>28619 rows × 3 columns</p>\n",
              "</div>"
            ],
            "text/plain": [
              "       is_sarcastic  ...                                       article_link\n",
              "0                 1  ...  https://www.theonion.com/thirtysomething-scien...\n",
              "1                 0  ...  https://www.huffingtonpost.com/entry/donna-edw...\n",
              "2                 0  ...  https://www.huffingtonpost.com/entry/eat-your-...\n",
              "3                 1  ...  https://local.theonion.com/inclement-weather-p...\n",
              "4                 1  ...  https://www.theonion.com/mother-comes-pretty-c...\n",
              "...             ...  ...                                                ...\n",
              "28614             1  ...  https://www.theonion.com/jews-to-celebrate-ros...\n",
              "28615             1  ...  https://local.theonion.com/internal-affairs-in...\n",
              "28616             0  ...  https://www.huffingtonpost.com/entry/andrew-ah...\n",
              "28617             1  ...  https://www.theonion.com/mars-probe-destroyed-...\n",
              "28618             1  ...  https://www.theonion.com/dad-clarifies-this-no...\n",
              "\n",
              "[28619 rows x 3 columns]"
            ]
          },
          "metadata": {
            "tags": []
          },
          "execution_count": 10
        }
      ]
    },
    {
      "cell_type": "markdown",
      "metadata": {
        "id": "9TfsCREdkg1D",
        "colab_type": "text"
      },
      "source": [
        "Nhận xét: Cả hai dataframe f1 và f2 đều có cấu trúc giống nhau gồm 3 cột (cột 1: is_sarcastic: cho biết tiêu đề của bài báo châm biếm hay chính thống (0: chính thống/ 1:châm biến); cột 2: headline: tên tiêu đề bài viết; cột 3: link của bài viết). Trong đó, f1 có 26709 dòng (headlines) và f2 có 28619 dòng (headlines)"
      ]
    },
    {
      "cell_type": "markdown",
      "metadata": {
        "id": "EXe_prmfj5od",
        "colab_type": "text"
      },
      "source": [
        "Tiến hành nối hai data"
      ]
    },
    {
      "cell_type": "code",
      "metadata": {
        "id": "Sl-s92OE3MnD",
        "colab_type": "code",
        "colab": {
          "base_uri": "https://localhost:8080/",
          "height": 289
        },
        "outputId": "bd66b9f7-9f8b-4c49-9df0-46e01de9213a"
      },
      "source": [
        "df=pd.concat([f1,f2],axis=0)\n",
        "df.head()"
      ],
      "execution_count": null,
      "outputs": [
        {
          "output_type": "execute_result",
          "data": {
            "text/html": [
              "<div>\n",
              "<style scoped>\n",
              "    .dataframe tbody tr th:only-of-type {\n",
              "        vertical-align: middle;\n",
              "    }\n",
              "\n",
              "    .dataframe tbody tr th {\n",
              "        vertical-align: top;\n",
              "    }\n",
              "\n",
              "    .dataframe thead th {\n",
              "        text-align: right;\n",
              "    }\n",
              "</style>\n",
              "<table border=\"1\" class=\"dataframe\">\n",
              "  <thead>\n",
              "    <tr style=\"text-align: right;\">\n",
              "      <th></th>\n",
              "      <th>article_link</th>\n",
              "      <th>headline</th>\n",
              "      <th>is_sarcastic</th>\n",
              "    </tr>\n",
              "  </thead>\n",
              "  <tbody>\n",
              "    <tr>\n",
              "      <th>0</th>\n",
              "      <td>https://www.huffingtonpost.com/entry/versace-b...</td>\n",
              "      <td>former versace store clerk sues over secret 'b...</td>\n",
              "      <td>0</td>\n",
              "    </tr>\n",
              "    <tr>\n",
              "      <th>1</th>\n",
              "      <td>https://www.huffingtonpost.com/entry/roseanne-...</td>\n",
              "      <td>the 'roseanne' revival catches up to our thorn...</td>\n",
              "      <td>0</td>\n",
              "    </tr>\n",
              "    <tr>\n",
              "      <th>2</th>\n",
              "      <td>https://local.theonion.com/mom-starting-to-fea...</td>\n",
              "      <td>mom starting to fear son's web series closest ...</td>\n",
              "      <td>1</td>\n",
              "    </tr>\n",
              "    <tr>\n",
              "      <th>3</th>\n",
              "      <td>https://politics.theonion.com/boehner-just-wan...</td>\n",
              "      <td>boehner just wants wife to listen, not come up...</td>\n",
              "      <td>1</td>\n",
              "    </tr>\n",
              "    <tr>\n",
              "      <th>4</th>\n",
              "      <td>https://www.huffingtonpost.com/entry/jk-rowlin...</td>\n",
              "      <td>j.k. rowling wishes snape happy birthday in th...</td>\n",
              "      <td>0</td>\n",
              "    </tr>\n",
              "  </tbody>\n",
              "</table>\n",
              "</div>"
            ],
            "text/plain": [
              "                                        article_link  ... is_sarcastic\n",
              "0  https://www.huffingtonpost.com/entry/versace-b...  ...            0\n",
              "1  https://www.huffingtonpost.com/entry/roseanne-...  ...            0\n",
              "2  https://local.theonion.com/mom-starting-to-fea...  ...            1\n",
              "3  https://politics.theonion.com/boehner-just-wan...  ...            1\n",
              "4  https://www.huffingtonpost.com/entry/jk-rowlin...  ...            0\n",
              "\n",
              "[5 rows x 3 columns]"
            ]
          },
          "metadata": {
            "tags": []
          },
          "execution_count": 11
        }
      ]
    },
    {
      "cell_type": "markdown",
      "metadata": {
        "id": "1guRdvQAsV1c",
        "colab_type": "text"
      },
      "source": [
        "Xóa những hàng có headline trùng nhau trong df"
      ]
    },
    {
      "cell_type": "code",
      "metadata": {
        "id": "SrJmXMiasVY9",
        "colab_type": "code",
        "colab": {
          "base_uri": "https://localhost:8080/",
          "height": 589
        },
        "outputId": "bd8848bd-c480-4cd9-d509-c91a5913df1c"
      },
      "source": [
        "df=df.drop_duplicates(['headline'])\n",
        "df"
      ],
      "execution_count": null,
      "outputs": [
        {
          "output_type": "execute_result",
          "data": {
            "text/html": [
              "<div>\n",
              "<style scoped>\n",
              "    .dataframe tbody tr th:only-of-type {\n",
              "        vertical-align: middle;\n",
              "    }\n",
              "\n",
              "    .dataframe tbody tr th {\n",
              "        vertical-align: top;\n",
              "    }\n",
              "\n",
              "    .dataframe thead th {\n",
              "        text-align: right;\n",
              "    }\n",
              "</style>\n",
              "<table border=\"1\" class=\"dataframe\">\n",
              "  <thead>\n",
              "    <tr style=\"text-align: right;\">\n",
              "      <th></th>\n",
              "      <th>article_link</th>\n",
              "      <th>headline</th>\n",
              "      <th>is_sarcastic</th>\n",
              "    </tr>\n",
              "  </thead>\n",
              "  <tbody>\n",
              "    <tr>\n",
              "      <th>0</th>\n",
              "      <td>https://www.huffingtonpost.com/entry/versace-b...</td>\n",
              "      <td>former versace store clerk sues over secret 'b...</td>\n",
              "      <td>0</td>\n",
              "    </tr>\n",
              "    <tr>\n",
              "      <th>1</th>\n",
              "      <td>https://www.huffingtonpost.com/entry/roseanne-...</td>\n",
              "      <td>the 'roseanne' revival catches up to our thorn...</td>\n",
              "      <td>0</td>\n",
              "    </tr>\n",
              "    <tr>\n",
              "      <th>2</th>\n",
              "      <td>https://local.theonion.com/mom-starting-to-fea...</td>\n",
              "      <td>mom starting to fear son's web series closest ...</td>\n",
              "      <td>1</td>\n",
              "    </tr>\n",
              "    <tr>\n",
              "      <th>3</th>\n",
              "      <td>https://politics.theonion.com/boehner-just-wan...</td>\n",
              "      <td>boehner just wants wife to listen, not come up...</td>\n",
              "      <td>1</td>\n",
              "    </tr>\n",
              "    <tr>\n",
              "      <th>4</th>\n",
              "      <td>https://www.huffingtonpost.com/entry/jk-rowlin...</td>\n",
              "      <td>j.k. rowling wishes snape happy birthday in th...</td>\n",
              "      <td>0</td>\n",
              "    </tr>\n",
              "    <tr>\n",
              "      <th>...</th>\n",
              "      <td>...</td>\n",
              "      <td>...</td>\n",
              "      <td>...</td>\n",
              "    </tr>\n",
              "    <tr>\n",
              "      <th>28497</th>\n",
              "      <td>https://www.theonion.com/tyson-holds-contest-t...</td>\n",
              "      <td>tyson holds contest to let fans submit new ide...</td>\n",
              "      <td>1</td>\n",
              "    </tr>\n",
              "    <tr>\n",
              "      <th>28509</th>\n",
              "      <td>https://politics.theonion.com/increasingly-coc...</td>\n",
              "      <td>increasingly cocky bernie sanders announces he...</td>\n",
              "      <td>1</td>\n",
              "    </tr>\n",
              "    <tr>\n",
              "      <th>28520</th>\n",
              "      <td>https://www.theonion.com/cash-strapped-zuckerb...</td>\n",
              "      <td>cash-strapped zuckerberg forced to sell 11 mil...</td>\n",
              "      <td>1</td>\n",
              "    </tr>\n",
              "    <tr>\n",
              "      <th>28544</th>\n",
              "      <td>https://local.theonion.com/grocery-store-bar-a...</td>\n",
              "      <td>grocery store bar actually has great little ha...</td>\n",
              "      <td>1</td>\n",
              "    </tr>\n",
              "    <tr>\n",
              "      <th>28589</th>\n",
              "      <td>https://www.theonion.com/study-83-of-marathon-...</td>\n",
              "      <td>study: 83% of marathon spectators only attend ...</td>\n",
              "      <td>1</td>\n",
              "    </tr>\n",
              "  </tbody>\n",
              "</table>\n",
              "<p>28503 rows × 3 columns</p>\n",
              "</div>"
            ],
            "text/plain": [
              "                                            article_link  ... is_sarcastic\n",
              "0      https://www.huffingtonpost.com/entry/versace-b...  ...            0\n",
              "1      https://www.huffingtonpost.com/entry/roseanne-...  ...            0\n",
              "2      https://local.theonion.com/mom-starting-to-fea...  ...            1\n",
              "3      https://politics.theonion.com/boehner-just-wan...  ...            1\n",
              "4      https://www.huffingtonpost.com/entry/jk-rowlin...  ...            0\n",
              "...                                                  ...  ...          ...\n",
              "28497  https://www.theonion.com/tyson-holds-contest-t...  ...            1\n",
              "28509  https://politics.theonion.com/increasingly-coc...  ...            1\n",
              "28520  https://www.theonion.com/cash-strapped-zuckerb...  ...            1\n",
              "28544  https://local.theonion.com/grocery-store-bar-a...  ...            1\n",
              "28589  https://www.theonion.com/study-83-of-marathon-...  ...            1\n",
              "\n",
              "[28503 rows x 3 columns]"
            ]
          },
          "metadata": {
            "tags": []
          },
          "execution_count": 12
        }
      ]
    },
    {
      "cell_type": "markdown",
      "metadata": {
        "id": "XO-TcEM8srC5",
        "colab_type": "text"
      },
      "source": [
        "Sau khi nối hai dataframe f1 và f2 và tiến hành cắt những hàng có headlines trùng nhau trong dataframe ta thu được một dataframe (df) có 28503 dòng tương ứng với 28503 headline."
      ]
    },
    {
      "cell_type": "markdown",
      "metadata": {
        "id": "CmU-mCTWKzir",
        "colab_type": "text"
      },
      "source": [
        "Sử dụng thư viện seaborn vẽ biểu đồ"
      ]
    },
    {
      "cell_type": "code",
      "metadata": {
        "id": "0vnU-JDeKaL1",
        "colab_type": "code",
        "colab": {
          "base_uri": "https://localhost:8080/",
          "height": 71
        },
        "outputId": "ef566665-0663-4e5f-b6fd-75cdbac3703b"
      },
      "source": [
        "import seaborn as sns"
      ],
      "execution_count": null,
      "outputs": [
        {
          "output_type": "stream",
          "text": [
            "/usr/local/lib/python3.6/dist-packages/statsmodels/tools/_testing.py:19: FutureWarning: pandas.util.testing is deprecated. Use the functions in the public API at pandas.testing instead.\n",
            "  import pandas.util.testing as tm\n"
          ],
          "name": "stderr"
        }
      ]
    },
    {
      "cell_type": "code",
      "metadata": {
        "id": "1klFxU30KeJ8",
        "colab_type": "code",
        "colab": {
          "base_uri": "https://localhost:8080/",
          "height": 297
        },
        "outputId": "1ad6e309-e5a5-4a9d-ad8b-e67eefa3b68b"
      },
      "source": [
        "sns.countplot(df['is_sarcastic'])"
      ],
      "execution_count": null,
      "outputs": [
        {
          "output_type": "execute_result",
          "data": {
            "text/plain": [
              "<matplotlib.axes._subplots.AxesSubplot at 0x7ff50707d1d0>"
            ]
          },
          "metadata": {
            "tags": []
          },
          "execution_count": 13
        },
        {
          "output_type": "display_data",
          "data": {
            "image/png": "[encoded data removed]",
            "text/plain": [
              "<Figure size 432x288 with 1 Axes>"
            ]
          },
          "metadata": {
            "tags": [],
            "needs_background": "light"
          }
        }
      ]
    },
    {
      "cell_type": "code",
      "metadata": {
        "id": "8eXcxQrmLU2e",
        "colab_type": "code",
        "colab": {
          "base_uri": "https://localhost:8080/",
          "height": 34
        },
        "outputId": "e09ff7ad-ac59-4af4-f60d-363df2d91d52"
      },
      "source": [
        "len(df[df['is_sarcastic']==1])"
      ],
      "execution_count": null,
      "outputs": [
        {
          "output_type": "execute_result",
          "data": {
            "text/plain": [
              "13552"
            ]
          },
          "metadata": {
            "tags": []
          },
          "execution_count": 14
        }
      ]
    },
    {
      "cell_type": "code",
      "metadata": {
        "id": "xPWboPV5LxvD",
        "colab_type": "code",
        "colab": {
          "base_uri": "https://localhost:8080/",
          "height": 34
        },
        "outputId": "1b63bfe3-7399-42d2-d108-41a75276bba8"
      },
      "source": [
        "len(df[df['is_sarcastic']==0])"
      ],
      "execution_count": null,
      "outputs": [
        {
          "output_type": "execute_result",
          "data": {
            "text/plain": [
              "14951"
            ]
          },
          "metadata": {
            "tags": []
          },
          "execution_count": 15
        }
      ]
    },
    {
      "cell_type": "markdown",
      "metadata": {
        "id": "oOKSSlAuK43x",
        "colab_type": "text"
      },
      "source": [
        "Sau khi vẽ biểu đồ ta nhận thấy số lượng các headline có tính mỉa mai và không mỉa mai với độ chênh lệch không quá cao (1399 headlines).\n",
        "\n"
      ]
    },
    {
      "cell_type": "markdown",
      "metadata": {
        "id": "hZ1Hi3bUzZ1Q",
        "colab_type": "text"
      },
      "source": [
        "## Load data mới thu thập"
      ]
    },
    {
      "cell_type": "markdown",
      "metadata": {
        "id": "urSkp_IHzeXN",
        "colab_type": "text"
      },
      "source": [
        "Data vừa thu thập được lưu trong 2 file csv. Một file gồm những headline trâm biếm [link](https://github.com/ThuanPhong0126/CS114.K21/blob/master/Sarcasm/Case_Study_1.csv) đã được thu thập từ trang Theonion và một file gồm những headline không châm biếm [link](https://github.com/ThuanPhong0126/CS114.K21/blob/master/Sarcasm/dataminer_not_scarasm.csv) được thu thập từ trang Huffpost\n",
        "\n"
      ]
    },
    {
      "cell_type": "markdown",
      "metadata": {
        "id": "K2tqOeW-9X_a",
        "colab_type": "text"
      },
      "source": [
        "Việc thu thập dữ liệu từ hai trang báo trên đều dựa vào công cụ [Data Scraper](https://chrome.google.com/webstore/detail/data-scraper-easy-web-scr/nndknepjnldbdbepjfgmncbggmopgden) được google chrome hỗ trợ. "
      ]
    },
    {
      "cell_type": "markdown",
      "metadata": {
        "id": "hHwmS6Pz-CY6",
        "colab_type": "text"
      },
      "source": [
        "Sau khi hoàn tất quá trình thu thập thu được 2 file: một file chứa các headline được lấy từ Huffpost và một file chứa các headline được lấy từ Thonion.\n"
      ]
    },
    {
      "cell_type": "markdown",
      "metadata": {
        "id": "YywPhJTIC887",
        "colab_type": "text"
      },
      "source": [
        "1. Đầu tiên đọc từ file Case_Study_1.csv gồm các headline lấy từ trang Theonion. Việc đọc được thực hiện thông qua thư viện pandas với hàm pandas.read_csv"
      ]
    },
    {
      "cell_type": "code",
      "metadata": {
        "id": "DXuRvpkhCWK1",
        "colab_type": "code",
        "colab": {
          "base_uri": "https://localhost:8080/",
          "height": 419
        },
        "outputId": "d443caf1-3ed2-438d-91d8-647c8edc47a0"
      },
      "source": [
        "test1=pd.read_csv('/content/drive/My Drive/Colab Notebooks/ML/sarcasm/Case_Study_1.csv',encoding='unicode-escape')\n",
        "test1"
      ],
      "execution_count": null,
      "outputs": [
        {
          "output_type": "execute_result",
          "data": {
            "text/html": [
              "<div>\n",
              "<style scoped>\n",
              "    .dataframe tbody tr th:only-of-type {\n",
              "        vertical-align: middle;\n",
              "    }\n",
              "\n",
              "    .dataframe tbody tr th {\n",
              "        vertical-align: top;\n",
              "    }\n",
              "\n",
              "    .dataframe thead th {\n",
              "        text-align: right;\n",
              "    }\n",
              "</style>\n",
              "<table border=\"1\" class=\"dataframe\">\n",
              "  <thead>\n",
              "    <tr style=\"text-align: right;\">\n",
              "      <th></th>\n",
              "      <th>Headline</th>\n",
              "    </tr>\n",
              "  </thead>\n",
              "  <tbody>\n",
              "    <tr>\n",
              "      <th>0</th>\n",
              "      <td>Fair-Weather Bills Fan Not Even Banned From St...</td>\n",
              "    </tr>\n",
              "    <tr>\n",
              "      <th>1</th>\n",
              "      <td>Dad Reports Old Guy Being Honored On Field Alw...</td>\n",
              "    </tr>\n",
              "    <tr>\n",
              "      <th>2</th>\n",
              "      <td>Researchers Discover Referees Evolved Stripes ...</td>\n",
              "    </tr>\n",
              "    <tr>\n",
              "      <th>3</th>\n",
              "      <td>A.J. Hinch Warns Astros If They Lose World Ser...</td>\n",
              "    </tr>\n",
              "    <tr>\n",
              "      <th>4</th>\n",
              "      <td>Dak Prescott Gains 80 Pounds, Moves Back In Wi...</td>\n",
              "    </tr>\n",
              "    <tr>\n",
              "      <th>...</th>\n",
              "      <td>...</td>\n",
              "    </tr>\n",
              "    <tr>\n",
              "      <th>999</th>\n",
              "      <td>Heartbreaking Photos Of Polar Bears Who Will D...</td>\n",
              "    </tr>\n",
              "    <tr>\n",
              "      <th>1000</th>\n",
              "      <td>Disgusting Bigotry: The Media Is Only Blaming ...</td>\n",
              "    </tr>\n",
              "    <tr>\n",
              "      <th>1001</th>\n",
              "      <td>Speedrunner Accidentally Enjoys Game For A Moment</td>\n",
              "    </tr>\n",
              "    <tr>\n",
              "      <th>1002</th>\n",
              "      <td>Incredible Security: The Xbox Series X Will De...</td>\n",
              "    </tr>\n",
              "    <tr>\n",
              "      <th>1003</th>\n",
              "      <td>Nobody Panic: Bulbasaur Found A Gun</td>\n",
              "    </tr>\n",
              "  </tbody>\n",
              "</table>\n",
              "<p>1004 rows × 1 columns</p>\n",
              "</div>"
            ],
            "text/plain": [
              "                                               Headline\n",
              "0     Fair-Weather Bills Fan Not Even Banned From St...\n",
              "1     Dad Reports Old Guy Being Honored On Field Alw...\n",
              "2     Researchers Discover Referees Evolved Stripes ...\n",
              "3     A.J. Hinch Warns Astros If They Lose World Ser...\n",
              "4     Dak Prescott Gains 80 Pounds, Moves Back In Wi...\n",
              "...                                                 ...\n",
              "999   Heartbreaking Photos Of Polar Bears Who Will D...\n",
              "1000  Disgusting Bigotry: The Media Is Only Blaming ...\n",
              "1001  Speedrunner Accidentally Enjoys Game For A Moment\n",
              "1002  Incredible Security: The Xbox Series X Will De...\n",
              "1003                Nobody Panic: Bulbasaur Found A Gun\n",
              "\n",
              "[1004 rows x 1 columns]"
            ]
          },
          "metadata": {
            "tags": []
          },
          "execution_count": 13
        }
      ]
    },
    {
      "cell_type": "markdown",
      "metadata": {
        "id": "5nJYV3wSCpNw",
        "colab_type": "text"
      },
      "source": [
        "Ban đầu đọc file không nhắc đến unicode thì chương trình đã phát sinh lỗi. Dựa vào stackoverflow đã tìm ra unicode phù hợp là unicode-escape"
      ]
    },
    {
      "cell_type": "markdown",
      "metadata": {
        "id": "U-gZup_yDQ4_",
        "colab_type": "text"
      },
      "source": [
        "2. Tiếp theo, đọc từ file dataminer_not_scarasm.csv. Cách đọc tương tự như đọc file Case_Study_1.csv"
      ]
    },
    {
      "cell_type": "code",
      "metadata": {
        "id": "ZMis5XupESAb",
        "colab_type": "code",
        "colab": {
          "base_uri": "https://localhost:8080/",
          "height": 419
        },
        "outputId": "eda271da-9e19-4a2c-dba2-66c3ce6766b0"
      },
      "source": [
        "test2=pd.read_csv('/content/drive/My Drive/Colab Notebooks/ML/sarcasm/dataminer_not_scarasm.csv',encoding='unicode-escape')\n",
        "test2"
      ],
      "execution_count": null,
      "outputs": [
        {
          "output_type": "execute_result",
          "data": {
            "text/html": [
              "<div>\n",
              "<style scoped>\n",
              "    .dataframe tbody tr th:only-of-type {\n",
              "        vertical-align: middle;\n",
              "    }\n",
              "\n",
              "    .dataframe tbody tr th {\n",
              "        vertical-align: top;\n",
              "    }\n",
              "\n",
              "    .dataframe thead th {\n",
              "        text-align: right;\n",
              "    }\n",
              "</style>\n",
              "<table border=\"1\" class=\"dataframe\">\n",
              "  <thead>\n",
              "    <tr style=\"text-align: right;\">\n",
              "      <th></th>\n",
              "      <th>Column 1</th>\n",
              "    </tr>\n",
              "  </thead>\n",
              "  <tbody>\n",
              "    <tr>\n",
              "      <th>0</th>\n",
              "      <td>Trump Compared To Segregationist George Wallac...</td>\n",
              "    </tr>\n",
              "    <tr>\n",
              "      <th>1</th>\n",
              "      <td>Pressed Repeatedly To Say âBlack Lives Matte...</td>\n",
              "    </tr>\n",
              "    <tr>\n",
              "      <th>2</th>\n",
              "      <td>Anthony Fauci Warned White House That Tulsa Ra...</td>\n",
              "    </tr>\n",
              "    <tr>\n",
              "      <th>3</th>\n",
              "      <td>Twitter Users Give Trump's Tulsa Rally Another...</td>\n",
              "    </tr>\n",
              "    <tr>\n",
              "      <th>4</th>\n",
              "      <td>Jon Stewart Says He Should've Axed Steve Carel...</td>\n",
              "    </tr>\n",
              "    <tr>\n",
              "      <th>...</th>\n",
              "      <td>...</td>\n",
              "    </tr>\n",
              "    <tr>\n",
              "      <th>1154</th>\n",
              "      <td>Store: Learn The Basics Of Project Management ...</td>\n",
              "    </tr>\n",
              "    <tr>\n",
              "      <th>1155</th>\n",
              "      <td>Dont Get Too Attached To Free Office Snacks</td>\n",
              "    </tr>\n",
              "    <tr>\n",
              "      <th>1156</th>\n",
              "      <td>Store: Improve Your Budding Side Hustle With A...</td>\n",
              "    </tr>\n",
              "    <tr>\n",
              "      <th>1157</th>\n",
              "      <td>Joe Biden Stole Credit From Elizabeth Warren, ...</td>\n",
              "    </tr>\n",
              "    <tr>\n",
              "      <th>1158</th>\n",
              "      <td>There Are 2 Types Of Office Bathroom People. B...</td>\n",
              "    </tr>\n",
              "  </tbody>\n",
              "</table>\n",
              "<p>1159 rows × 1 columns</p>\n",
              "</div>"
            ],
            "text/plain": [
              "                                               Column 1\n",
              "0     Trump Compared To Segregationist George Wallac...\n",
              "1     Pressed Repeatedly To Say âBlack Lives Matte...\n",
              "2     Anthony Fauci Warned White House That Tulsa Ra...\n",
              "3     Twitter Users Give Trump's Tulsa Rally Another...\n",
              "4     Jon Stewart Says He Should've Axed Steve Carel...\n",
              "...                                                 ...\n",
              "1154  Store: Learn The Basics Of Project Management ...\n",
              "1155       Dont Get Too Attached To Free Office Snacks\n",
              "1156  Store: Improve Your Budding Side Hustle With A...\n",
              "1157  Joe Biden Stole Credit From Elizabeth Warren, ...\n",
              "1158  There Are 2 Types Of Office Bathroom People. B...\n",
              "\n",
              "[1159 rows x 1 columns]"
            ]
          },
          "metadata": {
            "tags": []
          },
          "execution_count": 14
        }
      ]
    },
    {
      "cell_type": "markdown",
      "metadata": {
        "id": "bqaJgB09HSE1",
        "colab_type": "text"
      },
      "source": [
        "Hai dataframe trên với mỗi dataframe tương ứng 1 trang báo. Test1 là dataframe chứa các headline được lấy từ trang Theonion với các headline có tỉnh mỉa mai. Việc thu thập nhận được 1004 headlines. Test2 là dataframe chứa các headline trong cột Column 1 được thu thập từ trang Huffpost với các headline chính thống và thu thập được 1159 headlines."
      ]
    },
    {
      "cell_type": "markdown",
      "metadata": {
        "id": "g7Z5Uw4LEfzo",
        "colab_type": "text"
      },
      "source": [
        "Do hai file có tên cột không giống nhau nên cần chọn lại tên cột chung là Headline và gán nhãn cho cả hai dataframe với test2 có nhãn mỗi headline là 0 và 1 đối với dataframe test1. Sau đó nối hai datafram test1 và test2 thông qua pandas.concat"
      ]
    },
    {
      "cell_type": "markdown",
      "metadata": {
        "id": "kB1Zq1kiGIOi",
        "colab_type": "text"
      },
      "source": [
        "1. Đặt lại tên cột cho test2"
      ]
    },
    {
      "cell_type": "code",
      "metadata": {
        "id": "PrqvQrWyGNXy",
        "colab_type": "code",
        "colab": {}
      },
      "source": [
        "test2.columns=['Headline']"
      ],
      "execution_count": null,
      "outputs": []
    },
    {
      "cell_type": "markdown",
      "metadata": {
        "id": "coPs_EK5F-yg",
        "colab_type": "text"
      },
      "source": [
        "2. Gán nhãn cho test1 và test2"
      ]
    },
    {
      "cell_type": "code",
      "metadata": {
        "id": "qYGoM4imGGk2",
        "colab_type": "code",
        "colab": {}
      },
      "source": [
        "test1['is_sarcastic']=1\n",
        "test2['is_sarcastic']=0"
      ],
      "execution_count": null,
      "outputs": []
    },
    {
      "cell_type": "markdown",
      "metadata": {
        "id": "yYeYPTDIGuNN",
        "colab_type": "text"
      },
      "source": [
        "3. Nối hai dataframe"
      ]
    },
    {
      "cell_type": "code",
      "metadata": {
        "id": "bMpkMR5WG3Vi",
        "colab_type": "code",
        "colab": {
          "base_uri": "https://localhost:8080/",
          "height": 419
        },
        "outputId": "de11607b-f738-4565-ce1c-c805f072aee5"
      },
      "source": [
        "test=pd.concat([test1,test2],axis=0)\n",
        "test"
      ],
      "execution_count": null,
      "outputs": [
        {
          "output_type": "execute_result",
          "data": {
            "text/html": [
              "<div>\n",
              "<style scoped>\n",
              "    .dataframe tbody tr th:only-of-type {\n",
              "        vertical-align: middle;\n",
              "    }\n",
              "\n",
              "    .dataframe tbody tr th {\n",
              "        vertical-align: top;\n",
              "    }\n",
              "\n",
              "    .dataframe thead th {\n",
              "        text-align: right;\n",
              "    }\n",
              "</style>\n",
              "<table border=\"1\" class=\"dataframe\">\n",
              "  <thead>\n",
              "    <tr style=\"text-align: right;\">\n",
              "      <th></th>\n",
              "      <th>Headline</th>\n",
              "      <th>is_sarcastic</th>\n",
              "    </tr>\n",
              "  </thead>\n",
              "  <tbody>\n",
              "    <tr>\n",
              "      <th>0</th>\n",
              "      <td>Fair-Weather Bills Fan Not Even Banned From St...</td>\n",
              "      <td>1</td>\n",
              "    </tr>\n",
              "    <tr>\n",
              "      <th>1</th>\n",
              "      <td>Dad Reports Old Guy Being Honored On Field Alw...</td>\n",
              "      <td>1</td>\n",
              "    </tr>\n",
              "    <tr>\n",
              "      <th>2</th>\n",
              "      <td>Researchers Discover Referees Evolved Stripes ...</td>\n",
              "      <td>1</td>\n",
              "    </tr>\n",
              "    <tr>\n",
              "      <th>3</th>\n",
              "      <td>A.J. Hinch Warns Astros If They Lose World Ser...</td>\n",
              "      <td>1</td>\n",
              "    </tr>\n",
              "    <tr>\n",
              "      <th>4</th>\n",
              "      <td>Dak Prescott Gains 80 Pounds, Moves Back In Wi...</td>\n",
              "      <td>1</td>\n",
              "    </tr>\n",
              "    <tr>\n",
              "      <th>...</th>\n",
              "      <td>...</td>\n",
              "      <td>...</td>\n",
              "    </tr>\n",
              "    <tr>\n",
              "      <th>1154</th>\n",
              "      <td>Store: Learn The Basics Of Project Management ...</td>\n",
              "      <td>0</td>\n",
              "    </tr>\n",
              "    <tr>\n",
              "      <th>1155</th>\n",
              "      <td>Dont Get Too Attached To Free Office Snacks</td>\n",
              "      <td>0</td>\n",
              "    </tr>\n",
              "    <tr>\n",
              "      <th>1156</th>\n",
              "      <td>Store: Improve Your Budding Side Hustle With A...</td>\n",
              "      <td>0</td>\n",
              "    </tr>\n",
              "    <tr>\n",
              "      <th>1157</th>\n",
              "      <td>Joe Biden Stole Credit From Elizabeth Warren, ...</td>\n",
              "      <td>0</td>\n",
              "    </tr>\n",
              "    <tr>\n",
              "      <th>1158</th>\n",
              "      <td>There Are 2 Types Of Office Bathroom People. B...</td>\n",
              "      <td>0</td>\n",
              "    </tr>\n",
              "  </tbody>\n",
              "</table>\n",
              "<p>2163 rows × 2 columns</p>\n",
              "</div>"
            ],
            "text/plain": [
              "                                               Headline  is_sarcastic\n",
              "0     Fair-Weather Bills Fan Not Even Banned From St...             1\n",
              "1     Dad Reports Old Guy Being Honored On Field Alw...             1\n",
              "2     Researchers Discover Referees Evolved Stripes ...             1\n",
              "3     A.J. Hinch Warns Astros If They Lose World Ser...             1\n",
              "4     Dak Prescott Gains 80 Pounds, Moves Back In Wi...             1\n",
              "...                                                 ...           ...\n",
              "1154  Store: Learn The Basics Of Project Management ...             0\n",
              "1155       Dont Get Too Attached To Free Office Snacks             0\n",
              "1156  Store: Improve Your Budding Side Hustle With A...             0\n",
              "1157  Joe Biden Stole Credit From Elizabeth Warren, ...             0\n",
              "1158  There Are 2 Types Of Office Bathroom People. B...             0\n",
              "\n",
              "[2163 rows x 2 columns]"
            ]
          },
          "metadata": {
            "tags": []
          },
          "execution_count": 17
        }
      ]
    },
    {
      "cell_type": "markdown",
      "metadata": {
        "id": "IT2A9VqmIEY_",
        "colab_type": "text"
      },
      "source": [
        "Sau khi nối lại thu được một dataframe có tên test với 2163 headlines đã được gán nhãn với nhãn 0 tương ứng là tin chính thống, còn 1 là đối với các tin mỉa mai."
      ]
    },
    {
      "cell_type": "markdown",
      "metadata": {
        "id": "N19TRY8NIaOJ",
        "colab_type": "text"
      },
      "source": [
        "## Feature engineering"
      ]
    },
    {
      "cell_type": "markdown",
      "metadata": {
        "id": "IVgkpMdeiU5h",
        "colab_type": "text"
      },
      "source": [
        "import một số thư viện cần dùng trong quá trình feature engineering"
      ]
    },
    {
      "cell_type": "code",
      "metadata": {
        "id": "9dyZUY75KPQx",
        "colab_type": "code",
        "colab": {}
      },
      "source": [
        "import re\n",
        "import string"
      ],
      "execution_count": null,
      "outputs": []
    },
    {
      "cell_type": "markdown",
      "metadata": {
        "id": "Ps85iRc5idfS",
        "colab_type": "text"
      },
      "source": [
        "Đối với mỗi headline sẽ được xử lí trước khi chuyển về dạng vector gồm các con số.\n",
        "\n",
        "Mỗi headline sẽ được xử lí gồm các giai đoạn: chuyển tất cả ký tự về chữ thường, loại bỏ tất cả các ký tự đặc biệt, xóa các ký tự khoảng trắng ở đầu và cuối headline."
      ]
    },
    {
      "cell_type": "code",
      "metadata": {
        "id": "AOm0EC_nsZOY",
        "colab_type": "code",
        "colab": {
          "base_uri": "https://localhost:8080/",
          "height": 34
        },
        "outputId": "1b9a1db8-2d8b-4c8d-c3bc-b378bc2063d4"
      },
      "source": [
        "string.punctuation"
      ],
      "execution_count": null,
      "outputs": [
        {
          "output_type": "execute_result",
          "data": {
            "text/plain": [
              "'!\"#$%&\\'()*+,-./:;<=>?@[\\\\]^_`{|}~'"
            ]
          },
          "metadata": {
            "tags": []
          },
          "execution_count": 125
        }
      ]
    },
    {
      "cell_type": "code",
      "metadata": {
        "id": "8grLvJtAuh96",
        "colab_type": "code",
        "colab": {}
      },
      "source": [
        "def xuli_headline(headline_):\n",
        "  headline_=''.join(ch for ch in headline_ if ch in (string.ascii_letters+string.digits+' '))\n",
        "  headline_=headline_.lower()\n",
        "  headline_=headline_.strip()\n",
        "  return headline_"
      ],
      "execution_count": null,
      "outputs": []
    },
    {
      "cell_type": "markdown",
      "metadata": {
        "id": "OosZd5wLkCIk",
        "colab_type": "text"
      },
      "source": [
        "Sử dụng dòng lặp for để xử lý qua tất cả các headline trong df sau đó lưu vào corpus. Corpus gồm các headline đã qua bước xử lý."
      ]
    },
    {
      "cell_type": "code",
      "metadata": {
        "id": "Ha3QD_i1H98k",
        "colab_type": "code",
        "colab": {}
      },
      "source": [
        "corpus=[]\n",
        "for headline_ in df['headline']:\n",
        "  corpus.append(xuli_headline(headline_))"
      ],
      "execution_count": null,
      "outputs": []
    },
    {
      "cell_type": "markdown",
      "metadata": {
        "id": "upWTUvilkOcG",
        "colab_type": "text"
      },
      "source": [
        "Sử dụng phương pháp Tfidf để chuyển các headline thành vector đặc trưng gồm các con số.\n",
        "\n",
        "Phương pháp tfidf tốt hơn so với bag of word vì tfidf có tính đến độ quan trọng của một từ đối với một câu. Công thức tính tfidf của một từ: tfidf=tf(t,d)*idf(t,D) với TF(t, d) = ( số lần từ t xuất hiện trong văn bản d) / (tổng số từ trong văn bản d) và IDF(t, D) = log_e( Tổng số văn bản trong tập mẫu D/ Số văn bản có chứa từ t )\n",
        "\n"
      ]
    },
    {
      "cell_type": "code",
      "metadata": {
        "id": "1r2ZJZ10JOwD",
        "colab_type": "code",
        "colab": {}
      },
      "source": [
        "from sklearn.feature_extraction.text import TfidfVectorizer"
      ],
      "execution_count": null,
      "outputs": []
    },
    {
      "cell_type": "markdown",
      "metadata": {
        "id": "-wUnX-HKmtwY",
        "colab_type": "text"
      },
      "source": [
        "Sử dụng hàm TfidfVectorizer được cung cấp bởi sklearn để mã hóa headline với stop_words='english', sử dụng stop_words để bỏ đi các từ không mang ý nghĩa trong việc quyết định nghĩa của câu."
      ]
    },
    {
      "cell_type": "code",
      "metadata": {
        "id": "KvKX9JKeJgUB",
        "colab_type": "code",
        "colab": {}
      },
      "source": [
        "tf=TfidfVectorizer(stop_words='english')\n",
        "corpus=tf.fit_transform(corpus)"
      ],
      "execution_count": null,
      "outputs": []
    },
    {
      "cell_type": "code",
      "metadata": {
        "id": "of6i4Bm3h-f1",
        "colab_type": "code",
        "colab": {
          "base_uri": "https://localhost:8080/",
          "height": 51
        },
        "outputId": "32b0b8e4-b9b8-47c7-9927-2b57cf15dd4a"
      },
      "source": [
        "corpus"
      ],
      "execution_count": null,
      "outputs": [
        {
          "output_type": "execute_result",
          "data": {
            "text/plain": [
              "<28503x29328 sparse matrix of type '<class 'numpy.float64'>'\n",
              "\twith 194194 stored elements in Compressed Sparse Row format>"
            ]
          },
          "metadata": {
            "tags": []
          },
          "execution_count": 151
        }
      ]
    },
    {
      "cell_type": "markdown",
      "metadata": {
        "id": "sAvi8AfBnHpI",
        "colab_type": "text"
      },
      "source": [
        "Sau khi xử lý thì thu được 28503 vector tương ứng với 28503 headline ban đầu. "
      ]
    },
    {
      "cell_type": "markdown",
      "metadata": {
        "id": "sCcYsE1gtsFS",
        "colab_type": "text"
      },
      "source": [
        "## Tạo ra các bộ data gồm có training_set, test_set, validation-set"
      ]
    },
    {
      "cell_type": "markdown",
      "metadata": {
        "id": "39-zhWWWuAHw",
        "colab_type": "text"
      },
      "source": [
        "Với bộ training-set và test_set được lấy ra từ dataframe df với tỷ lệ 70%train/30%validation, bộ test_set là dataframe test vừa được thu thập mới.\n"
      ]
    },
    {
      "cell_type": "markdown",
      "metadata": {
        "id": "gv1Kgz2Iwg8-",
        "colab_type": "text"
      },
      "source": [
        "Features cho hai bộ train và valid là headline sau khi xử lý (corpus) và label là tương ứng với cột is_sarcastic"
      ]
    },
    {
      "cell_type": "code",
      "metadata": {
        "id": "Rrb4iED848OG",
        "colab_type": "code",
        "colab": {}
      },
      "source": [
        "y=df['is_sarcastic']"
      ],
      "execution_count": null,
      "outputs": []
    },
    {
      "cell_type": "code",
      "metadata": {
        "id": "B0qwCtqDwwuZ",
        "colab_type": "code",
        "colab": {}
      },
      "source": [
        "from sklearn.model_selection import train_test_split\n",
        "X_train,X_valid,y_train,y_valid=train_test_split(corpus,y,test_size=0.3,random_state=42)"
      ],
      "execution_count": null,
      "outputs": []
    },
    {
      "cell_type": "code",
      "metadata": {
        "id": "VdKaOfBVw_2l",
        "colab_type": "code",
        "colab": {
          "base_uri": "https://localhost:8080/",
          "height": 51
        },
        "outputId": "9fbac35c-9b6b-4827-de87-e9836c88a4e5"
      },
      "source": [
        "X_train"
      ],
      "execution_count": null,
      "outputs": [
        {
          "output_type": "execute_result",
          "data": {
            "text/plain": [
              "<19952x29328 sparse matrix of type '<class 'numpy.float64'>'\n",
              "\twith 136058 stored elements in Compressed Sparse Row format>"
            ]
          },
          "metadata": {
            "tags": []
          },
          "execution_count": 154
        }
      ]
    },
    {
      "cell_type": "markdown",
      "metadata": {
        "id": "Sz9OHAIgnqFU",
        "colab_type": "text"
      },
      "source": [
        "Tập train gồm có 19952 headlines, tập validation có 8551 headlines."
      ]
    },
    {
      "cell_type": "code",
      "metadata": {
        "id": "E1ykEVQPxDfc",
        "colab_type": "code",
        "colab": {
          "base_uri": "https://localhost:8080/",
          "height": 51
        },
        "outputId": "e17f0d06-20dd-41b2-b233-dd8665624163"
      },
      "source": [
        "X_valid"
      ],
      "execution_count": null,
      "outputs": [
        {
          "output_type": "execute_result",
          "data": {
            "text/plain": [
              "<8551x29328 sparse matrix of type '<class 'numpy.float64'>'\n",
              "\twith 58136 stored elements in Compressed Sparse Row format>"
            ]
          },
          "metadata": {
            "tags": []
          },
          "execution_count": 155
        }
      ]
    },
    {
      "cell_type": "markdown",
      "metadata": {
        "id": "9uyI1OaUn1QT",
        "colab_type": "text"
      },
      "source": [
        "##Chọn model"
      ]
    },
    {
      "cell_type": "markdown",
      "metadata": {
        "id": "sFdYwrv6luzK",
        "colab_type": "text"
      },
      "source": [
        "Trong quá trình chọn model sẽ sử dụng accuracy_score để đánh giá model. accuracy_score là tỷ lệ những headline được dự đoán đúng. Khi accuracy_score càng gần 100 thì model được xem là càng tốt. Các accuracy_score của các model được lưu vào dictionary tên là score."
      ]
    },
    {
      "cell_type": "code",
      "metadata": {
        "id": "n33OPenYmPze",
        "colab_type": "code",
        "colab": {}
      },
      "source": [
        "score={}"
      ],
      "execution_count": null,
      "outputs": []
    },
    {
      "cell_type": "markdown",
      "metadata": {
        "id": "HGFI0RvBmKo6",
        "colab_type": "text"
      },
      "source": [
        "#### LogisticRegression"
      ]
    },
    {
      "cell_type": "code",
      "metadata": {
        "id": "VgxlWqcboMEZ",
        "colab_type": "code",
        "colab": {}
      },
      "source": [
        "from sklearn.metrics import accuracy_score,classification_report,confusion_matrix"
      ],
      "execution_count": null,
      "outputs": []
    },
    {
      "cell_type": "code",
      "metadata": {
        "id": "zaX5lhhmn6KH",
        "colab_type": "code",
        "colab": {}
      },
      "source": [
        "from sklearn.linear_model import LogisticRegression"
      ],
      "execution_count": null,
      "outputs": []
    },
    {
      "cell_type": "code",
      "metadata": {
        "id": "GDvrCVNUn_ME",
        "colab_type": "code",
        "colab": {
          "base_uri": "https://localhost:8080/",
          "height": 102
        },
        "outputId": "c9b76457-9f12-4ffa-de43-7db5a18c07da"
      },
      "source": [
        "model1=LogisticRegression()\n",
        "model1.fit(X_train,y_train)"
      ],
      "execution_count": null,
      "outputs": [
        {
          "output_type": "execute_result",
          "data": {
            "text/plain": [
              "LogisticRegression(C=1.0, class_weight=None, dual=False, fit_intercept=True,\n",
              "                   intercept_scaling=1, l1_ratio=None, max_iter=100,\n",
              "                   multi_class='auto', n_jobs=None, penalty='l2',\n",
              "                   random_state=None, solver='lbfgs', tol=0.0001, verbose=0,\n",
              "                   warm_start=False)"
            ]
          },
          "metadata": {
            "tags": []
          },
          "execution_count": 127
        }
      ]
    },
    {
      "cell_type": "code",
      "metadata": {
        "id": "xJu6AtQgoHqy",
        "colab_type": "code",
        "colab": {}
      },
      "source": [
        "predict1=model1.predict(X_valid)"
      ],
      "execution_count": null,
      "outputs": []
    },
    {
      "cell_type": "code",
      "metadata": {
        "id": "qU4SJQ-LoS2R",
        "colab_type": "code",
        "colab": {
          "base_uri": "https://localhost:8080/",
          "height": 34
        },
        "outputId": "303e8cb3-17b4-4cfa-e4a8-987637da1cdf"
      },
      "source": [
        "score['LR']=accuracy_score(y_valid,predict1)\n",
        "print(accuracy_score(y_valid,predict1))"
      ],
      "execution_count": null,
      "outputs": [
        {
          "output_type": "stream",
          "text": [
            "0.7972285563936151\n"
          ],
          "name": "stdout"
        }
      ]
    },
    {
      "cell_type": "markdown",
      "metadata": {
        "id": "2q8nfyKBmfTs",
        "colab_type": "text"
      },
      "source": [
        "#### RandomForestClassifier"
      ]
    },
    {
      "cell_type": "code",
      "metadata": {
        "id": "P8ZlK8Kw5zlM",
        "colab_type": "code",
        "colab": {}
      },
      "source": [
        "from sklearn.ensemble import RandomForestClassifier"
      ],
      "execution_count": null,
      "outputs": []
    },
    {
      "cell_type": "code",
      "metadata": {
        "id": "TPHhKejr58w9",
        "colab_type": "code",
        "colab": {}
      },
      "source": [
        "model2=RandomForestClassifier()"
      ],
      "execution_count": null,
      "outputs": []
    },
    {
      "cell_type": "code",
      "metadata": {
        "id": "1OyhdmbI6Dw3",
        "colab_type": "code",
        "colab": {
          "base_uri": "https://localhost:8080/",
          "height": 153
        },
        "outputId": "b247619d-b03f-4910-ebc8-a4d1b4ab981e"
      },
      "source": [
        "model2.fit(X_train,y_train)"
      ],
      "execution_count": null,
      "outputs": [
        {
          "output_type": "execute_result",
          "data": {
            "text/plain": [
              "RandomForestClassifier(bootstrap=True, ccp_alpha=0.0, class_weight=None,\n",
              "                       criterion='gini', max_depth=None, max_features='auto',\n",
              "                       max_leaf_nodes=None, max_samples=None,\n",
              "                       min_impurity_decrease=0.0, min_impurity_split=None,\n",
              "                       min_samples_leaf=1, min_samples_split=2,\n",
              "                       min_weight_fraction_leaf=0.0, n_estimators=100,\n",
              "                       n_jobs=None, oob_score=False, random_state=None,\n",
              "                       verbose=0, warm_start=False)"
            ]
          },
          "metadata": {
            "tags": []
          },
          "execution_count": 132
        }
      ]
    },
    {
      "cell_type": "code",
      "metadata": {
        "id": "ziaU8EjV6G0Y",
        "colab_type": "code",
        "colab": {}
      },
      "source": [
        "predict2=model2.predict(X_valid)"
      ],
      "execution_count": null,
      "outputs": []
    },
    {
      "cell_type": "code",
      "metadata": {
        "id": "mC-FJc0t7xEq",
        "colab_type": "code",
        "colab": {
          "base_uri": "https://localhost:8080/",
          "height": 34
        },
        "outputId": "d6c942b2-68ee-488d-f49c-f709e774750e"
      },
      "source": [
        "score['RF']=accuracy_score(y_valid,predict2)\n",
        "print(accuracy_score(y_valid,predict2))"
      ],
      "execution_count": null,
      "outputs": [
        {
          "output_type": "stream",
          "text": [
            "0.7633748465181547\n"
          ],
          "name": "stdout"
        }
      ]
    },
    {
      "cell_type": "markdown",
      "metadata": {
        "id": "hVZK9SMQmroX",
        "colab_type": "text"
      },
      "source": [
        "#### Support Vector Machine"
      ]
    },
    {
      "cell_type": "code",
      "metadata": {
        "id": "31rbRY387HIU",
        "colab_type": "code",
        "colab": {}
      },
      "source": [
        "from sklearn.svm import SVC"
      ],
      "execution_count": null,
      "outputs": []
    },
    {
      "cell_type": "code",
      "metadata": {
        "id": "sAe46vPLqFp3",
        "colab_type": "code",
        "colab": {}
      },
      "source": [
        "model3=SVC().fit(X_train,y_train)"
      ],
      "execution_count": null,
      "outputs": []
    },
    {
      "cell_type": "code",
      "metadata": {
        "id": "MDT27NFv7Q4i",
        "colab_type": "code",
        "colab": {}
      },
      "source": [
        "predict3=model3.predict(X_valid)"
      ],
      "execution_count": null,
      "outputs": []
    },
    {
      "cell_type": "code",
      "metadata": {
        "id": "pEahlUb_9xJw",
        "colab_type": "code",
        "colab": {
          "base_uri": "https://localhost:8080/",
          "height": 34
        },
        "outputId": "00518a36-cf24-49d8-f087-169ec43e7b6b"
      },
      "source": [
        "score['SVC']=accuracy_score(y_valid,predict3)\n",
        "print(accuracy_score(y_valid,predict3))"
      ],
      "execution_count": null,
      "outputs": [
        {
          "output_type": "stream",
          "text": [
            "0.8045956849675495\n"
          ],
          "name": "stdout"
        }
      ]
    },
    {
      "cell_type": "code",
      "metadata": {
        "id": "mvBQiTa9JQz-",
        "colab_type": "code",
        "colab": {}
      },
      "source": [
        "from sklearn.svm import LinearSVC"
      ],
      "execution_count": null,
      "outputs": []
    },
    {
      "cell_type": "code",
      "metadata": {
        "id": "93DMQeUJJ8Nh",
        "colab_type": "code",
        "colab": {
          "base_uri": "https://localhost:8080/",
          "height": 85
        },
        "outputId": "47510e6f-d881-4da9-a9e2-9297b1985797"
      },
      "source": [
        "model4=LinearSVC()\n",
        "model4.fit(X_train,y_train)"
      ],
      "execution_count": null,
      "outputs": [
        {
          "output_type": "execute_result",
          "data": {
            "text/plain": [
              "LinearSVC(C=1.0, class_weight=None, dual=True, fit_intercept=True,\n",
              "          intercept_scaling=1, loss='squared_hinge', max_iter=1000,\n",
              "          multi_class='ovr', penalty='l2', random_state=None, tol=0.0001,\n",
              "          verbose=0)"
            ]
          },
          "metadata": {
            "tags": []
          },
          "execution_count": 140
        }
      ]
    },
    {
      "cell_type": "code",
      "metadata": {
        "id": "f-953bHpKBgD",
        "colab_type": "code",
        "colab": {}
      },
      "source": [
        "predict4=model4.predict(X_valid)"
      ],
      "execution_count": null,
      "outputs": []
    },
    {
      "cell_type": "code",
      "metadata": {
        "id": "IX4CoDHvKE-_",
        "colab_type": "code",
        "colab": {
          "base_uri": "https://localhost:8080/",
          "height": 34
        },
        "outputId": "0d5bfe83-65bf-44fe-c3ec-df8ee5f56085"
      },
      "source": [
        "score['LSVC']=accuracy_score(y_valid,predict4)\n",
        "\n",
        "print(accuracy_score(y_valid,predict4))"
      ],
      "execution_count": null,
      "outputs": [
        {
          "output_type": "stream",
          "text": [
            "0.7942466233994037\n"
          ],
          "name": "stdout"
        }
      ]
    },
    {
      "cell_type": "markdown",
      "metadata": {
        "id": "eMkvu5Wvm981",
        "colab_type": "text"
      },
      "source": [
        "#### DecisionTree"
      ]
    },
    {
      "cell_type": "code",
      "metadata": {
        "id": "qrbfH0Ir92kW",
        "colab_type": "code",
        "colab": {}
      },
      "source": [
        "from sklearn.tree import DecisionTreeClassifier"
      ],
      "execution_count": null,
      "outputs": []
    },
    {
      "cell_type": "code",
      "metadata": {
        "id": "bh7uoVpx-xYs",
        "colab_type": "code",
        "colab": {
          "base_uri": "https://localhost:8080/",
          "height": 119
        },
        "outputId": "839ae0b6-939d-43b2-dd08-f2105fe2bd35"
      },
      "source": [
        "model5=DecisionTreeClassifier()\n",
        "model5.fit(X_train,y_train)"
      ],
      "execution_count": null,
      "outputs": [
        {
          "output_type": "execute_result",
          "data": {
            "text/plain": [
              "DecisionTreeClassifier(ccp_alpha=0.0, class_weight=None, criterion='gini',\n",
              "                       max_depth=None, max_features=None, max_leaf_nodes=None,\n",
              "                       min_impurity_decrease=0.0, min_impurity_split=None,\n",
              "                       min_samples_leaf=1, min_samples_split=2,\n",
              "                       min_weight_fraction_leaf=0.0, presort='deprecated',\n",
              "                       random_state=None, splitter='best')"
            ]
          },
          "metadata": {
            "tags": []
          },
          "execution_count": 145
        }
      ]
    },
    {
      "cell_type": "code",
      "metadata": {
        "id": "--d3zBpW-1GH",
        "colab_type": "code",
        "colab": {}
      },
      "source": [
        "predict5=model5.predict(X_valid)"
      ],
      "execution_count": null,
      "outputs": []
    },
    {
      "cell_type": "code",
      "metadata": {
        "id": "7fcGx1wn-4Rd",
        "colab_type": "code",
        "colab": {
          "base_uri": "https://localhost:8080/",
          "height": 34
        },
        "outputId": "1fae8905-a0d2-427a-a6ec-09ce340f5097"
      },
      "source": [
        "score['DT']=accuracy_score(y_valid,predict5)\n",
        "print(accuracy_score(y_valid,predict5))"
      ],
      "execution_count": null,
      "outputs": [
        {
          "output_type": "stream",
          "text": [
            "0.7265392036484827\n"
          ],
          "name": "stdout"
        }
      ]
    },
    {
      "cell_type": "markdown",
      "metadata": {
        "id": "MjizWhzKnHpF",
        "colab_type": "text"
      },
      "source": [
        "#### K-Nearest neighbors"
      ]
    },
    {
      "cell_type": "code",
      "metadata": {
        "id": "-HuC3Ciz-8MZ",
        "colab_type": "code",
        "colab": {}
      },
      "source": [
        "from sklearn.neighbors import KNeighborsClassifier"
      ],
      "execution_count": null,
      "outputs": []
    },
    {
      "cell_type": "code",
      "metadata": {
        "id": "vYYbQSEE_Cgo",
        "colab_type": "code",
        "colab": {
          "base_uri": "https://localhost:8080/",
          "height": 68
        },
        "outputId": "9d346ee9-4c44-46c7-a878-c0f04fa1bd51"
      },
      "source": [
        "model6=KNeighborsClassifier()\n",
        "model6.fit(X_train,y_train)"
      ],
      "execution_count": null,
      "outputs": [
        {
          "output_type": "execute_result",
          "data": {
            "text/plain": [
              "KNeighborsClassifier(algorithm='auto', leaf_size=30, metric='minkowski',\n",
              "                     metric_params=None, n_jobs=None, n_neighbors=5, p=2,\n",
              "                     weights='uniform')"
            ]
          },
          "metadata": {
            "tags": []
          },
          "execution_count": 149
        }
      ]
    },
    {
      "cell_type": "code",
      "metadata": {
        "id": "wB8KkORD_Gqe",
        "colab_type": "code",
        "colab": {}
      },
      "source": [
        "predict6=model6.predict(X_valid)"
      ],
      "execution_count": null,
      "outputs": []
    },
    {
      "cell_type": "code",
      "metadata": {
        "id": "1Hi18xBv_I81",
        "colab_type": "code",
        "colab": {
          "base_uri": "https://localhost:8080/",
          "height": 34
        },
        "outputId": "d137b97c-899a-471c-c970-c97cd5066fe4"
      },
      "source": [
        "score['KNN']=accuracy_score(y_valid,predict6)\n",
        "print(accuracy_score(y_valid,predict6))"
      ],
      "execution_count": null,
      "outputs": [
        {
          "output_type": "stream",
          "text": [
            "0.6088405542887213\n"
          ],
          "name": "stdout"
        }
      ]
    },
    {
      "cell_type": "markdown",
      "metadata": {
        "id": "FNCwdFH4naBZ",
        "colab_type": "text"
      },
      "source": [
        "#### Naive Bayes"
      ]
    },
    {
      "cell_type": "code",
      "metadata": {
        "id": "m5ws8rGo_Mg1",
        "colab_type": "code",
        "colab": {}
      },
      "source": [
        "from sklearn.naive_bayes import BernoulliNB"
      ],
      "execution_count": null,
      "outputs": []
    },
    {
      "cell_type": "code",
      "metadata": {
        "id": "xCLnVQX6_QPN",
        "colab_type": "code",
        "colab": {
          "base_uri": "https://localhost:8080/",
          "height": 34
        },
        "outputId": "8c2e9479-905d-477f-d198-838f78d11f67"
      },
      "source": [
        "model7=BernoulliNB()\n",
        "model7.fit(X_train,y_train)"
      ],
      "execution_count": null,
      "outputs": [
        {
          "output_type": "execute_result",
          "data": {
            "text/plain": [
              "BernoulliNB(alpha=1.0, binarize=0.0, class_prior=None, fit_prior=True)"
            ]
          },
          "metadata": {
            "tags": []
          },
          "execution_count": 157
        }
      ]
    },
    {
      "cell_type": "code",
      "metadata": {
        "id": "v0UGULhq_UDI",
        "colab_type": "code",
        "colab": {}
      },
      "source": [
        "predict7=model7.predict(X_valid)"
      ],
      "execution_count": null,
      "outputs": []
    },
    {
      "cell_type": "code",
      "metadata": {
        "id": "f150yRkR_XXx",
        "colab_type": "code",
        "colab": {
          "base_uri": "https://localhost:8080/",
          "height": 34
        },
        "outputId": "b366b5a6-0e47-40d9-d23d-37be49544fbd"
      },
      "source": [
        "score['BNB']=accuracy_score(y_valid,predict7)\n",
        "print(accuracy_score(y_valid,predict7))"
      ],
      "execution_count": null,
      "outputs": [
        {
          "output_type": "stream",
          "text": [
            "0.803999532218454\n"
          ],
          "name": "stdout"
        }
      ]
    },
    {
      "cell_type": "code",
      "metadata": {
        "id": "6bCjy1CMKdbF",
        "colab_type": "code",
        "colab": {}
      },
      "source": [
        "from sklearn.naive_bayes import MultinomialNB"
      ],
      "execution_count": null,
      "outputs": []
    },
    {
      "cell_type": "code",
      "metadata": {
        "id": "RshPCa90KmKK",
        "colab_type": "code",
        "colab": {
          "base_uri": "https://localhost:8080/",
          "height": 34
        },
        "outputId": "46e2f0ee-6176-4287-d91d-597034f90ef0"
      },
      "source": [
        "model8=MultinomialNB()\n",
        "model8.fit(X_train,y_train)"
      ],
      "execution_count": null,
      "outputs": [
        {
          "output_type": "execute_result",
          "data": {
            "text/plain": [
              "MultinomialNB(alpha=1.0, class_prior=None, fit_prior=True)"
            ]
          },
          "metadata": {
            "tags": []
          },
          "execution_count": 157
        }
      ]
    },
    {
      "cell_type": "code",
      "metadata": {
        "id": "TQm6yIkUKrTD",
        "colab_type": "code",
        "colab": {}
      },
      "source": [
        "predict8=model8.predict(X_valid)"
      ],
      "execution_count": null,
      "outputs": []
    },
    {
      "cell_type": "code",
      "metadata": {
        "id": "ZQST0D2QKt7g",
        "colab_type": "code",
        "colab": {
          "base_uri": "https://localhost:8080/",
          "height": 34
        },
        "outputId": "5498749a-927f-4a9b-b66a-d634f943c3a9"
      },
      "source": [
        "score['MNB']=accuracy_score(y_valid,predict8)\n",
        "print(accuracy_score(y_valid,predict8))"
      ],
      "execution_count": null,
      "outputs": [
        {
          "output_type": "stream",
          "text": [
            "0.8024907910892826\n"
          ],
          "name": "stdout"
        }
      ]
    },
    {
      "cell_type": "markdown",
      "metadata": {
        "id": "MyaNyNcpnmMn",
        "colab_type": "text"
      },
      "source": [
        "#### Gradient Boosting"
      ]
    },
    {
      "cell_type": "code",
      "metadata": {
        "id": "nlqSlAWeKyc-",
        "colab_type": "code",
        "colab": {}
      },
      "source": [
        "from sklearn.ensemble import GradientBoostingClassifier"
      ],
      "execution_count": null,
      "outputs": []
    },
    {
      "cell_type": "code",
      "metadata": {
        "id": "MxRJjriAK8-4",
        "colab_type": "code",
        "colab": {
          "base_uri": "https://localhost:8080/",
          "height": 187
        },
        "outputId": "682fc477-27d7-48ff-b889-32da6e637d66"
      },
      "source": [
        "model9=GradientBoostingClassifier()\n",
        "model9.fit(X_train,y_train)"
      ],
      "execution_count": null,
      "outputs": [
        {
          "output_type": "execute_result",
          "data": {
            "text/plain": [
              "GradientBoostingClassifier(ccp_alpha=0.0, criterion='friedman_mse', init=None,\n",
              "                           learning_rate=0.1, loss='deviance', max_depth=3,\n",
              "                           max_features=None, max_leaf_nodes=None,\n",
              "                           min_impurity_decrease=0.0, min_impurity_split=None,\n",
              "                           min_samples_leaf=1, min_samples_split=2,\n",
              "                           min_weight_fraction_leaf=0.0, n_estimators=100,\n",
              "                           n_iter_no_change=None, presort='deprecated',\n",
              "                           random_state=None, subsample=1.0, tol=0.0001,\n",
              "                           validation_fraction=0.1, verbose=0,\n",
              "                           warm_start=False)"
            ]
          },
          "metadata": {
            "tags": []
          },
          "execution_count": 161
        }
      ]
    },
    {
      "cell_type": "code",
      "metadata": {
        "id": "iil1PZ3iLA5L",
        "colab_type": "code",
        "colab": {}
      },
      "source": [
        "predict9=model9.predict(X_valid)"
      ],
      "execution_count": null,
      "outputs": []
    },
    {
      "cell_type": "code",
      "metadata": {
        "id": "VUYw5fq3LDG7",
        "colab_type": "code",
        "colab": {
          "base_uri": "https://localhost:8080/",
          "height": 34
        },
        "outputId": "2afa1934-9153-413f-e82d-95ab6c9fe769"
      },
      "source": [
        "score['GB']=accuracy_score(y_valid,predict9)\n",
        "print(accuracy_score(y_valid,predict9))"
      ],
      "execution_count": null,
      "outputs": [
        {
          "output_type": "stream",
          "text": [
            "0.6723381862831083\n"
          ],
          "name": "stdout"
        }
      ]
    },
    {
      "cell_type": "markdown",
      "metadata": {
        "id": "wI0jsMLGnwF1",
        "colab_type": "text"
      },
      "source": [
        "#### XGBOOST"
      ]
    },
    {
      "cell_type": "code",
      "metadata": {
        "id": "UaTVSe4zLGJb",
        "colab_type": "code",
        "colab": {}
      },
      "source": [
        "from xgboost import XGBClassifier"
      ],
      "execution_count": null,
      "outputs": []
    },
    {
      "cell_type": "code",
      "metadata": {
        "id": "IbzmJ_DYO5Ng",
        "colab_type": "code",
        "colab": {
          "base_uri": "https://localhost:8080/",
          "height": 136
        },
        "outputId": "81336532-bd7a-4853-8487-8c03157a79be"
      },
      "source": [
        "model10=XGBClassifier()\n",
        "model10.fit(X_train,y_train)"
      ],
      "execution_count": null,
      "outputs": [
        {
          "output_type": "execute_result",
          "data": {
            "text/plain": [
              "XGBClassifier(base_score=0.5, booster='gbtree', colsample_bylevel=1,\n",
              "              colsample_bynode=1, colsample_bytree=1, gamma=0,\n",
              "              learning_rate=0.1, max_delta_step=0, max_depth=3,\n",
              "              min_child_weight=1, missing=None, n_estimators=100, n_jobs=1,\n",
              "              nthread=None, objective='binary:logistic', random_state=0,\n",
              "              reg_alpha=0, reg_lambda=1, scale_pos_weight=1, seed=None,\n",
              "              silent=None, subsample=1, verbosity=1)"
            ]
          },
          "metadata": {
            "tags": []
          },
          "execution_count": 169
        }
      ]
    },
    {
      "cell_type": "code",
      "metadata": {
        "id": "LXjkP-NnPAu-",
        "colab_type": "code",
        "colab": {}
      },
      "source": [
        "predict10=model10.predict(X_valid)"
      ],
      "execution_count": null,
      "outputs": []
    },
    {
      "cell_type": "code",
      "metadata": {
        "id": "6wnr80hJPGAF",
        "colab_type": "code",
        "colab": {
          "base_uri": "https://localhost:8080/",
          "height": 34
        },
        "outputId": "de3ca67c-b7b0-47a0-8b61-9aab872353fd"
      },
      "source": [
        "score['XGB']=accuracy_score(y_valid,predict10)\n",
        "print(accuracy_score(y_valid,predict10))"
      ],
      "execution_count": null,
      "outputs": [
        {
          "output_type": "stream",
          "text": [
            "0.6684792141729521\n"
          ],
          "name": "stdout"
        }
      ]
    },
    {
      "cell_type": "markdown",
      "metadata": {
        "id": "M4Df_4BWuAT3",
        "colab_type": "text"
      },
      "source": [
        "####Lựa chọn model"
      ]
    },
    {
      "cell_type": "code",
      "metadata": {
        "id": "2I_xjCB3uK1s",
        "colab_type": "code",
        "colab": {
          "base_uri": "https://localhost:8080/",
          "height": 359
        },
        "outputId": "d6b02652-0beb-4d77-af11-a6ef47964f08"
      },
      "source": [
        "S=pd.DataFrame()\n",
        "S['model']=score.keys()\n",
        "S['score']=score.values()\n",
        "S"
      ],
      "execution_count": null,
      "outputs": [
        {
          "output_type": "execute_result",
          "data": {
            "text/html": [
              "<div>\n",
              "<style scoped>\n",
              "    .dataframe tbody tr th:only-of-type {\n",
              "        vertical-align: middle;\n",
              "    }\n",
              "\n",
              "    .dataframe tbody tr th {\n",
              "        vertical-align: top;\n",
              "    }\n",
              "\n",
              "    .dataframe thead th {\n",
              "        text-align: right;\n",
              "    }\n",
              "</style>\n",
              "<table border=\"1\" class=\"dataframe\">\n",
              "  <thead>\n",
              "    <tr style=\"text-align: right;\">\n",
              "      <th></th>\n",
              "      <th>model</th>\n",
              "      <th>score</th>\n",
              "    </tr>\n",
              "  </thead>\n",
              "  <tbody>\n",
              "    <tr>\n",
              "      <th>0</th>\n",
              "      <td>LR</td>\n",
              "      <td>0.797229</td>\n",
              "    </tr>\n",
              "    <tr>\n",
              "      <th>1</th>\n",
              "      <td>RF</td>\n",
              "      <td>0.763375</td>\n",
              "    </tr>\n",
              "    <tr>\n",
              "      <th>2</th>\n",
              "      <td>SVC</td>\n",
              "      <td>0.804596</td>\n",
              "    </tr>\n",
              "    <tr>\n",
              "      <th>3</th>\n",
              "      <td>LSVC</td>\n",
              "      <td>0.794247</td>\n",
              "    </tr>\n",
              "    <tr>\n",
              "      <th>4</th>\n",
              "      <td>DT</td>\n",
              "      <td>0.726539</td>\n",
              "    </tr>\n",
              "    <tr>\n",
              "      <th>5</th>\n",
              "      <td>KNN</td>\n",
              "      <td>0.608841</td>\n",
              "    </tr>\n",
              "    <tr>\n",
              "      <th>6</th>\n",
              "      <td>BNB</td>\n",
              "      <td>0.805648</td>\n",
              "    </tr>\n",
              "    <tr>\n",
              "      <th>7</th>\n",
              "      <td>MNB</td>\n",
              "      <td>0.802491</td>\n",
              "    </tr>\n",
              "    <tr>\n",
              "      <th>8</th>\n",
              "      <td>GB</td>\n",
              "      <td>0.672338</td>\n",
              "    </tr>\n",
              "    <tr>\n",
              "      <th>9</th>\n",
              "      <td>XGB</td>\n",
              "      <td>0.668479</td>\n",
              "    </tr>\n",
              "  </tbody>\n",
              "</table>\n",
              "</div>"
            ],
            "text/plain": [
              "  model     score\n",
              "0    LR  0.797229\n",
              "1    RF  0.763375\n",
              "2   SVC  0.804596\n",
              "3  LSVC  0.794247\n",
              "4    DT  0.726539\n",
              "5   KNN  0.608841\n",
              "6   BNB  0.805648\n",
              "7   MNB  0.802491\n",
              "8    GB  0.672338\n",
              "9   XGB  0.668479"
            ]
          },
          "metadata": {
            "tags": []
          },
          "execution_count": 187
        }
      ]
    },
    {
      "cell_type": "markdown",
      "metadata": {
        "id": "u46D4F4dvujd",
        "colab_type": "text"
      },
      "source": [
        "Thông qua bảng S bên trên t có thể thấy accuracy_score của BernoulliNB (BNB) là cao nhất nên ta chọn model chính thức là BernoulliNB"
      ]
    },
    {
      "cell_type": "code",
      "metadata": {
        "id": "R4Mje59gq52T",
        "colab_type": "code",
        "colab": {}
      },
      "source": [
        "model=model7"
      ],
      "execution_count": null,
      "outputs": []
    },
    {
      "cell_type": "markdown",
      "metadata": {
        "id": "j2lnPEqBrQ9M",
        "colab_type": "text"
      },
      "source": [
        "Lưu model "
      ]
    },
    {
      "cell_type": "markdown",
      "metadata": {
        "id": "dn6YmnQbruV4",
        "colab_type": "text"
      },
      "source": [
        "Thư viện pickle được sử dụng để lưu model"
      ]
    },
    {
      "cell_type": "code",
      "metadata": {
        "id": "tNFeNrRDrNsU",
        "colab_type": "code",
        "colab": {}
      },
      "source": [
        "import pickle"
      ],
      "execution_count": null,
      "outputs": []
    },
    {
      "cell_type": "code",
      "metadata": {
        "id": "DJTZhlz_rzg0",
        "colab_type": "code",
        "colab": {}
      },
      "source": [
        "pickle.dump(model, open('/content/drive/My Drive/Colab Notebooks/ML/sarcasm/model.sav', 'wb'))"
      ],
      "execution_count": null,
      "outputs": []
    },
    {
      "cell_type": "markdown",
      "metadata": {
        "id": "ubq_SHi5q1ko",
        "colab_type": "text"
      },
      "source": [
        "## Ứng dụng có khả năng dự đoán cho một headline mới"
      ]
    },
    {
      "cell_type": "code",
      "metadata": {
        "id": "BBK2F4mXskZl",
        "colab_type": "code",
        "colab": {}
      },
      "source": [
        "loaded_model = pickle.load(open('/content/drive/My Drive/Colab Notebooks/ML/sarcasm/model.sav', 'rb'))"
      ],
      "execution_count": null,
      "outputs": []
    },
    {
      "cell_type": "code",
      "metadata": {
        "id": "3HSTw1MCsOxM",
        "colab_type": "code",
        "colab": {
          "base_uri": "https://localhost:8080/",
          "height": 51
        },
        "outputId": "d2c992bc-707b-4bee-9a0f-c904cf4c3b84"
      },
      "source": [
        "headline=input('Enter the headline to predict: ')\n",
        "headline=xuli_headline(headline)\n",
        "headline=tf.transform([headline])\n",
        "print('Sarcasm' if loaded_model.predict(headline)==1 else 'Not sarcasm')"
      ],
      "execution_count": null,
      "outputs": [
        {
          "output_type": "stream",
          "text": [
            "Enter the headline to predict: Russia Opens Polls For Vote On Extending Putin's Rule Until 2036\n",
            "Not sarcasm\n"
          ],
          "name": "stdout"
        }
      ]
    },
    {
      "cell_type": "markdown",
      "metadata": {
        "id": "ChLUm2cHyztu",
        "colab_type": "text"
      },
      "source": [
        "##Thực hiện dự đoán trên 2000 headlines được thu thập"
      ]
    },
    {
      "cell_type": "code",
      "metadata": {
        "id": "3jW5XFsLtHV1",
        "colab_type": "code",
        "colab": {
          "base_uri": "https://localhost:8080/",
          "height": 419
        },
        "outputId": "d0ce1fc7-d7b7-4c80-955f-49f812ba266b"
      },
      "source": [
        "test"
      ],
      "execution_count": null,
      "outputs": [
        {
          "output_type": "execute_result",
          "data": {
            "text/html": [
              "<div>\n",
              "<style scoped>\n",
              "    .dataframe tbody tr th:only-of-type {\n",
              "        vertical-align: middle;\n",
              "    }\n",
              "\n",
              "    .dataframe tbody tr th {\n",
              "        vertical-align: top;\n",
              "    }\n",
              "\n",
              "    .dataframe thead th {\n",
              "        text-align: right;\n",
              "    }\n",
              "</style>\n",
              "<table border=\"1\" class=\"dataframe\">\n",
              "  <thead>\n",
              "    <tr style=\"text-align: right;\">\n",
              "      <th></th>\n",
              "      <th>Headline</th>\n",
              "      <th>is_sarcastic</th>\n",
              "    </tr>\n",
              "  </thead>\n",
              "  <tbody>\n",
              "    <tr>\n",
              "      <th>0</th>\n",
              "      <td>Fair-Weather Bills Fan Not Even Banned From St...</td>\n",
              "      <td>1</td>\n",
              "    </tr>\n",
              "    <tr>\n",
              "      <th>1</th>\n",
              "      <td>Dad Reports Old Guy Being Honored On Field Alw...</td>\n",
              "      <td>1</td>\n",
              "    </tr>\n",
              "    <tr>\n",
              "      <th>2</th>\n",
              "      <td>Researchers Discover Referees Evolved Stripes ...</td>\n",
              "      <td>1</td>\n",
              "    </tr>\n",
              "    <tr>\n",
              "      <th>3</th>\n",
              "      <td>A.J. Hinch Warns Astros If They Lose World Ser...</td>\n",
              "      <td>1</td>\n",
              "    </tr>\n",
              "    <tr>\n",
              "      <th>4</th>\n",
              "      <td>Dak Prescott Gains 80 Pounds, Moves Back In Wi...</td>\n",
              "      <td>1</td>\n",
              "    </tr>\n",
              "    <tr>\n",
              "      <th>...</th>\n",
              "      <td>...</td>\n",
              "      <td>...</td>\n",
              "    </tr>\n",
              "    <tr>\n",
              "      <th>1154</th>\n",
              "      <td>Store: Learn The Basics Of Project Management ...</td>\n",
              "      <td>0</td>\n",
              "    </tr>\n",
              "    <tr>\n",
              "      <th>1155</th>\n",
              "      <td>Dont Get Too Attached To Free Office Snacks</td>\n",
              "      <td>0</td>\n",
              "    </tr>\n",
              "    <tr>\n",
              "      <th>1156</th>\n",
              "      <td>Store: Improve Your Budding Side Hustle With A...</td>\n",
              "      <td>0</td>\n",
              "    </tr>\n",
              "    <tr>\n",
              "      <th>1157</th>\n",
              "      <td>Joe Biden Stole Credit From Elizabeth Warren, ...</td>\n",
              "      <td>0</td>\n",
              "    </tr>\n",
              "    <tr>\n",
              "      <th>1158</th>\n",
              "      <td>There Are 2 Types Of Office Bathroom People. B...</td>\n",
              "      <td>0</td>\n",
              "    </tr>\n",
              "  </tbody>\n",
              "</table>\n",
              "<p>2163 rows × 2 columns</p>\n",
              "</div>"
            ],
            "text/plain": [
              "                                               Headline  is_sarcastic\n",
              "0     Fair-Weather Bills Fan Not Even Banned From St...             1\n",
              "1     Dad Reports Old Guy Being Honored On Field Alw...             1\n",
              "2     Researchers Discover Referees Evolved Stripes ...             1\n",
              "3     A.J. Hinch Warns Astros If They Lose World Ser...             1\n",
              "4     Dak Prescott Gains 80 Pounds, Moves Back In Wi...             1\n",
              "...                                                 ...           ...\n",
              "1154  Store: Learn The Basics Of Project Management ...             0\n",
              "1155       Dont Get Too Attached To Free Office Snacks             0\n",
              "1156  Store: Improve Your Budding Side Hustle With A...             0\n",
              "1157  Joe Biden Stole Credit From Elizabeth Warren, ...             0\n",
              "1158  There Are 2 Types Of Office Bathroom People. B...             0\n",
              "\n",
              "[2163 rows x 2 columns]"
            ]
          },
          "metadata": {
            "tags": []
          },
          "execution_count": 166
        }
      ]
    },
    {
      "cell_type": "markdown",
      "metadata": {
        "id": "7bOx9f95zGEd",
        "colab_type": "text"
      },
      "source": [
        "###Dự đoán với bộ test 1000 câu sarcasm và 1000 câu không sarcasm"
      ]
    },
    {
      "cell_type": "markdown",
      "metadata": {
        "id": "qJZ-VCVw81J1",
        "colab_type": "text"
      },
      "source": [
        "Chọn ra bộ data với 1000 headline mỉa mai và 1000 headline chính thống."
      ]
    },
    {
      "cell_type": "code",
      "metadata": {
        "id": "9Zv4Fi6Ey76l",
        "colab_type": "code",
        "colab": {
          "base_uri": "https://localhost:8080/",
          "height": 419
        },
        "outputId": "4e334b25-c77a-4968-f508-017983f32b17"
      },
      "source": [
        "test1=pd.concat([test[test['is_sarcastic']==0][:1000],test[test['is_sarcastic']==1][:1000]])\n",
        "test1"
      ],
      "execution_count": null,
      "outputs": [
        {
          "output_type": "execute_result",
          "data": {
            "text/html": [
              "<div>\n",
              "<style scoped>\n",
              "    .dataframe tbody tr th:only-of-type {\n",
              "        vertical-align: middle;\n",
              "    }\n",
              "\n",
              "    .dataframe tbody tr th {\n",
              "        vertical-align: top;\n",
              "    }\n",
              "\n",
              "    .dataframe thead th {\n",
              "        text-align: right;\n",
              "    }\n",
              "</style>\n",
              "<table border=\"1\" class=\"dataframe\">\n",
              "  <thead>\n",
              "    <tr style=\"text-align: right;\">\n",
              "      <th></th>\n",
              "      <th>Headline</th>\n",
              "      <th>is_sarcastic</th>\n",
              "    </tr>\n",
              "  </thead>\n",
              "  <tbody>\n",
              "    <tr>\n",
              "      <th>0</th>\n",
              "      <td>Trump Compared To Segregationist George Wallac...</td>\n",
              "      <td>0</td>\n",
              "    </tr>\n",
              "    <tr>\n",
              "      <th>1</th>\n",
              "      <td>Pressed Repeatedly To Say âBlack Lives Matte...</td>\n",
              "      <td>0</td>\n",
              "    </tr>\n",
              "    <tr>\n",
              "      <th>2</th>\n",
              "      <td>Anthony Fauci Warned White House That Tulsa Ra...</td>\n",
              "      <td>0</td>\n",
              "    </tr>\n",
              "    <tr>\n",
              "      <th>3</th>\n",
              "      <td>Twitter Users Give Trump's Tulsa Rally Another...</td>\n",
              "      <td>0</td>\n",
              "    </tr>\n",
              "    <tr>\n",
              "      <th>4</th>\n",
              "      <td>Jon Stewart Says He Should've Axed Steve Carel...</td>\n",
              "      <td>0</td>\n",
              "    </tr>\n",
              "    <tr>\n",
              "      <th>...</th>\n",
              "      <td>...</td>\n",
              "      <td>...</td>\n",
              "    </tr>\n",
              "    <tr>\n",
              "      <th>995</th>\n",
              "      <td>A True Miracle: This Woman Just Gave Birth To ...</td>\n",
              "      <td>1</td>\n",
              "    </tr>\n",
              "    <tr>\n",
              "      <th>996</th>\n",
              "      <td>Good News, Final Fantasy Fans: Looks Like Th...</td>\n",
              "      <td>1</td>\n",
              "    </tr>\n",
              "    <tr>\n",
              "      <th>997</th>\n",
              "      <td>Terrifying Implications: Leaked Nintendo Sourc...</td>\n",
              "      <td>1</td>\n",
              "    </tr>\n",
              "    <tr>\n",
              "      <th>998</th>\n",
              "      <td>The 11 Best Games To Play For The Nintendo Switch</td>\n",
              "      <td>1</td>\n",
              "    </tr>\n",
              "    <tr>\n",
              "      <th>999</th>\n",
              "      <td>Heartbreaking Photos Of Polar Bears Who Will D...</td>\n",
              "      <td>1</td>\n",
              "    </tr>\n",
              "  </tbody>\n",
              "</table>\n",
              "<p>2000 rows × 2 columns</p>\n",
              "</div>"
            ],
            "text/plain": [
              "                                              Headline  is_sarcastic\n",
              "0    Trump Compared To Segregationist George Wallac...             0\n",
              "1    Pressed Repeatedly To Say âBlack Lives Matte...             0\n",
              "2    Anthony Fauci Warned White House That Tulsa Ra...             0\n",
              "3    Twitter Users Give Trump's Tulsa Rally Another...             0\n",
              "4    Jon Stewart Says He Should've Axed Steve Carel...             0\n",
              "..                                                 ...           ...\n",
              "995  A True Miracle: This Woman Just Gave Birth To ...             1\n",
              "996  Good News, Final Fantasy Fans: Looks Like Th...             1\n",
              "997  Terrifying Implications: Leaked Nintendo Sourc...             1\n",
              "998  The 11 Best Games To Play For The Nintendo Switch             1\n",
              "999  Heartbreaking Photos Of Polar Bears Who Will D...             1\n",
              "\n",
              "[2000 rows x 2 columns]"
            ]
          },
          "metadata": {
            "tags": []
          },
          "execution_count": 167
        }
      ]
    },
    {
      "cell_type": "markdown",
      "metadata": {
        "id": "2hURVbqL89s4",
        "colab_type": "text"
      },
      "source": [
        "Xử lí các headline tương tự như xử lí các headline đã train trước đó."
      ]
    },
    {
      "cell_type": "code",
      "metadata": {
        "id": "TY3IRsfCzgdt",
        "colab_type": "code",
        "colab": {}
      },
      "source": [
        "feature=[]\n",
        "for headline_ in test1['Headline']:\n",
        "  feature.append(xuli_headline(headline_))"
      ],
      "execution_count": null,
      "outputs": []
    },
    {
      "cell_type": "markdown",
      "metadata": {
        "id": "CqJf-cFm9FGx",
        "colab_type": "text"
      },
      "source": [
        "Chuyển các headline về thành vector đặc trưng thông qua Tfidf. Và sử dụng lại túi từ vựng đã xây dựng trên tập train. Đối với hàm transform thì những từ có trong tập test mà không có trong tập train sẽ được bỏ qua."
      ]
    },
    {
      "cell_type": "code",
      "metadata": {
        "id": "XYOesbnn5vXh",
        "colab_type": "code",
        "colab": {
          "base_uri": "https://localhost:8080/",
          "height": 51
        },
        "outputId": "a92f753b-8c35-4351-a51e-ea54e8fe9161"
      },
      "source": [
        "feature=tf.transform(feature)\n",
        "feature"
      ],
      "execution_count": null,
      "outputs": [
        {
          "output_type": "execute_result",
          "data": {
            "text/plain": [
              "<2000x29328 sparse matrix of type '<class 'numpy.float64'>'\n",
              "\twith 14503 stored elements in Compressed Sparse Row format>"
            ]
          },
          "metadata": {
            "tags": []
          },
          "execution_count": 169
        }
      ]
    },
    {
      "cell_type": "code",
      "metadata": {
        "id": "adHw1HGd50pb",
        "colab_type": "code",
        "colab": {}
      },
      "source": [
        "y_test=test1['is_sarcastic']"
      ],
      "execution_count": null,
      "outputs": []
    },
    {
      "cell_type": "markdown",
      "metadata": {
        "id": "I5e-3yzD9VMN",
        "colab_type": "text"
      },
      "source": [
        "Tiến hành dự đoán trên model đã lưu trước đó."
      ]
    },
    {
      "cell_type": "code",
      "metadata": {
        "id": "M1iJR8vT1BJM",
        "colab_type": "code",
        "colab": {}
      },
      "source": [
        "predict=loaded_model.predict(feature)"
      ],
      "execution_count": null,
      "outputs": []
    },
    {
      "cell_type": "code",
      "metadata": {
        "id": "6ulC4Bt66AuF",
        "colab_type": "code",
        "colab": {
          "base_uri": "https://localhost:8080/",
          "height": 34
        },
        "outputId": "29e7af54-cd5b-40f7-8863-02f2defe223b"
      },
      "source": [
        "print(accuracy_score(y_test,predict))"
      ],
      "execution_count": null,
      "outputs": [
        {
          "output_type": "stream",
          "text": [
            "0.701\n"
          ],
          "name": "stdout"
        }
      ]
    },
    {
      "cell_type": "code",
      "metadata": {
        "id": "apsoAYls8ak6",
        "colab_type": "code",
        "colab": {
          "base_uri": "https://localhost:8080/",
          "height": 34
        },
        "outputId": "70d61ee8-d3eb-4544-dec4-b7028c5b71b5"
      },
      "source": [
        "print(score['BNB'])"
      ],
      "execution_count": null,
      "outputs": [
        {
          "output_type": "stream",
          "text": [
            "0.803999532218454\n"
          ],
          "name": "stdout"
        }
      ]
    },
    {
      "cell_type": "markdown",
      "metadata": {
        "id": "4V7WNzRk7O5D",
        "colab_type": "text"
      },
      "source": [
        "accuray_score ở bộ test với 2000 headlines khá thấp (70,1%) thấp hơn so với bộ data được train và thử nghiệm trước đó trên bộ dataset của kaggle. Trước đó đã thu được accuray_score lên đến 80%"
      ]
    },
    {
      "cell_type": "code",
      "metadata": {
        "id": "TiXTvUwx6Fe6",
        "colab_type": "code",
        "colab": {
          "base_uri": "https://localhost:8080/",
          "height": 282
        },
        "outputId": "04c7f062-793f-49ec-f4d8-dd49e1122afc"
      },
      "source": [
        "sns.heatmap(confusion_matrix(y_test,predict),annot=True)"
      ],
      "execution_count": null,
      "outputs": [
        {
          "output_type": "execute_result",
          "data": {
            "text/plain": [
              "<matplotlib.axes._subplots.AxesSubplot at 0x7fcc6ccff240>"
            ]
          },
          "metadata": {
            "tags": []
          },
          "execution_count": 174
        },
        {
          "output_type": "display_data",
          "data": {
            "image/png": "[encoded data removed]",
            "text/plain": [
              "<Figure size 432x288 with 2 Axes>"
            ]
          },
          "metadata": {
            "tags": [],
            "needs_background": "light"
          }
        }
      ]
    },
    {
      "cell_type": "markdown",
      "metadata": {
        "id": "rEQ1bhty7eN6",
        "colab_type": "text"
      },
      "source": [
        "Với độ chính xác 70,45% thì việc dự đoán còn khá nhiều sai sót. Khá nhiều headline với is_sarcastic=0 được dự đoán đúng (khoảng 860 headlines). Và headline với is_sarcastic=1 dự đoán sai khá nhiều trong khi số lượng dự đoán đúng chỉ vào khoảng 540/1000 headline.\n",
        "\n"
      ]
    },
    {
      "cell_type": "code",
      "metadata": {
        "id": "7vwZVdnWC6xZ",
        "colab_type": "code",
        "colab": {
          "base_uri": "https://localhost:8080/",
          "height": 170
        },
        "outputId": "8e635e2c-1d84-4a87-831d-8e4b40ae7370"
      },
      "source": [
        "print(classification_report(y_test,predict))"
      ],
      "execution_count": null,
      "outputs": [
        {
          "output_type": "stream",
          "text": [
            "              precision    recall  f1-score   support\n",
            "\n",
            "           0       0.65      0.86      0.74      1000\n",
            "           1       0.79      0.54      0.64      1000\n",
            "\n",
            "    accuracy                           0.70      2000\n",
            "   macro avg       0.72      0.70      0.69      2000\n",
            "weighted avg       0.72      0.70      0.69      2000\n",
            "\n"
          ],
          "name": "stdout"
        }
      ]
    },
    {
      "cell_type": "markdown",
      "metadata": {
        "id": "jPA94o0oFFBQ",
        "colab_type": "text"
      },
      "source": [
        "Dòng đầu tiên: 65% các headline được dự đoán là 0 là đúng, 86% các headline có label là 0 được dự đoán đúng và f1-score là độ chính xác của model (f1-score gần bằng 1 thì model càng chính xác) và f1-score được tính bởi công thức \n",
        "\n",
        "f1=2.((precision*recall)/(precision+recall))\n",
        "\n",
        "f1 của bài toán trên là 0.7\n",
        "\n",
        "Đối với những bài toán mà có số lượng dữ liệu test lệch về một bên thì lúc này accuray-score sẽ không còn chính xác và f1-score sẽ đưa ra độ chính xác chính xác hơn."
      ]
    },
    {
      "cell_type": "markdown",
      "metadata": {
        "id": "GnDTV6W99byU",
        "colab_type": "text"
      },
      "source": [
        "### Dự đoán với bộ test 1000 câu sarcasm và 100 câu không sarcasm"
      ]
    },
    {
      "cell_type": "markdown",
      "metadata": {
        "id": "CusrSDGo_Ot4",
        "colab_type": "text"
      },
      "source": [
        "Bước làm tương tự lần 1"
      ]
    },
    {
      "cell_type": "code",
      "metadata": {
        "id": "ri80EW_g6w_D",
        "colab_type": "code",
        "colab": {
          "base_uri": "https://localhost:8080/",
          "height": 419
        },
        "outputId": "f5a2c083-6651-49d0-8924-17917079e858"
      },
      "source": [
        "test2=pd.concat([test[test['is_sarcastic']==0][:1000],test[test['is_sarcastic']==1][:100]])\n",
        "test2"
      ],
      "execution_count": null,
      "outputs": [
        {
          "output_type": "execute_result",
          "data": {
            "text/html": [
              "<div>\n",
              "<style scoped>\n",
              "    .dataframe tbody tr th:only-of-type {\n",
              "        vertical-align: middle;\n",
              "    }\n",
              "\n",
              "    .dataframe tbody tr th {\n",
              "        vertical-align: top;\n",
              "    }\n",
              "\n",
              "    .dataframe thead th {\n",
              "        text-align: right;\n",
              "    }\n",
              "</style>\n",
              "<table border=\"1\" class=\"dataframe\">\n",
              "  <thead>\n",
              "    <tr style=\"text-align: right;\">\n",
              "      <th></th>\n",
              "      <th>Headline</th>\n",
              "      <th>is_sarcastic</th>\n",
              "    </tr>\n",
              "  </thead>\n",
              "  <tbody>\n",
              "    <tr>\n",
              "      <th>0</th>\n",
              "      <td>Trump Compared To Segregationist George Wallac...</td>\n",
              "      <td>0</td>\n",
              "    </tr>\n",
              "    <tr>\n",
              "      <th>1</th>\n",
              "      <td>Pressed Repeatedly To Say âBlack Lives Matte...</td>\n",
              "      <td>0</td>\n",
              "    </tr>\n",
              "    <tr>\n",
              "      <th>2</th>\n",
              "      <td>Anthony Fauci Warned White House That Tulsa Ra...</td>\n",
              "      <td>0</td>\n",
              "    </tr>\n",
              "    <tr>\n",
              "      <th>3</th>\n",
              "      <td>Twitter Users Give Trump's Tulsa Rally Another...</td>\n",
              "      <td>0</td>\n",
              "    </tr>\n",
              "    <tr>\n",
              "      <th>4</th>\n",
              "      <td>Jon Stewart Says He Should've Axed Steve Carel...</td>\n",
              "      <td>0</td>\n",
              "    </tr>\n",
              "    <tr>\n",
              "      <th>...</th>\n",
              "      <td>...</td>\n",
              "      <td>...</td>\n",
              "    </tr>\n",
              "    <tr>\n",
              "      <th>95</th>\n",
              "      <td>Easy-Going Mel Kiper Predicts Teams Will Do Wh...</td>\n",
              "      <td>1</td>\n",
              "    </tr>\n",
              "    <tr>\n",
              "      <th>96</th>\n",
              "      <td>Racine Legion To Select Second Overall In NFL ...</td>\n",
              "      <td>1</td>\n",
              "    </tr>\n",
              "    <tr>\n",
              "      <th>97</th>\n",
              "      <td>Steve Kerr Reminds Warriors To Seem Sad DeMarc...</td>\n",
              "      <td>1</td>\n",
              "    </tr>\n",
              "    <tr>\n",
              "      <th>98</th>\n",
              "      <td>Kid About To Meet Brooklyn Nets Must Not Be Ve...</td>\n",
              "      <td>1</td>\n",
              "    </tr>\n",
              "    <tr>\n",
              "      <th>99</th>\n",
              "      <td>Duke Anthropology Professor Devastated To Lear...</td>\n",
              "      <td>1</td>\n",
              "    </tr>\n",
              "  </tbody>\n",
              "</table>\n",
              "<p>1100 rows × 2 columns</p>\n",
              "</div>"
            ],
            "text/plain": [
              "                                             Headline  is_sarcastic\n",
              "0   Trump Compared To Segregationist George Wallac...             0\n",
              "1   Pressed Repeatedly To Say âBlack Lives Matte...             0\n",
              "2   Anthony Fauci Warned White House That Tulsa Ra...             0\n",
              "3   Twitter Users Give Trump's Tulsa Rally Another...             0\n",
              "4   Jon Stewart Says He Should've Axed Steve Carel...             0\n",
              "..                                                ...           ...\n",
              "95  Easy-Going Mel Kiper Predicts Teams Will Do Wh...             1\n",
              "96  Racine Legion To Select Second Overall In NFL ...             1\n",
              "97  Steve Kerr Reminds Warriors To Seem Sad DeMarc...             1\n",
              "98  Kid About To Meet Brooklyn Nets Must Not Be Ve...             1\n",
              "99  Duke Anthropology Professor Devastated To Lear...             1\n",
              "\n",
              "[1100 rows x 2 columns]"
            ]
          },
          "metadata": {
            "tags": []
          },
          "execution_count": 177
        }
      ]
    },
    {
      "cell_type": "code",
      "metadata": {
        "id": "cazz0l6x9rI3",
        "colab_type": "code",
        "colab": {}
      },
      "source": [
        "feature=[]\n",
        "for headline_ in test2['Headline']:\n",
        "  feature.append(xuli_headline(headline_))"
      ],
      "execution_count": null,
      "outputs": []
    },
    {
      "cell_type": "code",
      "metadata": {
        "id": "bHoPUBCg9uOL",
        "colab_type": "code",
        "colab": {
          "base_uri": "https://localhost:8080/",
          "height": 51
        },
        "outputId": "6e7d6d88-04a4-409e-c926-bfa276f883b4"
      },
      "source": [
        "feature=tf.transform(feature)\n",
        "feature"
      ],
      "execution_count": null,
      "outputs": [
        {
          "output_type": "execute_result",
          "data": {
            "text/plain": [
              "<1100x29328 sparse matrix of type '<class 'numpy.float64'>'\n",
              "\twith 7900 stored elements in Compressed Sparse Row format>"
            ]
          },
          "metadata": {
            "tags": []
          },
          "execution_count": 179
        }
      ]
    },
    {
      "cell_type": "code",
      "metadata": {
        "id": "UqW9DtKr9yYz",
        "colab_type": "code",
        "colab": {}
      },
      "source": [
        "y_test=test2['is_sarcastic']"
      ],
      "execution_count": null,
      "outputs": []
    },
    {
      "cell_type": "code",
      "metadata": {
        "id": "XPuD7Vju93TH",
        "colab_type": "code",
        "colab": {}
      },
      "source": [
        "predict=loaded_model.predict(feature)"
      ],
      "execution_count": null,
      "outputs": []
    },
    {
      "cell_type": "code",
      "metadata": {
        "id": "0dSVsjqG97jy",
        "colab_type": "code",
        "colab": {
          "base_uri": "https://localhost:8080/",
          "height": 34
        },
        "outputId": "34c6addc-6129-4e37-86c9-3fa845b39fe0"
      },
      "source": [
        "print(accuracy_score(y_test,predict))"
      ],
      "execution_count": null,
      "outputs": [
        {
          "output_type": "stream",
          "text": [
            "0.8345454545454546\n"
          ],
          "name": "stdout"
        }
      ]
    },
    {
      "cell_type": "code",
      "metadata": {
        "id": "zYLYMK5--DWl",
        "colab_type": "code",
        "colab": {
          "base_uri": "https://localhost:8080/",
          "height": 282
        },
        "outputId": "7ce9b920-6f78-456a-d064-8cfe1c53b9c9"
      },
      "source": [
        "sns.heatmap(confusion_matrix(y_test,predict),annot=True)"
      ],
      "execution_count": null,
      "outputs": [
        {
          "output_type": "execute_result",
          "data": {
            "text/plain": [
              "<matplotlib.axes._subplots.AxesSubplot at 0x7fcc6d0bdb38>"
            ]
          },
          "metadata": {
            "tags": []
          },
          "execution_count": 184
        },
        {
          "output_type": "display_data",
          "data": {
            "image/png": "[encoded data removed]",
            "text/plain": [
              "<Figure size 432x288 with 2 Axes>"
            ]
          },
          "metadata": {
            "tags": [],
            "needs_background": "light"
          }
        }
      ]
    },
    {
      "cell_type": "markdown",
      "metadata": {
        "id": "V5tpRBKu-RJ-",
        "colab_type": "text"
      },
      "source": [
        "Với độ chính xác khi dự đoán lên đến hơn 83%, trong 1000 headline không mỉa mai thì đã được dự đoán đúng lên đến 860 headline và trong 100 headline mỉa mai thì chỉ dự đoán đúng được 58 headline. Với độ chính xác tăng cao là thông qua test lần 1, chúng ta đã thấy model dự đoán khá tốt đối với những headline không mỉa mai nên đối với bộ dataset test lần 2 này có số lượng câu không mỉa mai nhiều gấp 10 lần số lượng câu mỉa mai nên đã làm cho model có accuracy_score tăng cao."
      ]
    },
    {
      "cell_type": "markdown",
      "metadata": {
        "id": "9WpjxlV1_Hz5",
        "colab_type": "text"
      },
      "source": [
        "### Dự đoán với bộ test 100 câu sarcasm và 1000 câu không sarcasm"
      ]
    },
    {
      "cell_type": "markdown",
      "metadata": {
        "id": "dNGX0Jv7_SZU",
        "colab_type": "text"
      },
      "source": [
        "Bước thực hiện tương tự lần 1"
      ]
    },
    {
      "cell_type": "code",
      "metadata": {
        "id": "g6SplxeH-PPk",
        "colab_type": "code",
        "colab": {
          "base_uri": "https://localhost:8080/",
          "height": 419
        },
        "outputId": "284b0cc3-1439-4d9f-9e1b-2b6f6968a506"
      },
      "source": [
        "test3=pd.concat([test[test['is_sarcastic']==0][:100],test[test['is_sarcastic']==1][:1000]])\n",
        "test3"
      ],
      "execution_count": null,
      "outputs": [
        {
          "output_type": "execute_result",
          "data": {
            "text/html": [
              "<div>\n",
              "<style scoped>\n",
              "    .dataframe tbody tr th:only-of-type {\n",
              "        vertical-align: middle;\n",
              "    }\n",
              "\n",
              "    .dataframe tbody tr th {\n",
              "        vertical-align: top;\n",
              "    }\n",
              "\n",
              "    .dataframe thead th {\n",
              "        text-align: right;\n",
              "    }\n",
              "</style>\n",
              "<table border=\"1\" class=\"dataframe\">\n",
              "  <thead>\n",
              "    <tr style=\"text-align: right;\">\n",
              "      <th></th>\n",
              "      <th>Headline</th>\n",
              "      <th>is_sarcastic</th>\n",
              "    </tr>\n",
              "  </thead>\n",
              "  <tbody>\n",
              "    <tr>\n",
              "      <th>0</th>\n",
              "      <td>Trump Compared To Segregationist George Wallac...</td>\n",
              "      <td>0</td>\n",
              "    </tr>\n",
              "    <tr>\n",
              "      <th>1</th>\n",
              "      <td>Pressed Repeatedly To Say âBlack Lives Matte...</td>\n",
              "      <td>0</td>\n",
              "    </tr>\n",
              "    <tr>\n",
              "      <th>2</th>\n",
              "      <td>Anthony Fauci Warned White House That Tulsa Ra...</td>\n",
              "      <td>0</td>\n",
              "    </tr>\n",
              "    <tr>\n",
              "      <th>3</th>\n",
              "      <td>Twitter Users Give Trump's Tulsa Rally Another...</td>\n",
              "      <td>0</td>\n",
              "    </tr>\n",
              "    <tr>\n",
              "      <th>4</th>\n",
              "      <td>Jon Stewart Says He Should've Axed Steve Carel...</td>\n",
              "      <td>0</td>\n",
              "    </tr>\n",
              "    <tr>\n",
              "      <th>...</th>\n",
              "      <td>...</td>\n",
              "      <td>...</td>\n",
              "    </tr>\n",
              "    <tr>\n",
              "      <th>995</th>\n",
              "      <td>A True Miracle: This Woman Just Gave Birth To ...</td>\n",
              "      <td>1</td>\n",
              "    </tr>\n",
              "    <tr>\n",
              "      <th>996</th>\n",
              "      <td>Good News, Final Fantasy Fans: Looks Like Th...</td>\n",
              "      <td>1</td>\n",
              "    </tr>\n",
              "    <tr>\n",
              "      <th>997</th>\n",
              "      <td>Terrifying Implications: Leaked Nintendo Sourc...</td>\n",
              "      <td>1</td>\n",
              "    </tr>\n",
              "    <tr>\n",
              "      <th>998</th>\n",
              "      <td>The 11 Best Games To Play For The Nintendo Switch</td>\n",
              "      <td>1</td>\n",
              "    </tr>\n",
              "    <tr>\n",
              "      <th>999</th>\n",
              "      <td>Heartbreaking Photos Of Polar Bears Who Will D...</td>\n",
              "      <td>1</td>\n",
              "    </tr>\n",
              "  </tbody>\n",
              "</table>\n",
              "<p>1100 rows × 2 columns</p>\n",
              "</div>"
            ],
            "text/plain": [
              "                                              Headline  is_sarcastic\n",
              "0    Trump Compared To Segregationist George Wallac...             0\n",
              "1    Pressed Repeatedly To Say âBlack Lives Matte...             0\n",
              "2    Anthony Fauci Warned White House That Tulsa Ra...             0\n",
              "3    Twitter Users Give Trump's Tulsa Rally Another...             0\n",
              "4    Jon Stewart Says He Should've Axed Steve Carel...             0\n",
              "..                                                 ...           ...\n",
              "995  A True Miracle: This Woman Just Gave Birth To ...             1\n",
              "996  Good News, Final Fantasy Fans: Looks Like Th...             1\n",
              "997  Terrifying Implications: Leaked Nintendo Sourc...             1\n",
              "998  The 11 Best Games To Play For The Nintendo Switch             1\n",
              "999  Heartbreaking Photos Of Polar Bears Who Will D...             1\n",
              "\n",
              "[1100 rows x 2 columns]"
            ]
          },
          "metadata": {
            "tags": []
          },
          "execution_count": 93
        }
      ]
    },
    {
      "cell_type": "code",
      "metadata": {
        "id": "SCfnQMWJ_ZQv",
        "colab_type": "code",
        "colab": {}
      },
      "source": [
        "feature=[]\n",
        "for headline_ in test3['Headline']:\n",
        "  feature.append(xuli_headline(headline_))"
      ],
      "execution_count": null,
      "outputs": []
    },
    {
      "cell_type": "code",
      "metadata": {
        "id": "NhYtWMwE_ckr",
        "colab_type": "code",
        "colab": {
          "base_uri": "https://localhost:8080/",
          "height": 51
        },
        "outputId": "29711278-8a71-403e-db6c-7fa2e56dfe5a"
      },
      "source": [
        "feature=tf.transform(feature)\n",
        "feature"
      ],
      "execution_count": null,
      "outputs": [
        {
          "output_type": "execute_result",
          "data": {
            "text/plain": [
              "<1100x29296 sparse matrix of type '<class 'numpy.float64'>'\n",
              "\twith 8180 stored elements in Compressed Sparse Row format>"
            ]
          },
          "metadata": {
            "tags": []
          },
          "execution_count": 95
        }
      ]
    },
    {
      "cell_type": "code",
      "metadata": {
        "id": "MJF3DHKE_fIJ",
        "colab_type": "code",
        "colab": {}
      },
      "source": [
        "y_test=test3['is_sarcastic']"
      ],
      "execution_count": null,
      "outputs": []
    },
    {
      "cell_type": "code",
      "metadata": {
        "id": "zCoEtdcX_h5J",
        "colab_type": "code",
        "colab": {}
      },
      "source": [
        "predict=loaded_model.predict(feature)"
      ],
      "execution_count": null,
      "outputs": []
    },
    {
      "cell_type": "code",
      "metadata": {
        "id": "7KPw3iHS_j8Z",
        "colab_type": "code",
        "colab": {
          "base_uri": "https://localhost:8080/",
          "height": 34
        },
        "outputId": "de6c2e1f-0b5c-4497-8115-9e242d2f7009"
      },
      "source": [
        "print(accuracy_score(y_test,predict))"
      ],
      "execution_count": null,
      "outputs": [
        {
          "output_type": "stream",
          "text": [
            "0.5763636363636364\n"
          ],
          "name": "stdout"
        }
      ]
    },
    {
      "cell_type": "code",
      "metadata": {
        "id": "95OniJQf_nCU",
        "colab_type": "code",
        "colab": {
          "base_uri": "https://localhost:8080/",
          "height": 282
        },
        "outputId": "3c496fdd-2e33-4948-a3bd-7312d4643cf8"
      },
      "source": [
        "sns.heatmap(confusion_matrix(y_test,predict),annot=True)"
      ],
      "execution_count": null,
      "outputs": [
        {
          "output_type": "execute_result",
          "data": {
            "text/plain": [
              "<matplotlib.axes._subplots.AxesSubplot at 0x7fcc656bb630>"
            ]
          },
          "metadata": {
            "tags": []
          },
          "execution_count": 99
        },
        {
          "output_type": "display_data",
          "data": {
            "image/png": "[encoded data removed]",
            "text/plain": [
              "<Figure size 432x288 with 2 Axes>"
            ]
          },
          "metadata": {
            "tags": [],
            "needs_background": "light"
          }
        }
      ]
    },
    {
      "cell_type": "markdown",
      "metadata": {
        "id": "m4WTEqLl_0Km",
        "colab_type": "text"
      },
      "source": [
        "Với accuray_score ở lần test thứ 3 đã giảm xuống còn 57,64%. Do model dự đoán khá đúng với các headline không mỉa mai, nhưng lần test 3 các headline không mỉa mai lại khá ít (100) so với các headline mỉa mai (1000) nên làm cho model dự đoán đúng khá ít các headline. Với 1000 headline mỉa mai thì model chỉ dự đoán đúng 550 headline và trong 100 headline không mỉa mai thì model dự đoán đúng 82 headline."
      ]
    },
    {
      "cell_type": "markdown",
      "metadata": {
        "id": "t9XQbmk4BEJN",
        "colab_type": "text"
      },
      "source": [
        "Nhận xét về bài toán: Đây là bài toán khá thực tế và có thể áp dụng vào nhiều ứng dụng. Tuy nhiên độ chính xác của bài toán theo cách giải bên trên còn khá thấp và chưa thể đưa vào sử dụng thực tế. Bài toán cần được nghiên cứu nhiều hơn cũng như tìm ra phương pháp làm cho bài toán đạt được độ chính xác cao hơn."
      ]
    }
  ]
}