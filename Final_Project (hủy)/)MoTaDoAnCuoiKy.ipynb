{
  "nbformat": 4,
  "nbformat_minor": 0,
  "metadata": {
    "colab": {
      "name": "MoTaDoAnCuoiKy.ipynb",
      "provenance": [],
      "collapsed_sections": [],
      "authorship_tag": "ABX9TyOfioXCrCjBs9SJYfD7htSN",
      "include_colab_link": true
    },
    "kernelspec": {
      "name": "python3",
      "display_name": "Python 3"
    }
  },
  "cells": [
    {
      "cell_type": "markdown",
      "metadata": {
        "id": "view-in-github",
        "colab_type": "text"
      },
      "source": [
        "<a href=\"https://colab.research.google.com/github/ThuanPhong0126/CS114.K21/blob/master/MoTaDoAnCuoiKy.ipynb\" target=\"_parent\"><img src=\"https://colab.research.google.com/assets/colab-badge.svg\" alt=\"Open In Colab\"/></a>"
      ]
    },
    {
      "cell_type": "markdown",
      "metadata": {
        "id": "b26ILCUrKwzX",
        "colab_type": "text"
      },
      "source": [
        "##**Đề xuất đồ án cuối kỳ: Phát hiện xe ôtô trong ảnh được chụp từ camera trong một ôtô đang chạy trên cao tốc.**\n",
        "\n",
        "###Input:\n",
        "![alt text](https://scontent.fvca1-1.fna.fbcdn.net/v/t1.0-0/p180x540/104465338_2335082290127704_7298176608439364705_o.jpg?_nc_cat=111&_nc_sid=8024bb&_nc_ohc=kyZzj2XtuKMAX9hVjj0&_nc_ht=scontent.fvca1-1.fna&_nc_tp=6&oh=0f9b5d6b23d85a6efccbc21e0d167e52&oe=5F11A968)\n",
        "###Output:\n",
        "![alt text](https://scontent.fvca1-2.fna.fbcdn.net/v/t1.0-9/104485590_2335081596794440_6726321240923904001_o.jpg?_nc_cat=110&_nc_sid=8024bb&_nc_ohc=-s_jTDZvoucAX-OGK7z&_nc_ht=scontent.fvca1-2.fna&oh=44b8770ca62f08eb7c3c157b2a05821e&oe=5F156091)\n",
        "\n",
        "\n",
        "\n",
        "\n",
        "\n",
        "\n",
        "\n",
        "\n",
        "\n",
        "###Ứng dụng: \n",
        "Hiện nay xe tự lái đang được phát triển và nghiên cứu khá nhiều vì vậy đồ án này có thể được ứng dụng trên xe tự lái để thông qua camera được đặt trên xe mà phát hiện các phương tiện giao thông khác đang tham gia. Và với việc phát hiện đó thì xe có thể đưa ra quyết định về tốc độ chạy cũng như giữ khoảng cách an toàn với các phương tiện khác tránh xảy ra các sự cố va chạm.\n",
        "###Input/output:\n",
        "Tương tự như ảnh (1) và (2) với ảnh (1) là input và (2) là output.\n",
        "###Mô tả về dataset:\n",
        "Dataset có sẵn: gồm có 2 label là vehicle (tấm ảnh là xe) và non-vehicle (tấm ảnh không là xe thì có thể là một cái gì đó trên đường). \n",
        "\n",
        "Dataset được lấy từ trang [Vehicle image database](https://www.gti.ssr.upm.es/data/Vehicle_database.html).\n",
        "Chi tiết về dataset: Gồm 2 nhãn là Vehicle và non-vehicle.\n",
        "![alt text](https://scontent.fvca1-1.fna.fbcdn.net/v/t1.0-9/104380252_2335081366794463_2748170220524287401_n.jpg?_nc_cat=108&_nc_sid=8024bb&_nc_ohc=kW1nIgdgdkAAX8XnAky&_nc_ht=scontent.fvca1-1.fna&oh=fe9940f294e3e21c42a8c17a491478ba&oe=5F146FF2)*vehicle*\n",
        "---\n",
        "\n",
        "\n",
        "![alt text](https://scontent.fvca1-1.fna.fbcdn.net/v/t1.0-9/104483292_2335081290127804_290290971146769573_n.jpg?_nc_cat=102&_nc_sid=8024bb&_nc_ohc=LWtMqL7QPIAAX8uooql&_nc_ht=scontent.fvca1-1.fna&oh=a16cba551a5d3cba36cd452c9b1b6e2a&oe=5F126148)*non-vehicle*\n",
        "\n",
        "Bộ dataset có tất cả 7325 ảnh , trong đó có 3425 ảnh vehicle và 3900 ảnh non-vehicle. Tất cả ảnh đều được chụp từ trong điều kiện ánh sáng ban ngày và thời tiết nắng, độ sáng tốt để thấy rõ ảnh. Và ảnh có độ mờ đa dạng từ những ảnh rõ nét đến những ảnh mờ hay nhòe. Và đối tượng ảnh tương đối đa dạng về góc chụp và các loại xe tham gia trên đường cao tốc và cũng đa dạng trên các ảnh về non-vehicle.\n",
        "\n",
        "**Phân chia dataset**: 80%train/20% test (thử thêm về chia 70%train/30%test)\n",
        "\n",
        "**Feature engineering**: Đọc ảnh và chuyển về vector đặc trưng thông qua openCV (dự kiến tìm hiểu thêm HOG)\n",
        "\n",
        "**Thuật toán máy học**: (dự kiến) KNN, SVM, LogisticRegression…. Thuật toán máy học có nhiệm vụ nhận vào một vector đặc trưng đại diện cho một ảnh và nhận dạng là vehicle hay non-vehicle như đã được huấn luyện với bộ dataset bên trên.\n",
        "\n",
        "**Xử lý ảnh input**: Sử dụng kỹ thuật  sliding-window để tạo ra các window và phát hiện phương tiện thông qua từng window. Nếu phát hiện window là vehicle thì vẽ đường viền cho vị trí đó để nhận biết.\n",
        "\n",
        "**Xuất ra output.**\n"
      ]
    }
  ]
}
