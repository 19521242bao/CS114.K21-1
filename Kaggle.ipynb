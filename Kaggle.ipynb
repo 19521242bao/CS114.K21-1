{
  "nbformat": 4,
  "nbformat_minor": 0,
  "metadata": {
    "colab": {
      "name": "Untitled2.ipynb",
      "provenance": [],
      "authorship_tag": "ABX9TyPcTZo56kItTW8j+4mhtX1R",
      "include_colab_link": true
    },
    "kernelspec": {
      "name": "python3",
      "display_name": "Python 3"
    }
  },
  "cells": [
    {
      "cell_type": "markdown",
      "metadata": {
        "id": "view-in-github",
        "colab_type": "text"
      },
      "source": [
        "<a href=\"https://colab.research.google.com/github/ThuanPhong0126/CS114.K21/blob/master/Kaggle.ipynb\" target=\"_parent\"><img src=\"https://colab.research.google.com/assets/colab-badge.svg\" alt=\"Open In Colab\"/></a>"
      ]
    },
    {
      "cell_type": "code",
      "metadata": {
        "id": "WDmU447C-aBq",
        "colab_type": "code",
        "colab": {}
      },
      "source": [
        "from google.colab import files\n",
        "files.upload()"
      ],
      "execution_count": 0,
      "outputs": []
    },
    {
      "cell_type": "code",
      "metadata": {
        "id": "o28Eg2H1-jT1",
        "colab_type": "code",
        "colab": {
          "base_uri": "https://localhost:8080/",
          "height": 204
        },
        "outputId": "c32b35e9-0c4b-42b7-8ea6-185967cc9a61"
      },
      "source": [
        "!pip install kaggle"
      ],
      "execution_count": 6,
      "outputs": [
        {
          "output_type": "stream",
          "text": [
            "Requirement already satisfied: kaggle in /usr/local/lib/python3.6/dist-packages (1.5.6)\n",
            "Requirement already satisfied: tqdm in /usr/local/lib/python3.6/dist-packages (from kaggle) (4.38.0)\n",
            "Requirement already satisfied: requests in /usr/local/lib/python3.6/dist-packages (from kaggle) (2.21.0)\n",
            "Requirement already satisfied: six>=1.10 in /usr/local/lib/python3.6/dist-packages (from kaggle) (1.12.0)\n",
            "Requirement already satisfied: python-dateutil in /usr/local/lib/python3.6/dist-packages (from kaggle) (2.8.1)\n",
            "Requirement already satisfied: certifi in /usr/local/lib/python3.6/dist-packages (from kaggle) (2020.4.5.1)\n",
            "Requirement already satisfied: urllib3<1.25,>=1.21.1 in /usr/local/lib/python3.6/dist-packages (from kaggle) (1.24.3)\n",
            "Requirement already satisfied: python-slugify in /usr/local/lib/python3.6/dist-packages (from kaggle) (4.0.0)\n",
            "Requirement already satisfied: idna<2.9,>=2.5 in /usr/local/lib/python3.6/dist-packages (from requests->kaggle) (2.8)\n",
            "Requirement already satisfied: chardet<3.1.0,>=3.0.2 in /usr/local/lib/python3.6/dist-packages (from requests->kaggle) (3.0.4)\n",
            "Requirement already satisfied: text-unidecode>=1.3 in /usr/local/lib/python3.6/dist-packages (from python-slugify->kaggle) (1.3)\n"
          ],
          "name": "stdout"
        }
      ]
    },
    {
      "cell_type": "code",
      "metadata": {
        "id": "sGXwzEVgAywh",
        "colab_type": "code",
        "colab": {}
      },
      "source": [
        "!mkdir -p ~/.kaggle\n",
        "!cp kaggle.json ~/.kaggle/\n",
        "!chmod 600 ~/.kaggle/kaggle.json"
      ],
      "execution_count": 0,
      "outputs": []
    },
    {
      "cell_type": "code",
      "metadata": {
        "id": "lIHnEzRoBCRH",
        "colab_type": "code",
        "colab": {
          "base_uri": "https://localhost:8080/",
          "height": 408
        },
        "outputId": "5b45a50d-1c31-4384-ac1a-4dc60d0e0a5d"
      },
      "source": [
        "!kaggle datasets list -s headlines"
      ],
      "execution_count": 8,
      "outputs": [
        {
          "output_type": "stream",
          "text": [
            "Warning: Looks like you're using an outdated API Version, please consider updating (server 1.5.6 / client 1.5.4)\n",
            "ref                                                          title                                             size  lastUpdated          downloadCount  \n",
            "-----------------------------------------------------------  -----------------------------------------------  -----  -------------------  -------------  \n",
            "therohk/million-headlines                                    A Million News Headlines                          20MB  2020-01-15 15:30:53          18258  \n",
            "rmisra/news-headlines-dataset-for-sarcasm-detection          News Headlines Dataset For Sarcasm Detection       3MB  2019-07-03 23:52:57          12342  \n",
            "therohk/india-headlines-news-dataset                         News Headlines Of India                           68MB  2019-04-12 02:46:04           3646  \n",
            "aaron7sun/stocknews                                          Daily News for Stock Market Prediction             6MB  2019-11-13 18:22:52          29550  \n",
            "rmisra/news-category-dataset                                 News Category Dataset                             25MB  2018-12-02 04:09:45          11599  \n",
            "adnanzaidi/urdu-news-headlines                               Urdu / Hindi News Headlines                       64KB  2019-08-06 15:03:48            100  \n",
            "uciml/news-aggregator-dataset                                News Aggregator Dataset                           28MB  2016-10-31 22:22:55           8984  \n",
            "chrisfilo/onion-or-not                                       Onion Or Not                                     887KB  2020-02-26 02:34:12            306  \n",
            "therohk/ireland-historical-news                              Irish Times - Waxy-Wany News                      49MB  2020-03-11 19:42:17           2629  \n",
            "marlesson/news-of-the-site-folhauol                          News of the Brazilian Newspaper                  187MB  2019-06-05 03:33:51           1309  \n",
            "ibadia/dawn-news-headlines                                   Dawn News Headlines                              787KB  2020-03-04 20:18:14             77  \n",
            "antmarakis/fake-news-data                                    Fake News Data                                   125MB  2019-07-27 12:11:57            521  \n",
            "sunnysai12345/news-summary                                   NEWS SUMMARY                                      20MB  2019-11-13 06:29:30           3497  \n",
            "therohk/examine-the-examiner                                 The Examiner - SpamClickBait Catalogue           142MB  2019-11-18 04:45:57           1254  \n",
            "rmisra/clothing-fit-dataset-for-size-recommendation          Clothing Fit Dataset for Size Recommendation      40MB  2018-08-21 19:00:16           2724  \n",
            "blogdish/election-news-headlines                             Election News Headlines                           18KB  2017-11-17 19:09:39             61  \n",
            "rmisra/imdb-spoiler-dataset                                  IMDB Spoiler Dataset                             331MB  2019-05-22 04:44:43            753  \n",
            "snapcrack/all-the-news                                       All the news                                     244MB  2017-08-20 05:58:47          14984  \n",
            "adammcmurchie/news-headlines-summary-from-select-12-sources  News Headlines & Summary from select 12 sources    2MB  2020-01-14 00:05:16             39  \n",
            "ryanchan911/selective-stock-headlines-sentiment              Selective Stock headlines sentiment              717KB  2020-01-19 10:31:35             60  \n"
          ],
          "name": "stdout"
        }
      ]
    },
    {
      "cell_type": "code",
      "metadata": {
        "id": "QYbontm5BKcb",
        "colab_type": "code",
        "colab": {
          "base_uri": "https://localhost:8080/",
          "height": 68
        },
        "outputId": "2fcf3a33-9516-4d43-f5ff-ed9ae5477212"
      },
      "source": [
        "!kaggle datasets download -d rmisra/news-headlines-dataset-for-sarcasm-detection"
      ],
      "execution_count": 9,
      "outputs": [
        {
          "output_type": "stream",
          "text": [
            "Downloading news-headlines-dataset-for-sarcasm-detection.zip to /content\n",
            "\r  0% 0.00/3.30M [00:00<?, ?B/s]\n",
            "\r100% 3.30M/3.30M [00:00<00:00, 109MB/s]\n"
          ],
          "name": "stdout"
        }
      ]
    },
    {
      "cell_type": "code",
      "metadata": {
        "id": "ZW2SBaNBBfEE",
        "colab_type": "code",
        "colab": {
          "base_uri": "https://localhost:8080/",
          "height": 68
        },
        "outputId": "181a1bdd-0e06-4596-ebb0-3b588f75279f"
      },
      "source": [
        "!unzip /content/news-headlines-dataset-for-sarcasm-detection.zip -d /content/"
      ],
      "execution_count": 10,
      "outputs": [
        {
          "output_type": "stream",
          "text": [
            "Archive:  /content/news-headlines-dataset-for-sarcasm-detection.zip\n",
            "  inflating: /content/Sarcasm_Headlines_Dataset.json  \n",
            "  inflating: /content/Sarcasm_Headlines_Dataset_v2.json  \n"
          ],
          "name": "stdout"
        }
      ]
    },
    {
      "cell_type": "code",
      "metadata": {
        "id": "hcoku0cLBq1g",
        "colab_type": "code",
        "colab": {}
      },
      "source": [
        "import pandas as pd"
      ],
      "execution_count": 0,
      "outputs": []
    },
    {
      "cell_type": "code",
      "metadata": {
        "id": "NGEcc8tTBx0k",
        "colab_type": "code",
        "colab": {}
      },
      "source": [
        "f1=pd.read_json('/content/Sarcasm_Headlines_Dataset.json',lines=True)\n",
        "f2=pd.read_json('/content/Sarcasm_Headlines_Dataset_v2.json',lines=True)"
      ],
      "execution_count": 0,
      "outputs": []
    },
    {
      "cell_type": "code",
      "metadata": {
        "id": "VYDbbrT5CCOQ",
        "colab_type": "code",
        "colab": {
          "base_uri": "https://localhost:8080/",
          "height": 204
        },
        "outputId": "d1d1ef37-fca8-4845-a5e5-1b89f26f3d79"
      },
      "source": [
        "df=pd.concat([f1,f2],axis=0,sort=False)\n",
        "df.head()"
      ],
      "execution_count": 14,
      "outputs": [
        {
          "output_type": "execute_result",
          "data": {
            "text/html": [
              "<div>\n",
              "<style scoped>\n",
              "    .dataframe tbody tr th:only-of-type {\n",
              "        vertical-align: middle;\n",
              "    }\n",
              "\n",
              "    .dataframe tbody tr th {\n",
              "        vertical-align: top;\n",
              "    }\n",
              "\n",
              "    .dataframe thead th {\n",
              "        text-align: right;\n",
              "    }\n",
              "</style>\n",
              "<table border=\"1\" class=\"dataframe\">\n",
              "  <thead>\n",
              "    <tr style=\"text-align: right;\">\n",
              "      <th></th>\n",
              "      <th>article_link</th>\n",
              "      <th>headline</th>\n",
              "      <th>is_sarcastic</th>\n",
              "    </tr>\n",
              "  </thead>\n",
              "  <tbody>\n",
              "    <tr>\n",
              "      <th>0</th>\n",
              "      <td>https://www.huffingtonpost.com/entry/versace-b...</td>\n",
              "      <td>former versace store clerk sues over secret 'b...</td>\n",
              "      <td>0</td>\n",
              "    </tr>\n",
              "    <tr>\n",
              "      <th>1</th>\n",
              "      <td>https://www.huffingtonpost.com/entry/roseanne-...</td>\n",
              "      <td>the 'roseanne' revival catches up to our thorn...</td>\n",
              "      <td>0</td>\n",
              "    </tr>\n",
              "    <tr>\n",
              "      <th>2</th>\n",
              "      <td>https://local.theonion.com/mom-starting-to-fea...</td>\n",
              "      <td>mom starting to fear son's web series closest ...</td>\n",
              "      <td>1</td>\n",
              "    </tr>\n",
              "    <tr>\n",
              "      <th>3</th>\n",
              "      <td>https://politics.theonion.com/boehner-just-wan...</td>\n",
              "      <td>boehner just wants wife to listen, not come up...</td>\n",
              "      <td>1</td>\n",
              "    </tr>\n",
              "    <tr>\n",
              "      <th>4</th>\n",
              "      <td>https://www.huffingtonpost.com/entry/jk-rowlin...</td>\n",
              "      <td>j.k. rowling wishes snape happy birthday in th...</td>\n",
              "      <td>0</td>\n",
              "    </tr>\n",
              "  </tbody>\n",
              "</table>\n",
              "</div>"
            ],
            "text/plain": [
              "                                        article_link  ... is_sarcastic\n",
              "0  https://www.huffingtonpost.com/entry/versace-b...  ...            0\n",
              "1  https://www.huffingtonpost.com/entry/roseanne-...  ...            0\n",
              "2  https://local.theonion.com/mom-starting-to-fea...  ...            1\n",
              "3  https://politics.theonion.com/boehner-just-wan...  ...            1\n",
              "4  https://www.huffingtonpost.com/entry/jk-rowlin...  ...            0\n",
              "\n",
              "[5 rows x 3 columns]"
            ]
          },
          "metadata": {
            "tags": []
          },
          "execution_count": 14
        }
      ]
    },
    {
      "cell_type": "code",
      "metadata": {
        "id": "sCA136qkCO-v",
        "colab_type": "code",
        "colab": {}
      },
      "source": [
        ""
      ],
      "execution_count": 0,
      "outputs": []
    }
  ]
}